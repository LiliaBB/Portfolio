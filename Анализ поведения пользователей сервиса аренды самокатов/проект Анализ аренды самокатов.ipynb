{
 "cells": [
  {
   "cell_type": "markdown",
   "id": "8d8e898c",
   "metadata": {},
   "source": [
    "# Анализ данных и проверка гипотез.\n",
    "\n",
    "В моем распоряжении данные сервиса аренды самокатов о некоторых пользователях из нескольких городов и об их поездках. Моя задача проанализировать данные и проверить следующие гипотезы:\n",
    "\n",
    "1. Тратят ли пользователи с подпиской больше времени на поездки?\n",
    "2. Можно ли сказать, что среднее расстояние, которое проезжают пользователи с подпиской за одну поездку, не превышает 3130 метров? \n",
    "3. Будет ли помесячная выручка от пользователей с подпиской по месяцам выше, чем выручка от пользователей без подписки?\n",
    "4. Снизилось ли количество обращений в техническую поддержку после обновления серверов ?\n",
    "\n",
    "### Ход исследоавния:\n",
    "\n",
    "Данные представлены в трех файлах:\n",
    "- файл `users_go.csv` содержит информацию о пользователях, их поездках и подписках (уникальный идентификатор, имя пользователя, возраст и тип подписки);\n",
    "- файл `rides_go.csv` содержит информацию  о поезках (уникальный идентификатор, растояние пройденое за текущую сессию, продолжительность сессии и дата поездки);\n",
    "- файл `subscriptions_go.csv` содержит информацию о типе подписки (тип подпски, стоимость минуты поездки, стоимость начала поезки, стоимость ежемесячного платежа).\n",
    "\n",
    "О качестве данных ничего не известно, поэтому сначала необходимо провести обзор данных.\n",
    "Я проверю данные на ошибки, пропуски и дубликаты, оценю их влияние на исследование. \n",
    "\n",
    "Затем на этапе предобработки данных я попробую исправить все ошибки, которые не приведут к искажению конечного результата. Приведу столбцы к необходимому типу данных, создам столбец с номером месяца на основе столбца date, обработаю пропуски и дубликаты.\n",
    "\n",
    "Далее проведу исследовательский анализ данных, опишу и визуализирую общую информацию о поездках и пользователях, узнаю частоту встречаемости городов и возраст пользователей, соотношение пользователей с подпской и без, продолжительность поездок и растояние пройденное за одну поездку.\n",
    "\n",
    "Далее объеденю данные полученные из разных файлов в один датафрейм, на его основе создам еще два датафрейма в один из которых войдут пользователи с подпиской, в другой - без подписки. Визуализирую информацию о поездках по типам подписки. \n",
    "\n",
    "Создам еще один датафрем с данными о поезках, найду суммарное расстояние, количество поездок и суммарное время для каждого пользователя за каждый месяц, затем добавлю столбец с помесячной выручкой по каждому пользователю. И наконец приступлю к проверке гипотез.\n",
    "\n",
    "Таким образом, мое исследование пройдет в 9 этапов:\n",
    "- обзор данных;\n",
    "- предобработка данных;\n",
    "- исследовательский анализ информации о пользователях и поезках;\n",
    "- объеденение данных и визуализация;\n",
    "- подсчет выручки;\n",
    "- проверка гипотезы: Тратят ли пользователи с подпиской больше времени на поездки?\n",
    "- проверка гипотезы: Можно ли сказать, что среднее расстояние, которое проезжают пользователи с подпиской за одну поездку, не превышает 3130 метров?\n",
    "- проверка гпотезы: Будет ли помесячная выручка от пользователей с подпиской по месяцам выше, чем выручка от пользователей без подписки?\n",
    "- проверка гипотезы: Снизилось ли количество обращений в техническую поддержку после обновления серверов ?"
   ]
  },
  {
   "cell_type": "markdown",
   "id": "c42cbe00",
   "metadata": {},
   "source": [
    "#### Шаг 1. Загрузка данных"
   ]
  },
  {
   "cell_type": "code",
   "execution_count": 1,
   "id": "f85b5648",
   "metadata": {},
   "outputs": [],
   "source": [
    "import pandas as pd # импортирую библиотеку pandas\n",
    "from scipy import stats as st # импортирую модуль stats из библиотеки scipy\n",
    "import seaborn as sns  # импортирую библиотеку seaborn\n",
    "import math # импортирую библиотеку math\n",
    "import numpy as np # импортирую библиотеку numpy\n",
    "import matplotlib.pyplot as plt # импортирую библиотеку matplotlib.pyplot\n",
    "from math import sqrt"
   ]
  },
  {
   "cell_type": "code",
   "execution_count": 2,
   "id": "b5fe8bde",
   "metadata": {},
   "outputs": [],
   "source": [
    "try:\n",
    "    users = pd.read_csv('/datasets/users_go.csv')  # читаю csv-файл\n",
    "    rides = pd.read_csv('/datasets/rides_go.csv')  # читаю csv-файл\n",
    "    subscriptions = pd.read_csv('/datasets/subscriptions_go.csv')  # читаю csv-файл\n",
    "except:\n",
    "    users = pd.read_csv('C:\\\\Users\\\\1\\\\Desktop\\\\учеба\\\\python\\\\Статистический анализ\\\\users_go.csv')  # читаю csv-файл\n",
    "    rides = pd.read_csv('C:\\\\Users\\\\1\\\\Desktop\\\\учеба\\\\python\\\\Статистический анализ\\\\rides_go.csv')  # читаю csv-файл\n",
    "    subscriptions = pd.read_csv('C:\\\\Users\\\\1\\\\Desktop\\\\учеба\\\\python\\\\Статистический анализ\\\\subscriptions_go.csv')  # читаю csv-файл"
   ]
  },
  {
   "cell_type": "code",
   "execution_count": 3,
   "id": "22a9b76f",
   "metadata": {},
   "outputs": [
    {
     "data": {
      "text/html": [
       "<div>\n",
       "<style scoped>\n",
       "    .dataframe tbody tr th:only-of-type {\n",
       "        vertical-align: middle;\n",
       "    }\n",
       "\n",
       "    .dataframe tbody tr th {\n",
       "        vertical-align: top;\n",
       "    }\n",
       "\n",
       "    .dataframe thead th {\n",
       "        text-align: right;\n",
       "    }\n",
       "</style>\n",
       "<table border=\"1\" class=\"dataframe\">\n",
       "  <thead>\n",
       "    <tr style=\"text-align: right;\">\n",
       "      <th></th>\n",
       "      <th>user_id</th>\n",
       "      <th>name</th>\n",
       "      <th>age</th>\n",
       "      <th>city</th>\n",
       "      <th>subscription_type</th>\n",
       "    </tr>\n",
       "  </thead>\n",
       "  <tbody>\n",
       "    <tr>\n",
       "      <th>0</th>\n",
       "      <td>1</td>\n",
       "      <td>Кира</td>\n",
       "      <td>22</td>\n",
       "      <td>Тюмень</td>\n",
       "      <td>ultra</td>\n",
       "    </tr>\n",
       "    <tr>\n",
       "      <th>1</th>\n",
       "      <td>2</td>\n",
       "      <td>Станислав</td>\n",
       "      <td>31</td>\n",
       "      <td>Омск</td>\n",
       "      <td>ultra</td>\n",
       "    </tr>\n",
       "    <tr>\n",
       "      <th>2</th>\n",
       "      <td>3</td>\n",
       "      <td>Алексей</td>\n",
       "      <td>20</td>\n",
       "      <td>Москва</td>\n",
       "      <td>ultra</td>\n",
       "    </tr>\n",
       "    <tr>\n",
       "      <th>3</th>\n",
       "      <td>4</td>\n",
       "      <td>Константин</td>\n",
       "      <td>26</td>\n",
       "      <td>Ростов-на-Дону</td>\n",
       "      <td>ultra</td>\n",
       "    </tr>\n",
       "    <tr>\n",
       "      <th>4</th>\n",
       "      <td>5</td>\n",
       "      <td>Адель</td>\n",
       "      <td>28</td>\n",
       "      <td>Омск</td>\n",
       "      <td>ultra</td>\n",
       "    </tr>\n",
       "  </tbody>\n",
       "</table>\n",
       "</div>"
      ],
      "text/plain": [
       "   user_id        name  age            city subscription_type\n",
       "0        1        Кира   22          Тюмень             ultra\n",
       "1        2   Станислав   31            Омск             ultra\n",
       "2        3     Алексей   20          Москва             ultra\n",
       "3        4  Константин   26  Ростов-на-Дону             ultra\n",
       "4        5       Адель   28            Омск             ultra"
      ]
     },
     "metadata": {},
     "output_type": "display_data"
    },
    {
     "name": "stdout",
     "output_type": "stream",
     "text": [
      "<class 'pandas.core.frame.DataFrame'>\n",
      "RangeIndex: 1565 entries, 0 to 1564\n",
      "Data columns (total 5 columns):\n",
      " #   Column             Non-Null Count  Dtype \n",
      "---  ------             --------------  ----- \n",
      " 0   user_id            1565 non-null   int64 \n",
      " 1   name               1565 non-null   object\n",
      " 2   age                1565 non-null   int64 \n",
      " 3   city               1565 non-null   object\n",
      " 4   subscription_type  1565 non-null   object\n",
      "dtypes: int64(2), object(3)\n",
      "memory usage: 61.3+ KB\n"
     ]
    }
   ],
   "source": [
    "display(users.head()) # вывожу на экран первые 10 строк таблицы users\n",
    "users.info()  # вывожу на экран общую информацию о таблице users"
   ]
  },
  {
   "cell_type": "markdown",
   "id": "403e41cf",
   "metadata": {},
   "source": [
    "При выводе на экран первых строк таблицы `users` с помощью метода `head()` и общей информации о ней с помощью метода `info()` я вижу, что в таблицу отсутствуют пропущенные значения и и все столбцы имеют соответсвующий тип данных."
   ]
  },
  {
   "cell_type": "code",
   "execution_count": 4,
   "id": "802cb442",
   "metadata": {},
   "outputs": [
    {
     "data": {
      "text/html": [
       "<div>\n",
       "<style scoped>\n",
       "    .dataframe tbody tr th:only-of-type {\n",
       "        vertical-align: middle;\n",
       "    }\n",
       "\n",
       "    .dataframe tbody tr th {\n",
       "        vertical-align: top;\n",
       "    }\n",
       "\n",
       "    .dataframe thead th {\n",
       "        text-align: right;\n",
       "    }\n",
       "</style>\n",
       "<table border=\"1\" class=\"dataframe\">\n",
       "  <thead>\n",
       "    <tr style=\"text-align: right;\">\n",
       "      <th></th>\n",
       "      <th>user_id</th>\n",
       "      <th>distance</th>\n",
       "      <th>duration</th>\n",
       "      <th>date</th>\n",
       "    </tr>\n",
       "  </thead>\n",
       "  <tbody>\n",
       "    <tr>\n",
       "      <th>0</th>\n",
       "      <td>1</td>\n",
       "      <td>4409.919140</td>\n",
       "      <td>25.599769</td>\n",
       "      <td>2021-01-01</td>\n",
       "    </tr>\n",
       "    <tr>\n",
       "      <th>1</th>\n",
       "      <td>1</td>\n",
       "      <td>2617.592153</td>\n",
       "      <td>15.816871</td>\n",
       "      <td>2021-01-18</td>\n",
       "    </tr>\n",
       "    <tr>\n",
       "      <th>2</th>\n",
       "      <td>1</td>\n",
       "      <td>754.159807</td>\n",
       "      <td>6.232113</td>\n",
       "      <td>2021-04-20</td>\n",
       "    </tr>\n",
       "    <tr>\n",
       "      <th>3</th>\n",
       "      <td>1</td>\n",
       "      <td>2694.783254</td>\n",
       "      <td>18.511000</td>\n",
       "      <td>2021-08-11</td>\n",
       "    </tr>\n",
       "    <tr>\n",
       "      <th>4</th>\n",
       "      <td>1</td>\n",
       "      <td>4028.687306</td>\n",
       "      <td>26.265803</td>\n",
       "      <td>2021-08-28</td>\n",
       "    </tr>\n",
       "  </tbody>\n",
       "</table>\n",
       "</div>"
      ],
      "text/plain": [
       "   user_id     distance   duration        date\n",
       "0        1  4409.919140  25.599769  2021-01-01\n",
       "1        1  2617.592153  15.816871  2021-01-18\n",
       "2        1   754.159807   6.232113  2021-04-20\n",
       "3        1  2694.783254  18.511000  2021-08-11\n",
       "4        1  4028.687306  26.265803  2021-08-28"
      ]
     },
     "metadata": {},
     "output_type": "display_data"
    },
    {
     "name": "stdout",
     "output_type": "stream",
     "text": [
      "<class 'pandas.core.frame.DataFrame'>\n",
      "RangeIndex: 18068 entries, 0 to 18067\n",
      "Data columns (total 4 columns):\n",
      " #   Column    Non-Null Count  Dtype  \n",
      "---  ------    --------------  -----  \n",
      " 0   user_id   18068 non-null  int64  \n",
      " 1   distance  18068 non-null  float64\n",
      " 2   duration  18068 non-null  float64\n",
      " 3   date      18068 non-null  object \n",
      "dtypes: float64(2), int64(1), object(1)\n",
      "memory usage: 564.8+ KB\n"
     ]
    }
   ],
   "source": [
    "display(rides.head())  # вывожу на экран первые 10 строк таблицы rides\n",
    "rides.info()  # вывожу на экран общую информацию о таблице rides"
   ]
  },
  {
   "cell_type": "markdown",
   "id": "e463593c",
   "metadata": {},
   "source": [
    "При выводе на экран первых строк таблицы `rides` с помощью метода `head()` и общей информации о ней с помощью метода `info()` я вижу, что в таблицу отсутствуют пропущенные значения. Также вижу что столбец `date` имеет тип `object`. Необходимо привести столбец к типу данных `datetime`. В столбце `duration`, в котором указана продолжтельнность сессии в минутах, логично будет округлить данные до целого числа (в большую сторону) и преревести тип данных в `int`"
   ]
  },
  {
   "cell_type": "code",
   "execution_count": 5,
   "id": "664c1d65",
   "metadata": {},
   "outputs": [
    {
     "data": {
      "text/html": [
       "<div>\n",
       "<style scoped>\n",
       "    .dataframe tbody tr th:only-of-type {\n",
       "        vertical-align: middle;\n",
       "    }\n",
       "\n",
       "    .dataframe tbody tr th {\n",
       "        vertical-align: top;\n",
       "    }\n",
       "\n",
       "    .dataframe thead th {\n",
       "        text-align: right;\n",
       "    }\n",
       "</style>\n",
       "<table border=\"1\" class=\"dataframe\">\n",
       "  <thead>\n",
       "    <tr style=\"text-align: right;\">\n",
       "      <th></th>\n",
       "      <th>subscription_type</th>\n",
       "      <th>minute_price</th>\n",
       "      <th>start_ride_price</th>\n",
       "      <th>subscription_fee</th>\n",
       "    </tr>\n",
       "  </thead>\n",
       "  <tbody>\n",
       "    <tr>\n",
       "      <th>0</th>\n",
       "      <td>free</td>\n",
       "      <td>8</td>\n",
       "      <td>50</td>\n",
       "      <td>0</td>\n",
       "    </tr>\n",
       "    <tr>\n",
       "      <th>1</th>\n",
       "      <td>ultra</td>\n",
       "      <td>6</td>\n",
       "      <td>0</td>\n",
       "      <td>199</td>\n",
       "    </tr>\n",
       "  </tbody>\n",
       "</table>\n",
       "</div>"
      ],
      "text/plain": [
       "  subscription_type  minute_price  start_ride_price  subscription_fee\n",
       "0              free             8                50                 0\n",
       "1             ultra             6                 0               199"
      ]
     },
     "metadata": {},
     "output_type": "display_data"
    },
    {
     "name": "stdout",
     "output_type": "stream",
     "text": [
      "<class 'pandas.core.frame.DataFrame'>\n",
      "RangeIndex: 2 entries, 0 to 1\n",
      "Data columns (total 4 columns):\n",
      " #   Column             Non-Null Count  Dtype \n",
      "---  ------             --------------  ----- \n",
      " 0   subscription_type  2 non-null      object\n",
      " 1   minute_price       2 non-null      int64 \n",
      " 2   start_ride_price   2 non-null      int64 \n",
      " 3   subscription_fee   2 non-null      int64 \n",
      "dtypes: int64(3), object(1)\n",
      "memory usage: 196.0+ bytes\n"
     ]
    }
   ],
   "source": [
    "display(subscriptions)  # вывожу на экран первые 10 строк таблицы subscriptions\n",
    "subscriptions.info()  # вывожу на экран общую информацию о таблице subscriptions"
   ]
  },
  {
   "cell_type": "markdown",
   "id": "d6f33f21",
   "metadata": {},
   "source": [
    "При выводе на экран таблицы `subscriptions` и общей информации о ней с помощью метода `info()` я вижу, что в таблице отсутствуют пропущенные значения и и все столбцы имеют соответсвующий тип данных. Я не использовала метод `head()` т.к. таблица маленькая и легко читается в полном объеме."
   ]
  },
  {
   "cell_type": "markdown",
   "id": "7cc73408",
   "metadata": {},
   "source": [
    "<div style=\"border:solid orange 2px; padding: 20px\">   \n",
    "    \n",
    "**Вывод:**\n",
    "Данные полученные для исследования почти не требуют предобработки. Необходимо привести работу со столбцами в таблице `rides`: \n",
    "- столбец `date` к типу данных `datetime`\n",
    "- данные в столбце `duration` округлить до целых чисел (в большую сторону) и преревести тип данных в `int`.\n"
   ]
  },
  {
   "cell_type": "markdown",
   "id": "e95ebca7",
   "metadata": {},
   "source": [
    "#### Шаг 2. Предобработка данных"
   ]
  },
  {
   "cell_type": "markdown",
   "id": "69191895",
   "metadata": {},
   "source": [
    "С помощью функции `to_datetime` изменю тип данных в столбце `date`"
   ]
  },
  {
   "cell_type": "code",
   "execution_count": 6,
   "id": "af6d202c",
   "metadata": {},
   "outputs": [],
   "source": [
    "rides['date'] = pd.to_datetime(rides['date'], format='%Y-%m-%d') # заменяю тип на datetime"
   ]
  },
  {
   "cell_type": "markdown",
   "id": "d7b9e3dd",
   "metadata": {},
   "source": [
    "С помощью метода `ceil` библитеки `numpy` округлю значения в столбце `duration` в большую сторону и с помощью метода `astype()` приведу стобец к типу `int`"
   ]
  },
  {
   "cell_type": "code",
   "execution_count": 7,
   "id": "43544d4e",
   "metadata": {},
   "outputs": [],
   "source": [
    "rides['duration'] = rides['duration'].apply(np.ceil).astype(int) # округляю значения и привожу к типу int"
   ]
  },
  {
   "cell_type": "code",
   "execution_count": 8,
   "id": "25da383a",
   "metadata": {},
   "outputs": [
    {
     "data": {
      "text/plain": [
       "Timestamp('2021-01-01 00:00:00')"
      ]
     },
     "execution_count": 8,
     "metadata": {},
     "output_type": "execute_result"
    }
   ],
   "source": [
    "rides['date'].min() # выведу минимальное значение столбца date"
   ]
  },
  {
   "cell_type": "code",
   "execution_count": 9,
   "id": "04d5d517",
   "metadata": {},
   "outputs": [
    {
     "data": {
      "text/plain": [
       "Timestamp('2021-12-30 00:00:00')"
      ]
     },
     "execution_count": 9,
     "metadata": {},
     "output_type": "execute_result"
    }
   ],
   "source": [
    "rides['date'].max() # виведу максимальное значение столбца date"
   ]
  },
  {
   "cell_type": "markdown",
   "id": "1fcefdb0",
   "metadata": {},
   "source": [
    "Создам столбец `month` на основе столбца `date` в таблице `rides`. Т.к. данные в столбце `date` представленны за один календарный год, то для заполнения нового столбца воспользуюсь методом `month`"
   ]
  },
  {
   "cell_type": "code",
   "execution_count": 10,
   "id": "32628ed7",
   "metadata": {},
   "outputs": [],
   "source": [
    "rides['month'] = pd.DatetimeIndex(rides['date']).month # добавлю столбец и заполню его данными о номере месяца"
   ]
  },
  {
   "cell_type": "code",
   "execution_count": 11,
   "id": "97c2e3f7",
   "metadata": {},
   "outputs": [
    {
     "data": {
      "text/html": [
       "<div>\n",
       "<style scoped>\n",
       "    .dataframe tbody tr th:only-of-type {\n",
       "        vertical-align: middle;\n",
       "    }\n",
       "\n",
       "    .dataframe tbody tr th {\n",
       "        vertical-align: top;\n",
       "    }\n",
       "\n",
       "    .dataframe thead th {\n",
       "        text-align: right;\n",
       "    }\n",
       "</style>\n",
       "<table border=\"1\" class=\"dataframe\">\n",
       "  <thead>\n",
       "    <tr style=\"text-align: right;\">\n",
       "      <th></th>\n",
       "      <th>user_id</th>\n",
       "      <th>distance</th>\n",
       "      <th>duration</th>\n",
       "      <th>date</th>\n",
       "      <th>month</th>\n",
       "    </tr>\n",
       "  </thead>\n",
       "  <tbody>\n",
       "    <tr>\n",
       "      <th>0</th>\n",
       "      <td>1</td>\n",
       "      <td>4409.919140</td>\n",
       "      <td>26</td>\n",
       "      <td>2021-01-01</td>\n",
       "      <td>1</td>\n",
       "    </tr>\n",
       "    <tr>\n",
       "      <th>1</th>\n",
       "      <td>1</td>\n",
       "      <td>2617.592153</td>\n",
       "      <td>16</td>\n",
       "      <td>2021-01-18</td>\n",
       "      <td>1</td>\n",
       "    </tr>\n",
       "    <tr>\n",
       "      <th>2</th>\n",
       "      <td>1</td>\n",
       "      <td>754.159807</td>\n",
       "      <td>7</td>\n",
       "      <td>2021-04-20</td>\n",
       "      <td>4</td>\n",
       "    </tr>\n",
       "    <tr>\n",
       "      <th>3</th>\n",
       "      <td>1</td>\n",
       "      <td>2694.783254</td>\n",
       "      <td>19</td>\n",
       "      <td>2021-08-11</td>\n",
       "      <td>8</td>\n",
       "    </tr>\n",
       "    <tr>\n",
       "      <th>4</th>\n",
       "      <td>1</td>\n",
       "      <td>4028.687306</td>\n",
       "      <td>27</td>\n",
       "      <td>2021-08-28</td>\n",
       "      <td>8</td>\n",
       "    </tr>\n",
       "  </tbody>\n",
       "</table>\n",
       "</div>"
      ],
      "text/plain": [
       "   user_id     distance  duration       date  month\n",
       "0        1  4409.919140        26 2021-01-01      1\n",
       "1        1  2617.592153        16 2021-01-18      1\n",
       "2        1   754.159807         7 2021-04-20      4\n",
       "3        1  2694.783254        19 2021-08-11      8\n",
       "4        1  4028.687306        27 2021-08-28      8"
      ]
     },
     "execution_count": 11,
     "metadata": {},
     "output_type": "execute_result"
    }
   ],
   "source": [
    "rides.head()  # выведу первые строки таблицы для проверки изменений"
   ]
  },
  {
   "cell_type": "markdown",
   "id": "358058ea",
   "metadata": {},
   "source": [
    "С помщью методов `duplicated()` и `sum()` найду количество дубликов в таблицах"
   ]
  },
  {
   "cell_type": "code",
   "execution_count": 12,
   "id": "571ac911",
   "metadata": {},
   "outputs": [
    {
     "data": {
      "text/plain": [
       "31"
      ]
     },
     "execution_count": 12,
     "metadata": {},
     "output_type": "execute_result"
    }
   ],
   "source": [
    "users.duplicated().sum() # проверяю количество дубликатов в таблице users"
   ]
  },
  {
   "cell_type": "code",
   "execution_count": 13,
   "id": "91f76607",
   "metadata": {},
   "outputs": [
    {
     "data": {
      "text/plain": [
       "0"
      ]
     },
     "execution_count": 13,
     "metadata": {},
     "output_type": "execute_result"
    }
   ],
   "source": [
    "rides.duplicated().sum() # проверяю количество дубликатов в таблице rides"
   ]
  },
  {
   "cell_type": "code",
   "execution_count": 14,
   "id": "eb848720",
   "metadata": {},
   "outputs": [
    {
     "data": {
      "text/plain": [
       "0"
      ]
     },
     "execution_count": 14,
     "metadata": {},
     "output_type": "execute_result"
    }
   ],
   "source": [
    "subscriptions.duplicated().sum() # проверяю количество дубликатов в таблице subscriptions"
   ]
  },
  {
   "cell_type": "markdown",
   "id": "596237d1",
   "metadata": {},
   "source": [
    "Дубликаты имеются только в таблице `users`. С помощью метода `drop_duplicates()` удалю все явные дубликаты, а с помощью `reset_index(drop=True)` обновлю индексы после удаления."
   ]
  },
  {
   "cell_type": "code",
   "execution_count": 15,
   "id": "d08060de",
   "metadata": {},
   "outputs": [],
   "source": [
    "users = users.drop_duplicates().reset_index(drop=True) # удаляю явные дубликаты в таблице users"
   ]
  },
  {
   "cell_type": "code",
   "execution_count": 16,
   "id": "7c7b2f4a",
   "metadata": {},
   "outputs": [
    {
     "data": {
      "text/plain": [
       "0"
      ]
     },
     "execution_count": 16,
     "metadata": {},
     "output_type": "execute_result"
    }
   ],
   "source": [
    "users.duplicated().sum() # проверяю количество дубликатов после удаления"
   ]
  },
  {
   "cell_type": "markdown",
   "id": "af6dc66e",
   "metadata": {},
   "source": [
    "<div style=\"border:solid orange 2px; padding: 20px\">   \n",
    "    \n",
    "**Вывод:**\n",
    "В ходе предобработки данных я изменила тип данных в столбце `date`. В столбце `duration` округлила значения мнут в большую сторону и привела столбец к типу `int`.\n",
    "    \n",
    "Создала новый столбец и заполнила его номерами месяцев совершения поездки\n",
    "    \n",
    "Также провела проверку на наличие явных дубликатов и удалила их.\n",
    "    \n",
    "Данные готовы к следующему этапу работы."
   ]
  },
  {
   "cell_type": "markdown",
   "id": "212593c7",
   "metadata": {},
   "source": [
    "#### Шаг 3. Исследовательский анализ данных"
   ]
  },
  {
   "cell_type": "markdown",
   "id": "d378d41c",
   "metadata": {},
   "source": [
    "Для того, чтобы узнать частоту встречаемости городов я воспользуюсь методом `value_counts()` и посчитаю сколько раз и какие города встречаются в таблице."
   ]
  },
  {
   "cell_type": "code",
   "execution_count": 17,
   "id": "e3a4274c",
   "metadata": {},
   "outputs": [
    {
     "data": {
      "text/plain": [
       "Пятигорск         219\n",
       "Екатеринбург      204\n",
       "Ростов-на-Дону    198\n",
       "Краснодар         193\n",
       "Сочи              189\n",
       "Омск              183\n",
       "Тюмень            180\n",
       "Москва            168\n",
       "Name: city, dtype: int64"
      ]
     },
     "execution_count": 17,
     "metadata": {},
     "output_type": "execute_result"
    }
   ],
   "source": [
    "count_city = users['city'].value_counts() # посчитаю частоту встречаемости и запишу в новую переменную\n",
    "count_city  # выведу результат"
   ]
  },
  {
   "cell_type": "markdown",
   "id": "1b2b936c",
   "metadata": {},
   "source": [
    "Построю круговую диаграмму на которой будет отображена частота встречаемости городов в процентном соотношении.\n",
    "Для этого воспользуюсь методом `plot` с параметром `kind='pie'`."
   ]
  },
  {
   "cell_type": "code",
   "execution_count": 18,
   "id": "987a6033",
   "metadata": {},
   "outputs": [
    {
     "data": {
      "image/png": "[encoded data removed]",
      "text/plain": [
       "<Figure size 800x800 with 1 Axes>"
      ]
     },
     "metadata": {},
     "output_type": "display_data"
    }
   ],
   "source": [
    "users['city'].value_counts().plot(   # вывожу круговую диаграмму\n",
    "    kind = 'pie', \n",
    "    y = count_city,\n",
    "    autopct = '%1.0f%%',\n",
    "    figsize=(8, 8), \n",
    "    title = 'Частота встречаемости городов');"
   ]
  },
  {
   "cell_type": "markdown",
   "id": "05894bd4",
   "metadata": {},
   "source": [
    "По диаграмме я вижу что процент встречаемости городов почти одинаковый, максимальная разница в 3%."
   ]
  },
  {
   "cell_type": "markdown",
   "id": "c228b5e6",
   "metadata": {},
   "source": [
    "Для того, чтобы узнать соотношение пользователей с подпиской и без подписки я воспользуюсь методом `value_counts()` и посчитаю сколько раз каждый из вариантов встречаются в таблице."
   ]
  },
  {
   "cell_type": "code",
   "execution_count": 19,
   "id": "fae5c6b4",
   "metadata": {},
   "outputs": [
    {
     "data": {
      "text/plain": [
       "free     835\n",
       "ultra    699\n",
       "Name: subscription_type, dtype: int64"
      ]
     },
     "execution_count": 19,
     "metadata": {},
     "output_type": "execute_result"
    }
   ],
   "source": [
    "count_subscription = users['subscription_type'].value_counts() # посчитаю частоту встречаемости и запишу в новую переменную\n",
    "count_subscription  # выведу результат"
   ]
  },
  {
   "cell_type": "markdown",
   "id": "cd114976",
   "metadata": {},
   "source": [
    "Также построю круговую диаграмму на которой будет отображен процент пользователей с подпиской и пользователей без подписки.\n",
    "Для этого воспользуюсь методом `plot` с параметром `kind='pie'`."
   ]
  },
  {
   "cell_type": "code",
   "execution_count": 20,
   "id": "5a5e8f91",
   "metadata": {},
   "outputs": [
    {
     "data": {
      "image/png": "[encoded data removed]",
      "text/plain": [
       "<Figure size 500x500 with 1 Axes>"
      ]
     },
     "metadata": {},
     "output_type": "display_data"
    }
   ],
   "source": [
    "users['subscription_type'].value_counts().plot(    # вывожу круговую диаграмму\n",
    "    kind = 'pie', \n",
    "    y = count_subscription,\n",
    "    autopct = '%1.0f%%',\n",
    "    figsize=(5, 5), \n",
    "    title = 'Соотношение пользователей с подпиской и без подписки');"
   ]
  },
  {
   "cell_type": "code",
   "execution_count": 21,
   "id": "d06d4323",
   "metadata": {},
   "outputs": [
    {
     "data": {
      "text/plain": [
       "8"
      ]
     },
     "execution_count": 21,
     "metadata": {},
     "output_type": "execute_result"
    }
   ],
   "source": [
    "54-46  "
   ]
  },
  {
   "cell_type": "markdown",
   "id": "360af15e",
   "metadata": {},
   "source": [
    "По диаграмме я вижу что пользователей без подписки больше на 8%"
   ]
  },
  {
   "cell_type": "markdown",
   "id": "71f2b5e8",
   "metadata": {},
   "source": [
    "Для того, чтобы узнать информацию о возрасте пользователей воспользуюсь метедом `describe()` и выведу сводную информацию о столбце."
   ]
  },
  {
   "cell_type": "code",
   "execution_count": 22,
   "id": "033751ba",
   "metadata": {},
   "outputs": [
    {
     "data": {
      "text/plain": [
       "count    1534.000000\n",
       "mean       24.903520\n",
       "std         4.572367\n",
       "min        12.000000\n",
       "25%        22.000000\n",
       "50%        25.000000\n",
       "75%        28.000000\n",
       "max        43.000000\n",
       "Name: age, dtype: float64"
      ]
     },
     "execution_count": 22,
     "metadata": {},
     "output_type": "execute_result"
    }
   ],
   "source": [
    "users['age'].describe()  # вывожу сводные данные"
   ]
  },
  {
   "cell_type": "markdown",
   "id": "aa051ea2",
   "metadata": {},
   "source": [
    "С помощью метода `hist` построю гистограмму и узнаю количество пользователей распределенных по возрасту."
   ]
  },
  {
   "cell_type": "code",
   "execution_count": 23,
   "id": "f818e5a9",
   "metadata": {},
   "outputs": [
    {
     "data": {
      "image/png": "[encoded data removed]",
      "text/plain": [
       "<Figure size 640x480 with 1 Axes>"
      ]
     },
     "metadata": {},
     "output_type": "display_data"
    }
   ],
   "source": [
    "plt.hist(users['age'])   # вывожу гистограмму\n",
    "plt.title('Возраст пользователей')\n",
    "plt.xlabel('Возраст')\n",
    "plt.ylabel('Количество пользователей')\n",
    "plt.grid()\n",
    "plt.show()"
   ]
  },
  {
   "cell_type": "markdown",
   "id": "96baf6e6",
   "metadata": {},
   "source": [
    "Я в ходе анализа я узнала, что средний возраст пользователей сервиса аренды самокатов 25 лет. Больше всего пользователей в возрасте от 24 до 27 лет."
   ]
  },
  {
   "cell_type": "markdown",
   "id": "13b918a9",
   "metadata": {},
   "source": [
    "Для того, чтобы узнать расстояние, которое пользователь преодолел за одну поездку я воспользуюсь метедом describe() и выведу сводную иформацию о столбце."
   ]
  },
  {
   "cell_type": "code",
   "execution_count": 24,
   "id": "4598846e",
   "metadata": {},
   "outputs": [
    {
     "data": {
      "text/plain": [
       "count    18068.000000\n",
       "mean      3070.659976\n",
       "std       1116.831209\n",
       "min          0.855683\n",
       "25%       2543.226360\n",
       "50%       3133.609994\n",
       "75%       3776.222735\n",
       "max       7211.007745\n",
       "Name: distance, dtype: float64"
      ]
     },
     "execution_count": 24,
     "metadata": {},
     "output_type": "execute_result"
    }
   ],
   "source": [
    "rides['distance'].describe()  # вывожу сводные данные"
   ]
  },
  {
   "cell_type": "markdown",
   "id": "85526c5a",
   "metadata": {},
   "source": [
    "С помощью метода `hist` построю гистограмму и узнаю как распределяется расстояние одной поездки по кол-ву пользователей."
   ]
  },
  {
   "cell_type": "code",
   "execution_count": 25,
   "id": "01de2164",
   "metadata": {},
   "outputs": [
    {
     "data": {
      "image/png": "[encoded data removed]",
      "text/plain": [
       "<Figure size 640x480 with 1 Axes>"
      ]
     },
     "metadata": {},
     "output_type": "display_data"
    }
   ],
   "source": [
    "plt.hist(rides['distance'])   # вывожу гистограмму\n",
    "plt.title('Растояние одной поездки')\n",
    "plt.xlabel('Растояние')\n",
    "plt.ylabel('Количество пользователей')\n",
    "plt.grid()\n",
    "plt.show()"
   ]
  },
  {
   "cell_type": "markdown",
   "id": "bb3c8077",
   "metadata": {},
   "source": [
    "С помощью метода `boxplot` построю диаграмму размаха и узнаю есть ли в данных возможные выбросы."
   ]
  },
  {
   "cell_type": "code",
   "execution_count": 26,
   "id": "9bc1b9cb",
   "metadata": {},
   "outputs": [
    {
     "data": {
      "image/png": "[encoded data removed]",
      "text/plain": [
       "<Figure size 640x480 with 1 Axes>"
      ]
     },
     "metadata": {},
     "output_type": "display_data"
    }
   ],
   "source": [
    "sns.boxplot(x=rides['distance'], color='blue') #строим диаграмму размаха\n",
    "plt.title('Расстояние одной поездки')\n",
    "plt.xlabel('Расстояние, м')\n",
    "_ = plt.xlim(0, 8000)"
   ]
  },
  {
   "cell_type": "markdown",
   "id": "3fddd81d",
   "metadata": {},
   "source": [
    "На гистограмме я вижу, что в основном пользователи преодолевают от 2100 м до 5000 за одну сессию, однако \"ящик с усами\" говорит о том, что показатели до 800 м и больше 5600 м это возможные выбросы и в основном пользователи преодолевают от 2543 м  до 3776 м. (такие точные цифры я взяла из результата метода describe)"
   ]
  },
  {
   "cell_type": "markdown",
   "id": "fd4e2a8c",
   "metadata": {},
   "source": [
    "Для того, чтобы узнать продолжительность поездок я воспользуюсь метедом describe() и выведу сводную иформацию о столбце."
   ]
  },
  {
   "cell_type": "code",
   "execution_count": 27,
   "id": "78cc1163",
   "metadata": {},
   "outputs": [
    {
     "data": {
      "text/plain": [
       "count    18068.000000\n",
       "mean        18.303520\n",
       "std          6.094928\n",
       "min          1.000000\n",
       "25%         14.000000\n",
       "50%         18.000000\n",
       "75%         22.000000\n",
       "max         41.000000\n",
       "Name: duration, dtype: float64"
      ]
     },
     "execution_count": 27,
     "metadata": {},
     "output_type": "execute_result"
    }
   ],
   "source": [
    "rides['duration'].describe()"
   ]
  },
  {
   "cell_type": "markdown",
   "id": "0cc5dcb0",
   "metadata": {},
   "source": [
    "С помощью метода `boxplot` построю диаграмму размаха и узнаю есть ли в данных возможные выбросы."
   ]
  },
  {
   "cell_type": "code",
   "execution_count": 28,
   "id": "e5ca3138",
   "metadata": {},
   "outputs": [
    {
     "data": {
      "image/png": "[encoded data removed]",
      "text/plain": [
       "<Figure size 640x480 with 1 Axes>"
      ]
     },
     "metadata": {},
     "output_type": "display_data"
    }
   ],
   "source": [
    "sns.boxplot(x = rides['duration'], color='blue')\n",
    "plt.title('Продолжительность поезки')\n",
    "plt.xlabel('Время, минуты')\n",
    "_ = plt.xlim(0, 45)"
   ]
  },
  {
   "cell_type": "markdown",
   "id": "14f1bf98",
   "metadata": {},
   "source": [
    "На диаграмме размаха я вижу, что продолжительность поездки до 2 минут и больше 34 минут это возможные выбросы и в основном пользователи пользуются самакатами от 13 минут до 21 минуты за одну сессию."
   ]
  },
  {
   "cell_type": "code",
   "execution_count": 29,
   "id": "dffe0d35",
   "metadata": {},
   "outputs": [
    {
     "data": {
      "image/png": "[encoded data removed]",
      "text/plain": [
       "<Figure size 640x480 with 1 Axes>"
      ]
     },
     "metadata": {},
     "output_type": "display_data"
    }
   ],
   "source": [
    "plt.hist(rides['duration'])   # вывожу гистограмму\n",
    "plt.title('Продолжительность поезки')\n",
    "plt.xlabel('Время, минуты')\n",
    "plt.ylabel('Количество пользователей')\n",
    "plt.grid()\n",
    "plt.show()"
   ]
  },
  {
   "cell_type": "markdown",
   "id": "cd5bce05",
   "metadata": {},
   "source": [
    "На гистограмме видно что самый пик продолжительности поездки находится в диапазоне от 17 до 21 минуты."
   ]
  },
  {
   "cell_type": "markdown",
   "id": "7bedddc0",
   "metadata": {},
   "source": [
    "<div style=\"border:solid orange 2px; padding: 20px\">   \n",
    "    \n",
    "**Вывод:**\n",
    "Частота встречаемости городов практически одинакова, в г. Пятигорске самое большое кол-во позьзователей, а в г. Москве самое маленькое.\n",
    "    \n",
    "Пользователей без подписки - 54%, пользователей с подпиской - 46%, соответсвенно пользователей без подписки больше на 8%.\n",
    "    \n",
    "Чаще всего сервисом аренды самокатов пользуются люди в возрасте  от 24 до 27 лет. Минимальный возраст пользователя - 12 лет, а максимальный - 43 года.\n",
    "    \n",
    "В основном пользователи преодолевают за одну поездку от 2500 м  до 3800 м. Самое маленькое расстояние, пройденное за одну поездку - 0.85 м, а самое большое - 7211 м. Предположу что растояния до 800 м действительно являются выбросами, т.к. кажутся очень маленькими для поездки на самокате.\n",
    "    \n",
    "В основном продолжительность поездки на самокате составляет от 13 минут до 21 минуты за одну сессию. Минимальная продолжительность поездки 0.5 минуты, что очень мало и скорее всего пользователь просто передумал брать самокат, а максимальная продолжительность поездки почти 41 минуту. Думаю логично считать поедки до 2 минут выбросами.\n",
    "    \n"
   ]
  },
  {
   "cell_type": "markdown",
   "id": "4ef51331",
   "metadata": {},
   "source": [
    "#### Шаг 4. Объединение данных"
   ]
  },
  {
   "cell_type": "markdown",
   "id": "ed4c5e77",
   "metadata": {},
   "source": [
    "Объединю данные о пользователях, поездках и подписках в один датафрейм. Для этого воспользуюсь методом `merge()`."
   ]
  },
  {
   "cell_type": "markdown",
   "id": "5a8f6026",
   "metadata": {},
   "source": [
    "Проведу проверку размерности датасетов до объединения."
   ]
  },
  {
   "cell_type": "code",
   "execution_count": 30,
   "id": "eb185e38",
   "metadata": {},
   "outputs": [
    {
     "data": {
      "text/plain": [
       "(1534, 5)"
      ]
     },
     "execution_count": 30,
     "metadata": {},
     "output_type": "execute_result"
    }
   ],
   "source": [
    "users.shape # проверяю датафрейм users"
   ]
  },
  {
   "cell_type": "code",
   "execution_count": 31,
   "id": "0925240f",
   "metadata": {},
   "outputs": [
    {
     "data": {
      "text/plain": [
       "(18068, 5)"
      ]
     },
     "execution_count": 31,
     "metadata": {},
     "output_type": "execute_result"
    }
   ],
   "source": [
    "rides.shape  # проверяю датафрейм rides"
   ]
  },
  {
   "cell_type": "code",
   "execution_count": 32,
   "id": "c23f072e",
   "metadata": {},
   "outputs": [
    {
     "data": {
      "text/plain": [
       "(2, 4)"
      ]
     },
     "execution_count": 32,
     "metadata": {},
     "output_type": "execute_result"
    }
   ],
   "source": [
    "subscriptions.shape  # проверяю датафрейм subscriptions"
   ]
  },
  {
   "cell_type": "code",
   "execution_count": 33,
   "id": "6bf288b5",
   "metadata": {},
   "outputs": [],
   "source": [
    "data = users.merge(rides)  # объеденю таблицы users и rides"
   ]
  },
  {
   "cell_type": "code",
   "execution_count": 34,
   "id": "117c792e",
   "metadata": {},
   "outputs": [],
   "source": [
    "data = data.merge(subscriptions)  # объединю получившуюся таблицу с subscriptions"
   ]
  },
  {
   "cell_type": "code",
   "execution_count": 35,
   "id": "b5851f2c",
   "metadata": {},
   "outputs": [
    {
     "data": {
      "text/html": [
       "<div>\n",
       "<style scoped>\n",
       "    .dataframe tbody tr th:only-of-type {\n",
       "        vertical-align: middle;\n",
       "    }\n",
       "\n",
       "    .dataframe tbody tr th {\n",
       "        vertical-align: top;\n",
       "    }\n",
       "\n",
       "    .dataframe thead th {\n",
       "        text-align: right;\n",
       "    }\n",
       "</style>\n",
       "<table border=\"1\" class=\"dataframe\">\n",
       "  <thead>\n",
       "    <tr style=\"text-align: right;\">\n",
       "      <th></th>\n",
       "      <th>user_id</th>\n",
       "      <th>name</th>\n",
       "      <th>age</th>\n",
       "      <th>city</th>\n",
       "      <th>subscription_type</th>\n",
       "      <th>distance</th>\n",
       "      <th>duration</th>\n",
       "      <th>date</th>\n",
       "      <th>month</th>\n",
       "      <th>minute_price</th>\n",
       "      <th>start_ride_price</th>\n",
       "      <th>subscription_fee</th>\n",
       "    </tr>\n",
       "  </thead>\n",
       "  <tbody>\n",
       "    <tr>\n",
       "      <th>0</th>\n",
       "      <td>1</td>\n",
       "      <td>Кира</td>\n",
       "      <td>22</td>\n",
       "      <td>Тюмень</td>\n",
       "      <td>ultra</td>\n",
       "      <td>4409.919140</td>\n",
       "      <td>26</td>\n",
       "      <td>2021-01-01</td>\n",
       "      <td>1</td>\n",
       "      <td>6</td>\n",
       "      <td>0</td>\n",
       "      <td>199</td>\n",
       "    </tr>\n",
       "    <tr>\n",
       "      <th>1</th>\n",
       "      <td>1</td>\n",
       "      <td>Кира</td>\n",
       "      <td>22</td>\n",
       "      <td>Тюмень</td>\n",
       "      <td>ultra</td>\n",
       "      <td>2617.592153</td>\n",
       "      <td>16</td>\n",
       "      <td>2021-01-18</td>\n",
       "      <td>1</td>\n",
       "      <td>6</td>\n",
       "      <td>0</td>\n",
       "      <td>199</td>\n",
       "    </tr>\n",
       "    <tr>\n",
       "      <th>2</th>\n",
       "      <td>1</td>\n",
       "      <td>Кира</td>\n",
       "      <td>22</td>\n",
       "      <td>Тюмень</td>\n",
       "      <td>ultra</td>\n",
       "      <td>754.159807</td>\n",
       "      <td>7</td>\n",
       "      <td>2021-04-20</td>\n",
       "      <td>4</td>\n",
       "      <td>6</td>\n",
       "      <td>0</td>\n",
       "      <td>199</td>\n",
       "    </tr>\n",
       "    <tr>\n",
       "      <th>3</th>\n",
       "      <td>1</td>\n",
       "      <td>Кира</td>\n",
       "      <td>22</td>\n",
       "      <td>Тюмень</td>\n",
       "      <td>ultra</td>\n",
       "      <td>2694.783254</td>\n",
       "      <td>19</td>\n",
       "      <td>2021-08-11</td>\n",
       "      <td>8</td>\n",
       "      <td>6</td>\n",
       "      <td>0</td>\n",
       "      <td>199</td>\n",
       "    </tr>\n",
       "    <tr>\n",
       "      <th>4</th>\n",
       "      <td>1</td>\n",
       "      <td>Кира</td>\n",
       "      <td>22</td>\n",
       "      <td>Тюмень</td>\n",
       "      <td>ultra</td>\n",
       "      <td>4028.687306</td>\n",
       "      <td>27</td>\n",
       "      <td>2021-08-28</td>\n",
       "      <td>8</td>\n",
       "      <td>6</td>\n",
       "      <td>0</td>\n",
       "      <td>199</td>\n",
       "    </tr>\n",
       "  </tbody>\n",
       "</table>\n",
       "</div>"
      ],
      "text/plain": [
       "   user_id  name  age    city subscription_type     distance  duration  \\\n",
       "0        1  Кира   22  Тюмень             ultra  4409.919140        26   \n",
       "1        1  Кира   22  Тюмень             ultra  2617.592153        16   \n",
       "2        1  Кира   22  Тюмень             ultra   754.159807         7   \n",
       "3        1  Кира   22  Тюмень             ultra  2694.783254        19   \n",
       "4        1  Кира   22  Тюмень             ultra  4028.687306        27   \n",
       "\n",
       "        date  month  minute_price  start_ride_price  subscription_fee  \n",
       "0 2021-01-01      1             6                 0               199  \n",
       "1 2021-01-18      1             6                 0               199  \n",
       "2 2021-04-20      4             6                 0               199  \n",
       "3 2021-08-11      8             6                 0               199  \n",
       "4 2021-08-28      8             6                 0               199  "
      ]
     },
     "execution_count": 35,
     "metadata": {},
     "output_type": "execute_result"
    }
   ],
   "source": [
    "data.head() # выведу первые 5 строк таблицы"
   ]
  },
  {
   "cell_type": "markdown",
   "id": "6ded69d2",
   "metadata": {},
   "source": [
    "Проведу проверку размерности объедененного датасета."
   ]
  },
  {
   "cell_type": "code",
   "execution_count": 36,
   "id": "3101b65a",
   "metadata": {},
   "outputs": [
    {
     "data": {
      "text/plain": [
       "(18068, 12)"
      ]
     },
     "execution_count": 36,
     "metadata": {},
     "output_type": "execute_result"
    }
   ],
   "source": [
    "data.shape"
   ]
  },
  {
   "cell_type": "code",
   "execution_count": 37,
   "id": "f8ae125d",
   "metadata": {},
   "outputs": [
    {
     "data": {
      "text/plain": [
       "user_id              0\n",
       "name                 0\n",
       "age                  0\n",
       "city                 0\n",
       "subscription_type    0\n",
       "distance             0\n",
       "duration             0\n",
       "date                 0\n",
       "month                0\n",
       "minute_price         0\n",
       "start_ride_price     0\n",
       "subscription_fee     0\n",
       "dtype: int64"
      ]
     },
     "execution_count": 37,
     "metadata": {},
     "output_type": "execute_result"
    }
   ],
   "source": [
    "data.isna().sum()  # проверим на наличие пропусков"
   ]
  },
  {
   "cell_type": "markdown",
   "id": "e5db80d0",
   "metadata": {},
   "source": [
    "Количество строк объедененного датасета соответсвует количеству строк самого большого датасета до объединения. Пропусков в data нет, все данные заполнились."
   ]
  },
  {
   "cell_type": "markdown",
   "id": "d6a9782a",
   "metadata": {},
   "source": [
    "На основе объедененной таблицы создам таблицу c данными о пользователях без подписки, для этого использую `loc` и сохраню в новом датафрейме только те строки исходной таблицы, в которых указаны пользователи без подписки."
   ]
  },
  {
   "cell_type": "code",
   "execution_count": 38,
   "id": "ff14d669",
   "metadata": {},
   "outputs": [
    {
     "data": {
      "text/html": [
       "<div>\n",
       "<style scoped>\n",
       "    .dataframe tbody tr th:only-of-type {\n",
       "        vertical-align: middle;\n",
       "    }\n",
       "\n",
       "    .dataframe tbody tr th {\n",
       "        vertical-align: top;\n",
       "    }\n",
       "\n",
       "    .dataframe thead th {\n",
       "        text-align: right;\n",
       "    }\n",
       "</style>\n",
       "<table border=\"1\" class=\"dataframe\">\n",
       "  <thead>\n",
       "    <tr style=\"text-align: right;\">\n",
       "      <th></th>\n",
       "      <th>user_id</th>\n",
       "      <th>name</th>\n",
       "      <th>age</th>\n",
       "      <th>city</th>\n",
       "      <th>subscription_type</th>\n",
       "      <th>distance</th>\n",
       "      <th>duration</th>\n",
       "      <th>date</th>\n",
       "      <th>month</th>\n",
       "      <th>minute_price</th>\n",
       "      <th>start_ride_price</th>\n",
       "      <th>subscription_fee</th>\n",
       "    </tr>\n",
       "  </thead>\n",
       "  <tbody>\n",
       "    <tr>\n",
       "      <th>6500</th>\n",
       "      <td>700</td>\n",
       "      <td>Айдар</td>\n",
       "      <td>22</td>\n",
       "      <td>Омск</td>\n",
       "      <td>free</td>\n",
       "      <td>2515.690719</td>\n",
       "      <td>15</td>\n",
       "      <td>2021-01-02</td>\n",
       "      <td>1</td>\n",
       "      <td>8</td>\n",
       "      <td>50</td>\n",
       "      <td>0</td>\n",
       "    </tr>\n",
       "    <tr>\n",
       "      <th>6501</th>\n",
       "      <td>700</td>\n",
       "      <td>Айдар</td>\n",
       "      <td>22</td>\n",
       "      <td>Омск</td>\n",
       "      <td>free</td>\n",
       "      <td>846.932642</td>\n",
       "      <td>17</td>\n",
       "      <td>2021-02-01</td>\n",
       "      <td>2</td>\n",
       "      <td>8</td>\n",
       "      <td>50</td>\n",
       "      <td>0</td>\n",
       "    </tr>\n",
       "    <tr>\n",
       "      <th>6502</th>\n",
       "      <td>700</td>\n",
       "      <td>Айдар</td>\n",
       "      <td>22</td>\n",
       "      <td>Омск</td>\n",
       "      <td>free</td>\n",
       "      <td>4004.434142</td>\n",
       "      <td>21</td>\n",
       "      <td>2021-02-04</td>\n",
       "      <td>2</td>\n",
       "      <td>8</td>\n",
       "      <td>50</td>\n",
       "      <td>0</td>\n",
       "    </tr>\n",
       "    <tr>\n",
       "      <th>6503</th>\n",
       "      <td>700</td>\n",
       "      <td>Айдар</td>\n",
       "      <td>22</td>\n",
       "      <td>Омск</td>\n",
       "      <td>free</td>\n",
       "      <td>1205.911290</td>\n",
       "      <td>10</td>\n",
       "      <td>2021-02-10</td>\n",
       "      <td>2</td>\n",
       "      <td>8</td>\n",
       "      <td>50</td>\n",
       "      <td>0</td>\n",
       "    </tr>\n",
       "    <tr>\n",
       "      <th>6504</th>\n",
       "      <td>700</td>\n",
       "      <td>Айдар</td>\n",
       "      <td>22</td>\n",
       "      <td>Омск</td>\n",
       "      <td>free</td>\n",
       "      <td>3047.379435</td>\n",
       "      <td>18</td>\n",
       "      <td>2021-02-14</td>\n",
       "      <td>2</td>\n",
       "      <td>8</td>\n",
       "      <td>50</td>\n",
       "      <td>0</td>\n",
       "    </tr>\n",
       "    <tr>\n",
       "      <th>...</th>\n",
       "      <td>...</td>\n",
       "      <td>...</td>\n",
       "      <td>...</td>\n",
       "      <td>...</td>\n",
       "      <td>...</td>\n",
       "      <td>...</td>\n",
       "      <td>...</td>\n",
       "      <td>...</td>\n",
       "      <td>...</td>\n",
       "      <td>...</td>\n",
       "      <td>...</td>\n",
       "      <td>...</td>\n",
       "    </tr>\n",
       "    <tr>\n",
       "      <th>18063</th>\n",
       "      <td>1534</td>\n",
       "      <td>Альберт</td>\n",
       "      <td>25</td>\n",
       "      <td>Краснодар</td>\n",
       "      <td>free</td>\n",
       "      <td>3781.098080</td>\n",
       "      <td>20</td>\n",
       "      <td>2021-11-04</td>\n",
       "      <td>11</td>\n",
       "      <td>8</td>\n",
       "      <td>50</td>\n",
       "      <td>0</td>\n",
       "    </tr>\n",
       "    <tr>\n",
       "      <th>18064</th>\n",
       "      <td>1534</td>\n",
       "      <td>Альберт</td>\n",
       "      <td>25</td>\n",
       "      <td>Краснодар</td>\n",
       "      <td>free</td>\n",
       "      <td>2840.423057</td>\n",
       "      <td>22</td>\n",
       "      <td>2021-11-16</td>\n",
       "      <td>11</td>\n",
       "      <td>8</td>\n",
       "      <td>50</td>\n",
       "      <td>0</td>\n",
       "    </tr>\n",
       "    <tr>\n",
       "      <th>18065</th>\n",
       "      <td>1534</td>\n",
       "      <td>Альберт</td>\n",
       "      <td>25</td>\n",
       "      <td>Краснодар</td>\n",
       "      <td>free</td>\n",
       "      <td>3826.185507</td>\n",
       "      <td>19</td>\n",
       "      <td>2021-11-18</td>\n",
       "      <td>11</td>\n",
       "      <td>8</td>\n",
       "      <td>50</td>\n",
       "      <td>0</td>\n",
       "    </tr>\n",
       "    <tr>\n",
       "      <th>18066</th>\n",
       "      <td>1534</td>\n",
       "      <td>Альберт</td>\n",
       "      <td>25</td>\n",
       "      <td>Краснодар</td>\n",
       "      <td>free</td>\n",
       "      <td>2902.308661</td>\n",
       "      <td>17</td>\n",
       "      <td>2021-11-27</td>\n",
       "      <td>11</td>\n",
       "      <td>8</td>\n",
       "      <td>50</td>\n",
       "      <td>0</td>\n",
       "    </tr>\n",
       "    <tr>\n",
       "      <th>18067</th>\n",
       "      <td>1534</td>\n",
       "      <td>Альберт</td>\n",
       "      <td>25</td>\n",
       "      <td>Краснодар</td>\n",
       "      <td>free</td>\n",
       "      <td>2371.711192</td>\n",
       "      <td>16</td>\n",
       "      <td>2021-12-29</td>\n",
       "      <td>12</td>\n",
       "      <td>8</td>\n",
       "      <td>50</td>\n",
       "      <td>0</td>\n",
       "    </tr>\n",
       "  </tbody>\n",
       "</table>\n",
       "<p>11568 rows × 12 columns</p>\n",
       "</div>"
      ],
      "text/plain": [
       "       user_id     name  age       city subscription_type     distance  \\\n",
       "6500       700    Айдар   22       Омск              free  2515.690719   \n",
       "6501       700    Айдар   22       Омск              free   846.932642   \n",
       "6502       700    Айдар   22       Омск              free  4004.434142   \n",
       "6503       700    Айдар   22       Омск              free  1205.911290   \n",
       "6504       700    Айдар   22       Омск              free  3047.379435   \n",
       "...        ...      ...  ...        ...               ...          ...   \n",
       "18063     1534  Альберт   25  Краснодар              free  3781.098080   \n",
       "18064     1534  Альберт   25  Краснодар              free  2840.423057   \n",
       "18065     1534  Альберт   25  Краснодар              free  3826.185507   \n",
       "18066     1534  Альберт   25  Краснодар              free  2902.308661   \n",
       "18067     1534  Альберт   25  Краснодар              free  2371.711192   \n",
       "\n",
       "       duration       date  month  minute_price  start_ride_price  \\\n",
       "6500         15 2021-01-02      1             8                50   \n",
       "6501         17 2021-02-01      2             8                50   \n",
       "6502         21 2021-02-04      2             8                50   \n",
       "6503         10 2021-02-10      2             8                50   \n",
       "6504         18 2021-02-14      2             8                50   \n",
       "...         ...        ...    ...           ...               ...   \n",
       "18063        20 2021-11-04     11             8                50   \n",
       "18064        22 2021-11-16     11             8                50   \n",
       "18065        19 2021-11-18     11             8                50   \n",
       "18066        17 2021-11-27     11             8                50   \n",
       "18067        16 2021-12-29     12             8                50   \n",
       "\n",
       "       subscription_fee  \n",
       "6500                  0  \n",
       "6501                  0  \n",
       "6502                  0  \n",
       "6503                  0  \n",
       "6504                  0  \n",
       "...                 ...  \n",
       "18063                 0  \n",
       "18064                 0  \n",
       "18065                 0  \n",
       "18066                 0  \n",
       "18067                 0  \n",
       "\n",
       "[11568 rows x 12 columns]"
      ]
     },
     "execution_count": 38,
     "metadata": {},
     "output_type": "execute_result"
    }
   ],
   "source": [
    "no_sub = data.loc[data['subscription_type'] == 'free'] \n",
    "no_sub # выведу таблицу на экран"
   ]
  },
  {
   "cell_type": "markdown",
   "id": "158a98de",
   "metadata": {},
   "source": [
    "Проделаю тоже самое, но уже для пользователей с подпиской."
   ]
  },
  {
   "cell_type": "code",
   "execution_count": 39,
   "id": "5d968bc3",
   "metadata": {},
   "outputs": [
    {
     "data": {
      "text/html": [
       "<div>\n",
       "<style scoped>\n",
       "    .dataframe tbody tr th:only-of-type {\n",
       "        vertical-align: middle;\n",
       "    }\n",
       "\n",
       "    .dataframe tbody tr th {\n",
       "        vertical-align: top;\n",
       "    }\n",
       "\n",
       "    .dataframe thead th {\n",
       "        text-align: right;\n",
       "    }\n",
       "</style>\n",
       "<table border=\"1\" class=\"dataframe\">\n",
       "  <thead>\n",
       "    <tr style=\"text-align: right;\">\n",
       "      <th></th>\n",
       "      <th>user_id</th>\n",
       "      <th>name</th>\n",
       "      <th>age</th>\n",
       "      <th>city</th>\n",
       "      <th>subscription_type</th>\n",
       "      <th>distance</th>\n",
       "      <th>duration</th>\n",
       "      <th>date</th>\n",
       "      <th>month</th>\n",
       "      <th>minute_price</th>\n",
       "      <th>start_ride_price</th>\n",
       "      <th>subscription_fee</th>\n",
       "    </tr>\n",
       "  </thead>\n",
       "  <tbody>\n",
       "    <tr>\n",
       "      <th>0</th>\n",
       "      <td>1</td>\n",
       "      <td>Кира</td>\n",
       "      <td>22</td>\n",
       "      <td>Тюмень</td>\n",
       "      <td>ultra</td>\n",
       "      <td>4409.919140</td>\n",
       "      <td>26</td>\n",
       "      <td>2021-01-01</td>\n",
       "      <td>1</td>\n",
       "      <td>6</td>\n",
       "      <td>0</td>\n",
       "      <td>199</td>\n",
       "    </tr>\n",
       "    <tr>\n",
       "      <th>1</th>\n",
       "      <td>1</td>\n",
       "      <td>Кира</td>\n",
       "      <td>22</td>\n",
       "      <td>Тюмень</td>\n",
       "      <td>ultra</td>\n",
       "      <td>2617.592153</td>\n",
       "      <td>16</td>\n",
       "      <td>2021-01-18</td>\n",
       "      <td>1</td>\n",
       "      <td>6</td>\n",
       "      <td>0</td>\n",
       "      <td>199</td>\n",
       "    </tr>\n",
       "    <tr>\n",
       "      <th>2</th>\n",
       "      <td>1</td>\n",
       "      <td>Кира</td>\n",
       "      <td>22</td>\n",
       "      <td>Тюмень</td>\n",
       "      <td>ultra</td>\n",
       "      <td>754.159807</td>\n",
       "      <td>7</td>\n",
       "      <td>2021-04-20</td>\n",
       "      <td>4</td>\n",
       "      <td>6</td>\n",
       "      <td>0</td>\n",
       "      <td>199</td>\n",
       "    </tr>\n",
       "    <tr>\n",
       "      <th>3</th>\n",
       "      <td>1</td>\n",
       "      <td>Кира</td>\n",
       "      <td>22</td>\n",
       "      <td>Тюмень</td>\n",
       "      <td>ultra</td>\n",
       "      <td>2694.783254</td>\n",
       "      <td>19</td>\n",
       "      <td>2021-08-11</td>\n",
       "      <td>8</td>\n",
       "      <td>6</td>\n",
       "      <td>0</td>\n",
       "      <td>199</td>\n",
       "    </tr>\n",
       "    <tr>\n",
       "      <th>4</th>\n",
       "      <td>1</td>\n",
       "      <td>Кира</td>\n",
       "      <td>22</td>\n",
       "      <td>Тюмень</td>\n",
       "      <td>ultra</td>\n",
       "      <td>4028.687306</td>\n",
       "      <td>27</td>\n",
       "      <td>2021-08-28</td>\n",
       "      <td>8</td>\n",
       "      <td>6</td>\n",
       "      <td>0</td>\n",
       "      <td>199</td>\n",
       "    </tr>\n",
       "    <tr>\n",
       "      <th>...</th>\n",
       "      <td>...</td>\n",
       "      <td>...</td>\n",
       "      <td>...</td>\n",
       "      <td>...</td>\n",
       "      <td>...</td>\n",
       "      <td>...</td>\n",
       "      <td>...</td>\n",
       "      <td>...</td>\n",
       "      <td>...</td>\n",
       "      <td>...</td>\n",
       "      <td>...</td>\n",
       "      <td>...</td>\n",
       "    </tr>\n",
       "    <tr>\n",
       "      <th>6495</th>\n",
       "      <td>699</td>\n",
       "      <td>Оксана</td>\n",
       "      <td>22</td>\n",
       "      <td>Москва</td>\n",
       "      <td>ultra</td>\n",
       "      <td>3973.046497</td>\n",
       "      <td>25</td>\n",
       "      <td>2021-08-29</td>\n",
       "      <td>8</td>\n",
       "      <td>6</td>\n",
       "      <td>0</td>\n",
       "      <td>199</td>\n",
       "    </tr>\n",
       "    <tr>\n",
       "      <th>6496</th>\n",
       "      <td>699</td>\n",
       "      <td>Оксана</td>\n",
       "      <td>22</td>\n",
       "      <td>Москва</td>\n",
       "      <td>ultra</td>\n",
       "      <td>3288.702563</td>\n",
       "      <td>16</td>\n",
       "      <td>2021-09-12</td>\n",
       "      <td>9</td>\n",
       "      <td>6</td>\n",
       "      <td>0</td>\n",
       "      <td>199</td>\n",
       "    </tr>\n",
       "    <tr>\n",
       "      <th>6497</th>\n",
       "      <td>699</td>\n",
       "      <td>Оксана</td>\n",
       "      <td>22</td>\n",
       "      <td>Москва</td>\n",
       "      <td>ultra</td>\n",
       "      <td>3076.159348</td>\n",
       "      <td>15</td>\n",
       "      <td>2021-09-26</td>\n",
       "      <td>9</td>\n",
       "      <td>6</td>\n",
       "      <td>0</td>\n",
       "      <td>199</td>\n",
       "    </tr>\n",
       "    <tr>\n",
       "      <th>6498</th>\n",
       "      <td>699</td>\n",
       "      <td>Оксана</td>\n",
       "      <td>22</td>\n",
       "      <td>Москва</td>\n",
       "      <td>ultra</td>\n",
       "      <td>4707.845501</td>\n",
       "      <td>16</td>\n",
       "      <td>2021-10-17</td>\n",
       "      <td>10</td>\n",
       "      <td>6</td>\n",
       "      <td>0</td>\n",
       "      <td>199</td>\n",
       "    </tr>\n",
       "    <tr>\n",
       "      <th>6499</th>\n",
       "      <td>699</td>\n",
       "      <td>Оксана</td>\n",
       "      <td>22</td>\n",
       "      <td>Москва</td>\n",
       "      <td>ultra</td>\n",
       "      <td>3202.890770</td>\n",
       "      <td>26</td>\n",
       "      <td>2021-12-03</td>\n",
       "      <td>12</td>\n",
       "      <td>6</td>\n",
       "      <td>0</td>\n",
       "      <td>199</td>\n",
       "    </tr>\n",
       "  </tbody>\n",
       "</table>\n",
       "<p>6500 rows × 12 columns</p>\n",
       "</div>"
      ],
      "text/plain": [
       "      user_id    name  age    city subscription_type     distance  duration  \\\n",
       "0           1    Кира   22  Тюмень             ultra  4409.919140        26   \n",
       "1           1    Кира   22  Тюмень             ultra  2617.592153        16   \n",
       "2           1    Кира   22  Тюмень             ultra   754.159807         7   \n",
       "3           1    Кира   22  Тюмень             ultra  2694.783254        19   \n",
       "4           1    Кира   22  Тюмень             ultra  4028.687306        27   \n",
       "...       ...     ...  ...     ...               ...          ...       ...   \n",
       "6495      699  Оксана   22  Москва             ultra  3973.046497        25   \n",
       "6496      699  Оксана   22  Москва             ultra  3288.702563        16   \n",
       "6497      699  Оксана   22  Москва             ultra  3076.159348        15   \n",
       "6498      699  Оксана   22  Москва             ultra  4707.845501        16   \n",
       "6499      699  Оксана   22  Москва             ultra  3202.890770        26   \n",
       "\n",
       "           date  month  minute_price  start_ride_price  subscription_fee  \n",
       "0    2021-01-01      1             6                 0               199  \n",
       "1    2021-01-18      1             6                 0               199  \n",
       "2    2021-04-20      4             6                 0               199  \n",
       "3    2021-08-11      8             6                 0               199  \n",
       "4    2021-08-28      8             6                 0               199  \n",
       "...         ...    ...           ...               ...               ...  \n",
       "6495 2021-08-29      8             6                 0               199  \n",
       "6496 2021-09-12      9             6                 0               199  \n",
       "6497 2021-09-26      9             6                 0               199  \n",
       "6498 2021-10-17     10             6                 0               199  \n",
       "6499 2021-12-03     12             6                 0               199  \n",
       "\n",
       "[6500 rows x 12 columns]"
      ]
     },
     "execution_count": 39,
     "metadata": {},
     "output_type": "execute_result"
    }
   ],
   "source": [
    "ultra_sub = data.loc[data['subscription_type'] == 'ultra']\n",
    "ultra_sub # выведу таблицу на экран"
   ]
  },
  {
   "cell_type": "markdown",
   "id": "9fa2d3ce",
   "metadata": {},
   "source": [
    "Визуализирую информацию о расстоянии поездок для пользователей без подписки с помощью метода `hist`."
   ]
  },
  {
   "cell_type": "code",
   "execution_count": 40,
   "id": "777593ee",
   "metadata": {},
   "outputs": [
    {
     "data": {
      "image/png": "[encoded data removed]",
      "text/plain": [
       "<Figure size 640x480 with 1 Axes>"
      ]
     },
     "metadata": {},
     "output_type": "display_data"
    },
    {
     "data": {
      "text/plain": [
       "<Figure size 2000x2000 with 0 Axes>"
      ]
     },
     "metadata": {},
     "output_type": "display_data"
    }
   ],
   "source": [
    "plt.hist(no_sub['distance'], bins=40, range = (0, 7000))  # строю гистограмму\n",
    "plt.title('Расстояние без подписки')\n",
    "plt.xlabel('Расстояние, м')\n",
    "plt.ylabel('Количество поездок')\n",
    "plt.figure(figsize=(20,20))\n",
    "plt.show()"
   ]
  },
  {
   "cell_type": "markdown",
   "id": "6f1717a1",
   "metadata": {},
   "source": [
    "В основном расстояние преодалеваемое пользователем за одну поездку варьируется от 2000 м до 4500 м."
   ]
  },
  {
   "cell_type": "markdown",
   "id": "8ec4e29d",
   "metadata": {},
   "source": [
    "Визуализирую информацию о времени поездок для пользователей без подписки с помощью метода `hist`."
   ]
  },
  {
   "cell_type": "code",
   "execution_count": 41,
   "id": "b790a485",
   "metadata": {},
   "outputs": [
    {
     "data": {
      "image/png": "[encoded data removed]",
      "text/plain": [
       "<Figure size 640x480 with 1 Axes>"
      ]
     },
     "metadata": {},
     "output_type": "display_data"
    },
    {
     "data": {
      "text/plain": [
       "<Figure size 2000x2000 with 0 Axes>"
      ]
     },
     "metadata": {},
     "output_type": "display_data"
    }
   ],
   "source": [
    "plt.hist(no_sub['duration'], bins=30, range = (0, 35))  # строю гистограмму\n",
    "plt.title('Время без подписки')\n",
    "plt.xlabel('Время поездки, минуты')\n",
    "plt.ylabel('Количество поездок')\n",
    "plt.figure(figsize=(20,20))\n",
    "plt.show()"
   ]
  },
  {
   "cell_type": "markdown",
   "id": "e9197775",
   "metadata": {},
   "source": [
    "В основном время поезки составляет от 10 до 23 минут."
   ]
  },
  {
   "cell_type": "markdown",
   "id": "1a9aa173",
   "metadata": {},
   "source": [
    "Визуализирую информацию о расстоянии поездок для пользователей с подпиской  с помощью метода `hist`."
   ]
  },
  {
   "cell_type": "code",
   "execution_count": 42,
   "id": "e743078f",
   "metadata": {},
   "outputs": [
    {
     "data": {
      "image/png": "[encoded data removed]",
      "text/plain": [
       "<Figure size 640x480 with 1 Axes>"
      ]
     },
     "metadata": {},
     "output_type": "display_data"
    },
    {
     "data": {
      "text/plain": [
       "<Figure size 2000x2000 with 0 Axes>"
      ]
     },
     "metadata": {},
     "output_type": "display_data"
    }
   ],
   "source": [
    "plt.hist(ultra_sub['distance'], bins=40, range = (0, 6000))   # строю гистограмму\n",
    "plt.title('Расстояние с подпиской')\n",
    "plt.xlabel('Расстояние, м')\n",
    "plt.ylabel('Количество поездок')\n",
    "plt.figure(figsize=(20,20))\n",
    "plt.show()"
   ]
  },
  {
   "cell_type": "markdown",
   "id": "308cad61",
   "metadata": {},
   "source": [
    "В основном пользователи с подпиской за одну поездку проезжают от 2500 до 3500 м."
   ]
  },
  {
   "cell_type": "markdown",
   "id": "b9f43d52",
   "metadata": {},
   "source": [
    "Визуализирую информацию о времени поездок для пользователей с подпиской с помощью метода `hist`."
   ]
  },
  {
   "cell_type": "code",
   "execution_count": 43,
   "id": "06e9576b",
   "metadata": {},
   "outputs": [
    {
     "data": {
      "image/png": "[encoded data removed]",
      "text/plain": [
       "<Figure size 640x480 with 1 Axes>"
      ]
     },
     "metadata": {},
     "output_type": "display_data"
    },
    {
     "data": {
      "text/plain": [
       "<Figure size 2000x2000 with 0 Axes>"
      ]
     },
     "metadata": {},
     "output_type": "display_data"
    }
   ],
   "source": [
    "plt.hist(ultra_sub['duration'], bins=30, range = (0, 35))   # строю гистограмму\n",
    "plt.title('Время, платный тариф')\n",
    "plt.xlabel('Время поездки, минуты')\n",
    "plt.ylabel('Количество поездок')\n",
    "plt.figure(figsize=(20,20))\n",
    "plt.show()"
   ]
  },
  {
   "cell_type": "markdown",
   "id": "04a476eb",
   "metadata": {},
   "source": [
    "В основном пользователи с подпиской тратят от 12 до 22 минут на поездку."
   ]
  },
  {
   "cell_type": "markdown",
   "id": "0596a557",
   "metadata": {},
   "source": [
    "<div style=\"border:solid orange 2px; padding: 20px\">   \n",
    "    \n",
    "**Вывод:**\n",
    "На данном этапе я объеденила все имеющиеся у меня данные в одну таблицу, затем на основе получившейся таблицы создала еще две таблицы. В одной из них хранятся данные по пользователям без подписки, в другой - с подпиской.\n",
    "    \n",
    "Для пользователей без подписки растояние пройденное за одну поездку в среднем составляет от 2000 м до 4500 м, а время - от 10 до 23 минут.\n",
    "    \n",
    "Для пользователей с подпиской среднее растояние пройденное за одну поездку находится в диапазоне от от 2500 до 3500 м, а время поездки - от 12 до 22 минут.\n",
    "    \n",
    "Таким образом, можно сделать вывод, что пользователи без подписки в среднем проезжают большее расстояние, чем пользователи с подпиской, однако время сессий промерно одинаковое."
   ]
  },
  {
   "cell_type": "markdown",
   "id": "402d620f",
   "metadata": {},
   "source": [
    "#### Шаг 5. Подсчёт выручки"
   ]
  },
  {
   "cell_type": "markdown",
   "id": "d3845286",
   "metadata": {},
   "source": [
    "Создам таблицу с агрегированными данными о поездках на основе общей таблицы `data`.\n",
    "Для этого с помощью метода `pivot_table` создам таблицу в которой подсчитаю суммарное расстояние, количество поездок и суммарное время для каждого пользователя за каждый месяц, а также столбец о типе подписки."
   ]
  },
  {
   "cell_type": "markdown",
   "id": "7ad28eed",
   "metadata": {},
   "source": [
    "Для начала проведем округление значений в столбце `duration` в большую сторону"
   ]
  },
  {
   "cell_type": "code",
   "execution_count": 44,
   "id": "69d557cc",
   "metadata": {},
   "outputs": [],
   "source": [
    "data['duration'] = np.ceil(data['duration']) # округлим данные в столбце duration в большую сторону"
   ]
  },
  {
   "cell_type": "code",
   "execution_count": 45,
   "id": "53049e0a",
   "metadata": {},
   "outputs": [],
   "source": [
    "pivot_data = pd.pivot_table(data,\n",
    "                           index=['month', 'user_id'],\n",
    "                           values = ['distance', 'duration', 'name', 'subscription_type'],\n",
    "                           aggfunc = {'distance': 'sum', \n",
    "                                      'duration' : 'sum', \n",
    "                                      'name' : 'count',\n",
    "                                      'subscription_type' : min})"
   ]
  },
  {
   "cell_type": "code",
   "execution_count": 46,
   "id": "28994913",
   "metadata": {},
   "outputs": [],
   "source": [
    "pivot_data.rename(columns = {'name' : 'count_trip'}, inplace = True) # переименнуем столбец"
   ]
  },
  {
   "cell_type": "code",
   "execution_count": 47,
   "id": "bfce6519",
   "metadata": {},
   "outputs": [
    {
     "data": {
      "text/html": [
       "<div>\n",
       "<style scoped>\n",
       "    .dataframe tbody tr th:only-of-type {\n",
       "        vertical-align: middle;\n",
       "    }\n",
       "\n",
       "    .dataframe tbody tr th {\n",
       "        vertical-align: top;\n",
       "    }\n",
       "\n",
       "    .dataframe thead th {\n",
       "        text-align: right;\n",
       "    }\n",
       "</style>\n",
       "<table border=\"1\" class=\"dataframe\">\n",
       "  <thead>\n",
       "    <tr style=\"text-align: right;\">\n",
       "      <th></th>\n",
       "      <th></th>\n",
       "      <th>distance</th>\n",
       "      <th>duration</th>\n",
       "      <th>count_trip</th>\n",
       "      <th>subscription_type</th>\n",
       "    </tr>\n",
       "    <tr>\n",
       "      <th>month</th>\n",
       "      <th>user_id</th>\n",
       "      <th></th>\n",
       "      <th></th>\n",
       "      <th></th>\n",
       "      <th></th>\n",
       "    </tr>\n",
       "  </thead>\n",
       "  <tbody>\n",
       "    <tr>\n",
       "      <th rowspan=\"5\" valign=\"top\">1</th>\n",
       "      <th>1</th>\n",
       "      <td>7027.511294</td>\n",
       "      <td>42.0</td>\n",
       "      <td>2</td>\n",
       "      <td>ultra</td>\n",
       "    </tr>\n",
       "    <tr>\n",
       "      <th>3</th>\n",
       "      <td>3061.777147</td>\n",
       "      <td>13.0</td>\n",
       "      <td>1</td>\n",
       "      <td>ultra</td>\n",
       "    </tr>\n",
       "    <tr>\n",
       "      <th>5</th>\n",
       "      <td>3914.646990</td>\n",
       "      <td>13.0</td>\n",
       "      <td>1</td>\n",
       "      <td>ultra</td>\n",
       "    </tr>\n",
       "    <tr>\n",
       "      <th>7</th>\n",
       "      <td>6478.080979</td>\n",
       "      <td>28.0</td>\n",
       "      <td>2</td>\n",
       "      <td>ultra</td>\n",
       "    </tr>\n",
       "    <tr>\n",
       "      <th>12</th>\n",
       "      <td>3577.151148</td>\n",
       "      <td>33.0</td>\n",
       "      <td>1</td>\n",
       "      <td>ultra</td>\n",
       "    </tr>\n",
       "    <tr>\n",
       "      <th>...</th>\n",
       "      <th>...</th>\n",
       "      <td>...</td>\n",
       "      <td>...</td>\n",
       "      <td>...</td>\n",
       "      <td>...</td>\n",
       "    </tr>\n",
       "    <tr>\n",
       "      <th rowspan=\"5\" valign=\"top\">12</th>\n",
       "      <th>1525</th>\n",
       "      <td>4597.854350</td>\n",
       "      <td>34.0</td>\n",
       "      <td>1</td>\n",
       "      <td>free</td>\n",
       "    </tr>\n",
       "    <tr>\n",
       "      <th>1526</th>\n",
       "      <td>3644.121544</td>\n",
       "      <td>23.0</td>\n",
       "      <td>1</td>\n",
       "      <td>free</td>\n",
       "    </tr>\n",
       "    <tr>\n",
       "      <th>1528</th>\n",
       "      <td>3998.569324</td>\n",
       "      <td>11.0</td>\n",
       "      <td>1</td>\n",
       "      <td>free</td>\n",
       "    </tr>\n",
       "    <tr>\n",
       "      <th>1532</th>\n",
       "      <td>6111.889853</td>\n",
       "      <td>42.0</td>\n",
       "      <td>2</td>\n",
       "      <td>free</td>\n",
       "    </tr>\n",
       "    <tr>\n",
       "      <th>1534</th>\n",
       "      <td>2371.711192</td>\n",
       "      <td>16.0</td>\n",
       "      <td>1</td>\n",
       "      <td>free</td>\n",
       "    </tr>\n",
       "  </tbody>\n",
       "</table>\n",
       "<p>11331 rows × 4 columns</p>\n",
       "</div>"
      ],
      "text/plain": [
       "                  distance  duration  count_trip subscription_type\n",
       "month user_id                                                     \n",
       "1     1        7027.511294      42.0           2             ultra\n",
       "      3        3061.777147      13.0           1             ultra\n",
       "      5        3914.646990      13.0           1             ultra\n",
       "      7        6478.080979      28.0           2             ultra\n",
       "      12       3577.151148      33.0           1             ultra\n",
       "...                    ...       ...         ...               ...\n",
       "12    1525     4597.854350      34.0           1              free\n",
       "      1526     3644.121544      23.0           1              free\n",
       "      1528     3998.569324      11.0           1              free\n",
       "      1532     6111.889853      42.0           2              free\n",
       "      1534     2371.711192      16.0           1              free\n",
       "\n",
       "[11331 rows x 4 columns]"
      ]
     },
     "execution_count": 47,
     "metadata": {},
     "output_type": "execute_result"
    }
   ],
   "source": [
    "pivot_data # выведем таблицу"
   ]
  },
  {
   "cell_type": "markdown",
   "id": "66aed109",
   "metadata": {},
   "source": [
    "Напишу собственную функцию для подсчета помесячной выручки от каждого пользователя.  Данные о ценах я взяла из информации об условиях оплаты для подписчиков и тех, у кого нет подписки:\n",
    "1. без подписки\n",
    "- абонентская плата отсутствует;\n",
    "- стоимость одной минуты поездки — 8 рублей;\n",
    "- стоимость старта (начала поездки) — 50 рублей;\n",
    "2. с подпиской Ultra:\n",
    "- абонентская плата — 199 рублей в месяц;\n",
    "- стоимость одной минуты поездки — 6 рублей;\n",
    "- стоимость старта — бесплатно."
   ]
  },
  {
   "cell_type": "code",
   "execution_count": 48,
   "id": "f7686360",
   "metadata": {},
   "outputs": [],
   "source": [
    "# напишу функцию\n",
    "def revenue(string):   \n",
    "    if string['subscription_type'] == 'ultra':\n",
    "        return 6 * string['duration'] + 199\n",
    "    else:\n",
    "        return 8 * string['duration'] + 50 * string['count_trip']"
   ]
  },
  {
   "cell_type": "code",
   "execution_count": 49,
   "id": "20b1f092",
   "metadata": {},
   "outputs": [],
   "source": [
    "# создаю новый столбец и записываю в него информацию с помощью вызова функции revenue\n",
    "pivot_data['revenue_month'] = pivot_data.apply(revenue, axis=1)"
   ]
  },
  {
   "cell_type": "code",
   "execution_count": 50,
   "id": "1be873bc",
   "metadata": {},
   "outputs": [
    {
     "data": {
      "text/html": [
       "<div>\n",
       "<style scoped>\n",
       "    .dataframe tbody tr th:only-of-type {\n",
       "        vertical-align: middle;\n",
       "    }\n",
       "\n",
       "    .dataframe tbody tr th {\n",
       "        vertical-align: top;\n",
       "    }\n",
       "\n",
       "    .dataframe thead th {\n",
       "        text-align: right;\n",
       "    }\n",
       "</style>\n",
       "<table border=\"1\" class=\"dataframe\">\n",
       "  <thead>\n",
       "    <tr style=\"text-align: right;\">\n",
       "      <th></th>\n",
       "      <th></th>\n",
       "      <th>distance</th>\n",
       "      <th>duration</th>\n",
       "      <th>count_trip</th>\n",
       "      <th>subscription_type</th>\n",
       "      <th>revenue_month</th>\n",
       "    </tr>\n",
       "    <tr>\n",
       "      <th>month</th>\n",
       "      <th>user_id</th>\n",
       "      <th></th>\n",
       "      <th></th>\n",
       "      <th></th>\n",
       "      <th></th>\n",
       "      <th></th>\n",
       "    </tr>\n",
       "  </thead>\n",
       "  <tbody>\n",
       "    <tr>\n",
       "      <th rowspan=\"5\" valign=\"top\">1</th>\n",
       "      <th>1</th>\n",
       "      <td>7027.511294</td>\n",
       "      <td>42.0</td>\n",
       "      <td>2</td>\n",
       "      <td>ultra</td>\n",
       "      <td>451.0</td>\n",
       "    </tr>\n",
       "    <tr>\n",
       "      <th>3</th>\n",
       "      <td>3061.777147</td>\n",
       "      <td>13.0</td>\n",
       "      <td>1</td>\n",
       "      <td>ultra</td>\n",
       "      <td>277.0</td>\n",
       "    </tr>\n",
       "    <tr>\n",
       "      <th>5</th>\n",
       "      <td>3914.646990</td>\n",
       "      <td>13.0</td>\n",
       "      <td>1</td>\n",
       "      <td>ultra</td>\n",
       "      <td>277.0</td>\n",
       "    </tr>\n",
       "    <tr>\n",
       "      <th>7</th>\n",
       "      <td>6478.080979</td>\n",
       "      <td>28.0</td>\n",
       "      <td>2</td>\n",
       "      <td>ultra</td>\n",
       "      <td>367.0</td>\n",
       "    </tr>\n",
       "    <tr>\n",
       "      <th>12</th>\n",
       "      <td>3577.151148</td>\n",
       "      <td>33.0</td>\n",
       "      <td>1</td>\n",
       "      <td>ultra</td>\n",
       "      <td>397.0</td>\n",
       "    </tr>\n",
       "    <tr>\n",
       "      <th>...</th>\n",
       "      <th>...</th>\n",
       "      <td>...</td>\n",
       "      <td>...</td>\n",
       "      <td>...</td>\n",
       "      <td>...</td>\n",
       "      <td>...</td>\n",
       "    </tr>\n",
       "    <tr>\n",
       "      <th rowspan=\"5\" valign=\"top\">12</th>\n",
       "      <th>1525</th>\n",
       "      <td>4597.854350</td>\n",
       "      <td>34.0</td>\n",
       "      <td>1</td>\n",
       "      <td>free</td>\n",
       "      <td>322.0</td>\n",
       "    </tr>\n",
       "    <tr>\n",
       "      <th>1526</th>\n",
       "      <td>3644.121544</td>\n",
       "      <td>23.0</td>\n",
       "      <td>1</td>\n",
       "      <td>free</td>\n",
       "      <td>234.0</td>\n",
       "    </tr>\n",
       "    <tr>\n",
       "      <th>1528</th>\n",
       "      <td>3998.569324</td>\n",
       "      <td>11.0</td>\n",
       "      <td>1</td>\n",
       "      <td>free</td>\n",
       "      <td>138.0</td>\n",
       "    </tr>\n",
       "    <tr>\n",
       "      <th>1532</th>\n",
       "      <td>6111.889853</td>\n",
       "      <td>42.0</td>\n",
       "      <td>2</td>\n",
       "      <td>free</td>\n",
       "      <td>436.0</td>\n",
       "    </tr>\n",
       "    <tr>\n",
       "      <th>1534</th>\n",
       "      <td>2371.711192</td>\n",
       "      <td>16.0</td>\n",
       "      <td>1</td>\n",
       "      <td>free</td>\n",
       "      <td>178.0</td>\n",
       "    </tr>\n",
       "  </tbody>\n",
       "</table>\n",
       "<p>11331 rows × 5 columns</p>\n",
       "</div>"
      ],
      "text/plain": [
       "                  distance  duration  count_trip subscription_type  \\\n",
       "month user_id                                                        \n",
       "1     1        7027.511294      42.0           2             ultra   \n",
       "      3        3061.777147      13.0           1             ultra   \n",
       "      5        3914.646990      13.0           1             ultra   \n",
       "      7        6478.080979      28.0           2             ultra   \n",
       "      12       3577.151148      33.0           1             ultra   \n",
       "...                    ...       ...         ...               ...   \n",
       "12    1525     4597.854350      34.0           1              free   \n",
       "      1526     3644.121544      23.0           1              free   \n",
       "      1528     3998.569324      11.0           1              free   \n",
       "      1532     6111.889853      42.0           2              free   \n",
       "      1534     2371.711192      16.0           1              free   \n",
       "\n",
       "               revenue_month  \n",
       "month user_id                 \n",
       "1     1                451.0  \n",
       "      3                277.0  \n",
       "      5                277.0  \n",
       "      7                367.0  \n",
       "      12               397.0  \n",
       "...                      ...  \n",
       "12    1525             322.0  \n",
       "      1526             234.0  \n",
       "      1528             138.0  \n",
       "      1532             436.0  \n",
       "      1534             178.0  \n",
       "\n",
       "[11331 rows x 5 columns]"
      ]
     },
     "execution_count": 50,
     "metadata": {},
     "output_type": "execute_result"
    }
   ],
   "source": [
    "pivot_data # выведу обновленную таблицу"
   ]
  },
  {
   "cell_type": "markdown",
   "id": "04a20495",
   "metadata": {},
   "source": [
    "<div style=\"border:solid orange 2px; padding: 20px\">   \n",
    "    \n",
    "**Вывод:**\n",
    "На данном этапе я создала новую таблицу `pivot_data` с агрегированными данными о поездках в которую добавила суммарную дистанцию, суммарное время для каждого пользователя за каждый месяц, кол-во поездок и тип подписки на основе общей таблицы `data`.\n",
    "    \n",
    "Округлила время поездок в большую сторону.\n",
    "    \n",
    "Добавила новый столбец `revenue_month` в который записала данные о выручке от каждого пользователя за месяц."
   ]
  },
  {
   "cell_type": "markdown",
   "id": "41545ac0",
   "metadata": {},
   "source": [
    "#### Шаг 6. Проверка гипотез"
   ]
  },
  {
   "cell_type": "markdown",
   "id": "fb4188a1",
   "metadata": {},
   "source": [
    "Мне необходимо проверить гипотезу, которая гласит следующее: \"Тратят ли пользователи с подпиской больше времени на поездки?\" \n",
    "Если да, то пользователи с подпиской могут быть «выгоднее» для компании. "
   ]
  },
  {
   "cell_type": "markdown",
   "id": "82e7260a",
   "metadata": {},
   "source": [
    "Для проверки данной гипотезы воспользуюсь данными о продолжительности поездок пользователей из таблицы `no_sub` для пользователей без подписки и из таблицы `ultra_sub` для пользователей с подпиской. \n",
    "\n",
    "Проверить данную гипотезу можно с помощью проверки равенства средних двух генеральных совокупностей, для этого задам нулевую и альтернативную гипотезы:\n",
    "H0 - \"Среднее время поезки пользователей с подпиской равно среднему времени поездки пользователей без подписки\".\n",
    "H1 - \"Среднее время поезки пользователей с подпиской больше среднего времени поездки пользователей без подписки\".\n",
    "Осуществлю проверку гипотезы с помощью  метода `ttest_ind`."
   ]
  },
  {
   "cell_type": "code",
   "execution_count": 51,
   "id": "23ea867b",
   "metadata": {},
   "outputs": [
    {
     "name": "stdout",
     "output_type": "stream",
     "text": [
      "p-значение: 2.4959453720736625e-34\n",
      "Отвергаем нулевую гипотезу\n"
     ]
    }
   ],
   "source": [
    "ultra = ultra_sub['duration'] \n",
    "\n",
    "free = no_sub['duration']\n",
    "\n",
    "results = st.ttest_ind(ultra, \n",
    "                       free,\n",
    "                       alternative = 'greater')\n",
    "\n",
    "alpha = 0.05\n",
    "\n",
    "print('p-значение:', results.pvalue)\n",
    "\n",
    "if results.pvalue < alpha:\n",
    "    print('Отвергаем нулевую гипотезу')\n",
    "else:\n",
    "    print('Не получилось отвергнуть нулевую гипотезу')"
   ]
  },
  {
   "cell_type": "markdown",
   "id": "03007aa9",
   "metadata": {},
   "source": [
    "В результате проведения t-теста нулевая гипотеза была отвергнута, в пользу гипотезы о том, что пользователи с подпиской тратят больше времени на поездки.   \n",
    "\n",
    "Исходя из результатов t-теста я могу сделать вывод, что пользователи с подпиской могут быть выгоднее для компании."
   ]
  },
  {
   "cell_type": "markdown",
   "id": "de68cc99",
   "metadata": {},
   "source": [
    "Далее необходимо проверить гипотезу о том, что среднее расстояние, которое проезжают пользователи с подпиской за одну поездку, не превышает 3130 метров?  \n",
    "Расстояние одной поездки в 3130 метров — оптимальное с точки зрения износа самоката.\n",
    "\n",
    "\n",
    "Для проверки данной гипотезы воспользуюсь данными о растоянии поездок пользователей из таблицы `ultra_sub`.\n",
    "\n",
    "Проверить данную гипотезу можно с помощью проведения проверки односторонних гипотез, для этого задам нулевую и альтернативную гипотезы:\n",
    "H0 - \"Среднее растояние поезки которое проезжают пользователи с подпиской за одну поездку, равняется 3130 метрам\".\n",
    "H1 - \"Среднее растояние поезки которое проезжают пользователи с подпиской за одну поездку, превышает 3130 метров\".\n",
    "Осуществлю проверку гипотезы с помощью  метода `ttest_1samp`."
   ]
  },
  {
   "cell_type": "code",
   "execution_count": 52,
   "id": "59601091",
   "metadata": {},
   "outputs": [
    {
     "name": "stdout",
     "output_type": "stream",
     "text": [
      "p-значение: 0.9195368847849785\n",
      "Не получилось отвергнуть нулевую гипотезу\n"
     ]
    }
   ],
   "source": [
    "ultra_dist = ultra_sub['distance']\n",
    "\n",
    "interested_value = 3130.0\n",
    "\n",
    "alpha = 0.05\n",
    "\n",
    "results = st.ttest_1samp(\n",
    "    ultra_dist, \n",
    "    interested_value,\n",
    "    alternative='greater')\n",
    "    \n",
    "print('p-значение:', results.pvalue)\n",
    "\n",
    "if (results.pvalue < alpha):\n",
    "    print('Отвергаем нулевую гипотезу')\n",
    "else:\n",
    "    print('Не получилось отвергнуть нулевую гипотезу')"
   ]
  },
  {
   "cell_type": "markdown",
   "id": "6eded4ed",
   "metadata": {},
   "source": [
    "В результате проведения t-теста нулевая гипотеза не была отвергнута и можно считать, что среднее растояние поезки которое проезжают пользователи с подпиской за одну поездку, не превышает 3130 метров."
   ]
  },
  {
   "cell_type": "markdown",
   "id": "f308a29a",
   "metadata": {},
   "source": [
    "Далее необходимо проверить гипотезу о том, будет ли помесячная выручка от пользователей с подпиской по месяцам выше, чем выручка от пользователей без подписки. \n",
    "\n",
    "Для проверки данной гипотезы воспользуюсь данными о выручке от пользователей по месяцам из таблицы `pivot_data`.\n",
    "\n",
    "Снова воспользуюсь методом `ttest_ind`, для этого задам нулевую и альтернативную гипотезы:\n",
    "H0 - \"Средняя выручка от пользователей с подпиской равна средней выручке от пользователей без подписки\".\n",
    "H1 - \"Средняя выручка от пользователей с подпиской больше средней выручке от пользователей без подписки\"."
   ]
  },
  {
   "cell_type": "code",
   "execution_count": 53,
   "id": "1d52290b",
   "metadata": {},
   "outputs": [
    {
     "name": "stdout",
     "output_type": "stream",
     "text": [
      "p-значение: 1.8850394384715216e-31\n",
      "Отвергаем нулевую гипотезу\n"
     ]
    }
   ],
   "source": [
    "ultra = pivot_data.loc[pivot_data.subscription_type == 'ultra', 'revenue_month'] \n",
    "\n",
    "free = pivot_data.loc[pivot_data.subscription_type == 'free', 'revenue_month'] \n",
    "\n",
    "\n",
    "results = st.ttest_ind(ultra, free, alternative = 'greater')\n",
    "\n",
    "alpha = 0.05\n",
    "\n",
    "print('p-значение:', results.pvalue)\n",
    "\n",
    "if results.pvalue < alpha:\n",
    "    print('Отвергаем нулевую гипотезу')\n",
    "else:\n",
    "    print('Не получилось отвергнуть нулевую гипотезу')"
   ]
  },
  {
   "cell_type": "markdown",
   "id": "98202037",
   "metadata": {},
   "source": [
    "В результате проведения t-теста нулевая гипотеза была отвергнута и можно считать, что пользователи с подпиской приносят компании больше денег в месяц, чем пользователи без подписки."
   ]
  },
  {
   "cell_type": "markdown",
   "id": "7d07da05",
   "metadata": {},
   "source": [
    "Представте такую ситуацию: техническая команда сервиса обновила сервера, с которыми взаимодействует мобильное приложение. Она надеется, что из-за этого количество обращений в техподдержку значимо снизилось. Некоторый файл содержит для каждого пользователя данные о количестве обращений до обновления и после него. Какой тест вам понадобился бы для проверки этой гипотезы?"
   ]
  },
  {
   "cell_type": "markdown",
   "id": "14b20615",
   "metadata": {},
   "source": [
    "Ответ:\n",
    "\n",
    "Для провреки данной гипотезы необходимо использовать гипотезу о равенстве средних для зависимых (парных) выборок.\n",
    "\n",
    "Гипотезы будут сформулированы так:\n",
    "\n",
    "H0 : μ1 = μ2правостороннюю \n",
    "H1 : μ1 > μ2\n",
    "где μ1 и μ2 - средние значения количество обращений в техподдержку до и после изменения.\n",
    "\n",
    "Для проверки такой гипотезы в Python используют метод `scipy.stats.ttest_rel()` которому передаются два парамента - наборы данных до и после изменения, а также `alternative='greater'` чтобы проверить правостороннюю гипотезу о том, что истинное среднее генеральной совокупности до изменения больше, чем истинное среднее генеральной совокупности после изменения. Следует учесть что совокупности данных должны быть одинаковыми по размеру и порядкок объектов в данных тоже будет одинаковый."
   ]
  },
  {
   "cell_type": "markdown",
   "id": "eff613dc",
   "metadata": {},
   "source": [
    "<div style=\"border:solid orange 2px; padding: 20px\">   \n",
    "    \n",
    "**Вывод:**\n",
    "В результате проверок гипотез я подтветдила гипотезу о том, что что пользователи с подпиской тратят больше времени на поездки и гипотезу о том, будет ли помесячная выручка от пользователей с подпиской по месяцам выше, чем выручка от пользователей без подписки.\n",
    "Также я отвергла гипотезу о том, что то среднее растояние поезки которое проезжают пользователи с подпиской за одну поездку, не превышает 3130 метров.\n",
    "\n",
    "На основании этого могу сделать вывод, что пользователи с подпиской приносят компании больше денег, чем пользователи без подписки.\n",
    "Также можно сделать вывод, что самокаты изнашиваются быстрее, чем рассчитано при оптимальных условиях.\n"
   ]
  },
  {
   "cell_type": "markdown",
   "id": "61213c5e",
   "metadata": {},
   "source": [
    "#### Шаг 7. Распределения"
   ]
  },
  {
   "cell_type": "markdown",
   "id": "b9c25169",
   "metadata": {},
   "source": [
    " **Задача № 1.**\n",
    "Отделу маркетинга поставили задачу: нужно провести акцию с раздачей промокодов на один бесплатный месяц подписки, в рамках которой как минимум 100 существующих клиентов должны продлить эту подписку. То есть по завершении периода действия подписки пользователь может либо отказаться от неё, либо продлить, совершив соответствующий платёж. \n",
    "Эта акция уже проводилась ранее и по итогу выяснилось, что после бесплатного пробного периода подписку продлевают -\n",
    "10 % пользователей. Выясните, какое минимальное количество промокодов нужно разослать, чтобы вероятность не выполнить план была примерно 5 %. Подберите параметры распределения, описывающего эту ситуацию, постройте график распределения и сформулируйте ответ на вопрос о количестве промокодов."
   ]
  },
  {
   "cell_type": "markdown",
   "id": "1479122d",
   "metadata": {},
   "source": [
    "С этим заданием я голову сломала, не могу понять. Я поняла только, что нам нужно найти n, мы знаем p=0.1 (это те 10%, что продлевают подписку), положительных исходов должно быть минимум 100, но я не понимаю как это обозначить и как обозначить, что вероятность выполнения плана должна быть около 95% тоже.. подскажите пожалуйста"
   ]
  },
  {
   "cell_type": "markdown",
   "id": "e0b84d99",
   "metadata": {},
   "source": [
    "**Задача № 2.**\n",
    "Отдел маркетинга рассылает клиентам push-уведомления в мобильном приложении. Клиенты могут открыть его или не открывать. Известно, что уведомления открывают около 40 % получивших клиентов. Отдел планирует разослать 1 млн уведомлений. С помощью аппроксимации постройте примерный график распределения и оцените вероятность того, что уведомление откроют не более 399,5 тыс. пользователей."
   ]
  },
  {
   "cell_type": "code",
   "execution_count": 54,
   "id": "f860cc6e",
   "metadata": {},
   "outputs": [
    {
     "name": "stdout",
     "output_type": "stream",
     "text": [
      "Вероятность того, что уведомление откроют не более 399,5 тыс. пользователей равна 15.37 %\n"
     ]
    },
    {
     "data": {
      "image/png": "[encoded data removed]",
      "text/plain": [
       "<Figure size 640x480 with 1 Axes>"
      ]
     },
     "metadata": {},
     "output_type": "display_data"
    }
   ],
   "source": [
    "# задаём параметры биномиального распределения\n",
    "n = 1000000\n",
    "p = 0.4\n",
    "\n",
    "# задаём параметры нормального распределения равными\n",
    "# мат.ожиданию и дисперсии биномиального распределения\n",
    "mu = n * p\n",
    "sigma = sqrt(n * p * (1 - p))\n",
    "\n",
    "# задаём нормальное распределение\n",
    "distr = st.norm(mu, sigma) \n",
    "\n",
    "s = np.random.normal(mu, sigma, 1000)\n",
    "\n",
    "plt.hist(s, 30, density=True)\n",
    "plt.title('График распределения')\n",
    "plt.xlabel('Кол-во открытых уведомлений')\n",
    "plt.ylabel('Вероятность');\n",
    "\n",
    "# считаем вероятность хвоста слева от 399,5 тысяч\n",
    "result = distr.cdf(399500)\n",
    "print(f'Вероятность того, что уведомление откроют не более 399,5 тыс. пользователей равна {round(result * 100, 2)} %')"
   ]
  },
  {
   "cell_type": "markdown",
   "id": "bba46379",
   "metadata": {},
   "source": [
    "<div style=\"border:solid orange 2px; padding: 20px\">   \n",
    "    \n",
    "**Общий вывод:** В ходе работы проектом я проанализировала данные и провела проверку гипотез, для того, чтобы помочь популярному сервису аренды самокатов вырасти. \n",
    "    \n",
    "Среднестатистический клиент данного сервиса - человек в возрасте около 25 лет, который проезжает за одну поездку от 2500 до 3800 метров, и среднее время поездки которого составляет от 13 до 21 минуты.\n",
    "    \n",
    "**Были проверены следующие гипотезы:**\n",
    "- Тратят ли пользователи с подпиской больше времени на поездки? \n",
    "В результате проверки я не смогла отвергнуть данную гипотезу, следовательно я могу сделать вывод, что пользователи с подпиской действительно тратят больше времени на поездки.\n",
    "- Можно ли сказать, что среднее расстояние, которое проезжают пользователи с подпиской за одну поездку, не превышает 3130 метров?  \n",
    "Данную гипотезу отвергнуть не удалось, и я могу сделать вывод, что пользователи с подпиской за одну поездку проезжают не более 3130 м , следовательно за дополнительный износ самокатов можно не переживать.\n",
    "- Будет ли помесячная выручка от пользователей с подпиской по месяцам выше, чем выручка от пользователей без подписки?\n",
    "Я не смогла отвергнуть данную гипотезу и могу сделать вывод, что пользователи с подпиской действительно приносят большую выручку, чем пользователи без подписки.\n",
    "\n",
    "\n",
    "Также в задании была представлена ситуация в которой нужно было определить, какой тест нужен для проверки следующей гипотезы:    \"Снизилось ли количество обращений в техническую поддержку после обновления серверов ?\". Для проверки данной ситуации можно воспользоваться гипотезой о равенстве средних для зависимых (парных) выборок, где к нулевой гипотезе средние значения количество обращений в техподдержку до обновления равны средним значениям количества обращений в техподдержку после обновления, а в альтернативной гипотезе средние значения первой совокупности будут больше средних значений второй совокупности. В Python для этого используют метод `scipy.stats.ttest_rel()` с параметром `alternative='greater'`.\n",
    "    \n",
    "**В ходе выполнения данного проекта я провела следующую работу:**\n",
    "- создала три датафрейма `users`, `rides` и `subscriptions` и добавила в них содержание csv-файлов;\n",
    "- вывела о них общую информацию, узнала, что в данных отсутсвуют пропуски;\n",
    "- привела столбец `date` к нужному типу данных;\n",
    "- в столбце `duration` округлила данные в большую сторону и привела столбец к типу данных `int`;\n",
    "- проверила данные на наличие явных дубликатов и удалила их;\n",
    "- узнала частоту встречаемости городов и построила круговую диаграмму на которой в процентном соотношении представила встречаемость городов в данных, узнала что процент встречаемости почти одинаковый у всех городов представленных в данных;\n",
    "- узнала что пользователей без подписки больше на 8%, для этого построила круговую диаргамму;\n",
    "- узнала информацию о возрасте пользователей, для этого использовала метод describe() и построила гистрограмму, выяснла, что средний возраст пользователя 25 лет, а большинство пользователей в возрасте от 24 до 27 лет;\n",
    "- узнала, что основном пользователи преодолевают от 2543 м до 3776 м за одну поездку, для этого воспользовалась методом describe(), построила гистрограмму и диаграмму размаха;\n",
    "- узнала среднюю продолжительность одной поездки - от 13 минут до 21 минуты, для этого использовала метод describe() и построила диаграмму размаха с помощью метода boxplot;\n",
    "- объеденила данные  о пользователях, поездках и подписках в один датафрейм с помощью метода merge();\n",
    "- создала два новых датафрейма в которых пользователи разделены по наличию подписки или ее отсутсвию;\n",
    "- построила гисторгаммы отражающие время пользования самокатом для пользователей с подпиской и без нее;\n",
    "- построила гисторгаммы отражающие расстояния поездок для пользователей с подпиской и без нее;\n",
    "- по гистограммам определила, что пользователи без подписки преодалевают чуть большие расстояния, однако время сессий у обоих категорий примерно одинаковое;\n",
    "- с помощью метода pivot_table создла таблицу в которой подсчитала суммарное расстояние, количество поездок и суммарное время и тип подписки для каждого пользователя за каждый месяц;\n",
    "- написала обственную функцию для подсчета помесячной выручки от каждого пользователя;\n",
    "- с помощью метода ttest_ind проверила первую гипотезу;\n",
    "- с помощью метода ttest_1samp проверила вторую гипотезу;\n",
    "- с помощью метода ttest_ind проверила третью гипотезу гипотезу;\n",
    "- определила, что с помощью гипотезы о равенстве средних для зависимых (парных) выборок можно проверить четвертую гипотезу.\n",
    "    \n",
    "    \n",
    "**Рекомендации заказчику:**\n",
    "\n",
    "1. Я выяснила, что пользватели с подпиской приносят больший доход, и считаю целесообразным переодически проводить компании по увеличению продаж подписок.\n",
    " \n",
    "\n",
    "    "
   ]
  }
 ],
 "metadata": {
  "ExecuteTimeLog": [
   {
    "duration": 439,
    "start_time": "2023-10-07T11:03:07.278Z"
   },
   {
    "duration": 748,
    "start_time": "2023-10-07T11:19:28.322Z"
   },
   {
    "duration": 18,
    "start_time": "2023-10-07T11:21:00.329Z"
   },
   {
    "duration": 10,
    "start_time": "2023-10-07T11:21:36.741Z"
   },
   {
    "duration": 8,
    "start_time": "2023-10-07T11:21:55.062Z"
   },
   {
    "duration": 95,
    "start_time": "2023-10-07T11:22:31.941Z"
   },
   {
    "duration": 29,
    "start_time": "2023-10-07T11:22:35.091Z"
   },
   {
    "duration": 106,
    "start_time": "2023-10-07T11:22:55.558Z"
   },
   {
    "duration": 17,
    "start_time": "2023-10-07T11:23:03.556Z"
   },
   {
    "duration": 16,
    "start_time": "2023-10-07T11:23:18.946Z"
   },
   {
    "duration": 4,
    "start_time": "2023-10-07T11:28:23.622Z"
   },
   {
    "duration": 26,
    "start_time": "2023-10-07T11:28:27.000Z"
   },
   {
    "duration": 22,
    "start_time": "2023-10-07T11:34:35.648Z"
   },
   {
    "duration": 17,
    "start_time": "2023-10-07T11:34:51.277Z"
   },
   {
    "duration": 16,
    "start_time": "2023-10-07T11:44:02.778Z"
   },
   {
    "duration": 8,
    "start_time": "2023-10-07T11:59:35.115Z"
   },
   {
    "duration": 18,
    "start_time": "2023-10-07T12:25:20.199Z"
   },
   {
    "duration": 1046,
    "start_time": "2023-10-07T12:25:29.118Z"
   },
   {
    "duration": 28,
    "start_time": "2023-10-07T12:25:30.166Z"
   },
   {
    "duration": 360,
    "start_time": "2023-10-07T12:25:30.195Z"
   },
   {
    "duration": 210,
    "start_time": "2023-10-07T12:25:30.557Z"
   },
   {
    "duration": 373,
    "start_time": "2023-10-07T12:25:30.770Z"
   },
   {
    "duration": 480,
    "start_time": "2023-10-07T12:25:31.145Z"
   },
   {
    "duration": 182,
    "start_time": "2023-10-07T12:25:31.627Z"
   },
   {
    "duration": 6,
    "start_time": "2023-10-07T12:31:32.226Z"
   },
   {
    "duration": 9,
    "start_time": "2023-10-07T12:32:05.033Z"
   },
   {
    "duration": 105,
    "start_time": "2023-10-07T12:32:44.773Z"
   },
   {
    "duration": 5,
    "start_time": "2023-10-07T12:32:49.726Z"
   },
   {
    "duration": 5,
    "start_time": "2023-10-07T12:34:25.647Z"
   },
   {
    "duration": 14,
    "start_time": "2023-10-07T12:34:45.373Z"
   },
   {
    "duration": 16,
    "start_time": "2023-10-07T12:35:08.621Z"
   },
   {
    "duration": 11,
    "start_time": "2023-10-07T12:37:54.496Z"
   },
   {
    "duration": 8,
    "start_time": "2023-10-07T12:38:20.943Z"
   },
   {
    "duration": 22,
    "start_time": "2023-10-07T12:38:48.599Z"
   },
   {
    "duration": 14,
    "start_time": "2023-10-07T12:40:36.673Z"
   },
   {
    "duration": 6,
    "start_time": "2023-10-07T12:41:00.278Z"
   },
   {
    "duration": 6,
    "start_time": "2023-10-07T12:41:10.389Z"
   },
   {
    "duration": 7,
    "start_time": "2023-10-07T12:41:10.978Z"
   },
   {
    "duration": 9,
    "start_time": "2023-10-07T12:49:52.426Z"
   },
   {
    "duration": 5,
    "start_time": "2023-10-07T12:50:05.178Z"
   },
   {
    "duration": 25,
    "start_time": "2023-10-07T12:52:33.099Z"
   },
   {
    "duration": 1106,
    "start_time": "2023-10-07T12:52:52.369Z"
   },
   {
    "duration": 29,
    "start_time": "2023-10-07T12:52:53.478Z"
   },
   {
    "duration": 27,
    "start_time": "2023-10-07T12:52:53.509Z"
   },
   {
    "duration": 25,
    "start_time": "2023-10-07T12:52:53.538Z"
   },
   {
    "duration": 18,
    "start_time": "2023-10-07T12:52:53.566Z"
   },
   {
    "duration": 17,
    "start_time": "2023-10-07T12:52:53.586Z"
   },
   {
    "duration": 11,
    "start_time": "2023-10-07T12:52:53.604Z"
   },
   {
    "duration": 18,
    "start_time": "2023-10-07T12:52:53.617Z"
   },
   {
    "duration": 33,
    "start_time": "2023-10-07T12:52:53.637Z"
   },
   {
    "duration": 26,
    "start_time": "2023-10-07T12:52:53.672Z"
   },
   {
    "duration": 40,
    "start_time": "2023-10-07T12:52:53.700Z"
   },
   {
    "duration": 112,
    "start_time": "2023-10-07T12:52:53.742Z"
   },
   {
    "duration": 114,
    "start_time": "2023-10-07T12:52:53.855Z"
   },
   {
    "duration": 25,
    "start_time": "2023-10-07T12:52:53.971Z"
   },
   {
    "duration": 31,
    "start_time": "2023-10-07T12:53:10.205Z"
   },
   {
    "duration": 5,
    "start_time": "2023-10-07T12:57:13.839Z"
   },
   {
    "duration": 19,
    "start_time": "2023-10-07T12:57:14.626Z"
   },
   {
    "duration": 9,
    "start_time": "2023-10-07T12:57:42.529Z"
   },
   {
    "duration": 23,
    "start_time": "2023-10-07T12:57:44.974Z"
   },
   {
    "duration": 5,
    "start_time": "2023-10-07T12:58:45.388Z"
   },
   {
    "duration": 31,
    "start_time": "2023-10-07T12:58:45.887Z"
   },
   {
    "duration": 7,
    "start_time": "2023-10-07T13:00:38.967Z"
   },
   {
    "duration": 20,
    "start_time": "2023-10-07T13:00:39.452Z"
   },
   {
    "duration": 9,
    "start_time": "2023-10-07T13:01:05.434Z"
   },
   {
    "duration": 1134,
    "start_time": "2023-10-07T13:01:33.964Z"
   },
   {
    "duration": 39,
    "start_time": "2023-10-07T13:01:35.100Z"
   },
   {
    "duration": 20,
    "start_time": "2023-10-07T13:01:35.141Z"
   },
   {
    "duration": 45,
    "start_time": "2023-10-07T13:01:35.163Z"
   },
   {
    "duration": 16,
    "start_time": "2023-10-07T13:01:35.212Z"
   },
   {
    "duration": 34,
    "start_time": "2023-10-07T13:01:35.231Z"
   },
   {
    "duration": 35,
    "start_time": "2023-10-07T13:01:35.267Z"
   },
   {
    "duration": 20,
    "start_time": "2023-10-07T13:01:35.306Z"
   },
   {
    "duration": 25,
    "start_time": "2023-10-07T13:01:35.328Z"
   },
   {
    "duration": 50,
    "start_time": "2023-10-07T13:01:35.355Z"
   },
   {
    "duration": 32,
    "start_time": "2023-10-07T13:01:35.408Z"
   },
   {
    "duration": 40,
    "start_time": "2023-10-07T13:01:35.442Z"
   },
   {
    "duration": 21,
    "start_time": "2023-10-07T13:01:35.484Z"
   },
   {
    "duration": 28,
    "start_time": "2023-10-07T13:01:35.508Z"
   },
   {
    "duration": 24,
    "start_time": "2023-10-07T13:01:35.538Z"
   },
   {
    "duration": 6,
    "start_time": "2023-10-07T13:02:50.380Z"
   },
   {
    "duration": 6,
    "start_time": "2023-10-07T13:02:51.557Z"
   },
   {
    "duration": 12,
    "start_time": "2023-10-07T13:05:12.755Z"
   },
   {
    "duration": 6,
    "start_time": "2023-10-07T13:18:00.747Z"
   },
   {
    "duration": 7,
    "start_time": "2023-10-07T13:18:01.764Z"
   },
   {
    "duration": 25,
    "start_time": "2023-10-07T13:20:08.001Z"
   },
   {
    "duration": 10,
    "start_time": "2023-10-07T13:20:31.745Z"
   },
   {
    "duration": 11,
    "start_time": "2023-10-07T13:20:38.129Z"
   },
   {
    "duration": 45,
    "start_time": "2023-10-08T06:21:25.488Z"
   },
   {
    "duration": 999,
    "start_time": "2023-10-08T06:21:32.584Z"
   },
   {
    "duration": 20,
    "start_time": "2023-10-08T06:21:33.585Z"
   },
   {
    "duration": 16,
    "start_time": "2023-10-08T06:21:33.606Z"
   },
   {
    "duration": 13,
    "start_time": "2023-10-08T06:21:33.624Z"
   },
   {
    "duration": 9,
    "start_time": "2023-10-08T06:21:33.638Z"
   },
   {
    "duration": 15,
    "start_time": "2023-10-08T06:21:33.649Z"
   },
   {
    "duration": 19,
    "start_time": "2023-10-08T06:21:33.665Z"
   },
   {
    "duration": 53,
    "start_time": "2023-10-08T06:21:33.685Z"
   },
   {
    "duration": 92,
    "start_time": "2023-10-08T06:21:33.740Z"
   },
   {
    "duration": 34,
    "start_time": "2023-10-08T06:21:33.834Z"
   },
   {
    "duration": 10,
    "start_time": "2023-10-08T06:21:33.870Z"
   },
   {
    "duration": 15,
    "start_time": "2023-10-08T06:21:33.882Z"
   },
   {
    "duration": 6,
    "start_time": "2023-10-08T06:21:33.898Z"
   },
   {
    "duration": 23,
    "start_time": "2023-10-08T06:21:33.905Z"
   },
   {
    "duration": 18,
    "start_time": "2023-10-08T06:21:33.930Z"
   },
   {
    "duration": 26,
    "start_time": "2023-10-08T06:21:33.950Z"
   },
   {
    "duration": 490,
    "start_time": "2023-10-08T06:23:52.849Z"
   },
   {
    "duration": 8,
    "start_time": "2023-10-08T06:24:31.739Z"
   },
   {
    "duration": 4,
    "start_time": "2023-10-08T06:24:35.096Z"
   },
   {
    "duration": 229,
    "start_time": "2023-10-08T06:24:35.683Z"
   },
   {
    "duration": 219,
    "start_time": "2023-10-08T06:25:23.069Z"
   },
   {
    "duration": 6,
    "start_time": "2023-10-08T06:25:57.642Z"
   },
   {
    "duration": 78,
    "start_time": "2023-10-08T09:08:33.660Z"
   },
   {
    "duration": 12,
    "start_time": "2023-10-08T09:08:37.911Z"
   },
   {
    "duration": 5,
    "start_time": "2023-10-08T09:08:53.713Z"
   },
   {
    "duration": 9,
    "start_time": "2023-10-08T09:11:18.474Z"
   },
   {
    "duration": 132,
    "start_time": "2023-10-08T09:11:31.865Z"
   },
   {
    "duration": 125,
    "start_time": "2023-10-08T09:11:44.365Z"
   },
   {
    "duration": 136,
    "start_time": "2023-10-08T09:11:50.561Z"
   },
   {
    "duration": 10,
    "start_time": "2023-10-08T09:13:15.166Z"
   },
   {
    "duration": 5,
    "start_time": "2023-10-08T09:13:21.900Z"
   },
   {
    "duration": 130,
    "start_time": "2023-10-08T09:16:49.289Z"
   },
   {
    "duration": 122,
    "start_time": "2023-10-08T09:20:34.600Z"
   },
   {
    "duration": 200,
    "start_time": "2023-10-08T09:20:40.243Z"
   },
   {
    "duration": 9,
    "start_time": "2023-10-08T09:28:50.065Z"
   },
   {
    "duration": 138,
    "start_time": "2023-10-08T09:29:59.104Z"
   },
   {
    "duration": 85,
    "start_time": "2023-10-08T09:30:05.290Z"
   },
   {
    "duration": 164,
    "start_time": "2023-10-08T09:31:20.438Z"
   },
   {
    "duration": 140,
    "start_time": "2023-10-08T09:31:27.527Z"
   },
   {
    "duration": 94,
    "start_time": "2023-10-08T09:35:38.501Z"
   },
   {
    "duration": 117,
    "start_time": "2023-10-08T09:35:52.117Z"
   },
   {
    "duration": 95,
    "start_time": "2023-10-08T09:36:04.986Z"
   },
   {
    "duration": 90,
    "start_time": "2023-10-08T09:36:14.283Z"
   },
   {
    "duration": 4,
    "start_time": "2023-10-08T09:36:33.084Z"
   },
   {
    "duration": 211,
    "start_time": "2023-10-08T09:37:24.616Z"
   },
   {
    "duration": 9,
    "start_time": "2023-10-08T09:40:00.837Z"
   },
   {
    "duration": 71,
    "start_time": "2023-10-08T09:40:43.784Z"
   },
   {
    "duration": 156,
    "start_time": "2023-10-08T09:40:54.558Z"
   },
   {
    "duration": 141,
    "start_time": "2023-10-08T09:41:29.099Z"
   },
   {
    "duration": 141,
    "start_time": "2023-10-08T09:41:49.694Z"
   },
   {
    "duration": 130,
    "start_time": "2023-10-08T09:42:04.433Z"
   },
   {
    "duration": 241,
    "start_time": "2023-10-08T09:42:11.195Z"
   },
   {
    "duration": 143,
    "start_time": "2023-10-08T09:42:20.907Z"
   },
   {
    "duration": 8,
    "start_time": "2023-10-08T09:43:21.685Z"
   },
   {
    "duration": 10,
    "start_time": "2023-10-08T09:43:26.900Z"
   },
   {
    "duration": 4,
    "start_time": "2023-10-08T09:43:53.733Z"
   },
   {
    "duration": 4,
    "start_time": "2023-10-08T09:44:08.592Z"
   },
   {
    "duration": 5,
    "start_time": "2023-10-08T09:44:22.813Z"
   },
   {
    "duration": 4,
    "start_time": "2023-10-08T09:44:31.992Z"
   },
   {
    "duration": 9,
    "start_time": "2023-10-08T09:45:36.818Z"
   },
   {
    "duration": 10,
    "start_time": "2023-10-08T09:49:29.304Z"
   },
   {
    "duration": 8,
    "start_time": "2023-10-08T09:50:38.810Z"
   },
   {
    "duration": 1112,
    "start_time": "2023-10-08T09:50:52.678Z"
   },
   {
    "duration": 17,
    "start_time": "2023-10-08T09:50:53.793Z"
   },
   {
    "duration": 24,
    "start_time": "2023-10-08T09:50:53.811Z"
   },
   {
    "duration": 37,
    "start_time": "2023-10-08T09:50:53.837Z"
   },
   {
    "duration": 31,
    "start_time": "2023-10-08T09:50:53.876Z"
   },
   {
    "duration": 15,
    "start_time": "2023-10-08T09:50:53.908Z"
   },
   {
    "duration": 27,
    "start_time": "2023-10-08T09:50:53.924Z"
   },
   {
    "duration": 35,
    "start_time": "2023-10-08T09:50:53.952Z"
   },
   {
    "duration": 21,
    "start_time": "2023-10-08T09:50:53.988Z"
   },
   {
    "duration": 14,
    "start_time": "2023-10-08T09:50:54.014Z"
   },
   {
    "duration": 32,
    "start_time": "2023-10-08T09:50:54.030Z"
   },
   {
    "duration": 24,
    "start_time": "2023-10-08T09:50:54.064Z"
   },
   {
    "duration": 18,
    "start_time": "2023-10-08T09:50:54.090Z"
   },
   {
    "duration": 24,
    "start_time": "2023-10-08T09:50:54.110Z"
   },
   {
    "duration": 24,
    "start_time": "2023-10-08T09:50:54.135Z"
   },
   {
    "duration": 20,
    "start_time": "2023-10-08T09:50:54.160Z"
   },
   {
    "duration": 187,
    "start_time": "2023-10-08T09:50:54.181Z"
   },
   {
    "duration": 6,
    "start_time": "2023-10-08T09:50:54.369Z"
   },
   {
    "duration": 112,
    "start_time": "2023-10-08T09:50:54.377Z"
   },
   {
    "duration": 4,
    "start_time": "2023-10-08T09:50:54.491Z"
   },
   {
    "duration": 18,
    "start_time": "2023-10-08T09:50:54.497Z"
   },
   {
    "duration": 29,
    "start_time": "2023-10-08T09:50:54.517Z"
   },
   {
    "duration": 17,
    "start_time": "2023-10-08T09:50:54.548Z"
   },
   {
    "duration": 17,
    "start_time": "2023-10-08T09:50:54.566Z"
   },
   {
    "duration": 144,
    "start_time": "2023-10-08T09:50:54.586Z"
   },
   {
    "duration": 0,
    "start_time": "2023-10-08T09:50:54.732Z"
   },
   {
    "duration": 10,
    "start_time": "2023-10-08T09:54:13.954Z"
   },
   {
    "duration": 11,
    "start_time": "2023-10-08T09:54:22.727Z"
   },
   {
    "duration": 10,
    "start_time": "2023-10-08T09:54:46.007Z"
   },
   {
    "duration": 140,
    "start_time": "2023-10-08T09:55:00.370Z"
   },
   {
    "duration": 8,
    "start_time": "2023-10-08T09:57:29.667Z"
   },
   {
    "duration": 8,
    "start_time": "2023-10-08T10:06:42.618Z"
   },
   {
    "duration": 12,
    "start_time": "2023-10-08T10:07:36.021Z"
   },
   {
    "duration": 167,
    "start_time": "2023-10-08T10:09:55.433Z"
   },
   {
    "duration": 134,
    "start_time": "2023-10-08T10:10:53.708Z"
   },
   {
    "duration": 139,
    "start_time": "2023-10-08T10:11:26.627Z"
   },
   {
    "duration": 157,
    "start_time": "2023-10-08T10:11:48.973Z"
   },
   {
    "duration": 174,
    "start_time": "2023-10-08T10:13:02.462Z"
   },
   {
    "duration": 142,
    "start_time": "2023-10-08T10:18:52.992Z"
   },
   {
    "duration": 13,
    "start_time": "2023-10-08T10:18:59.984Z"
   },
   {
    "duration": 112,
    "start_time": "2023-10-08T10:19:07.535Z"
   },
   {
    "duration": 21,
    "start_time": "2023-10-08T10:27:08.832Z"
   },
   {
    "duration": 224,
    "start_time": "2023-10-08T10:27:14.868Z"
   },
   {
    "duration": 8,
    "start_time": "2023-10-08T10:34:04.895Z"
   },
   {
    "duration": 102,
    "start_time": "2023-10-08T10:35:32.743Z"
   },
   {
    "duration": 96,
    "start_time": "2023-10-08T10:38:17.277Z"
   },
   {
    "duration": 10,
    "start_time": "2023-10-08T11:14:14.595Z"
   },
   {
    "duration": 20,
    "start_time": "2023-10-08T11:15:33.845Z"
   },
   {
    "duration": 11,
    "start_time": "2023-10-08T11:15:45.903Z"
   },
   {
    "duration": 11,
    "start_time": "2023-10-08T11:15:49.390Z"
   },
   {
    "duration": 15,
    "start_time": "2023-10-08T11:18:28.860Z"
   },
   {
    "duration": 36,
    "start_time": "2023-10-08T11:18:45.624Z"
   },
   {
    "duration": 20,
    "start_time": "2023-10-08T11:19:23.488Z"
   },
   {
    "duration": 26,
    "start_time": "2023-10-08T11:20:03.540Z"
   },
   {
    "duration": 25,
    "start_time": "2023-10-08T11:22:08.568Z"
   },
   {
    "duration": 211,
    "start_time": "2023-10-08T11:24:34.745Z"
   },
   {
    "duration": 202,
    "start_time": "2023-10-08T11:25:00.391Z"
   },
   {
    "duration": 208,
    "start_time": "2023-10-08T11:25:18.306Z"
   },
   {
    "duration": 245,
    "start_time": "2023-10-08T11:25:38.290Z"
   },
   {
    "duration": 184,
    "start_time": "2023-10-08T11:26:45.820Z"
   },
   {
    "duration": 12,
    "start_time": "2023-10-08T11:30:37.117Z"
   },
   {
    "duration": 197,
    "start_time": "2023-10-08T11:30:45.897Z"
   },
   {
    "duration": 9,
    "start_time": "2023-10-08T11:33:06.285Z"
   },
   {
    "duration": 213,
    "start_time": "2023-10-08T11:40:58.269Z"
   },
   {
    "duration": 167,
    "start_time": "2023-10-08T11:41:22.835Z"
   },
   {
    "duration": 182,
    "start_time": "2023-10-08T11:42:21.462Z"
   },
   {
    "duration": 16,
    "start_time": "2023-10-08T11:56:56.804Z"
   },
   {
    "duration": 1210,
    "start_time": "2023-10-08T11:57:51.561Z"
   },
   {
    "duration": 18,
    "start_time": "2023-10-08T11:57:52.773Z"
   },
   {
    "duration": 28,
    "start_time": "2023-10-08T11:57:52.792Z"
   },
   {
    "duration": 29,
    "start_time": "2023-10-08T11:57:52.822Z"
   },
   {
    "duration": 14,
    "start_time": "2023-10-08T11:57:52.855Z"
   },
   {
    "duration": 15,
    "start_time": "2023-10-08T11:57:52.871Z"
   },
   {
    "duration": 18,
    "start_time": "2023-10-08T11:57:52.888Z"
   },
   {
    "duration": 14,
    "start_time": "2023-10-08T11:57:52.907Z"
   },
   {
    "duration": 29,
    "start_time": "2023-10-08T11:57:52.923Z"
   },
   {
    "duration": 12,
    "start_time": "2023-10-08T11:57:52.960Z"
   },
   {
    "duration": 14,
    "start_time": "2023-10-08T11:57:52.974Z"
   },
   {
    "duration": 16,
    "start_time": "2023-10-08T11:57:52.989Z"
   },
   {
    "duration": 17,
    "start_time": "2023-10-08T11:57:53.006Z"
   },
   {
    "duration": 15,
    "start_time": "2023-10-08T11:57:53.026Z"
   },
   {
    "duration": 23,
    "start_time": "2023-10-08T11:57:53.042Z"
   },
   {
    "duration": 19,
    "start_time": "2023-10-08T11:57:53.066Z"
   },
   {
    "duration": 164,
    "start_time": "2023-10-08T11:57:53.086Z"
   },
   {
    "duration": 6,
    "start_time": "2023-10-08T11:57:53.259Z"
   },
   {
    "duration": 76,
    "start_time": "2023-10-08T11:57:53.267Z"
   },
   {
    "duration": 19,
    "start_time": "2023-10-08T11:57:53.344Z"
   },
   {
    "duration": 9,
    "start_time": "2023-10-08T11:57:53.365Z"
   },
   {
    "duration": 142,
    "start_time": "2023-10-08T11:57:53.376Z"
   },
   {
    "duration": 9,
    "start_time": "2023-10-08T11:57:53.519Z"
   },
   {
    "duration": 149,
    "start_time": "2023-10-08T11:57:53.529Z"
   },
   {
    "duration": 106,
    "start_time": "2023-10-08T11:57:53.679Z"
   },
   {
    "duration": 7,
    "start_time": "2023-10-08T11:57:53.786Z"
   },
   {
    "duration": 111,
    "start_time": "2023-10-08T11:57:53.794Z"
   },
   {
    "duration": 10,
    "start_time": "2023-10-08T11:57:53.907Z"
   },
   {
    "duration": 19,
    "start_time": "2023-10-08T11:57:53.918Z"
   },
   {
    "duration": 28,
    "start_time": "2023-10-08T11:57:53.939Z"
   },
   {
    "duration": 15,
    "start_time": "2023-10-08T11:57:53.969Z"
   },
   {
    "duration": 32,
    "start_time": "2023-10-08T11:57:53.985Z"
   },
   {
    "duration": 193,
    "start_time": "2023-10-08T11:57:54.018Z"
   },
   {
    "duration": 179,
    "start_time": "2023-10-08T11:57:54.213Z"
   },
   {
    "duration": 208,
    "start_time": "2023-10-08T11:57:54.393Z"
   },
   {
    "duration": 184,
    "start_time": "2023-10-08T11:57:54.602Z"
   },
   {
    "duration": 891,
    "start_time": "2023-10-08T11:57:54.788Z"
   },
   {
    "duration": 16,
    "start_time": "2023-10-08T11:58:05.613Z"
   },
   {
    "duration": 764,
    "start_time": "2023-10-08T12:01:27.228Z"
   },
   {
    "duration": 18,
    "start_time": "2023-10-08T12:01:31.279Z"
   },
   {
    "duration": 820,
    "start_time": "2023-10-08T12:06:12.845Z"
   },
   {
    "duration": 13,
    "start_time": "2023-10-08T12:06:13.667Z"
   },
   {
    "duration": 3,
    "start_time": "2023-10-08T12:08:25.698Z"
   },
   {
    "duration": 15,
    "start_time": "2023-10-08T12:08:26.175Z"
   },
   {
    "duration": 3,
    "start_time": "2023-10-08T12:09:22.761Z"
   },
   {
    "duration": 21,
    "start_time": "2023-10-08T12:09:23.347Z"
   },
   {
    "duration": 104,
    "start_time": "2023-10-08T12:10:13.856Z"
   },
   {
    "duration": 4,
    "start_time": "2023-10-08T12:10:14.251Z"
   },
   {
    "duration": 906,
    "start_time": "2023-10-08T12:12:05.538Z"
   },
   {
    "duration": 4,
    "start_time": "2023-10-08T12:12:07.261Z"
   },
   {
    "duration": 5,
    "start_time": "2023-10-08T12:12:07.617Z"
   },
   {
    "duration": 850,
    "start_time": "2023-10-08T12:12:24.625Z"
   },
   {
    "duration": 3,
    "start_time": "2023-10-08T12:12:25.477Z"
   },
   {
    "duration": 4,
    "start_time": "2023-10-08T12:12:25.930Z"
   },
   {
    "duration": 19,
    "start_time": "2023-10-08T12:12:27.061Z"
   },
   {
    "duration": 16,
    "start_time": "2023-10-08T12:13:57.201Z"
   },
   {
    "duration": 3,
    "start_time": "2023-10-08T12:13:57.565Z"
   },
   {
    "duration": 6,
    "start_time": "2023-10-08T12:13:58.062Z"
   },
   {
    "duration": 16,
    "start_time": "2023-10-08T12:13:59.117Z"
   },
   {
    "duration": 16,
    "start_time": "2023-10-08T12:15:30.869Z"
   },
   {
    "duration": 5,
    "start_time": "2023-10-08T12:16:52.777Z"
   },
   {
    "duration": 4,
    "start_time": "2023-10-08T12:17:01.412Z"
   },
   {
    "duration": 843,
    "start_time": "2023-10-08T12:17:05.214Z"
   },
   {
    "duration": 8,
    "start_time": "2023-10-08T12:17:06.061Z"
   },
   {
    "duration": 5,
    "start_time": "2023-10-08T12:17:06.292Z"
   },
   {
    "duration": 20,
    "start_time": "2023-10-08T12:17:06.835Z"
   },
   {
    "duration": 9,
    "start_time": "2023-10-08T12:19:22.577Z"
   },
   {
    "duration": 4,
    "start_time": "2023-10-08T12:19:28.008Z"
   },
   {
    "duration": 18,
    "start_time": "2023-10-08T12:19:29.127Z"
   },
   {
    "duration": 4,
    "start_time": "2023-10-08T12:26:46.566Z"
   },
   {
    "duration": 84,
    "start_time": "2023-10-08T12:27:29.393Z"
   },
   {
    "duration": 4,
    "start_time": "2023-10-08T12:28:33.676Z"
   },
   {
    "duration": 16,
    "start_time": "2023-10-08T12:28:35.263Z"
   },
   {
    "duration": 3,
    "start_time": "2023-10-08T12:28:49.808Z"
   },
   {
    "duration": 133,
    "start_time": "2023-10-08T12:28:50.148Z"
   },
   {
    "duration": 18,
    "start_time": "2023-10-08T12:28:58.125Z"
   },
   {
    "duration": 8,
    "start_time": "2023-10-08T13:55:47.116Z"
   },
   {
    "duration": 40,
    "start_time": "2023-10-08T13:55:47.562Z"
   },
   {
    "duration": 1797,
    "start_time": "2023-10-08T13:55:53.566Z"
   },
   {
    "duration": 30,
    "start_time": "2023-10-08T13:55:55.367Z"
   },
   {
    "duration": 27,
    "start_time": "2023-10-08T13:55:55.399Z"
   },
   {
    "duration": 63,
    "start_time": "2023-10-08T13:55:55.428Z"
   },
   {
    "duration": 44,
    "start_time": "2023-10-08T13:55:55.493Z"
   },
   {
    "duration": 33,
    "start_time": "2023-10-08T13:55:55.539Z"
   },
   {
    "duration": 65,
    "start_time": "2023-10-08T13:55:55.574Z"
   },
   {
    "duration": 18,
    "start_time": "2023-10-08T13:55:55.641Z"
   },
   {
    "duration": 61,
    "start_time": "2023-10-08T13:55:55.661Z"
   },
   {
    "duration": 42,
    "start_time": "2023-10-08T13:55:55.726Z"
   },
   {
    "duration": 54,
    "start_time": "2023-10-08T13:55:55.769Z"
   },
   {
    "duration": 47,
    "start_time": "2023-10-08T13:55:55.825Z"
   },
   {
    "duration": 29,
    "start_time": "2023-10-08T13:55:55.874Z"
   },
   {
    "duration": 44,
    "start_time": "2023-10-08T13:55:55.905Z"
   },
   {
    "duration": 45,
    "start_time": "2023-10-08T13:55:55.951Z"
   },
   {
    "duration": 40,
    "start_time": "2023-10-08T13:55:55.998Z"
   },
   {
    "duration": 263,
    "start_time": "2023-10-08T13:55:56.040Z"
   },
   {
    "duration": 8,
    "start_time": "2023-10-08T13:55:56.306Z"
   },
   {
    "duration": 112,
    "start_time": "2023-10-08T13:55:56.316Z"
   },
   {
    "duration": 14,
    "start_time": "2023-10-08T13:55:56.430Z"
   },
   {
    "duration": 35,
    "start_time": "2023-10-08T13:55:56.446Z"
   },
   {
    "duration": 168,
    "start_time": "2023-10-08T13:55:56.482Z"
   },
   {
    "duration": 10,
    "start_time": "2023-10-08T13:55:56.651Z"
   },
   {
    "duration": 171,
    "start_time": "2023-10-08T13:55:56.662Z"
   },
   {
    "duration": 146,
    "start_time": "2023-10-08T13:55:56.835Z"
   },
   {
    "duration": 11,
    "start_time": "2023-10-08T13:55:56.982Z"
   },
   {
    "duration": 118,
    "start_time": "2023-10-08T13:55:56.995Z"
   },
   {
    "duration": 12,
    "start_time": "2023-10-08T13:55:57.117Z"
   },
   {
    "duration": 31,
    "start_time": "2023-10-08T13:55:57.131Z"
   },
   {
    "duration": 19,
    "start_time": "2023-10-08T13:55:57.164Z"
   },
   {
    "duration": 46,
    "start_time": "2023-10-08T13:55:57.184Z"
   },
   {
    "duration": 26,
    "start_time": "2023-10-08T13:55:57.231Z"
   },
   {
    "duration": 228,
    "start_time": "2023-10-08T13:55:57.258Z"
   },
   {
    "duration": 208,
    "start_time": "2023-10-08T13:55:57.487Z"
   },
   {
    "duration": 271,
    "start_time": "2023-10-08T13:55:57.697Z"
   },
   {
    "duration": 194,
    "start_time": "2023-10-08T13:55:57.970Z"
   },
   {
    "duration": 897,
    "start_time": "2023-10-08T13:55:58.167Z"
   },
   {
    "duration": 5,
    "start_time": "2023-10-08T13:55:59.066Z"
   },
   {
    "duration": 17,
    "start_time": "2023-10-08T13:55:59.072Z"
   },
   {
    "duration": 107,
    "start_time": "2023-10-08T13:55:59.091Z"
   },
   {
    "duration": 19,
    "start_time": "2023-10-08T13:55:59.200Z"
   },
   {
    "duration": 179,
    "start_time": "2023-10-08T13:55:59.221Z"
   },
   {
    "duration": 16,
    "start_time": "2023-10-08T13:55:59.402Z"
   },
   {
    "duration": 5,
    "start_time": "2023-10-08T13:58:08.261Z"
   },
   {
    "duration": 4,
    "start_time": "2023-10-08T13:58:29.161Z"
   },
   {
    "duration": 132,
    "start_time": "2023-10-08T13:58:29.571Z"
   },
   {
    "duration": 19,
    "start_time": "2023-10-08T13:58:30.150Z"
   },
   {
    "duration": 19,
    "start_time": "2023-10-08T14:23:55.028Z"
   },
   {
    "duration": 5,
    "start_time": "2023-10-08T14:28:40.087Z"
   },
   {
    "duration": 5,
    "start_time": "2023-10-08T14:34:42.171Z"
   },
   {
    "duration": 6,
    "start_time": "2023-10-08T14:35:42.073Z"
   },
   {
    "duration": 771,
    "start_time": "2023-10-08T14:37:09.620Z"
   },
   {
    "duration": 791,
    "start_time": "2023-10-08T14:38:06.205Z"
   },
   {
    "duration": 759,
    "start_time": "2023-10-08T14:38:13.541Z"
   },
   {
    "duration": 763,
    "start_time": "2023-10-08T14:38:22.905Z"
   },
   {
    "duration": 6,
    "start_time": "2023-10-08T14:40:29.605Z"
   },
   {
    "duration": 5,
    "start_time": "2023-10-08T14:41:27.226Z"
   },
   {
    "duration": 6,
    "start_time": "2023-10-08T14:57:48.286Z"
   },
   {
    "duration": 9,
    "start_time": "2023-10-08T15:14:19.176Z"
   },
   {
    "duration": 1174,
    "start_time": "2023-10-08T15:21:38.577Z"
   },
   {
    "duration": 26,
    "start_time": "2023-10-08T15:21:39.752Z"
   },
   {
    "duration": 21,
    "start_time": "2023-10-08T15:21:39.780Z"
   },
   {
    "duration": 47,
    "start_time": "2023-10-08T15:21:39.802Z"
   },
   {
    "duration": 20,
    "start_time": "2023-10-08T15:21:39.850Z"
   },
   {
    "duration": 10,
    "start_time": "2023-10-08T15:21:39.872Z"
   },
   {
    "duration": 13,
    "start_time": "2023-10-08T15:21:39.884Z"
   },
   {
    "duration": 16,
    "start_time": "2023-10-08T15:21:39.899Z"
   },
   {
    "duration": 11,
    "start_time": "2023-10-08T15:21:39.917Z"
   },
   {
    "duration": 11,
    "start_time": "2023-10-08T15:21:39.932Z"
   },
   {
    "duration": 14,
    "start_time": "2023-10-08T15:21:39.945Z"
   },
   {
    "duration": 16,
    "start_time": "2023-10-08T15:21:39.961Z"
   },
   {
    "duration": 12,
    "start_time": "2023-10-08T15:21:39.979Z"
   },
   {
    "duration": 112,
    "start_time": "2023-10-08T15:21:39.993Z"
   },
   {
    "duration": 97,
    "start_time": "2023-10-08T15:21:40.107Z"
   },
   {
    "duration": 41,
    "start_time": "2023-10-08T15:21:40.206Z"
   },
   {
    "duration": 244,
    "start_time": "2023-10-08T15:21:40.250Z"
   },
   {
    "duration": 7,
    "start_time": "2023-10-08T15:21:40.497Z"
   },
   {
    "duration": 137,
    "start_time": "2023-10-08T15:21:40.505Z"
   },
   {
    "duration": 7,
    "start_time": "2023-10-08T15:21:40.644Z"
   },
   {
    "duration": 22,
    "start_time": "2023-10-08T15:21:40.653Z"
   },
   {
    "duration": 171,
    "start_time": "2023-10-08T15:21:40.677Z"
   },
   {
    "duration": 8,
    "start_time": "2023-10-08T15:21:40.849Z"
   },
   {
    "duration": 310,
    "start_time": "2023-10-08T15:21:40.859Z"
   },
   {
    "duration": 112,
    "start_time": "2023-10-08T15:21:41.170Z"
   },
   {
    "duration": 10,
    "start_time": "2023-10-08T15:21:41.284Z"
   },
   {
    "duration": 176,
    "start_time": "2023-10-08T15:21:41.296Z"
   },
   {
    "duration": 12,
    "start_time": "2023-10-08T15:21:41.476Z"
   },
   {
    "duration": 12,
    "start_time": "2023-10-08T15:21:41.489Z"
   },
   {
    "duration": 28,
    "start_time": "2023-10-08T15:21:41.502Z"
   },
   {
    "duration": 33,
    "start_time": "2023-10-08T15:21:41.532Z"
   },
   {
    "duration": 19,
    "start_time": "2023-10-08T15:21:41.566Z"
   },
   {
    "duration": 211,
    "start_time": "2023-10-08T15:21:41.587Z"
   },
   {
    "duration": 177,
    "start_time": "2023-10-08T15:21:41.800Z"
   },
   {
    "duration": 198,
    "start_time": "2023-10-08T15:21:41.979Z"
   },
   {
    "duration": 173,
    "start_time": "2023-10-08T15:21:42.179Z"
   },
   {
    "duration": 804,
    "start_time": "2023-10-08T15:21:42.354Z"
   },
   {
    "duration": 3,
    "start_time": "2023-10-08T15:21:43.160Z"
   },
   {
    "duration": 23,
    "start_time": "2023-10-08T15:21:43.165Z"
   },
   {
    "duration": 106,
    "start_time": "2023-10-08T15:21:43.190Z"
   },
   {
    "duration": 5,
    "start_time": "2023-10-08T15:21:43.297Z"
   },
   {
    "duration": 181,
    "start_time": "2023-10-08T15:21:43.304Z"
   },
   {
    "duration": 17,
    "start_time": "2023-10-08T15:21:43.487Z"
   },
   {
    "duration": 29,
    "start_time": "2023-10-08T15:21:43.506Z"
   },
   {
    "duration": 23,
    "start_time": "2023-10-08T15:21:43.537Z"
   },
   {
    "duration": 18,
    "start_time": "2023-10-08T15:21:43.562Z"
   },
   {
    "duration": 98,
    "start_time": "2023-10-08T15:54:59.903Z"
   },
   {
    "duration": 6,
    "start_time": "2023-10-08T15:55:14.245Z"
   },
   {
    "duration": 6,
    "start_time": "2023-10-08T15:56:35.099Z"
   },
   {
    "duration": 8,
    "start_time": "2023-10-08T15:56:56.126Z"
   },
   {
    "duration": 14,
    "start_time": "2023-10-08T15:59:57.668Z"
   },
   {
    "duration": 6,
    "start_time": "2023-10-08T16:05:03.191Z"
   },
   {
    "duration": 1281,
    "start_time": "2023-10-08T16:25:36.909Z"
   },
   {
    "duration": 19,
    "start_time": "2023-10-08T16:25:38.192Z"
   },
   {
    "duration": 22,
    "start_time": "2023-10-08T16:25:38.213Z"
   },
   {
    "duration": 21,
    "start_time": "2023-10-08T16:25:38.237Z"
   },
   {
    "duration": 10,
    "start_time": "2023-10-08T16:25:38.261Z"
   },
   {
    "duration": 11,
    "start_time": "2023-10-08T16:25:38.273Z"
   },
   {
    "duration": 9,
    "start_time": "2023-10-08T16:25:38.285Z"
   },
   {
    "duration": 12,
    "start_time": "2023-10-08T16:25:38.295Z"
   },
   {
    "duration": 24,
    "start_time": "2023-10-08T16:25:38.308Z"
   },
   {
    "duration": 19,
    "start_time": "2023-10-08T16:25:38.333Z"
   },
   {
    "duration": 28,
    "start_time": "2023-10-08T16:25:38.353Z"
   },
   {
    "duration": 22,
    "start_time": "2023-10-08T16:25:38.383Z"
   },
   {
    "duration": 26,
    "start_time": "2023-10-08T16:25:38.407Z"
   },
   {
    "duration": 19,
    "start_time": "2023-10-08T16:25:38.436Z"
   },
   {
    "duration": 31,
    "start_time": "2023-10-08T16:25:38.457Z"
   },
   {
    "duration": 15,
    "start_time": "2023-10-08T16:25:38.489Z"
   },
   {
    "duration": 173,
    "start_time": "2023-10-08T16:25:38.505Z"
   },
   {
    "duration": 5,
    "start_time": "2023-10-08T16:25:38.680Z"
   },
   {
    "duration": 100,
    "start_time": "2023-10-08T16:25:38.686Z"
   },
   {
    "duration": 4,
    "start_time": "2023-10-08T16:25:38.788Z"
   },
   {
    "duration": 42,
    "start_time": "2023-10-08T16:25:38.794Z"
   },
   {
    "duration": 203,
    "start_time": "2023-10-08T16:25:38.838Z"
   },
   {
    "duration": 10,
    "start_time": "2023-10-08T16:25:39.043Z"
   },
   {
    "duration": 171,
    "start_time": "2023-10-08T16:25:39.054Z"
   },
   {
    "duration": 114,
    "start_time": "2023-10-08T16:25:39.226Z"
   },
   {
    "duration": 15,
    "start_time": "2023-10-08T16:25:39.341Z"
   },
   {
    "duration": 190,
    "start_time": "2023-10-08T16:25:39.358Z"
   },
   {
    "duration": 16,
    "start_time": "2023-10-08T16:25:39.551Z"
   },
   {
    "duration": 74,
    "start_time": "2023-10-08T16:25:39.569Z"
   },
   {
    "duration": 12,
    "start_time": "2023-10-08T16:25:39.644Z"
   },
   {
    "duration": 26,
    "start_time": "2023-10-08T16:25:39.659Z"
   },
   {
    "duration": 30,
    "start_time": "2023-10-08T16:25:39.687Z"
   },
   {
    "duration": 242,
    "start_time": "2023-10-08T16:25:39.719Z"
   },
   {
    "duration": 165,
    "start_time": "2023-10-08T16:25:39.963Z"
   },
   {
    "duration": 172,
    "start_time": "2023-10-08T16:25:40.130Z"
   },
   {
    "duration": 193,
    "start_time": "2023-10-08T16:25:40.304Z"
   },
   {
    "duration": 806,
    "start_time": "2023-10-08T16:25:40.499Z"
   },
   {
    "duration": 3,
    "start_time": "2023-10-08T16:25:41.307Z"
   },
   {
    "duration": 39,
    "start_time": "2023-10-08T16:25:41.311Z"
   },
   {
    "duration": 88,
    "start_time": "2023-10-08T16:25:41.352Z"
   },
   {
    "duration": 12,
    "start_time": "2023-10-08T16:25:41.445Z"
   },
   {
    "duration": 146,
    "start_time": "2023-10-08T16:25:41.458Z"
   },
   {
    "duration": 19,
    "start_time": "2023-10-08T16:25:41.606Z"
   },
   {
    "duration": 22,
    "start_time": "2023-10-08T16:25:41.627Z"
   },
   {
    "duration": 47,
    "start_time": "2023-10-08T16:25:41.651Z"
   },
   {
    "duration": 43,
    "start_time": "2023-10-08T16:25:41.699Z"
   },
   {
    "duration": 1495,
    "start_time": "2023-10-09T06:24:19.199Z"
   },
   {
    "duration": 21,
    "start_time": "2023-10-09T06:24:20.696Z"
   },
   {
    "duration": 18,
    "start_time": "2023-10-09T06:24:20.719Z"
   },
   {
    "duration": 33,
    "start_time": "2023-10-09T06:24:20.738Z"
   },
   {
    "duration": 15,
    "start_time": "2023-10-09T06:24:20.774Z"
   },
   {
    "duration": 17,
    "start_time": "2023-10-09T06:24:20.791Z"
   },
   {
    "duration": 44,
    "start_time": "2023-10-09T06:24:20.810Z"
   },
   {
    "duration": 32,
    "start_time": "2023-10-09T06:24:20.855Z"
   },
   {
    "duration": 29,
    "start_time": "2023-10-09T06:24:20.889Z"
   },
   {
    "duration": 36,
    "start_time": "2023-10-09T06:24:20.919Z"
   },
   {
    "duration": 24,
    "start_time": "2023-10-09T06:24:20.956Z"
   },
   {
    "duration": 33,
    "start_time": "2023-10-09T06:24:20.982Z"
   },
   {
    "duration": 22,
    "start_time": "2023-10-09T06:24:21.016Z"
   },
   {
    "duration": 30,
    "start_time": "2023-10-09T06:24:21.041Z"
   },
   {
    "duration": 42,
    "start_time": "2023-10-09T06:24:21.073Z"
   },
   {
    "duration": 33,
    "start_time": "2023-10-09T06:24:21.116Z"
   },
   {
    "duration": 173,
    "start_time": "2023-10-09T06:24:21.150Z"
   },
   {
    "duration": 5,
    "start_time": "2023-10-09T06:24:21.325Z"
   },
   {
    "duration": 114,
    "start_time": "2023-10-09T06:24:21.331Z"
   },
   {
    "duration": 4,
    "start_time": "2023-10-09T06:24:21.446Z"
   },
   {
    "duration": 36,
    "start_time": "2023-10-09T06:24:21.451Z"
   },
   {
    "duration": 173,
    "start_time": "2023-10-09T06:24:21.488Z"
   },
   {
    "duration": 9,
    "start_time": "2023-10-09T06:24:21.663Z"
   },
   {
    "duration": 175,
    "start_time": "2023-10-09T06:24:21.673Z"
   },
   {
    "duration": 115,
    "start_time": "2023-10-09T06:24:21.849Z"
   },
   {
    "duration": 9,
    "start_time": "2023-10-09T06:24:21.966Z"
   },
   {
    "duration": 121,
    "start_time": "2023-10-09T06:24:21.976Z"
   },
   {
    "duration": 11,
    "start_time": "2023-10-09T06:24:22.099Z"
   },
   {
    "duration": 33,
    "start_time": "2023-10-09T06:24:22.112Z"
   },
   {
    "duration": 20,
    "start_time": "2023-10-09T06:24:22.147Z"
   },
   {
    "duration": 33,
    "start_time": "2023-10-09T06:24:22.168Z"
   },
   {
    "duration": 19,
    "start_time": "2023-10-09T06:24:22.203Z"
   },
   {
    "duration": 186,
    "start_time": "2023-10-09T06:24:22.223Z"
   },
   {
    "duration": 184,
    "start_time": "2023-10-09T06:24:22.411Z"
   },
   {
    "duration": 186,
    "start_time": "2023-10-09T06:24:22.597Z"
   },
   {
    "duration": 183,
    "start_time": "2023-10-09T06:24:22.784Z"
   },
   {
    "duration": 829,
    "start_time": "2023-10-09T06:24:22.969Z"
   },
   {
    "duration": 6,
    "start_time": "2023-10-09T06:24:23.800Z"
   },
   {
    "duration": 35,
    "start_time": "2023-10-09T06:24:23.808Z"
   },
   {
    "duration": 101,
    "start_time": "2023-10-09T06:24:23.845Z"
   },
   {
    "duration": 30,
    "start_time": "2023-10-09T06:24:23.949Z"
   },
   {
    "duration": 168,
    "start_time": "2023-10-09T06:24:23.980Z"
   },
   {
    "duration": 16,
    "start_time": "2023-10-09T06:24:24.150Z"
   },
   {
    "duration": 38,
    "start_time": "2023-10-09T06:24:24.167Z"
   },
   {
    "duration": 30,
    "start_time": "2023-10-09T06:24:24.207Z"
   },
   {
    "duration": 37,
    "start_time": "2023-10-09T06:24:24.238Z"
   },
   {
    "duration": 224,
    "start_time": "2023-10-09T06:34:01.211Z"
   },
   {
    "duration": 6,
    "start_time": "2023-10-09T06:39:37.409Z"
   },
   {
    "duration": 5,
    "start_time": "2023-10-09T06:41:42.089Z"
   },
   {
    "duration": 1259,
    "start_time": "2023-10-09T09:46:38.995Z"
   },
   {
    "duration": 21,
    "start_time": "2023-10-09T09:46:40.256Z"
   },
   {
    "duration": 33,
    "start_time": "2023-10-09T09:46:40.278Z"
   },
   {
    "duration": 18,
    "start_time": "2023-10-09T09:46:40.313Z"
   },
   {
    "duration": 10,
    "start_time": "2023-10-09T09:46:40.332Z"
   },
   {
    "duration": 22,
    "start_time": "2023-10-09T09:46:40.343Z"
   },
   {
    "duration": 17,
    "start_time": "2023-10-09T09:46:40.366Z"
   },
   {
    "duration": 5,
    "start_time": "2023-10-09T09:46:40.385Z"
   },
   {
    "duration": 8,
    "start_time": "2023-10-09T09:46:40.391Z"
   },
   {
    "duration": 10,
    "start_time": "2023-10-09T09:46:40.401Z"
   },
   {
    "duration": 12,
    "start_time": "2023-10-09T09:46:40.413Z"
   },
   {
    "duration": 9,
    "start_time": "2023-10-09T09:46:40.427Z"
   },
   {
    "duration": 18,
    "start_time": "2023-10-09T09:46:40.437Z"
   },
   {
    "duration": 11,
    "start_time": "2023-10-09T09:46:40.456Z"
   },
   {
    "duration": 17,
    "start_time": "2023-10-09T09:46:40.469Z"
   },
   {
    "duration": 8,
    "start_time": "2023-10-09T09:46:40.488Z"
   },
   {
    "duration": 281,
    "start_time": "2023-10-09T09:46:40.498Z"
   },
   {
    "duration": 5,
    "start_time": "2023-10-09T09:46:40.781Z"
   },
   {
    "duration": 163,
    "start_time": "2023-10-09T09:46:40.787Z"
   },
   {
    "duration": 9,
    "start_time": "2023-10-09T09:46:40.952Z"
   },
   {
    "duration": 17,
    "start_time": "2023-10-09T09:46:40.962Z"
   },
   {
    "duration": 154,
    "start_time": "2023-10-09T09:46:40.980Z"
   },
   {
    "duration": 22,
    "start_time": "2023-10-09T09:46:41.136Z"
   },
   {
    "duration": 154,
    "start_time": "2023-10-09T09:46:41.159Z"
   },
   {
    "duration": 122,
    "start_time": "2023-10-09T09:46:41.314Z"
   },
   {
    "duration": 23,
    "start_time": "2023-10-09T09:46:41.437Z"
   },
   {
    "duration": 134,
    "start_time": "2023-10-09T09:46:41.462Z"
   },
   {
    "duration": 12,
    "start_time": "2023-10-09T09:46:41.599Z"
   },
   {
    "duration": 10,
    "start_time": "2023-10-09T09:46:41.612Z"
   },
   {
    "duration": 31,
    "start_time": "2023-10-09T09:46:41.624Z"
   },
   {
    "duration": 22,
    "start_time": "2023-10-09T09:46:41.660Z"
   },
   {
    "duration": 18,
    "start_time": "2023-10-09T09:46:41.684Z"
   },
   {
    "duration": 217,
    "start_time": "2023-10-09T09:46:41.704Z"
   },
   {
    "duration": 194,
    "start_time": "2023-10-09T09:46:41.922Z"
   },
   {
    "duration": 184,
    "start_time": "2023-10-09T09:46:42.117Z"
   },
   {
    "duration": 186,
    "start_time": "2023-10-09T09:46:42.303Z"
   },
   {
    "duration": 907,
    "start_time": "2023-10-09T09:46:42.491Z"
   },
   {
    "duration": 4,
    "start_time": "2023-10-09T09:46:43.399Z"
   },
   {
    "duration": 23,
    "start_time": "2023-10-09T09:46:43.404Z"
   },
   {
    "duration": 108,
    "start_time": "2023-10-09T09:46:43.429Z"
   },
   {
    "duration": 17,
    "start_time": "2023-10-09T09:46:43.539Z"
   },
   {
    "duration": 120,
    "start_time": "2023-10-09T09:46:43.558Z"
   },
   {
    "duration": 17,
    "start_time": "2023-10-09T09:46:43.680Z"
   },
   {
    "duration": 31,
    "start_time": "2023-10-09T09:46:43.699Z"
   },
   {
    "duration": 11,
    "start_time": "2023-10-09T09:46:43.731Z"
   },
   {
    "duration": 22,
    "start_time": "2023-10-09T09:46:43.744Z"
   },
   {
    "duration": 99,
    "start_time": "2023-10-09T09:46:43.768Z"
   },
   {
    "duration": 6,
    "start_time": "2023-10-09T09:56:03.560Z"
   },
   {
    "duration": 7,
    "start_time": "2023-10-09T10:00:34.524Z"
   },
   {
    "duration": 8,
    "start_time": "2023-10-09T10:00:44.458Z"
   },
   {
    "duration": 1324,
    "start_time": "2023-10-09T10:15:07.044Z"
   },
   {
    "duration": 21,
    "start_time": "2023-10-09T10:15:08.370Z"
   },
   {
    "duration": 22,
    "start_time": "2023-10-09T10:15:08.393Z"
   },
   {
    "duration": 17,
    "start_time": "2023-10-09T10:15:08.417Z"
   },
   {
    "duration": 12,
    "start_time": "2023-10-09T10:15:08.436Z"
   },
   {
    "duration": 14,
    "start_time": "2023-10-09T10:15:08.450Z"
   },
   {
    "duration": 26,
    "start_time": "2023-10-09T10:15:08.466Z"
   },
   {
    "duration": 22,
    "start_time": "2023-10-09T10:15:08.494Z"
   },
   {
    "duration": 27,
    "start_time": "2023-10-09T10:15:08.518Z"
   },
   {
    "duration": 10,
    "start_time": "2023-10-09T10:15:08.547Z"
   },
   {
    "duration": 18,
    "start_time": "2023-10-09T10:15:08.559Z"
   },
   {
    "duration": 18,
    "start_time": "2023-10-09T10:15:08.579Z"
   },
   {
    "duration": 24,
    "start_time": "2023-10-09T10:15:08.598Z"
   },
   {
    "duration": 12,
    "start_time": "2023-10-09T10:15:08.625Z"
   },
   {
    "duration": 11,
    "start_time": "2023-10-09T10:15:08.639Z"
   },
   {
    "duration": 19,
    "start_time": "2023-10-09T10:15:08.652Z"
   },
   {
    "duration": 195,
    "start_time": "2023-10-09T10:15:08.673Z"
   },
   {
    "duration": 6,
    "start_time": "2023-10-09T10:15:08.870Z"
   },
   {
    "duration": 111,
    "start_time": "2023-10-09T10:15:08.877Z"
   },
   {
    "duration": 3,
    "start_time": "2023-10-09T10:15:08.990Z"
   },
   {
    "duration": 45,
    "start_time": "2023-10-09T10:15:08.995Z"
   },
   {
    "duration": 175,
    "start_time": "2023-10-09T10:15:09.042Z"
   },
   {
    "duration": 12,
    "start_time": "2023-10-09T10:15:09.219Z"
   },
   {
    "duration": 212,
    "start_time": "2023-10-09T10:15:09.232Z"
   },
   {
    "duration": 118,
    "start_time": "2023-10-09T10:15:09.446Z"
   },
   {
    "duration": 11,
    "start_time": "2023-10-09T10:15:09.566Z"
   },
   {
    "duration": 155,
    "start_time": "2023-10-09T10:15:09.578Z"
   },
   {
    "duration": 13,
    "start_time": "2023-10-09T10:15:09.735Z"
   },
   {
    "duration": 32,
    "start_time": "2023-10-09T10:15:09.750Z"
   },
   {
    "duration": 71,
    "start_time": "2023-10-09T10:15:09.784Z"
   },
   {
    "duration": 81,
    "start_time": "2023-10-09T10:15:09.857Z"
   },
   {
    "duration": 43,
    "start_time": "2023-10-09T10:15:09.941Z"
   },
   {
    "duration": 231,
    "start_time": "2023-10-09T10:15:09.986Z"
   },
   {
    "duration": 180,
    "start_time": "2023-10-09T10:15:10.220Z"
   },
   {
    "duration": 203,
    "start_time": "2023-10-09T10:15:10.402Z"
   },
   {
    "duration": 193,
    "start_time": "2023-10-09T10:15:10.607Z"
   },
   {
    "duration": 867,
    "start_time": "2023-10-09T10:15:10.802Z"
   },
   {
    "duration": 5,
    "start_time": "2023-10-09T10:15:11.671Z"
   },
   {
    "duration": 74,
    "start_time": "2023-10-09T10:15:11.678Z"
   },
   {
    "duration": 126,
    "start_time": "2023-10-09T10:15:11.754Z"
   },
   {
    "duration": 47,
    "start_time": "2023-10-09T10:15:11.885Z"
   },
   {
    "duration": 154,
    "start_time": "2023-10-09T10:15:11.933Z"
   },
   {
    "duration": 19,
    "start_time": "2023-10-09T10:15:12.089Z"
   },
   {
    "duration": 233,
    "start_time": "2023-10-09T10:15:12.110Z"
   },
   {
    "duration": 81,
    "start_time": "2023-10-09T10:15:12.345Z"
   },
   {
    "duration": 88,
    "start_time": "2023-10-09T10:15:12.427Z"
   },
   {
    "duration": 37,
    "start_time": "2023-10-09T10:15:12.517Z"
   },
   {
    "duration": 1348,
    "start_time": "2023-10-09T10:37:16.563Z"
   },
   {
    "duration": 20,
    "start_time": "2023-10-09T10:37:17.913Z"
   },
   {
    "duration": 15,
    "start_time": "2023-10-09T10:37:17.935Z"
   },
   {
    "duration": 17,
    "start_time": "2023-10-09T10:37:17.952Z"
   },
   {
    "duration": 40,
    "start_time": "2023-10-09T10:37:17.970Z"
   },
   {
    "duration": 16,
    "start_time": "2023-10-09T10:37:18.011Z"
   },
   {
    "duration": 22,
    "start_time": "2023-10-09T10:37:18.029Z"
   },
   {
    "duration": 8,
    "start_time": "2023-10-09T10:37:18.053Z"
   },
   {
    "duration": 17,
    "start_time": "2023-10-09T10:37:18.063Z"
   },
   {
    "duration": 29,
    "start_time": "2023-10-09T10:37:18.083Z"
   },
   {
    "duration": 11,
    "start_time": "2023-10-09T10:37:18.114Z"
   },
   {
    "duration": 13,
    "start_time": "2023-10-09T10:37:18.127Z"
   },
   {
    "duration": 7,
    "start_time": "2023-10-09T10:37:18.142Z"
   },
   {
    "duration": 16,
    "start_time": "2023-10-09T10:37:18.151Z"
   },
   {
    "duration": 14,
    "start_time": "2023-10-09T10:37:18.168Z"
   },
   {
    "duration": 19,
    "start_time": "2023-10-09T10:37:18.184Z"
   },
   {
    "duration": 198,
    "start_time": "2023-10-09T10:37:18.205Z"
   },
   {
    "duration": 6,
    "start_time": "2023-10-09T10:37:18.405Z"
   },
   {
    "duration": 103,
    "start_time": "2023-10-09T10:37:18.412Z"
   },
   {
    "duration": 3,
    "start_time": "2023-10-09T10:37:18.517Z"
   },
   {
    "duration": 34,
    "start_time": "2023-10-09T10:37:18.522Z"
   },
   {
    "duration": 160,
    "start_time": "2023-10-09T10:37:18.558Z"
   },
   {
    "duration": 8,
    "start_time": "2023-10-09T10:37:18.720Z"
   },
   {
    "duration": 148,
    "start_time": "2023-10-09T10:37:18.729Z"
   },
   {
    "duration": 112,
    "start_time": "2023-10-09T10:37:18.879Z"
   },
   {
    "duration": 8,
    "start_time": "2023-10-09T10:37:18.993Z"
   },
   {
    "duration": 112,
    "start_time": "2023-10-09T10:37:19.003Z"
   },
   {
    "duration": 11,
    "start_time": "2023-10-09T10:37:19.119Z"
   },
   {
    "duration": 22,
    "start_time": "2023-10-09T10:37:19.143Z"
   },
   {
    "duration": 38,
    "start_time": "2023-10-09T10:37:19.167Z"
   },
   {
    "duration": 29,
    "start_time": "2023-10-09T10:37:19.206Z"
   },
   {
    "duration": 22,
    "start_time": "2023-10-09T10:37:19.236Z"
   },
   {
    "duration": 190,
    "start_time": "2023-10-09T10:37:19.260Z"
   },
   {
    "duration": 202,
    "start_time": "2023-10-09T10:37:19.451Z"
   },
   {
    "duration": 191,
    "start_time": "2023-10-09T10:37:19.655Z"
   },
   {
    "duration": 179,
    "start_time": "2023-10-09T10:37:19.847Z"
   },
   {
    "duration": 820,
    "start_time": "2023-10-09T10:37:20.029Z"
   },
   {
    "duration": 4,
    "start_time": "2023-10-09T10:37:20.851Z"
   },
   {
    "duration": 28,
    "start_time": "2023-10-09T10:37:20.857Z"
   },
   {
    "duration": 113,
    "start_time": "2023-10-09T10:37:20.887Z"
   },
   {
    "duration": 29,
    "start_time": "2023-10-09T10:37:21.002Z"
   },
   {
    "duration": 170,
    "start_time": "2023-10-09T10:37:21.033Z"
   },
   {
    "duration": 19,
    "start_time": "2023-10-09T10:37:21.205Z"
   },
   {
    "duration": 22,
    "start_time": "2023-10-09T10:37:21.225Z"
   },
   {
    "duration": 42,
    "start_time": "2023-10-09T10:37:21.249Z"
   },
   {
    "duration": 25,
    "start_time": "2023-10-09T10:37:21.294Z"
   },
   {
    "duration": 38,
    "start_time": "2023-10-09T10:37:21.321Z"
   },
   {
    "duration": 18,
    "start_time": "2023-10-09T10:41:08.203Z"
   },
   {
    "duration": 148,
    "start_time": "2023-10-09T10:43:05.990Z"
   },
   {
    "duration": 1156,
    "start_time": "2023-10-09T10:53:27.129Z"
   },
   {
    "duration": 67,
    "start_time": "2023-10-09T10:53:28.287Z"
   },
   {
    "duration": 20,
    "start_time": "2023-10-09T10:53:28.355Z"
   },
   {
    "duration": 15,
    "start_time": "2023-10-09T10:53:28.377Z"
   },
   {
    "duration": 13,
    "start_time": "2023-10-09T10:53:28.394Z"
   },
   {
    "duration": 27,
    "start_time": "2023-10-09T10:53:28.408Z"
   },
   {
    "duration": 9,
    "start_time": "2023-10-09T10:53:28.437Z"
   },
   {
    "duration": 26,
    "start_time": "2023-10-09T10:53:28.448Z"
   },
   {
    "duration": 13,
    "start_time": "2023-10-09T10:53:28.476Z"
   },
   {
    "duration": 16,
    "start_time": "2023-10-09T10:53:28.490Z"
   },
   {
    "duration": 14,
    "start_time": "2023-10-09T10:53:28.507Z"
   },
   {
    "duration": 14,
    "start_time": "2023-10-09T10:53:28.523Z"
   },
   {
    "duration": 10,
    "start_time": "2023-10-09T10:53:28.539Z"
   },
   {
    "duration": 9,
    "start_time": "2023-10-09T10:53:28.552Z"
   },
   {
    "duration": 15,
    "start_time": "2023-10-09T10:53:28.562Z"
   },
   {
    "duration": 40,
    "start_time": "2023-10-09T10:53:28.580Z"
   },
   {
    "duration": 16,
    "start_time": "2023-10-09T10:53:28.621Z"
   },
   {
    "duration": 193,
    "start_time": "2023-10-09T10:53:28.638Z"
   },
   {
    "duration": 6,
    "start_time": "2023-10-09T10:53:28.833Z"
   },
   {
    "duration": 131,
    "start_time": "2023-10-09T10:53:28.840Z"
   },
   {
    "duration": 3,
    "start_time": "2023-10-09T10:53:28.973Z"
   },
   {
    "duration": 37,
    "start_time": "2023-10-09T10:53:28.978Z"
   },
   {
    "duration": 183,
    "start_time": "2023-10-09T10:53:29.016Z"
   },
   {
    "duration": 10,
    "start_time": "2023-10-09T10:53:29.201Z"
   },
   {
    "duration": 171,
    "start_time": "2023-10-09T10:53:29.213Z"
   },
   {
    "duration": 109,
    "start_time": "2023-10-09T10:53:29.386Z"
   },
   {
    "duration": 9,
    "start_time": "2023-10-09T10:53:29.497Z"
   },
   {
    "duration": 115,
    "start_time": "2023-10-09T10:53:29.507Z"
   },
   {
    "duration": 11,
    "start_time": "2023-10-09T10:53:29.624Z"
   },
   {
    "duration": 11,
    "start_time": "2023-10-09T10:53:29.644Z"
   },
   {
    "duration": 35,
    "start_time": "2023-10-09T10:53:29.656Z"
   },
   {
    "duration": 25,
    "start_time": "2023-10-09T10:53:29.693Z"
   },
   {
    "duration": 21,
    "start_time": "2023-10-09T10:53:29.720Z"
   },
   {
    "duration": 209,
    "start_time": "2023-10-09T10:53:29.743Z"
   },
   {
    "duration": 172,
    "start_time": "2023-10-09T10:53:29.954Z"
   },
   {
    "duration": 184,
    "start_time": "2023-10-09T10:53:30.128Z"
   },
   {
    "duration": 173,
    "start_time": "2023-10-09T10:53:30.314Z"
   },
   {
    "duration": 789,
    "start_time": "2023-10-09T10:53:30.489Z"
   },
   {
    "duration": 3,
    "start_time": "2023-10-09T10:53:31.280Z"
   },
   {
    "duration": 40,
    "start_time": "2023-10-09T10:53:31.284Z"
   },
   {
    "duration": 42,
    "start_time": "2023-10-09T10:53:31.327Z"
   },
   {
    "duration": 47,
    "start_time": "2023-10-09T10:53:31.371Z"
   },
   {
    "duration": 255,
    "start_time": "2023-10-09T10:53:31.420Z"
   },
   {
    "duration": 19,
    "start_time": "2023-10-09T10:53:31.677Z"
   },
   {
    "duration": 26,
    "start_time": "2023-10-09T10:53:31.697Z"
   },
   {
    "duration": 30,
    "start_time": "2023-10-09T10:53:31.725Z"
   },
   {
    "duration": 66,
    "start_time": "2023-10-09T10:53:31.756Z"
   },
   {
    "duration": 23,
    "start_time": "2023-10-09T10:53:31.824Z"
   },
   {
    "duration": 214,
    "start_time": "2023-10-09T10:53:31.849Z"
   },
   {
    "duration": 210,
    "start_time": "2023-10-09T10:56:03.072Z"
   },
   {
    "duration": 142,
    "start_time": "2023-10-09T10:56:22.693Z"
   },
   {
    "duration": 112,
    "start_time": "2023-10-09T10:59:46.325Z"
   },
   {
    "duration": 133,
    "start_time": "2023-10-09T10:59:51.084Z"
   },
   {
    "duration": 176,
    "start_time": "2023-10-09T11:05:32.445Z"
   },
   {
    "duration": 85,
    "start_time": "2023-10-09T11:05:42.348Z"
   },
   {
    "duration": 10,
    "start_time": "2023-10-09T11:05:45.964Z"
   },
   {
    "duration": 122,
    "start_time": "2023-10-09T11:05:53.510Z"
   },
   {
    "duration": 132,
    "start_time": "2023-10-09T11:06:58.157Z"
   },
   {
    "duration": 134,
    "start_time": "2023-10-09T11:07:41.919Z"
   },
   {
    "duration": 9,
    "start_time": "2023-10-09T11:12:02.289Z"
   },
   {
    "duration": 8,
    "start_time": "2023-10-09T11:12:06.606Z"
   },
   {
    "duration": 11,
    "start_time": "2023-10-09T11:12:12.575Z"
   },
   {
    "duration": 9,
    "start_time": "2023-10-09T11:12:19.078Z"
   },
   {
    "duration": 9,
    "start_time": "2023-10-09T11:12:58.485Z"
   },
   {
    "duration": 9,
    "start_time": "2023-10-09T11:13:26.693Z"
   },
   {
    "duration": 1112,
    "start_time": "2023-10-09T11:13:38.686Z"
   },
   {
    "duration": 68,
    "start_time": "2023-10-09T11:13:39.800Z"
   },
   {
    "duration": 19,
    "start_time": "2023-10-09T11:13:39.870Z"
   },
   {
    "duration": 16,
    "start_time": "2023-10-09T11:13:39.891Z"
   },
   {
    "duration": 17,
    "start_time": "2023-10-09T11:13:39.908Z"
   },
   {
    "duration": 16,
    "start_time": "2023-10-09T11:13:39.927Z"
   },
   {
    "duration": 22,
    "start_time": "2023-10-09T11:13:39.945Z"
   },
   {
    "duration": 39,
    "start_time": "2023-10-09T11:13:39.968Z"
   },
   {
    "duration": 44,
    "start_time": "2023-10-09T11:13:40.008Z"
   },
   {
    "duration": 28,
    "start_time": "2023-10-09T11:13:40.054Z"
   },
   {
    "duration": 25,
    "start_time": "2023-10-09T11:13:40.084Z"
   },
   {
    "duration": 30,
    "start_time": "2023-10-09T11:13:40.110Z"
   },
   {
    "duration": 21,
    "start_time": "2023-10-09T11:13:40.142Z"
   },
   {
    "duration": 24,
    "start_time": "2023-10-09T11:13:40.165Z"
   },
   {
    "duration": 21,
    "start_time": "2023-10-09T11:13:40.191Z"
   },
   {
    "duration": 20,
    "start_time": "2023-10-09T11:13:40.213Z"
   },
   {
    "duration": 122,
    "start_time": "2023-10-09T11:13:40.234Z"
   },
   {
    "duration": 176,
    "start_time": "2023-10-09T11:13:40.358Z"
   },
   {
    "duration": 12,
    "start_time": "2023-10-09T11:13:40.535Z"
   },
   {
    "duration": 108,
    "start_time": "2023-10-09T11:13:40.549Z"
   },
   {
    "duration": 4,
    "start_time": "2023-10-09T11:13:40.659Z"
   },
   {
    "duration": 13,
    "start_time": "2023-10-09T11:13:40.664Z"
   },
   {
    "duration": 166,
    "start_time": "2023-10-09T11:13:40.679Z"
   },
   {
    "duration": 8,
    "start_time": "2023-10-09T11:13:40.847Z"
   },
   {
    "duration": 144,
    "start_time": "2023-10-09T11:13:40.856Z"
   },
   {
    "duration": 120,
    "start_time": "2023-10-09T11:13:41.001Z"
   },
   {
    "duration": 20,
    "start_time": "2023-10-09T11:13:41.123Z"
   },
   {
    "duration": 112,
    "start_time": "2023-10-09T11:13:41.146Z"
   },
   {
    "duration": 155,
    "start_time": "2023-10-09T11:13:41.259Z"
   },
   {
    "duration": 101,
    "start_time": "2023-10-09T11:13:41.416Z"
   },
   {
    "duration": 0,
    "start_time": "2023-10-09T11:13:41.519Z"
   },
   {
    "duration": 0,
    "start_time": "2023-10-09T11:13:41.520Z"
   },
   {
    "duration": 0,
    "start_time": "2023-10-09T11:13:41.521Z"
   },
   {
    "duration": 0,
    "start_time": "2023-10-09T11:13:41.522Z"
   },
   {
    "duration": 0,
    "start_time": "2023-10-09T11:13:41.522Z"
   },
   {
    "duration": 0,
    "start_time": "2023-10-09T11:13:41.523Z"
   },
   {
    "duration": 0,
    "start_time": "2023-10-09T11:13:41.524Z"
   },
   {
    "duration": 0,
    "start_time": "2023-10-09T11:13:41.525Z"
   },
   {
    "duration": 0,
    "start_time": "2023-10-09T11:13:41.526Z"
   },
   {
    "duration": 0,
    "start_time": "2023-10-09T11:13:41.544Z"
   },
   {
    "duration": 0,
    "start_time": "2023-10-09T11:13:41.545Z"
   },
   {
    "duration": 0,
    "start_time": "2023-10-09T11:13:41.546Z"
   },
   {
    "duration": 0,
    "start_time": "2023-10-09T11:13:41.547Z"
   },
   {
    "duration": 0,
    "start_time": "2023-10-09T11:13:41.549Z"
   },
   {
    "duration": 0,
    "start_time": "2023-10-09T11:13:41.550Z"
   },
   {
    "duration": 0,
    "start_time": "2023-10-09T11:13:41.551Z"
   },
   {
    "duration": 0,
    "start_time": "2023-10-09T11:13:41.552Z"
   },
   {
    "duration": 0,
    "start_time": "2023-10-09T11:13:41.553Z"
   },
   {
    "duration": 0,
    "start_time": "2023-10-09T11:13:41.554Z"
   },
   {
    "duration": 0,
    "start_time": "2023-10-09T11:13:41.555Z"
   },
   {
    "duration": 0,
    "start_time": "2023-10-09T11:13:41.556Z"
   },
   {
    "duration": 9,
    "start_time": "2023-10-09T11:14:13.765Z"
   },
   {
    "duration": 3,
    "start_time": "2023-10-09T11:14:43.533Z"
   },
   {
    "duration": 3,
    "start_time": "2023-10-09T11:14:53.373Z"
   },
   {
    "duration": 4,
    "start_time": "2023-10-09T11:15:10.429Z"
   },
   {
    "duration": 8,
    "start_time": "2023-10-09T11:15:24.043Z"
   },
   {
    "duration": 4,
    "start_time": "2023-10-09T11:15:25.828Z"
   },
   {
    "duration": 8,
    "start_time": "2023-10-09T11:18:11.625Z"
   },
   {
    "duration": 12,
    "start_time": "2023-10-09T11:18:17.713Z"
   },
   {
    "duration": 12,
    "start_time": "2023-10-09T11:18:18.073Z"
   },
   {
    "duration": 12,
    "start_time": "2023-10-09T11:18:18.370Z"
   },
   {
    "duration": 4,
    "start_time": "2023-10-09T11:18:20.449Z"
   },
   {
    "duration": 9,
    "start_time": "2023-10-09T11:19:07.490Z"
   },
   {
    "duration": 7,
    "start_time": "2023-10-09T11:19:37.130Z"
   },
   {
    "duration": 10,
    "start_time": "2023-10-09T11:19:46.977Z"
   },
   {
    "duration": 1185,
    "start_time": "2023-10-09T11:23:00.512Z"
   },
   {
    "duration": 69,
    "start_time": "2023-10-09T11:23:01.699Z"
   },
   {
    "duration": 19,
    "start_time": "2023-10-09T11:23:01.769Z"
   },
   {
    "duration": 76,
    "start_time": "2023-10-09T11:23:01.790Z"
   },
   {
    "duration": 56,
    "start_time": "2023-10-09T11:23:01.867Z"
   },
   {
    "duration": 44,
    "start_time": "2023-10-09T11:23:01.924Z"
   },
   {
    "duration": 36,
    "start_time": "2023-10-09T11:23:01.969Z"
   },
   {
    "duration": 90,
    "start_time": "2023-10-09T11:23:02.007Z"
   },
   {
    "duration": 49,
    "start_time": "2023-10-09T11:23:02.099Z"
   },
   {
    "duration": 41,
    "start_time": "2023-10-09T11:23:02.151Z"
   },
   {
    "duration": 43,
    "start_time": "2023-10-09T11:23:02.193Z"
   },
   {
    "duration": 41,
    "start_time": "2023-10-09T11:23:02.238Z"
   },
   {
    "duration": 51,
    "start_time": "2023-10-09T11:23:02.280Z"
   },
   {
    "duration": 34,
    "start_time": "2023-10-09T11:23:02.333Z"
   },
   {
    "duration": 46,
    "start_time": "2023-10-09T11:23:02.368Z"
   },
   {
    "duration": 46,
    "start_time": "2023-10-09T11:23:02.415Z"
   },
   {
    "duration": 25,
    "start_time": "2023-10-09T11:23:02.463Z"
   },
   {
    "duration": 204,
    "start_time": "2023-10-09T11:23:02.490Z"
   },
   {
    "duration": 6,
    "start_time": "2023-10-09T11:23:02.696Z"
   },
   {
    "duration": 120,
    "start_time": "2023-10-09T11:23:02.704Z"
   },
   {
    "duration": 4,
    "start_time": "2023-10-09T11:23:02.826Z"
   },
   {
    "duration": 33,
    "start_time": "2023-10-09T11:23:02.831Z"
   },
   {
    "duration": 167,
    "start_time": "2023-10-09T11:23:02.865Z"
   },
   {
    "duration": 11,
    "start_time": "2023-10-09T11:23:03.034Z"
   },
   {
    "duration": 249,
    "start_time": "2023-10-09T11:23:03.047Z"
   },
   {
    "duration": 112,
    "start_time": "2023-10-09T11:23:03.298Z"
   },
   {
    "duration": 86,
    "start_time": "2023-10-09T11:23:03.412Z"
   },
   {
    "duration": 136,
    "start_time": "2023-10-09T11:23:03.502Z"
   },
   {
    "duration": 178,
    "start_time": "2023-10-09T11:23:03.640Z"
   },
   {
    "duration": 5,
    "start_time": "2023-10-09T11:23:03.819Z"
   },
   {
    "duration": 36,
    "start_time": "2023-10-09T11:23:03.825Z"
   },
   {
    "duration": 26,
    "start_time": "2023-10-09T11:23:03.862Z"
   },
   {
    "duration": 58,
    "start_time": "2023-10-09T11:23:03.890Z"
   },
   {
    "duration": 56,
    "start_time": "2023-10-09T11:23:03.950Z"
   },
   {
    "duration": 59,
    "start_time": "2023-10-09T11:23:04.008Z"
   },
   {
    "duration": 52,
    "start_time": "2023-10-09T11:23:04.068Z"
   },
   {
    "duration": 48,
    "start_time": "2023-10-09T11:23:04.122Z"
   },
   {
    "duration": 38,
    "start_time": "2023-10-09T11:23:04.171Z"
   },
   {
    "duration": 40,
    "start_time": "2023-10-09T11:23:04.210Z"
   },
   {
    "duration": 191,
    "start_time": "2023-10-09T11:23:04.252Z"
   },
   {
    "duration": 222,
    "start_time": "2023-10-09T11:23:04.445Z"
   },
   {
    "duration": 261,
    "start_time": "2023-10-09T11:23:04.670Z"
   },
   {
    "duration": 210,
    "start_time": "2023-10-09T11:23:04.933Z"
   },
   {
    "duration": 794,
    "start_time": "2023-10-09T11:23:05.145Z"
   },
   {
    "duration": 4,
    "start_time": "2023-10-09T11:23:05.940Z"
   },
   {
    "duration": 27,
    "start_time": "2023-10-09T11:23:05.945Z"
   },
   {
    "duration": 49,
    "start_time": "2023-10-09T11:23:05.974Z"
   },
   {
    "duration": 18,
    "start_time": "2023-10-09T11:23:06.025Z"
   },
   {
    "duration": 131,
    "start_time": "2023-10-09T11:23:06.044Z"
   },
   {
    "duration": 18,
    "start_time": "2023-10-09T11:23:06.177Z"
   },
   {
    "duration": 9,
    "start_time": "2023-10-09T11:23:06.196Z"
   },
   {
    "duration": 50,
    "start_time": "2023-10-09T11:23:06.206Z"
   },
   {
    "duration": 226,
    "start_time": "2023-10-09T11:23:06.258Z"
   },
   {
    "duration": 193,
    "start_time": "2023-10-09T11:23:06.486Z"
   },
   {
    "duration": 156,
    "start_time": "2023-10-09T11:23:06.681Z"
   },
   {
    "duration": 5,
    "start_time": "2023-10-09T11:25:14.432Z"
   },
   {
    "duration": 814,
    "start_time": "2023-10-09T11:25:15.801Z"
   },
   {
    "duration": 4,
    "start_time": "2023-10-09T11:25:17.335Z"
   },
   {
    "duration": 16,
    "start_time": "2023-10-09T11:25:19.359Z"
   },
   {
    "duration": 4,
    "start_time": "2023-10-09T11:25:26.355Z"
   },
   {
    "duration": 124,
    "start_time": "2023-10-09T11:25:26.961Z"
   },
   {
    "duration": 17,
    "start_time": "2023-10-09T11:25:27.730Z"
   },
   {
    "duration": 1152,
    "start_time": "2023-10-09T11:28:17.586Z"
   },
   {
    "duration": 69,
    "start_time": "2023-10-09T11:28:18.739Z"
   },
   {
    "duration": 20,
    "start_time": "2023-10-09T11:28:18.809Z"
   },
   {
    "duration": 48,
    "start_time": "2023-10-09T11:28:18.831Z"
   },
   {
    "duration": 36,
    "start_time": "2023-10-09T11:28:18.881Z"
   },
   {
    "duration": 67,
    "start_time": "2023-10-09T11:28:18.919Z"
   },
   {
    "duration": 38,
    "start_time": "2023-10-09T11:28:18.988Z"
   },
   {
    "duration": 29,
    "start_time": "2023-10-09T11:28:19.028Z"
   },
   {
    "duration": 23,
    "start_time": "2023-10-09T11:28:19.059Z"
   },
   {
    "duration": 35,
    "start_time": "2023-10-09T11:28:19.084Z"
   },
   {
    "duration": 34,
    "start_time": "2023-10-09T11:28:19.120Z"
   },
   {
    "duration": 45,
    "start_time": "2023-10-09T11:28:19.156Z"
   },
   {
    "duration": 18,
    "start_time": "2023-10-09T11:28:19.203Z"
   },
   {
    "duration": 40,
    "start_time": "2023-10-09T11:28:19.222Z"
   },
   {
    "duration": 24,
    "start_time": "2023-10-09T11:28:19.263Z"
   },
   {
    "duration": 56,
    "start_time": "2023-10-09T11:28:19.288Z"
   },
   {
    "duration": 61,
    "start_time": "2023-10-09T11:28:19.345Z"
   },
   {
    "duration": 264,
    "start_time": "2023-10-09T11:28:19.408Z"
   },
   {
    "duration": 7,
    "start_time": "2023-10-09T11:28:19.673Z"
   },
   {
    "duration": 184,
    "start_time": "2023-10-09T11:28:19.681Z"
   },
   {
    "duration": 3,
    "start_time": "2023-10-09T11:28:19.867Z"
   },
   {
    "duration": 34,
    "start_time": "2023-10-09T11:28:19.871Z"
   },
   {
    "duration": 153,
    "start_time": "2023-10-09T11:28:19.907Z"
   },
   {
    "duration": 9,
    "start_time": "2023-10-09T11:28:20.062Z"
   },
   {
    "duration": 159,
    "start_time": "2023-10-09T11:28:20.073Z"
   },
   {
    "duration": 102,
    "start_time": "2023-10-09T11:28:20.234Z"
   },
   {
    "duration": 7,
    "start_time": "2023-10-09T11:28:20.343Z"
   },
   {
    "duration": 117,
    "start_time": "2023-10-09T11:28:20.354Z"
   },
   {
    "duration": 147,
    "start_time": "2023-10-09T11:28:20.472Z"
   },
   {
    "duration": 4,
    "start_time": "2023-10-09T11:28:20.621Z"
   },
   {
    "duration": 28,
    "start_time": "2023-10-09T11:28:20.626Z"
   },
   {
    "duration": 39,
    "start_time": "2023-10-09T11:28:20.656Z"
   },
   {
    "duration": 51,
    "start_time": "2023-10-09T11:28:20.697Z"
   },
   {
    "duration": 18,
    "start_time": "2023-10-09T11:28:20.750Z"
   },
   {
    "duration": 126,
    "start_time": "2023-10-09T11:28:20.770Z"
   },
   {
    "duration": 95,
    "start_time": "2023-10-09T11:28:20.897Z"
   },
   {
    "duration": 25,
    "start_time": "2023-10-09T11:28:20.994Z"
   },
   {
    "duration": 39,
    "start_time": "2023-10-09T11:28:21.020Z"
   },
   {
    "duration": 20,
    "start_time": "2023-10-09T11:28:21.061Z"
   },
   {
    "duration": 210,
    "start_time": "2023-10-09T11:28:21.083Z"
   },
   {
    "duration": 158,
    "start_time": "2023-10-09T11:28:21.295Z"
   },
   {
    "duration": 250,
    "start_time": "2023-10-09T11:28:21.454Z"
   },
   {
    "duration": 173,
    "start_time": "2023-10-09T11:28:21.705Z"
   },
   {
    "duration": 5,
    "start_time": "2023-10-09T11:28:21.879Z"
   },
   {
    "duration": 837,
    "start_time": "2023-10-09T11:28:21.885Z"
   },
   {
    "duration": 3,
    "start_time": "2023-10-09T11:28:22.724Z"
   },
   {
    "duration": 69,
    "start_time": "2023-10-09T11:28:22.728Z"
   },
   {
    "duration": 32,
    "start_time": "2023-10-09T11:28:22.799Z"
   },
   {
    "duration": 163,
    "start_time": "2023-10-09T11:28:22.833Z"
   },
   {
    "duration": 18,
    "start_time": "2023-10-09T11:28:22.997Z"
   },
   {
    "duration": 79,
    "start_time": "2023-10-09T11:28:23.016Z"
   },
   {
    "duration": 25,
    "start_time": "2023-10-09T11:28:23.096Z"
   },
   {
    "duration": 18,
    "start_time": "2023-10-09T11:28:23.123Z"
   },
   {
    "duration": 15,
    "start_time": "2023-10-09T11:28:23.143Z"
   },
   {
    "duration": 200,
    "start_time": "2023-10-09T11:28:23.160Z"
   },
   {
    "duration": 5,
    "start_time": "2023-10-09T11:32:35.878Z"
   },
   {
    "duration": 5,
    "start_time": "2023-10-09T11:32:58.818Z"
   },
   {
    "duration": 6,
    "start_time": "2023-10-09T11:33:23.811Z"
   },
   {
    "duration": 145,
    "start_time": "2023-10-09T11:39:13.271Z"
   },
   {
    "duration": 179,
    "start_time": "2023-10-09T11:39:46.302Z"
   },
   {
    "duration": 246,
    "start_time": "2023-10-09T11:40:28.459Z"
   },
   {
    "duration": 167,
    "start_time": "2023-10-09T11:41:02.223Z"
   },
   {
    "duration": 156,
    "start_time": "2023-10-09T11:42:55.646Z"
   },
   {
    "duration": 163,
    "start_time": "2023-10-09T11:44:56.222Z"
   },
   {
    "duration": 237,
    "start_time": "2023-10-09T11:45:21.589Z"
   },
   {
    "duration": 163,
    "start_time": "2023-10-09T11:46:32.488Z"
   },
   {
    "duration": 1135,
    "start_time": "2023-10-09T11:49:54.581Z"
   },
   {
    "duration": 68,
    "start_time": "2023-10-09T11:49:55.718Z"
   },
   {
    "duration": 19,
    "start_time": "2023-10-09T11:49:55.788Z"
   },
   {
    "duration": 26,
    "start_time": "2023-10-09T11:49:55.809Z"
   },
   {
    "duration": 27,
    "start_time": "2023-10-09T11:49:55.838Z"
   },
   {
    "duration": 18,
    "start_time": "2023-10-09T11:49:55.867Z"
   },
   {
    "duration": 10,
    "start_time": "2023-10-09T11:49:55.887Z"
   },
   {
    "duration": 10,
    "start_time": "2023-10-09T11:49:55.898Z"
   },
   {
    "duration": 9,
    "start_time": "2023-10-09T11:49:55.910Z"
   },
   {
    "duration": 13,
    "start_time": "2023-10-09T11:49:55.920Z"
   },
   {
    "duration": 8,
    "start_time": "2023-10-09T11:49:55.935Z"
   },
   {
    "duration": 17,
    "start_time": "2023-10-09T11:49:55.944Z"
   },
   {
    "duration": 12,
    "start_time": "2023-10-09T11:49:55.962Z"
   },
   {
    "duration": 5,
    "start_time": "2023-10-09T11:49:55.977Z"
   },
   {
    "duration": 18,
    "start_time": "2023-10-09T11:49:55.983Z"
   },
   {
    "duration": 10,
    "start_time": "2023-10-09T11:49:56.003Z"
   },
   {
    "duration": 38,
    "start_time": "2023-10-09T11:49:56.014Z"
   },
   {
    "duration": 171,
    "start_time": "2023-10-09T11:49:56.054Z"
   },
   {
    "duration": 17,
    "start_time": "2023-10-09T11:49:56.227Z"
   },
   {
    "duration": 90,
    "start_time": "2023-10-09T11:49:56.245Z"
   },
   {
    "duration": 9,
    "start_time": "2023-10-09T11:49:56.336Z"
   },
   {
    "duration": 18,
    "start_time": "2023-10-09T11:49:56.347Z"
   },
   {
    "duration": 171,
    "start_time": "2023-10-09T11:49:56.368Z"
   },
   {
    "duration": 9,
    "start_time": "2023-10-09T11:49:56.543Z"
   },
   {
    "duration": 153,
    "start_time": "2023-10-09T11:49:56.553Z"
   },
   {
    "duration": 113,
    "start_time": "2023-10-09T11:49:56.707Z"
   },
   {
    "duration": 9,
    "start_time": "2023-10-09T11:49:56.821Z"
   },
   {
    "duration": 116,
    "start_time": "2023-10-09T11:49:56.831Z"
   },
   {
    "duration": 150,
    "start_time": "2023-10-09T11:49:56.949Z"
   },
   {
    "duration": 4,
    "start_time": "2023-10-09T11:49:57.101Z"
   },
   {
    "duration": 13,
    "start_time": "2023-10-09T11:49:57.106Z"
   },
   {
    "duration": 13,
    "start_time": "2023-10-09T11:49:57.120Z"
   },
   {
    "duration": 24,
    "start_time": "2023-10-09T11:49:57.134Z"
   },
   {
    "duration": 21,
    "start_time": "2023-10-09T11:49:57.160Z"
   },
   {
    "duration": 19,
    "start_time": "2023-10-09T11:49:57.182Z"
   },
   {
    "duration": 18,
    "start_time": "2023-10-09T11:49:57.203Z"
   },
   {
    "duration": 30,
    "start_time": "2023-10-09T11:49:57.222Z"
   },
   {
    "duration": 29,
    "start_time": "2023-10-09T11:49:57.254Z"
   },
   {
    "duration": 24,
    "start_time": "2023-10-09T11:49:57.285Z"
   },
   {
    "duration": 185,
    "start_time": "2023-10-09T11:49:57.310Z"
   },
   {
    "duration": 173,
    "start_time": "2023-10-09T11:49:57.499Z"
   },
   {
    "duration": 250,
    "start_time": "2023-10-09T11:49:57.674Z"
   },
   {
    "duration": 181,
    "start_time": "2023-10-09T11:49:57.926Z"
   },
   {
    "duration": 5,
    "start_time": "2023-10-09T11:49:58.108Z"
   },
   {
    "duration": 802,
    "start_time": "2023-10-09T11:49:58.114Z"
   },
   {
    "duration": 3,
    "start_time": "2023-10-09T11:49:58.918Z"
   },
   {
    "duration": 34,
    "start_time": "2023-10-09T11:49:58.922Z"
   },
   {
    "duration": 32,
    "start_time": "2023-10-09T11:49:58.958Z"
   },
   {
    "duration": 148,
    "start_time": "2023-10-09T11:49:58.991Z"
   },
   {
    "duration": 17,
    "start_time": "2023-10-09T11:49:59.141Z"
   },
   {
    "duration": 13,
    "start_time": "2023-10-09T11:49:59.160Z"
   },
   {
    "duration": 25,
    "start_time": "2023-10-09T11:49:59.175Z"
   },
   {
    "duration": 37,
    "start_time": "2023-10-09T11:49:59.202Z"
   },
   {
    "duration": 199,
    "start_time": "2023-10-09T11:49:59.241Z"
   },
   {
    "duration": 171,
    "start_time": "2023-10-09T11:49:59.443Z"
   },
   {
    "duration": 1291,
    "start_time": "2023-10-09T16:20:13.999Z"
   },
   {
    "duration": 78,
    "start_time": "2023-10-09T16:20:15.292Z"
   },
   {
    "duration": 20,
    "start_time": "2023-10-09T16:20:15.372Z"
   },
   {
    "duration": 39,
    "start_time": "2023-10-09T16:20:15.394Z"
   },
   {
    "duration": 18,
    "start_time": "2023-10-09T16:20:15.436Z"
   },
   {
    "duration": 11,
    "start_time": "2023-10-09T16:20:15.456Z"
   },
   {
    "duration": 7,
    "start_time": "2023-10-09T16:20:15.469Z"
   },
   {
    "duration": 6,
    "start_time": "2023-10-09T16:20:15.478Z"
   },
   {
    "duration": 21,
    "start_time": "2023-10-09T16:20:15.486Z"
   },
   {
    "duration": 41,
    "start_time": "2023-10-09T16:20:15.509Z"
   },
   {
    "duration": 17,
    "start_time": "2023-10-09T16:20:15.554Z"
   },
   {
    "duration": 65,
    "start_time": "2023-10-09T16:20:15.572Z"
   },
   {
    "duration": 57,
    "start_time": "2023-10-09T16:20:15.638Z"
   },
   {
    "duration": 20,
    "start_time": "2023-10-09T16:20:15.698Z"
   },
   {
    "duration": 39,
    "start_time": "2023-10-09T16:20:15.720Z"
   },
   {
    "duration": 23,
    "start_time": "2023-10-09T16:20:15.760Z"
   },
   {
    "duration": 58,
    "start_time": "2023-10-09T16:20:15.785Z"
   },
   {
    "duration": 181,
    "start_time": "2023-10-09T16:20:15.845Z"
   },
   {
    "duration": 7,
    "start_time": "2023-10-09T16:20:16.029Z"
   },
   {
    "duration": 107,
    "start_time": "2023-10-09T16:20:16.037Z"
   },
   {
    "duration": 5,
    "start_time": "2023-10-09T16:20:16.146Z"
   },
   {
    "duration": 16,
    "start_time": "2023-10-09T16:20:16.153Z"
   },
   {
    "duration": 175,
    "start_time": "2023-10-09T16:20:16.171Z"
   },
   {
    "duration": 14,
    "start_time": "2023-10-09T16:20:16.349Z"
   },
   {
    "duration": 188,
    "start_time": "2023-10-09T16:20:16.364Z"
   },
   {
    "duration": 120,
    "start_time": "2023-10-09T16:20:16.554Z"
   },
   {
    "duration": 10,
    "start_time": "2023-10-09T16:20:16.677Z"
   },
   {
    "duration": 140,
    "start_time": "2023-10-09T16:20:16.689Z"
   },
   {
    "duration": 164,
    "start_time": "2023-10-09T16:20:16.831Z"
   },
   {
    "duration": 5,
    "start_time": "2023-10-09T16:20:16.997Z"
   },
   {
    "duration": 17,
    "start_time": "2023-10-09T16:20:17.003Z"
   },
   {
    "duration": 26,
    "start_time": "2023-10-09T16:20:17.022Z"
   },
   {
    "duration": 39,
    "start_time": "2023-10-09T16:20:17.050Z"
   },
   {
    "duration": 44,
    "start_time": "2023-10-09T16:20:17.090Z"
   },
   {
    "duration": 29,
    "start_time": "2023-10-09T16:20:17.136Z"
   },
   {
    "duration": 25,
    "start_time": "2023-10-09T16:20:17.166Z"
   },
   {
    "duration": 14,
    "start_time": "2023-10-09T16:20:17.192Z"
   },
   {
    "duration": 32,
    "start_time": "2023-10-09T16:20:17.207Z"
   },
   {
    "duration": 29,
    "start_time": "2023-10-09T16:20:17.242Z"
   },
   {
    "duration": 210,
    "start_time": "2023-10-09T16:20:17.273Z"
   },
   {
    "duration": 190,
    "start_time": "2023-10-09T16:20:17.486Z"
   },
   {
    "duration": 279,
    "start_time": "2023-10-09T16:20:17.677Z"
   },
   {
    "duration": 204,
    "start_time": "2023-10-09T16:20:17.959Z"
   },
   {
    "duration": 4,
    "start_time": "2023-10-09T16:20:18.165Z"
   },
   {
    "duration": 1017,
    "start_time": "2023-10-09T16:20:18.171Z"
   },
   {
    "duration": 3,
    "start_time": "2023-10-09T16:20:19.190Z"
   },
   {
    "duration": 22,
    "start_time": "2023-10-09T16:20:19.194Z"
   },
   {
    "duration": 10,
    "start_time": "2023-10-09T16:20:19.218Z"
   },
   {
    "duration": 169,
    "start_time": "2023-10-09T16:20:19.229Z"
   },
   {
    "duration": 25,
    "start_time": "2023-10-09T16:20:19.400Z"
   },
   {
    "duration": 7,
    "start_time": "2023-10-09T16:20:19.427Z"
   },
   {
    "duration": 8,
    "start_time": "2023-10-09T16:20:19.444Z"
   },
   {
    "duration": 16,
    "start_time": "2023-10-09T16:20:19.454Z"
   },
   {
    "duration": 248,
    "start_time": "2023-10-09T16:20:19.471Z"
   },
   {
    "duration": 182,
    "start_time": "2023-10-09T16:20:19.721Z"
   }
  ],
  "kernelspec": {
   "display_name": "Python 3 (ipykernel)",
   "language": "python",
   "name": "python3"
  },
  "language_info": {
   "codemirror_mode": {
    "name": "ipython",
    "version": 3
   },
   "file_extension": ".py",
   "mimetype": "text/x-python",
   "name": "python",
   "nbconvert_exporter": "python",
   "pygments_lexer": "ipython3",
   "version": "3.11.4"
  },
  "toc": {
   "base_numbering": 1,
   "nav_menu": {},
   "number_sections": true,
   "sideBar": true,
   "skip_h1_title": true,
   "title_cell": "Table of Contents",
   "title_sidebar": "Contents",
   "toc_cell": false,
   "toc_position": {},
   "toc_section_display": true,
   "toc_window_display": true
  }
 },
 "nbformat": 4,
 "nbformat_minor": 5
}
