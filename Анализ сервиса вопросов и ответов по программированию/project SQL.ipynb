{
 "cells": [
  {
   "cell_type": "markdown",
   "id": "e22f6ba3",
   "metadata": {},
   "source": [
    "# Анализ сервиса вопросов и ответов по программированию\n",
    "\n",
    "Необходимо проанализировать базу данных сервиса вопросов и ответов о программировании.\n",
    "Анализ буду проводить с помощью SQL-запросов.\n"
   ]
  },
  {
   "cell_type": "code",
   "execution_count": 1,
   "id": "06357cea",
   "metadata": {},
   "outputs": [],
   "source": [
    "# загружаю необходимые библиотеки\n",
    "import pandas as pd\n",
    "import matplotlib.pyplot as plt\n",
    "import seaborn as sns\n",
    "from sqlalchemy import create_engine "
   ]
  },
  {
   "cell_type": "code",
   "execution_count": 4,
   "id": "3ed75265",
   "metadata": {},
   "outputs": [],
   "source": [
    "engine = create_engine(connection_string) "
   ]
  },
  {
   "cell_type": "markdown",
   "id": "cd263a08",
   "metadata": {},
   "source": [
    "1.\n",
    "Найти количество вопросов, которые набрали больше 300 очков или как минимум 100 раз были добавлены в «Закладки»."
   ]
  },
  {
   "cell_type": "code",
   "execution_count": 5,
   "id": "c562f6ae",
   "metadata": {},
   "outputs": [],
   "source": [
    "query = '''\n",
    "SELECT COUNT(id)\n",
    "FROM stackoverflow.posts \n",
    "WHERE post_type_id = 1 AND (favorites_count >= 100 OR score > 300)\n",
    "''' "
   ]
  },
  {
   "cell_type": "code",
   "execution_count": 6,
   "id": "df5a3a8e",
   "metadata": {},
   "outputs": [],
   "source": [
    "qwestins_cnt = pd.read_sql_query(query, con = engine) "
   ]
  },
  {
   "cell_type": "code",
   "execution_count": 7,
   "id": "3bb244c3",
   "metadata": {},
   "outputs": [
    {
     "data": {
      "text/html": [
       "<div>\n",
       "<style scoped>\n",
       "    .dataframe tbody tr th:only-of-type {\n",
       "        vertical-align: middle;\n",
       "    }\n",
       "\n",
       "    .dataframe tbody tr th {\n",
       "        vertical-align: top;\n",
       "    }\n",
       "\n",
       "    .dataframe thead th {\n",
       "        text-align: right;\n",
       "    }\n",
       "</style>\n",
       "<table border=\"1\" class=\"dataframe\">\n",
       "  <thead>\n",
       "    <tr style=\"text-align: right;\">\n",
       "      <th></th>\n",
       "      <th>count</th>\n",
       "    </tr>\n",
       "  </thead>\n",
       "  <tbody>\n",
       "    <tr>\n",
       "      <th>0</th>\n",
       "      <td>1355</td>\n",
       "    </tr>\n",
       "  </tbody>\n",
       "</table>\n",
       "</div>"
      ],
      "text/plain": [
       "   count\n",
       "0   1355"
      ]
     },
     "execution_count": 7,
     "metadata": {},
     "output_type": "execute_result"
    }
   ],
   "source": [
    "qwestins_cnt.head()"
   ]
  },
  {
   "cell_type": "markdown",
   "id": "b1479b6e",
   "metadata": {},
   "source": [
    "2.\n",
    "Сколько в среднем в день задавали вопросов с 1 по 18 ноября 2008 включительно? Результат округлю до целого числа."
   ]
  },
  {
   "cell_type": "code",
   "execution_count": 8,
   "id": "e020fa63",
   "metadata": {},
   "outputs": [],
   "source": [
    "query = '''\n",
    "WITH a AS\n",
    "(SELECT COUNT(id) AS id_cnt,\n",
    "       CAST(DATE_TRUNC('DAY', creation_date) AS date) AS day_creation\n",
    "FROM stackoverflow.posts \n",
    "WHERE post_type_id = 1 \n",
    "AND creation_date::DATE BETWEEN '2008-11-01' AND '2008-11-18'\n",
    "GROUP BY CAST(DATE_TRUNC('DAY', creation_date) AS date))\n",
    "SELECT ROUND(AVG(id_cnt))\n",
    "FROM a\n",
    "''' "
   ]
  },
  {
   "cell_type": "code",
   "execution_count": 9,
   "id": "5ba025d3",
   "metadata": {},
   "outputs": [],
   "source": [
    "qwestins_avg = pd.read_sql_query(query, con = engine) "
   ]
  },
  {
   "cell_type": "code",
   "execution_count": 10,
   "id": "f395a7bb",
   "metadata": {},
   "outputs": [
    {
     "data": {
      "text/html": [
       "<div>\n",
       "<style scoped>\n",
       "    .dataframe tbody tr th:only-of-type {\n",
       "        vertical-align: middle;\n",
       "    }\n",
       "\n",
       "    .dataframe tbody tr th {\n",
       "        vertical-align: top;\n",
       "    }\n",
       "\n",
       "    .dataframe thead th {\n",
       "        text-align: right;\n",
       "    }\n",
       "</style>\n",
       "<table border=\"1\" class=\"dataframe\">\n",
       "  <thead>\n",
       "    <tr style=\"text-align: right;\">\n",
       "      <th></th>\n",
       "      <th>round</th>\n",
       "    </tr>\n",
       "  </thead>\n",
       "  <tbody>\n",
       "    <tr>\n",
       "      <th>0</th>\n",
       "      <td>383.0</td>\n",
       "    </tr>\n",
       "  </tbody>\n",
       "</table>\n",
       "</div>"
      ],
      "text/plain": [
       "   round\n",
       "0  383.0"
      ]
     },
     "execution_count": 10,
     "metadata": {},
     "output_type": "execute_result"
    }
   ],
   "source": [
    "qwestins_avg"
   ]
  },
  {
   "cell_type": "markdown",
   "id": "e4fb5e58",
   "metadata": {},
   "source": [
    "3.\n",
    "Сколько пользователей получили значки сразу в день регистрации? Выведу количество уникальных пользователей."
   ]
  },
  {
   "cell_type": "code",
   "execution_count": 11,
   "id": "1503bb9c",
   "metadata": {},
   "outputs": [],
   "source": [
    "query = '''\n",
    "SELECT COUNT( DISTINCT u.id)\n",
    "FROM stackoverflow.users u\n",
    "JOIN stackoverflow.badges b ON u.id=b.user_id\n",
    "WHERE CAST(u.creation_date AS date) = CAST(b.creation_date AS date)\n",
    "'''"
   ]
  },
  {
   "cell_type": "code",
   "execution_count": 12,
   "id": "2792876a",
   "metadata": {},
   "outputs": [],
   "source": [
    "badges_users = pd.read_sql_query(query, con = engine) "
   ]
  },
  {
   "cell_type": "code",
   "execution_count": 13,
   "id": "131e5f73",
   "metadata": {},
   "outputs": [
    {
     "data": {
      "text/html": [
       "<div>\n",
       "<style scoped>\n",
       "    .dataframe tbody tr th:only-of-type {\n",
       "        vertical-align: middle;\n",
       "    }\n",
       "\n",
       "    .dataframe tbody tr th {\n",
       "        vertical-align: top;\n",
       "    }\n",
       "\n",
       "    .dataframe thead th {\n",
       "        text-align: right;\n",
       "    }\n",
       "</style>\n",
       "<table border=\"1\" class=\"dataframe\">\n",
       "  <thead>\n",
       "    <tr style=\"text-align: right;\">\n",
       "      <th></th>\n",
       "      <th>count</th>\n",
       "    </tr>\n",
       "  </thead>\n",
       "  <tbody>\n",
       "    <tr>\n",
       "      <th>0</th>\n",
       "      <td>7047</td>\n",
       "    </tr>\n",
       "  </tbody>\n",
       "</table>\n",
       "</div>"
      ],
      "text/plain": [
       "   count\n",
       "0   7047"
      ]
     },
     "execution_count": 13,
     "metadata": {},
     "output_type": "execute_result"
    }
   ],
   "source": [
    "badges_users"
   ]
  },
  {
   "cell_type": "markdown",
   "id": "3a747698",
   "metadata": {},
   "source": [
    "4.\n",
    "Сколько уникальных постов пользователя с именем Joel Coehoorn получили хотя бы один голос?"
   ]
  },
  {
   "cell_type": "code",
   "execution_count": 14,
   "id": "63991c6d",
   "metadata": {},
   "outputs": [],
   "source": [
    "query = '''\n",
    "SELECT COUNT(DISTINCT p.id)\n",
    "FROM stackoverflow.posts p\n",
    "JOIN  stackoverflow.users u ON p.user_id = u.id\n",
    "JOIN stackoverflow.votes v ON p.id = v.post_id\n",
    "WHERE u.display_name = 'Joel Coehoorn'\n",
    "AND v.id > 0\n",
    "'''"
   ]
  },
  {
   "cell_type": "code",
   "execution_count": 15,
   "id": "a71fc0e0",
   "metadata": {},
   "outputs": [],
   "source": [
    "posts_uniq = pd.read_sql_query(query, con = engine) "
   ]
  },
  {
   "cell_type": "code",
   "execution_count": 16,
   "id": "e818a624",
   "metadata": {},
   "outputs": [
    {
     "data": {
      "text/html": [
       "<div>\n",
       "<style scoped>\n",
       "    .dataframe tbody tr th:only-of-type {\n",
       "        vertical-align: middle;\n",
       "    }\n",
       "\n",
       "    .dataframe tbody tr th {\n",
       "        vertical-align: top;\n",
       "    }\n",
       "\n",
       "    .dataframe thead th {\n",
       "        text-align: right;\n",
       "    }\n",
       "</style>\n",
       "<table border=\"1\" class=\"dataframe\">\n",
       "  <thead>\n",
       "    <tr style=\"text-align: right;\">\n",
       "      <th></th>\n",
       "      <th>count</th>\n",
       "    </tr>\n",
       "  </thead>\n",
       "  <tbody>\n",
       "    <tr>\n",
       "      <th>0</th>\n",
       "      <td>12</td>\n",
       "    </tr>\n",
       "  </tbody>\n",
       "</table>\n",
       "</div>"
      ],
      "text/plain": [
       "   count\n",
       "0     12"
      ]
     },
     "execution_count": 16,
     "metadata": {},
     "output_type": "execute_result"
    }
   ],
   "source": [
    "posts_uniq"
   ]
  },
  {
   "cell_type": "markdown",
   "id": "653bc497",
   "metadata": {},
   "source": [
    "5.\n",
    "Выгружу все поля таблицы vote_types. Добавлю к таблице поле rank, в которое войдут номера записей в обратном порядке. Таблицу отсортирую по полю id."
   ]
  },
  {
   "cell_type": "code",
   "execution_count": 17,
   "id": "8e46d13f",
   "metadata": {},
   "outputs": [],
   "source": [
    "query = '''\n",
    "SELECT *,\n",
    "       ROW_NUMBER()OVER(ORDER BY id DESC) AS rank\n",
    "FROM stackoverflow.vote_types\n",
    "ORDER BY id\n",
    "'''"
   ]
  },
  {
   "cell_type": "code",
   "execution_count": 18,
   "id": "b5ae48c6",
   "metadata": {},
   "outputs": [],
   "source": [
    "vote_types_rank = pd.read_sql_query(query, con = engine) "
   ]
  },
  {
   "cell_type": "code",
   "execution_count": 19,
   "id": "ce0a3ca5",
   "metadata": {},
   "outputs": [
    {
     "data": {
      "text/html": [
       "<div>\n",
       "<style scoped>\n",
       "    .dataframe tbody tr th:only-of-type {\n",
       "        vertical-align: middle;\n",
       "    }\n",
       "\n",
       "    .dataframe tbody tr th {\n",
       "        vertical-align: top;\n",
       "    }\n",
       "\n",
       "    .dataframe thead th {\n",
       "        text-align: right;\n",
       "    }\n",
       "</style>\n",
       "<table border=\"1\" class=\"dataframe\">\n",
       "  <thead>\n",
       "    <tr style=\"text-align: right;\">\n",
       "      <th></th>\n",
       "      <th>id</th>\n",
       "      <th>name</th>\n",
       "      <th>rank</th>\n",
       "    </tr>\n",
       "  </thead>\n",
       "  <tbody>\n",
       "    <tr>\n",
       "      <th>0</th>\n",
       "      <td>1</td>\n",
       "      <td>AcceptedByOriginator</td>\n",
       "      <td>15</td>\n",
       "    </tr>\n",
       "    <tr>\n",
       "      <th>1</th>\n",
       "      <td>2</td>\n",
       "      <td>UpMod</td>\n",
       "      <td>14</td>\n",
       "    </tr>\n",
       "    <tr>\n",
       "      <th>2</th>\n",
       "      <td>3</td>\n",
       "      <td>DownMod</td>\n",
       "      <td>13</td>\n",
       "    </tr>\n",
       "    <tr>\n",
       "      <th>3</th>\n",
       "      <td>4</td>\n",
       "      <td>Offensive</td>\n",
       "      <td>12</td>\n",
       "    </tr>\n",
       "    <tr>\n",
       "      <th>4</th>\n",
       "      <td>5</td>\n",
       "      <td>Favorite</td>\n",
       "      <td>11</td>\n",
       "    </tr>\n",
       "  </tbody>\n",
       "</table>\n",
       "</div>"
      ],
      "text/plain": [
       "   id                  name  rank\n",
       "0   1  AcceptedByOriginator    15\n",
       "1   2                 UpMod    14\n",
       "2   3               DownMod    13\n",
       "3   4             Offensive    12\n",
       "4   5              Favorite    11"
      ]
     },
     "execution_count": 19,
     "metadata": {},
     "output_type": "execute_result"
    }
   ],
   "source": [
    "vote_types_rank.head()"
   ]
  },
  {
   "cell_type": "markdown",
   "id": "cff7d564",
   "metadata": {},
   "source": [
    "6.\n",
    "Отберу 10 пользователей, которые поставили больше всего голосов типа Close. Отображу таблицу из двух полей: идентификатор пользователя и количество голосов. Отсортирую данные сначала по убыванию количества голосов, потом по убыванию значения идентификатора пользователя."
   ]
  },
  {
   "cell_type": "code",
   "execution_count": 20,
   "id": "bab08840",
   "metadata": {},
   "outputs": [],
   "source": [
    "query = '''\n",
    "SELECT DISTINCT u.id,\n",
    "       COUNT(v.id)\n",
    "FROM stackoverflow.users u\n",
    "JOIN stackoverflow.votes v ON u.id = v.user_id\n",
    "JOIN stackoverflow.vote_types vt ON v.vote_type_id = vt.id\n",
    "WHERE vt.name = 'Close'\n",
    "GROUP BY u.id\n",
    "ORDER BY COUNT(v.id) DESC, u.id DESC\n",
    "LIMIT 10\n",
    "'''"
   ]
  },
  {
   "cell_type": "code",
   "execution_count": 21,
   "id": "9b4775ce",
   "metadata": {},
   "outputs": [],
   "source": [
    "users_voite_top = pd.read_sql_query(query, con = engine) "
   ]
  },
  {
   "cell_type": "code",
   "execution_count": 22,
   "id": "52ee3b41",
   "metadata": {},
   "outputs": [
    {
     "data": {
      "text/html": [
       "<div>\n",
       "<style scoped>\n",
       "    .dataframe tbody tr th:only-of-type {\n",
       "        vertical-align: middle;\n",
       "    }\n",
       "\n",
       "    .dataframe tbody tr th {\n",
       "        vertical-align: top;\n",
       "    }\n",
       "\n",
       "    .dataframe thead th {\n",
       "        text-align: right;\n",
       "    }\n",
       "</style>\n",
       "<table border=\"1\" class=\"dataframe\">\n",
       "  <thead>\n",
       "    <tr style=\"text-align: right;\">\n",
       "      <th></th>\n",
       "      <th>id</th>\n",
       "      <th>count</th>\n",
       "    </tr>\n",
       "  </thead>\n",
       "  <tbody>\n",
       "    <tr>\n",
       "      <th>0</th>\n",
       "      <td>20646</td>\n",
       "      <td>36</td>\n",
       "    </tr>\n",
       "    <tr>\n",
       "      <th>1</th>\n",
       "      <td>14728</td>\n",
       "      <td>36</td>\n",
       "    </tr>\n",
       "    <tr>\n",
       "      <th>2</th>\n",
       "      <td>27163</td>\n",
       "      <td>29</td>\n",
       "    </tr>\n",
       "    <tr>\n",
       "      <th>3</th>\n",
       "      <td>41158</td>\n",
       "      <td>24</td>\n",
       "    </tr>\n",
       "    <tr>\n",
       "      <th>4</th>\n",
       "      <td>24820</td>\n",
       "      <td>23</td>\n",
       "    </tr>\n",
       "    <tr>\n",
       "      <th>5</th>\n",
       "      <td>9345</td>\n",
       "      <td>23</td>\n",
       "    </tr>\n",
       "    <tr>\n",
       "      <th>6</th>\n",
       "      <td>3241</td>\n",
       "      <td>23</td>\n",
       "    </tr>\n",
       "    <tr>\n",
       "      <th>7</th>\n",
       "      <td>44330</td>\n",
       "      <td>20</td>\n",
       "    </tr>\n",
       "    <tr>\n",
       "      <th>8</th>\n",
       "      <td>38426</td>\n",
       "      <td>19</td>\n",
       "    </tr>\n",
       "    <tr>\n",
       "      <th>9</th>\n",
       "      <td>19074</td>\n",
       "      <td>19</td>\n",
       "    </tr>\n",
       "  </tbody>\n",
       "</table>\n",
       "</div>"
      ],
      "text/plain": [
       "      id  count\n",
       "0  20646     36\n",
       "1  14728     36\n",
       "2  27163     29\n",
       "3  41158     24\n",
       "4  24820     23\n",
       "5   9345     23\n",
       "6   3241     23\n",
       "7  44330     20\n",
       "8  38426     19\n",
       "9  19074     19"
      ]
     },
     "execution_count": 22,
     "metadata": {},
     "output_type": "execute_result"
    }
   ],
   "source": [
    "users_voite_top"
   ]
  },
  {
   "cell_type": "markdown",
   "id": "cb1d8796",
   "metadata": {},
   "source": [
    "7.\n",
    "Отберу 10 пользователей по количеству значков, полученных в период с 15 ноября по 15 декабря 2008 года включительно.\n",
    "Отображу несколько полей:\n",
    "- идентификатор пользователя;\n",
    "- число значков;\n",
    "- место в рейтинге — чем больше значков, тем выше рейтинг.\n",
    "\n",
    "Пользователям, которые набрали одинаковое количество значков, присвою одно и то же место в рейтинге.\n",
    "Отсортирую записи по количеству значков по убыванию, а затем по возрастанию значения идентификатора пользователя."
   ]
  },
  {
   "cell_type": "code",
   "execution_count": 23,
   "id": "d9a3f249",
   "metadata": {},
   "outputs": [],
   "source": [
    "query = '''\n",
    "SELECT u.id,\n",
    "       COUNT(b.id),\n",
    "       DENSE_RANK()OVER(ORDER BY COUNT(b.id) DESC) AS rank\n",
    "FROM stackoverflow.users u\n",
    "JOIN stackoverflow.badges b ON u.id=b.user_id\n",
    "WHERE CAST(b.creation_date AS date) BETWEEN '2008-11-15' AND '2008-12-15'\n",
    "GROUP BY u.id\n",
    "ORDER BY COUNT(b.id) DESC, u.id\n",
    "LIMIT 10\n",
    "'''"
   ]
  },
  {
   "cell_type": "code",
   "execution_count": 24,
   "id": "c9fc018a",
   "metadata": {},
   "outputs": [],
   "source": [
    "users_z_top = pd.read_sql_query(query, con = engine) "
   ]
  },
  {
   "cell_type": "code",
   "execution_count": 25,
   "id": "791d41b4",
   "metadata": {},
   "outputs": [
    {
     "data": {
      "text/html": [
       "<div>\n",
       "<style scoped>\n",
       "    .dataframe tbody tr th:only-of-type {\n",
       "        vertical-align: middle;\n",
       "    }\n",
       "\n",
       "    .dataframe tbody tr th {\n",
       "        vertical-align: top;\n",
       "    }\n",
       "\n",
       "    .dataframe thead th {\n",
       "        text-align: right;\n",
       "    }\n",
       "</style>\n",
       "<table border=\"1\" class=\"dataframe\">\n",
       "  <thead>\n",
       "    <tr style=\"text-align: right;\">\n",
       "      <th></th>\n",
       "      <th>id</th>\n",
       "      <th>count</th>\n",
       "      <th>rank</th>\n",
       "    </tr>\n",
       "  </thead>\n",
       "  <tbody>\n",
       "    <tr>\n",
       "      <th>0</th>\n",
       "      <td>22656</td>\n",
       "      <td>149</td>\n",
       "      <td>1</td>\n",
       "    </tr>\n",
       "    <tr>\n",
       "      <th>1</th>\n",
       "      <td>34509</td>\n",
       "      <td>45</td>\n",
       "      <td>2</td>\n",
       "    </tr>\n",
       "    <tr>\n",
       "      <th>2</th>\n",
       "      <td>1288</td>\n",
       "      <td>40</td>\n",
       "      <td>3</td>\n",
       "    </tr>\n",
       "    <tr>\n",
       "      <th>3</th>\n",
       "      <td>5190</td>\n",
       "      <td>31</td>\n",
       "      <td>4</td>\n",
       "    </tr>\n",
       "    <tr>\n",
       "      <th>4</th>\n",
       "      <td>13913</td>\n",
       "      <td>30</td>\n",
       "      <td>5</td>\n",
       "    </tr>\n",
       "    <tr>\n",
       "      <th>5</th>\n",
       "      <td>893</td>\n",
       "      <td>28</td>\n",
       "      <td>6</td>\n",
       "    </tr>\n",
       "    <tr>\n",
       "      <th>6</th>\n",
       "      <td>10661</td>\n",
       "      <td>28</td>\n",
       "      <td>6</td>\n",
       "    </tr>\n",
       "    <tr>\n",
       "      <th>7</th>\n",
       "      <td>33213</td>\n",
       "      <td>25</td>\n",
       "      <td>7</td>\n",
       "    </tr>\n",
       "    <tr>\n",
       "      <th>8</th>\n",
       "      <td>12950</td>\n",
       "      <td>23</td>\n",
       "      <td>8</td>\n",
       "    </tr>\n",
       "    <tr>\n",
       "      <th>9</th>\n",
       "      <td>25222</td>\n",
       "      <td>20</td>\n",
       "      <td>9</td>\n",
       "    </tr>\n",
       "  </tbody>\n",
       "</table>\n",
       "</div>"
      ],
      "text/plain": [
       "      id  count  rank\n",
       "0  22656    149     1\n",
       "1  34509     45     2\n",
       "2   1288     40     3\n",
       "3   5190     31     4\n",
       "4  13913     30     5\n",
       "5    893     28     6\n",
       "6  10661     28     6\n",
       "7  33213     25     7\n",
       "8  12950     23     8\n",
       "9  25222     20     9"
      ]
     },
     "execution_count": 25,
     "metadata": {},
     "output_type": "execute_result"
    }
   ],
   "source": [
    "users_z_top"
   ]
  },
  {
   "cell_type": "markdown",
   "id": "ee7be37b",
   "metadata": {},
   "source": [
    "8.\n",
    "Сколько в среднем очков получает пост каждого пользователя?\n",
    "Сформирую таблицу из следующих полей:\n",
    "- заголовок поста;\n",
    "- идентификатор пользователя;\n",
    "- число очков поста;\n",
    "- среднее число очков пользователя за пост, округлённое до целого числа.\n",
    "\n",
    "Посты без заголовка, а также те, что набрали ноль очков учитывать не буду."
   ]
  },
  {
   "cell_type": "code",
   "execution_count": 26,
   "id": "feed82b0",
   "metadata": {},
   "outputs": [],
   "source": [
    "query = '''\n",
    "WITH a AS\n",
    "(SELECT title, user_id, score\n",
    "FROM stackoverflow.posts\n",
    "WHERE score <> 0\n",
    "AND title IS NOT NULL)\n",
    "SELECT *, ROUND(AVG(score)OVER(PARTITION BY user_id))\n",
    "FROM a\n",
    "'''"
   ]
  },
  {
   "cell_type": "code",
   "execution_count": 27,
   "id": "9b228631",
   "metadata": {},
   "outputs": [],
   "source": [
    "score_avg = pd.read_sql_query(query, con = engine) "
   ]
  },
  {
   "cell_type": "code",
   "execution_count": 28,
   "id": "8c16a13d",
   "metadata": {},
   "outputs": [
    {
     "data": {
      "text/html": [
       "<div>\n",
       "<style scoped>\n",
       "    .dataframe tbody tr th:only-of-type {\n",
       "        vertical-align: middle;\n",
       "    }\n",
       "\n",
       "    .dataframe tbody tr th {\n",
       "        vertical-align: top;\n",
       "    }\n",
       "\n",
       "    .dataframe thead th {\n",
       "        text-align: right;\n",
       "    }\n",
       "</style>\n",
       "<table border=\"1\" class=\"dataframe\">\n",
       "  <thead>\n",
       "    <tr style=\"text-align: right;\">\n",
       "      <th></th>\n",
       "      <th>title</th>\n",
       "      <th>user_id</th>\n",
       "      <th>score</th>\n",
       "      <th>round</th>\n",
       "    </tr>\n",
       "  </thead>\n",
       "  <tbody>\n",
       "    <tr>\n",
       "      <th>0</th>\n",
       "      <td>Diagnosing Deadlocks in SQL Server 2005</td>\n",
       "      <td>1</td>\n",
       "      <td>82</td>\n",
       "      <td>573.0</td>\n",
       "    </tr>\n",
       "    <tr>\n",
       "      <th>1</th>\n",
       "      <td>How do I calculate someone's age in C#?</td>\n",
       "      <td>1</td>\n",
       "      <td>1743</td>\n",
       "      <td>573.0</td>\n",
       "    </tr>\n",
       "    <tr>\n",
       "      <th>2</th>\n",
       "      <td>Why doesn't IE7 copy &lt;pre&gt;&lt;code&gt; blocks to the...</td>\n",
       "      <td>1</td>\n",
       "      <td>37</td>\n",
       "      <td>573.0</td>\n",
       "    </tr>\n",
       "    <tr>\n",
       "      <th>3</th>\n",
       "      <td>Calculate relative time in C#</td>\n",
       "      <td>1</td>\n",
       "      <td>1348</td>\n",
       "      <td>573.0</td>\n",
       "    </tr>\n",
       "    <tr>\n",
       "      <th>4</th>\n",
       "      <td>Wrapping StopWatch timing with a delegate or l...</td>\n",
       "      <td>1</td>\n",
       "      <td>92</td>\n",
       "      <td>573.0</td>\n",
       "    </tr>\n",
       "  </tbody>\n",
       "</table>\n",
       "</div>"
      ],
      "text/plain": [
       "                                               title  user_id  score  round\n",
       "0            Diagnosing Deadlocks in SQL Server 2005        1     82  573.0\n",
       "1            How do I calculate someone's age in C#?        1   1743  573.0\n",
       "2  Why doesn't IE7 copy <pre><code> blocks to the...        1     37  573.0\n",
       "3                      Calculate relative time in C#        1   1348  573.0\n",
       "4  Wrapping StopWatch timing with a delegate or l...        1     92  573.0"
      ]
     },
     "execution_count": 28,
     "metadata": {},
     "output_type": "execute_result"
    }
   ],
   "source": [
    "score_avg.head()"
   ]
  },
  {
   "cell_type": "markdown",
   "id": "d6229300",
   "metadata": {},
   "source": [
    "9.\n",
    "Отображу заголовки постов, которые были написаны пользователями, получившими более 1000 значков. Посты без заголовков исключу из списка."
   ]
  },
  {
   "cell_type": "code",
   "execution_count": 29,
   "id": "cd74ed70",
   "metadata": {},
   "outputs": [],
   "source": [
    "query = '''\n",
    "WITH a AS\n",
    "(SELECT u.id,\n",
    "       COUNT(b.id)\n",
    "FROM stackoverflow.users u\n",
    "JOIN stackoverflow.badges b ON u.id = b.user_id\n",
    "group by u.id\n",
    "HAVING COUNT(b.id) > 1000)\n",
    "SELECT p.title\n",
    "FROM stackoverflow.posts p\n",
    "JOIN a ON p.user_id= a.id\n",
    "where title IS NOT NULL\n",
    "'''"
   ]
  },
  {
   "cell_type": "code",
   "execution_count": 30,
   "id": "5fac3eee",
   "metadata": {},
   "outputs": [],
   "source": [
    "posts_title = pd.read_sql_query(query, con = engine) "
   ]
  },
  {
   "cell_type": "code",
   "execution_count": 31,
   "id": "a9162a24",
   "metadata": {},
   "outputs": [
    {
     "data": {
      "text/html": [
       "<div>\n",
       "<style scoped>\n",
       "    .dataframe tbody tr th:only-of-type {\n",
       "        vertical-align: middle;\n",
       "    }\n",
       "\n",
       "    .dataframe tbody tr th {\n",
       "        vertical-align: top;\n",
       "    }\n",
       "\n",
       "    .dataframe thead th {\n",
       "        text-align: right;\n",
       "    }\n",
       "</style>\n",
       "<table border=\"1\" class=\"dataframe\">\n",
       "  <thead>\n",
       "    <tr style=\"text-align: right;\">\n",
       "      <th></th>\n",
       "      <th>title</th>\n",
       "    </tr>\n",
       "  </thead>\n",
       "  <tbody>\n",
       "    <tr>\n",
       "      <th>0</th>\n",
       "      <td>What's the strangest corner case you've seen i...</td>\n",
       "    </tr>\n",
       "    <tr>\n",
       "      <th>1</th>\n",
       "      <td>What's the hardest or most misunderstood aspec...</td>\n",
       "    </tr>\n",
       "    <tr>\n",
       "      <th>2</th>\n",
       "      <td>What are the correct version numbers for C#?</td>\n",
       "    </tr>\n",
       "    <tr>\n",
       "      <th>3</th>\n",
       "      <td>Project management to go with GitHub</td>\n",
       "    </tr>\n",
       "  </tbody>\n",
       "</table>\n",
       "</div>"
      ],
      "text/plain": [
       "                                               title\n",
       "0  What's the strangest corner case you've seen i...\n",
       "1  What's the hardest or most misunderstood aspec...\n",
       "2       What are the correct version numbers for C#?\n",
       "3               Project management to go with GitHub"
      ]
     },
     "execution_count": 31,
     "metadata": {},
     "output_type": "execute_result"
    }
   ],
   "source": [
    "posts_title"
   ]
  },
  {
   "cell_type": "markdown",
   "id": "20366c8d",
   "metadata": {},
   "source": [
    "10.\n",
    "Напишу запрос, который выгрузит данные о пользователях из Канады (англ. Canada). Разделю пользователей на три группы в зависимости от количества просмотров их профилей:\n",
    "- пользователям с числом просмотров больше либо равным 350 присвойте группу 1;\n",
    "- пользователям с числом просмотров меньше 350, но больше либо равно 100 — группу 2;\n",
    "- пользователям с числом просмотров меньше 100 — группу 3.\n",
    "\n",
    "Отображу в итоговой таблице идентификатор пользователя, количество просмотров профиля и группу. Пользователи с количеством просмотров меньше либо равным нулю не войдут в итоговую таблицу."
   ]
  },
  {
   "cell_type": "code",
   "execution_count": 32,
   "id": "36bb044b",
   "metadata": {},
   "outputs": [],
   "source": [
    "query = '''\n",
    "SELECT id, views,\n",
    "       CASE \n",
    "           WHEN views >= 350 THEN 1\n",
    "           WHEN views >= 100 AND views < 350 THEN 2\n",
    "           WHEN views < 100 THEN 3\n",
    "       END\n",
    "FROM stackoverflow.users\n",
    "WHERE location LIKE '%%Canada%%'\n",
    "AND views > 0\n",
    "'''"
   ]
  },
  {
   "cell_type": "code",
   "execution_count": 33,
   "id": "b7e8e7b3",
   "metadata": {},
   "outputs": [],
   "source": [
    "users_canada = pd.read_sql_query(query, con = engine) "
   ]
  },
  {
   "cell_type": "code",
   "execution_count": 34,
   "id": "f6629586",
   "metadata": {},
   "outputs": [
    {
     "data": {
      "text/html": [
       "<div>\n",
       "<style scoped>\n",
       "    .dataframe tbody tr th:only-of-type {\n",
       "        vertical-align: middle;\n",
       "    }\n",
       "\n",
       "    .dataframe tbody tr th {\n",
       "        vertical-align: top;\n",
       "    }\n",
       "\n",
       "    .dataframe thead th {\n",
       "        text-align: right;\n",
       "    }\n",
       "</style>\n",
       "<table border=\"1\" class=\"dataframe\">\n",
       "  <thead>\n",
       "    <tr style=\"text-align: right;\">\n",
       "      <th></th>\n",
       "      <th>id</th>\n",
       "      <th>views</th>\n",
       "      <th>case</th>\n",
       "    </tr>\n",
       "  </thead>\n",
       "  <tbody>\n",
       "    <tr>\n",
       "      <th>0</th>\n",
       "      <td>22</td>\n",
       "      <td>1079</td>\n",
       "      <td>1</td>\n",
       "    </tr>\n",
       "    <tr>\n",
       "      <th>1</th>\n",
       "      <td>34</td>\n",
       "      <td>1707</td>\n",
       "      <td>1</td>\n",
       "    </tr>\n",
       "    <tr>\n",
       "      <th>2</th>\n",
       "      <td>37</td>\n",
       "      <td>757</td>\n",
       "      <td>1</td>\n",
       "    </tr>\n",
       "    <tr>\n",
       "      <th>3</th>\n",
       "      <td>41</td>\n",
       "      <td>174</td>\n",
       "      <td>2</td>\n",
       "    </tr>\n",
       "    <tr>\n",
       "      <th>4</th>\n",
       "      <td>42</td>\n",
       "      <td>1063</td>\n",
       "      <td>1</td>\n",
       "    </tr>\n",
       "    <tr>\n",
       "      <th>...</th>\n",
       "      <td>...</td>\n",
       "      <td>...</td>\n",
       "      <td>...</td>\n",
       "    </tr>\n",
       "    <tr>\n",
       "      <th>832</th>\n",
       "      <td>431315</td>\n",
       "      <td>103</td>\n",
       "      <td>2</td>\n",
       "    </tr>\n",
       "    <tr>\n",
       "      <th>833</th>\n",
       "      <td>266220</td>\n",
       "      <td>13</td>\n",
       "      <td>3</td>\n",
       "    </tr>\n",
       "    <tr>\n",
       "      <th>834</th>\n",
       "      <td>474548</td>\n",
       "      <td>24</td>\n",
       "      <td>3</td>\n",
       "    </tr>\n",
       "    <tr>\n",
       "      <th>835</th>\n",
       "      <td>455635</td>\n",
       "      <td>17</td>\n",
       "      <td>3</td>\n",
       "    </tr>\n",
       "    <tr>\n",
       "      <th>836</th>\n",
       "      <td>476101</td>\n",
       "      <td>107</td>\n",
       "      <td>2</td>\n",
       "    </tr>\n",
       "  </tbody>\n",
       "</table>\n",
       "<p>837 rows × 3 columns</p>\n",
       "</div>"
      ],
      "text/plain": [
       "         id  views  case\n",
       "0        22   1079     1\n",
       "1        34   1707     1\n",
       "2        37    757     1\n",
       "3        41    174     2\n",
       "4        42   1063     1\n",
       "..      ...    ...   ...\n",
       "832  431315    103     2\n",
       "833  266220     13     3\n",
       "834  474548     24     3\n",
       "835  455635     17     3\n",
       "836  476101    107     2\n",
       "\n",
       "[837 rows x 3 columns]"
      ]
     },
     "execution_count": 34,
     "metadata": {},
     "output_type": "execute_result"
    }
   ],
   "source": [
    "users_canada"
   ]
  },
  {
   "cell_type": "markdown",
   "id": "e0198851",
   "metadata": {},
   "source": [
    "11.\n",
    "Дополню предыдущий запрос. Отображу лидеров каждой группы — пользователей, которые набрали максимальное число просмотров в своей группе. Выведу поля с идентификатором пользователя, группой и количеством просмотров. Отсортирую таблицу по убыванию просмотров, а затем по возрастанию значения идентификатора."
   ]
  },
  {
   "cell_type": "code",
   "execution_count": 35,
   "id": "1b043c68",
   "metadata": {},
   "outputs": [],
   "source": [
    "query = '''\n",
    "WITH\n",
    "i AS (SELECT id, views,\n",
    "CASE\n",
    "WHEN views >= 350 THEN 1\n",
    "WHEN 100 <= views AND views < 350 THEN 2\n",
    "WHEN views < 100 THEN 3\n",
    "END AS grouped\n",
    "FROM stackoverflow.users\n",
    "WHERE views > 0 AND location LIKE '%%Canada%%'),\n",
    "\n",
    "l AS (SELECT id, views, grouped, MAX(views) OVER(PARTITION BY grouped) AS maximum\n",
    "FROM i)\n",
    "\n",
    "SELECT id, grouped, views\n",
    "FROM l\n",
    "WHERE views = maximum\n",
    "ORDER BY views DESC, id\n",
    "'''"
   ]
  },
  {
   "cell_type": "code",
   "execution_count": 36,
   "id": "0e98b5b2",
   "metadata": {},
   "outputs": [],
   "source": [
    "users_canada_top = pd.read_sql_query(query, con = engine) "
   ]
  },
  {
   "cell_type": "code",
   "execution_count": 37,
   "id": "f687e4d0",
   "metadata": {},
   "outputs": [
    {
     "data": {
      "text/html": [
       "<div>\n",
       "<style scoped>\n",
       "    .dataframe tbody tr th:only-of-type {\n",
       "        vertical-align: middle;\n",
       "    }\n",
       "\n",
       "    .dataframe tbody tr th {\n",
       "        vertical-align: top;\n",
       "    }\n",
       "\n",
       "    .dataframe thead th {\n",
       "        text-align: right;\n",
       "    }\n",
       "</style>\n",
       "<table border=\"1\" class=\"dataframe\">\n",
       "  <thead>\n",
       "    <tr style=\"text-align: right;\">\n",
       "      <th></th>\n",
       "      <th>id</th>\n",
       "      <th>grouped</th>\n",
       "      <th>views</th>\n",
       "    </tr>\n",
       "  </thead>\n",
       "  <tbody>\n",
       "    <tr>\n",
       "      <th>0</th>\n",
       "      <td>3153</td>\n",
       "      <td>1</td>\n",
       "      <td>21991</td>\n",
       "    </tr>\n",
       "    <tr>\n",
       "      <th>1</th>\n",
       "      <td>46981</td>\n",
       "      <td>2</td>\n",
       "      <td>349</td>\n",
       "    </tr>\n",
       "    <tr>\n",
       "      <th>2</th>\n",
       "      <td>3444</td>\n",
       "      <td>3</td>\n",
       "      <td>99</td>\n",
       "    </tr>\n",
       "    <tr>\n",
       "      <th>3</th>\n",
       "      <td>22273</td>\n",
       "      <td>3</td>\n",
       "      <td>99</td>\n",
       "    </tr>\n",
       "    <tr>\n",
       "      <th>4</th>\n",
       "      <td>190298</td>\n",
       "      <td>3</td>\n",
       "      <td>99</td>\n",
       "    </tr>\n",
       "  </tbody>\n",
       "</table>\n",
       "</div>"
      ],
      "text/plain": [
       "       id  grouped  views\n",
       "0    3153        1  21991\n",
       "1   46981        2    349\n",
       "2    3444        3     99\n",
       "3   22273        3     99\n",
       "4  190298        3     99"
      ]
     },
     "execution_count": 37,
     "metadata": {},
     "output_type": "execute_result"
    }
   ],
   "source": [
    "users_canada_top"
   ]
  },
  {
   "cell_type": "markdown",
   "id": "35f3c055",
   "metadata": {},
   "source": [
    "12.\n",
    "Посчитаю ежедневный прирост новых пользователей в ноябре 2008 года. Сформирую таблицу с полями:\n",
    "- номер дня;\n",
    "- число пользователей, зарегистрированных в этот день;\n",
    "- сумму пользователей с накоплением."
   ]
  },
  {
   "cell_type": "code",
   "execution_count": 38,
   "id": "ae38de83",
   "metadata": {},
   "outputs": [],
   "source": [
    "query = '''\n",
    "SELECT EXTRACT(DAY FROM creation_date::date) AS day,\n",
    "       COUNT(id) AS users_cnt,\n",
    "       SUM(COUNT(id))OVER(order BY EXTRACT(DAY FROM creation_date::date)) AS users_sum\n",
    "FROM stackoverflow.users\n",
    "WHERE creation_date::DATE BETWEEN '2008-11-01' AND '2008-11-30'\n",
    "GROUP BY EXTRACT(DAY FROM creation_date::date)\n",
    "'''"
   ]
  },
  {
   "cell_type": "code",
   "execution_count": 39,
   "id": "40ba178a",
   "metadata": {},
   "outputs": [],
   "source": [
    "users_day_cnt = pd.read_sql_query(query, con = engine) "
   ]
  },
  {
   "cell_type": "code",
   "execution_count": 40,
   "id": "f32a860c",
   "metadata": {},
   "outputs": [
    {
     "data": {
      "text/html": [
       "<div>\n",
       "<style scoped>\n",
       "    .dataframe tbody tr th:only-of-type {\n",
       "        vertical-align: middle;\n",
       "    }\n",
       "\n",
       "    .dataframe tbody tr th {\n",
       "        vertical-align: top;\n",
       "    }\n",
       "\n",
       "    .dataframe thead th {\n",
       "        text-align: right;\n",
       "    }\n",
       "</style>\n",
       "<table border=\"1\" class=\"dataframe\">\n",
       "  <thead>\n",
       "    <tr style=\"text-align: right;\">\n",
       "      <th></th>\n",
       "      <th>day</th>\n",
       "      <th>users_cnt</th>\n",
       "      <th>users_sum</th>\n",
       "    </tr>\n",
       "  </thead>\n",
       "  <tbody>\n",
       "    <tr>\n",
       "      <th>0</th>\n",
       "      <td>1.0</td>\n",
       "      <td>34</td>\n",
       "      <td>34.0</td>\n",
       "    </tr>\n",
       "    <tr>\n",
       "      <th>1</th>\n",
       "      <td>2.0</td>\n",
       "      <td>48</td>\n",
       "      <td>82.0</td>\n",
       "    </tr>\n",
       "    <tr>\n",
       "      <th>2</th>\n",
       "      <td>3.0</td>\n",
       "      <td>75</td>\n",
       "      <td>157.0</td>\n",
       "    </tr>\n",
       "    <tr>\n",
       "      <th>3</th>\n",
       "      <td>4.0</td>\n",
       "      <td>192</td>\n",
       "      <td>349.0</td>\n",
       "    </tr>\n",
       "    <tr>\n",
       "      <th>4</th>\n",
       "      <td>5.0</td>\n",
       "      <td>122</td>\n",
       "      <td>471.0</td>\n",
       "    </tr>\n",
       "  </tbody>\n",
       "</table>\n",
       "</div>"
      ],
      "text/plain": [
       "   day  users_cnt  users_sum\n",
       "0  1.0         34       34.0\n",
       "1  2.0         48       82.0\n",
       "2  3.0         75      157.0\n",
       "3  4.0        192      349.0\n",
       "4  5.0        122      471.0"
      ]
     },
     "execution_count": 40,
     "metadata": {},
     "output_type": "execute_result"
    }
   ],
   "source": [
    "users_day_cnt.head()"
   ]
  },
  {
   "cell_type": "markdown",
   "id": "848b952f",
   "metadata": {},
   "source": [
    "13.\n",
    "Для каждого пользователя, который написал хотя бы один пост, найду интервал между регистрацией и временем создания первого поста. Отображу:\n",
    "- идентификатор пользователя;\n",
    "- разницу во времени между регистрацией и первым постом."
   ]
  },
  {
   "cell_type": "code",
   "execution_count": 41,
   "id": "36ddc481",
   "metadata": {},
   "outputs": [],
   "source": [
    "query = '''\n",
    "with f AS\n",
    "(SELECT user_id, creation_date, ROW_NUMBER () OVER(PARTITION BY USER_ID ORDER BY creation_date) AS fd\n",
    "FROM stackoverflow.posts)       \n",
    "SELECT u.id,\n",
    "       f.creation_date - u.creation_date AS cnt_day\n",
    "FROM stackoverflow.users u\n",
    "JOIN f ON u.id=f.user_id\n",
    "where f.fd = 1\n",
    "'''"
   ]
  },
  {
   "cell_type": "code",
   "execution_count": 42,
   "id": "1be012d6",
   "metadata": {},
   "outputs": [],
   "source": [
    "users_reg = pd.read_sql_query(query, con = engine) "
   ]
  },
  {
   "cell_type": "code",
   "execution_count": 43,
   "id": "a35cb6bb",
   "metadata": {},
   "outputs": [
    {
     "data": {
      "text/html": [
       "<div>\n",
       "<style scoped>\n",
       "    .dataframe tbody tr th:only-of-type {\n",
       "        vertical-align: middle;\n",
       "    }\n",
       "\n",
       "    .dataframe tbody tr th {\n",
       "        vertical-align: top;\n",
       "    }\n",
       "\n",
       "    .dataframe thead th {\n",
       "        text-align: right;\n",
       "    }\n",
       "</style>\n",
       "<table border=\"1\" class=\"dataframe\">\n",
       "  <thead>\n",
       "    <tr style=\"text-align: right;\">\n",
       "      <th></th>\n",
       "      <th>id</th>\n",
       "      <th>cnt_day</th>\n",
       "    </tr>\n",
       "  </thead>\n",
       "  <tbody>\n",
       "    <tr>\n",
       "      <th>0</th>\n",
       "      <td>1</td>\n",
       "      <td>0 days 09:18:29</td>\n",
       "    </tr>\n",
       "    <tr>\n",
       "      <th>1</th>\n",
       "      <td>2</td>\n",
       "      <td>0 days 14:37:03</td>\n",
       "    </tr>\n",
       "    <tr>\n",
       "      <th>2</th>\n",
       "      <td>3</td>\n",
       "      <td>3 days 16:17:09</td>\n",
       "    </tr>\n",
       "    <tr>\n",
       "      <th>3</th>\n",
       "      <td>4</td>\n",
       "      <td>15 days 05:44:22</td>\n",
       "    </tr>\n",
       "    <tr>\n",
       "      <th>4</th>\n",
       "      <td>5</td>\n",
       "      <td>1 days 14:57:51</td>\n",
       "    </tr>\n",
       "  </tbody>\n",
       "</table>\n",
       "</div>"
      ],
      "text/plain": [
       "   id          cnt_day\n",
       "0   1  0 days 09:18:29\n",
       "1   2  0 days 14:37:03\n",
       "2   3  3 days 16:17:09\n",
       "3   4 15 days 05:44:22\n",
       "4   5  1 days 14:57:51"
      ]
     },
     "execution_count": 43,
     "metadata": {},
     "output_type": "execute_result"
    }
   ],
   "source": [
    "users_reg.head()"
   ]
  },
  {
   "cell_type": "markdown",
   "id": "af17bf0a",
   "metadata": {},
   "source": [
    "14.\n",
    "Выведу общую сумму просмотров у постов, опубликованных в каждый месяц 2008 года. Если данных за какой-либо месяц в базе нет, такой месяц пропускаю. Результат отсортирую по убыванию общего количества просмотров."
   ]
  },
  {
   "cell_type": "code",
   "execution_count": 44,
   "id": "e2ed44a6",
   "metadata": {},
   "outputs": [],
   "source": [
    "query = '''\n",
    "SELECT DATE_TRUNC('month', creation_date)::date AS month,\n",
    "       SUM(views_count)  AS total_views\n",
    "FROM stackoverflow.posts\n",
    "GROUP BY DATE_TRUNC('month', creation_date)::date\n",
    "ORDER BY total_views desc\n",
    "'''"
   ]
  },
  {
   "cell_type": "code",
   "execution_count": 45,
   "id": "114e287f",
   "metadata": {},
   "outputs": [],
   "source": [
    "cny_posts_2008 = pd.read_sql_query(query, con = engine) "
   ]
  },
  {
   "cell_type": "code",
   "execution_count": 46,
   "id": "6708754c",
   "metadata": {},
   "outputs": [
    {
     "data": {
      "text/html": [
       "<div>\n",
       "<style scoped>\n",
       "    .dataframe tbody tr th:only-of-type {\n",
       "        vertical-align: middle;\n",
       "    }\n",
       "\n",
       "    .dataframe tbody tr th {\n",
       "        vertical-align: top;\n",
       "    }\n",
       "\n",
       "    .dataframe thead th {\n",
       "        text-align: right;\n",
       "    }\n",
       "</style>\n",
       "<table border=\"1\" class=\"dataframe\">\n",
       "  <thead>\n",
       "    <tr style=\"text-align: right;\">\n",
       "      <th></th>\n",
       "      <th>month</th>\n",
       "      <th>total_views</th>\n",
       "    </tr>\n",
       "  </thead>\n",
       "  <tbody>\n",
       "    <tr>\n",
       "      <th>0</th>\n",
       "      <td>2008-09-01</td>\n",
       "      <td>452928568</td>\n",
       "    </tr>\n",
       "    <tr>\n",
       "      <th>1</th>\n",
       "      <td>2008-10-01</td>\n",
       "      <td>365400138</td>\n",
       "    </tr>\n",
       "    <tr>\n",
       "      <th>2</th>\n",
       "      <td>2008-11-01</td>\n",
       "      <td>221759651</td>\n",
       "    </tr>\n",
       "    <tr>\n",
       "      <th>3</th>\n",
       "      <td>2008-12-01</td>\n",
       "      <td>197792841</td>\n",
       "    </tr>\n",
       "    <tr>\n",
       "      <th>4</th>\n",
       "      <td>2008-08-01</td>\n",
       "      <td>131367083</td>\n",
       "    </tr>\n",
       "    <tr>\n",
       "      <th>5</th>\n",
       "      <td>2008-07-01</td>\n",
       "      <td>669895</td>\n",
       "    </tr>\n",
       "  </tbody>\n",
       "</table>\n",
       "</div>"
      ],
      "text/plain": [
       "        month  total_views\n",
       "0  2008-09-01    452928568\n",
       "1  2008-10-01    365400138\n",
       "2  2008-11-01    221759651\n",
       "3  2008-12-01    197792841\n",
       "4  2008-08-01    131367083\n",
       "5  2008-07-01       669895"
      ]
     },
     "execution_count": 46,
     "metadata": {},
     "output_type": "execute_result"
    }
   ],
   "source": [
    "cny_posts_2008"
   ]
  },
  {
   "cell_type": "markdown",
   "id": "e21faacf",
   "metadata": {},
   "source": [
    "15.\n",
    "Выведу имена самых активных пользователей, которые в первый месяц после регистрации (включая день регистрации) дали больше 100 ответов. Вопросы, которые задавали пользователи, учитывать не буду. Для каждого имени пользователя выведу количество уникальных значений user_id. Отсортирую результат по полю с именами в лексикографическом порядке."
   ]
  },
  {
   "cell_type": "code",
   "execution_count": 47,
   "id": "40ac34c6",
   "metadata": {},
   "outputs": [],
   "source": [
    "query = ''' \n",
    "SELECT u.display_name,\n",
    "       COUNT(DISTINCT p.user_id)\n",
    "FROM stackoverflow.posts AS p\n",
    "JOIN stackoverflow.users AS u \n",
    "ON p.user_id=u.id\n",
    "JOIN stackoverflow.post_types AS pt\n",
    "ON pt.id=p.post_type_id\n",
    "WHERE p.creation_date::date BETWEEN u.creation_date::date AND (u.creation_date::date + INTERVAL '1 month') \n",
    "      AND pt.type LIKE 'Answer'\n",
    "GROUP BY u.display_name\n",
    "HAVING COUNT(p.id) > 100\n",
    "ORDER BY u.display_name;\n",
    "'''"
   ]
  },
  {
   "cell_type": "code",
   "execution_count": 48,
   "id": "fd3b6258",
   "metadata": {},
   "outputs": [],
   "source": [
    "user_name_active = pd.read_sql_query(query, con = engine) "
   ]
  },
  {
   "cell_type": "code",
   "execution_count": 49,
   "id": "85c5d4e9",
   "metadata": {},
   "outputs": [
    {
     "data": {
      "text/html": [
       "<div>\n",
       "<style scoped>\n",
       "    .dataframe tbody tr th:only-of-type {\n",
       "        vertical-align: middle;\n",
       "    }\n",
       "\n",
       "    .dataframe tbody tr th {\n",
       "        vertical-align: top;\n",
       "    }\n",
       "\n",
       "    .dataframe thead th {\n",
       "        text-align: right;\n",
       "    }\n",
       "</style>\n",
       "<table border=\"1\" class=\"dataframe\">\n",
       "  <thead>\n",
       "    <tr style=\"text-align: right;\">\n",
       "      <th></th>\n",
       "      <th>display_name</th>\n",
       "      <th>count</th>\n",
       "    </tr>\n",
       "  </thead>\n",
       "  <tbody>\n",
       "    <tr>\n",
       "      <th>0</th>\n",
       "      <td>1800 INFORMATION</td>\n",
       "      <td>1</td>\n",
       "    </tr>\n",
       "    <tr>\n",
       "      <th>1</th>\n",
       "      <td>Adam Bellaire</td>\n",
       "      <td>1</td>\n",
       "    </tr>\n",
       "    <tr>\n",
       "      <th>2</th>\n",
       "      <td>Adam Davis</td>\n",
       "      <td>1</td>\n",
       "    </tr>\n",
       "    <tr>\n",
       "      <th>3</th>\n",
       "      <td>Adam Liss</td>\n",
       "      <td>1</td>\n",
       "    </tr>\n",
       "    <tr>\n",
       "      <th>4</th>\n",
       "      <td>Alan</td>\n",
       "      <td>8</td>\n",
       "    </tr>\n",
       "    <tr>\n",
       "      <th>...</th>\n",
       "      <td>...</td>\n",
       "      <td>...</td>\n",
       "    </tr>\n",
       "    <tr>\n",
       "      <th>74</th>\n",
       "      <td>lomaxx</td>\n",
       "      <td>1</td>\n",
       "    </tr>\n",
       "    <tr>\n",
       "      <th>75</th>\n",
       "      <td>mattlant</td>\n",
       "      <td>1</td>\n",
       "    </tr>\n",
       "    <tr>\n",
       "      <th>76</th>\n",
       "      <td>paxdiablo</td>\n",
       "      <td>1</td>\n",
       "    </tr>\n",
       "    <tr>\n",
       "      <th>77</th>\n",
       "      <td>tvanfosson</td>\n",
       "      <td>1</td>\n",
       "    </tr>\n",
       "    <tr>\n",
       "      <th>78</th>\n",
       "      <td>tzot</td>\n",
       "      <td>1</td>\n",
       "    </tr>\n",
       "  </tbody>\n",
       "</table>\n",
       "<p>79 rows × 2 columns</p>\n",
       "</div>"
      ],
      "text/plain": [
       "        display_name  count\n",
       "0   1800 INFORMATION      1\n",
       "1      Adam Bellaire      1\n",
       "2         Adam Davis      1\n",
       "3          Adam Liss      1\n",
       "4               Alan      8\n",
       "..               ...    ...\n",
       "74            lomaxx      1\n",
       "75          mattlant      1\n",
       "76         paxdiablo      1\n",
       "77        tvanfosson      1\n",
       "78              tzot      1\n",
       "\n",
       "[79 rows x 2 columns]"
      ]
     },
     "execution_count": 49,
     "metadata": {},
     "output_type": "execute_result"
    }
   ],
   "source": [
    "user_name_active"
   ]
  },
  {
   "cell_type": "markdown",
   "id": "87e0a491",
   "metadata": {},
   "source": [
    "16.\n",
    "Выведу количество постов за 2008 год по месяцам. Отберу посты от пользователей, которые зарегистрировались в сентябре 2008 года и сделали хотя бы один пост в декабре того же года. Отсортирую таблицу по значению месяца по убыванию."
   ]
  },
  {
   "cell_type": "code",
   "execution_count": 50,
   "id": "c0d50156",
   "metadata": {},
   "outputs": [],
   "source": [
    "query = '''\n",
    "WITH users AS\n",
    "(SELECT u.id\n",
    "FROM stackoverflow.posts AS p\n",
    "JOIN stackoverflow.users AS u \n",
    "ON p.user_id=u.id\n",
    "WHERE (u.creation_date::date BETWEEN '2008-09-01' AND '2008-09-30')\n",
    "AND (p.creation_date::date BETWEEN '2008-12-01' AND '2008-12-31')\n",
    "GROUP BY u.id)\n",
    "\n",
    "SELECT DATE_TRUNC('month', p.creation_date)::date AS month,\n",
    "       COUNT(p.id)\n",
    "FROM stackoverflow.posts AS p\n",
    "JOIN users ON users.id=p.user_id\n",
    "GROUP BY DATE_TRUNC('month', p.creation_date)::date\n",
    "ORDER BY month DESC\n",
    "'''"
   ]
  },
  {
   "cell_type": "code",
   "execution_count": 51,
   "id": "41f5258c",
   "metadata": {},
   "outputs": [],
   "source": [
    "cnt_posts_of_month = pd.read_sql_query(query, con = engine)"
   ]
  },
  {
   "cell_type": "code",
   "execution_count": 52,
   "id": "1e798201",
   "metadata": {},
   "outputs": [
    {
     "data": {
      "text/html": [
       "<div>\n",
       "<style scoped>\n",
       "    .dataframe tbody tr th:only-of-type {\n",
       "        vertical-align: middle;\n",
       "    }\n",
       "\n",
       "    .dataframe tbody tr th {\n",
       "        vertical-align: top;\n",
       "    }\n",
       "\n",
       "    .dataframe thead th {\n",
       "        text-align: right;\n",
       "    }\n",
       "</style>\n",
       "<table border=\"1\" class=\"dataframe\">\n",
       "  <thead>\n",
       "    <tr style=\"text-align: right;\">\n",
       "      <th></th>\n",
       "      <th>month</th>\n",
       "      <th>count</th>\n",
       "    </tr>\n",
       "  </thead>\n",
       "  <tbody>\n",
       "    <tr>\n",
       "      <th>0</th>\n",
       "      <td>2008-12-01</td>\n",
       "      <td>17641</td>\n",
       "    </tr>\n",
       "    <tr>\n",
       "      <th>1</th>\n",
       "      <td>2008-11-01</td>\n",
       "      <td>18294</td>\n",
       "    </tr>\n",
       "    <tr>\n",
       "      <th>2</th>\n",
       "      <td>2008-10-01</td>\n",
       "      <td>27171</td>\n",
       "    </tr>\n",
       "    <tr>\n",
       "      <th>3</th>\n",
       "      <td>2008-09-01</td>\n",
       "      <td>24870</td>\n",
       "    </tr>\n",
       "    <tr>\n",
       "      <th>4</th>\n",
       "      <td>2008-08-01</td>\n",
       "      <td>32</td>\n",
       "    </tr>\n",
       "  </tbody>\n",
       "</table>\n",
       "</div>"
      ],
      "text/plain": [
       "        month  count\n",
       "0  2008-12-01  17641\n",
       "1  2008-11-01  18294\n",
       "2  2008-10-01  27171\n",
       "3  2008-09-01  24870\n",
       "4  2008-08-01     32"
      ]
     },
     "execution_count": 52,
     "metadata": {},
     "output_type": "execute_result"
    }
   ],
   "source": [
    "cnt_posts_of_month"
   ]
  },
  {
   "cell_type": "markdown",
   "id": "f34d1602",
   "metadata": {},
   "source": [
    "17.\n",
    "Используя данные о постах, выведу несколько полей:\n",
    "- идентификатор пользователя, который написал пост;\n",
    "- дата создания поста;\n",
    "- количество просмотров у текущего поста;\n",
    "- сумма просмотров постов автора с накоплением.\n",
    "\n",
    "Данные в таблице отсортирую по возрастанию идентификаторов пользователей, а данные об одном и том же пользователе — по возрастанию даты создания поста."
   ]
  },
  {
   "cell_type": "code",
   "execution_count": 53,
   "id": "112226fe",
   "metadata": {},
   "outputs": [],
   "source": [
    "query = '''\n",
    "SELECT user_id, creation_date, views_count,\n",
    "       SUM(views_count) OVER (PARTITION BY user_id ORDER BY creation_date)\n",
    "FROM stackoverflow.posts\n",
    "ORDER BY user_id, creation_date\n",
    "'''"
   ]
  },
  {
   "cell_type": "code",
   "execution_count": 54,
   "id": "73e5c6f3",
   "metadata": {},
   "outputs": [],
   "source": [
    "posts_df =  pd.read_sql_query(query, con = engine)"
   ]
  },
  {
   "cell_type": "code",
   "execution_count": 55,
   "id": "79c26d72",
   "metadata": {},
   "outputs": [
    {
     "data": {
      "text/html": [
       "<div>\n",
       "<style scoped>\n",
       "    .dataframe tbody tr th:only-of-type {\n",
       "        vertical-align: middle;\n",
       "    }\n",
       "\n",
       "    .dataframe tbody tr th {\n",
       "        vertical-align: top;\n",
       "    }\n",
       "\n",
       "    .dataframe thead th {\n",
       "        text-align: right;\n",
       "    }\n",
       "</style>\n",
       "<table border=\"1\" class=\"dataframe\">\n",
       "  <thead>\n",
       "    <tr style=\"text-align: right;\">\n",
       "      <th></th>\n",
       "      <th>user_id</th>\n",
       "      <th>creation_date</th>\n",
       "      <th>views_count</th>\n",
       "      <th>sum</th>\n",
       "    </tr>\n",
       "  </thead>\n",
       "  <tbody>\n",
       "    <tr>\n",
       "      <th>0</th>\n",
       "      <td>1</td>\n",
       "      <td>2008-07-31 23:41:00</td>\n",
       "      <td>480476</td>\n",
       "      <td>480476</td>\n",
       "    </tr>\n",
       "    <tr>\n",
       "      <th>1</th>\n",
       "      <td>1</td>\n",
       "      <td>2008-07-31 23:55:38</td>\n",
       "      <td>136033</td>\n",
       "      <td>616509</td>\n",
       "    </tr>\n",
       "    <tr>\n",
       "      <th>2</th>\n",
       "      <td>1</td>\n",
       "      <td>2008-07-31 23:56:41</td>\n",
       "      <td>0</td>\n",
       "      <td>616509</td>\n",
       "    </tr>\n",
       "    <tr>\n",
       "      <th>3</th>\n",
       "      <td>1</td>\n",
       "      <td>2008-08-04 02:45:08</td>\n",
       "      <td>0</td>\n",
       "      <td>616509</td>\n",
       "    </tr>\n",
       "    <tr>\n",
       "      <th>4</th>\n",
       "      <td>1</td>\n",
       "      <td>2008-08-04 04:31:03</td>\n",
       "      <td>0</td>\n",
       "      <td>616509</td>\n",
       "    </tr>\n",
       "    <tr>\n",
       "      <th>...</th>\n",
       "      <td>...</td>\n",
       "      <td>...</td>\n",
       "      <td>...</td>\n",
       "      <td>...</td>\n",
       "    </tr>\n",
       "    <tr>\n",
       "      <th>243791</th>\n",
       "      <td>5696608</td>\n",
       "      <td>2008-12-23 16:00:37</td>\n",
       "      <td>0</td>\n",
       "      <td>2804</td>\n",
       "    </tr>\n",
       "    <tr>\n",
       "      <th>243792</th>\n",
       "      <td>5696608</td>\n",
       "      <td>2008-12-23 17:35:09</td>\n",
       "      <td>0</td>\n",
       "      <td>2804</td>\n",
       "    </tr>\n",
       "    <tr>\n",
       "      <th>243793</th>\n",
       "      <td>5696608</td>\n",
       "      <td>2008-12-24 01:02:48</td>\n",
       "      <td>0</td>\n",
       "      <td>2804</td>\n",
       "    </tr>\n",
       "    <tr>\n",
       "      <th>243794</th>\n",
       "      <td>5696608</td>\n",
       "      <td>2008-12-30 14:34:45</td>\n",
       "      <td>0</td>\n",
       "      <td>2804</td>\n",
       "    </tr>\n",
       "    <tr>\n",
       "      <th>243795</th>\n",
       "      <td>5696608</td>\n",
       "      <td>2008-12-30 16:32:12</td>\n",
       "      <td>0</td>\n",
       "      <td>2804</td>\n",
       "    </tr>\n",
       "  </tbody>\n",
       "</table>\n",
       "<p>243796 rows × 4 columns</p>\n",
       "</div>"
      ],
      "text/plain": [
       "        user_id       creation_date  views_count     sum\n",
       "0             1 2008-07-31 23:41:00       480476  480476\n",
       "1             1 2008-07-31 23:55:38       136033  616509\n",
       "2             1 2008-07-31 23:56:41            0  616509\n",
       "3             1 2008-08-04 02:45:08            0  616509\n",
       "4             1 2008-08-04 04:31:03            0  616509\n",
       "...         ...                 ...          ...     ...\n",
       "243791  5696608 2008-12-23 16:00:37            0    2804\n",
       "243792  5696608 2008-12-23 17:35:09            0    2804\n",
       "243793  5696608 2008-12-24 01:02:48            0    2804\n",
       "243794  5696608 2008-12-30 14:34:45            0    2804\n",
       "243795  5696608 2008-12-30 16:32:12            0    2804\n",
       "\n",
       "[243796 rows x 4 columns]"
      ]
     },
     "execution_count": 55,
     "metadata": {},
     "output_type": "execute_result"
    }
   ],
   "source": [
    "posts_df"
   ]
  },
  {
   "cell_type": "markdown",
   "id": "91617037",
   "metadata": {},
   "source": [
    "18.\n",
    "Сколько в среднем дней в период с 1 по 7 декабря 2008 года включительно пользователи взаимодействовали с платформой? Для каждого пользователя отберу дни, в которые он или она опубликовали хотя бы один пост, результат округлю до целого числа."
   ]
  },
  {
   "cell_type": "code",
   "execution_count": 56,
   "id": "fcc489da",
   "metadata": {},
   "outputs": [],
   "source": [
    "query = '''\n",
    "WITH a AS\n",
    "(SELECT user_id, \n",
    "       DATE_TRUNC('DAY', creation_date)::date AS days,\n",
    "       COUNT(user_id) AS post_cnt\n",
    "FROM stackoverflow.posts\n",
    "WHERE creation_date BETWEEN '2008-12-01' AND '2008-12-07'\n",
    "GROUP BY user_id, DATE_TRUNC('DAY', creation_date)::date),\n",
    "b AS \n",
    "(SELECT user_id,\n",
    "       COUNT(days) AS days_cnt\n",
    "FROM a\n",
    "GROUP BY user_id)\n",
    "SELECT ROUND(AVG(days_cnt))\n",
    "FROM b\n",
    "'''"
   ]
  },
  {
   "cell_type": "code",
   "execution_count": 57,
   "id": "dc23fd54",
   "metadata": {},
   "outputs": [],
   "source": [
    "activity = pd.read_sql_query(query, con = engine)"
   ]
  },
  {
   "cell_type": "code",
   "execution_count": 58,
   "id": "207bdf16",
   "metadata": {},
   "outputs": [
    {
     "data": {
      "text/html": [
       "<div>\n",
       "<style scoped>\n",
       "    .dataframe tbody tr th:only-of-type {\n",
       "        vertical-align: middle;\n",
       "    }\n",
       "\n",
       "    .dataframe tbody tr th {\n",
       "        vertical-align: top;\n",
       "    }\n",
       "\n",
       "    .dataframe thead th {\n",
       "        text-align: right;\n",
       "    }\n",
       "</style>\n",
       "<table border=\"1\" class=\"dataframe\">\n",
       "  <thead>\n",
       "    <tr style=\"text-align: right;\">\n",
       "      <th></th>\n",
       "      <th>round</th>\n",
       "    </tr>\n",
       "  </thead>\n",
       "  <tbody>\n",
       "    <tr>\n",
       "      <th>0</th>\n",
       "      <td>2.0</td>\n",
       "    </tr>\n",
       "  </tbody>\n",
       "</table>\n",
       "</div>"
      ],
      "text/plain": [
       "   round\n",
       "0    2.0"
      ]
     },
     "execution_count": 58,
     "metadata": {},
     "output_type": "execute_result"
    }
   ],
   "source": [
    "activity"
   ]
  },
  {
   "cell_type": "markdown",
   "id": "0369ebea",
   "metadata": {},
   "source": [
    "19.\n",
    "На сколько процентов менялось количество постов ежемесячно с 1 сентября по 31 декабря 2008 года? Отображу таблицу со следующими полями:\n",
    "Номер месяца.\n",
    "Количество постов за месяц.\n",
    "Процент, который показывает, насколько изменилось количество постов в текущем месяце по сравнению с предыдущим.\n",
    "Если постов стало меньше, значение процента будет отрицательным, если больше — положительным. Округлю значение процента до двух знаков после запятой."
   ]
  },
  {
   "cell_type": "code",
   "execution_count": 59,
   "id": "d8e9d8ed",
   "metadata": {},
   "outputs": [],
   "source": [
    "query = '''\n",
    "WITH a AS\n",
    "(SELECT EXTRACT(MONTH FROM creation_date) AS month,\n",
    "       COUNT(id) AS posts_cnt,\n",
    "       LAG(COUNT(id)) OVER (ORDER BY EXTRACT(MONTH FROM creation_date))\n",
    "FROM stackoverflow.posts\n",
    "WHERE creation_date BETWEEN '2008-09-01' AND '2008-12-31'\n",
    "GROUP BY EXTRACT(MONTH FROM creation_date))\n",
    "SELECT month, posts_cnt,\n",
    "       ROUND((posts_cnt::numeric/LAG(posts_cnt) OVER()-1)*100, 2)\n",
    "FROM a\n",
    "ORDER BY month\n",
    "'''"
   ]
  },
  {
   "cell_type": "code",
   "execution_count": 60,
   "id": "d8d6011a",
   "metadata": {},
   "outputs": [],
   "source": [
    "posts_time = pd.read_sql_query(query, con = engine)"
   ]
  },
  {
   "cell_type": "code",
   "execution_count": 61,
   "id": "66ac4df0",
   "metadata": {},
   "outputs": [
    {
     "data": {
      "text/html": [
       "<div>\n",
       "<style scoped>\n",
       "    .dataframe tbody tr th:only-of-type {\n",
       "        vertical-align: middle;\n",
       "    }\n",
       "\n",
       "    .dataframe tbody tr th {\n",
       "        vertical-align: top;\n",
       "    }\n",
       "\n",
       "    .dataframe thead th {\n",
       "        text-align: right;\n",
       "    }\n",
       "</style>\n",
       "<table border=\"1\" class=\"dataframe\">\n",
       "  <thead>\n",
       "    <tr style=\"text-align: right;\">\n",
       "      <th></th>\n",
       "      <th>month</th>\n",
       "      <th>posts_cnt</th>\n",
       "      <th>round</th>\n",
       "    </tr>\n",
       "  </thead>\n",
       "  <tbody>\n",
       "    <tr>\n",
       "      <th>0</th>\n",
       "      <td>9.0</td>\n",
       "      <td>70371</td>\n",
       "      <td>NaN</td>\n",
       "    </tr>\n",
       "    <tr>\n",
       "      <th>1</th>\n",
       "      <td>10.0</td>\n",
       "      <td>63102</td>\n",
       "      <td>-10.33</td>\n",
       "    </tr>\n",
       "    <tr>\n",
       "      <th>2</th>\n",
       "      <td>11.0</td>\n",
       "      <td>46975</td>\n",
       "      <td>-25.56</td>\n",
       "    </tr>\n",
       "    <tr>\n",
       "      <th>3</th>\n",
       "      <td>12.0</td>\n",
       "      <td>44592</td>\n",
       "      <td>-5.07</td>\n",
       "    </tr>\n",
       "  </tbody>\n",
       "</table>\n",
       "</div>"
      ],
      "text/plain": [
       "   month  posts_cnt  round\n",
       "0    9.0      70371    NaN\n",
       "1   10.0      63102 -10.33\n",
       "2   11.0      46975 -25.56\n",
       "3   12.0      44592  -5.07"
      ]
     },
     "execution_count": 61,
     "metadata": {},
     "output_type": "execute_result"
    }
   ],
   "source": [
    "posts_time"
   ]
  },
  {
   "cell_type": "markdown",
   "id": "1e3fffab",
   "metadata": {},
   "source": [
    "20.\n",
    "Найду пользователя, который опубликовал больше всего постов за всё время с момента регистрации. Выведу данные его активности за октябрь 2008 года в таком виде:\n",
    "- номер недели;\n",
    "- дата и время последнего поста, опубликованного на этой неделе."
   ]
  },
  {
   "cell_type": "code",
   "execution_count": 62,
   "id": "241cf730",
   "metadata": {},
   "outputs": [],
   "source": [
    "query = '''\n",
    "WITH u AS\n",
    "(SELECT user_id,\n",
    "       COUNT(id) AS posts_cnt\n",
    "FROM stackoverflow.posts\n",
    "GROUP BY user_id\n",
    "order by posts_cnt DESC\n",
    "LIMIT 1)\n",
    "SELECT EXTRACT(WEEK FROM p.creation_date) AS week,\n",
    "       MAX(p.creation_date) \n",
    "FROM u JOIN stackoverflow.posts p ON u.user_id=p.user_id\n",
    "WHERE DATE_TRUNC('month', p.creation_date)::date = '2008-10-01'\n",
    "GROUP BY week;\n",
    "'''"
   ]
  },
  {
   "cell_type": "code",
   "execution_count": 63,
   "id": "2feeb398",
   "metadata": {},
   "outputs": [],
   "source": [
    "user_active_max = pd.read_sql_query(query, con = engine)"
   ]
  },
  {
   "cell_type": "code",
   "execution_count": 64,
   "id": "0e8d340c",
   "metadata": {},
   "outputs": [
    {
     "data": {
      "text/html": [
       "<div>\n",
       "<style scoped>\n",
       "    .dataframe tbody tr th:only-of-type {\n",
       "        vertical-align: middle;\n",
       "    }\n",
       "\n",
       "    .dataframe tbody tr th {\n",
       "        vertical-align: top;\n",
       "    }\n",
       "\n",
       "    .dataframe thead th {\n",
       "        text-align: right;\n",
       "    }\n",
       "</style>\n",
       "<table border=\"1\" class=\"dataframe\">\n",
       "  <thead>\n",
       "    <tr style=\"text-align: right;\">\n",
       "      <th></th>\n",
       "      <th>week</th>\n",
       "      <th>max</th>\n",
       "    </tr>\n",
       "  </thead>\n",
       "  <tbody>\n",
       "    <tr>\n",
       "      <th>0</th>\n",
       "      <td>40.0</td>\n",
       "      <td>2008-10-05 09:00:58</td>\n",
       "    </tr>\n",
       "    <tr>\n",
       "      <th>1</th>\n",
       "      <td>41.0</td>\n",
       "      <td>2008-10-12 21:22:23</td>\n",
       "    </tr>\n",
       "    <tr>\n",
       "      <th>2</th>\n",
       "      <td>42.0</td>\n",
       "      <td>2008-10-19 06:49:30</td>\n",
       "    </tr>\n",
       "    <tr>\n",
       "      <th>3</th>\n",
       "      <td>43.0</td>\n",
       "      <td>2008-10-26 21:44:36</td>\n",
       "    </tr>\n",
       "    <tr>\n",
       "      <th>4</th>\n",
       "      <td>44.0</td>\n",
       "      <td>2008-10-31 22:16:01</td>\n",
       "    </tr>\n",
       "  </tbody>\n",
       "</table>\n",
       "</div>"
      ],
      "text/plain": [
       "   week                 max\n",
       "0  40.0 2008-10-05 09:00:58\n",
       "1  41.0 2008-10-12 21:22:23\n",
       "2  42.0 2008-10-19 06:49:30\n",
       "3  43.0 2008-10-26 21:44:36\n",
       "4  44.0 2008-10-31 22:16:01"
      ]
     },
     "execution_count": 64,
     "metadata": {},
     "output_type": "execute_result"
    }
   ],
   "source": [
    "user_active_max"
   ]
  }
 ],
 "metadata": {
  "ExecuteTimeLog": [
   {
    "duration": 1413,
    "start_time": "2023-12-03T08:02:56.822Z"
   },
   {
    "duration": 3,
    "start_time": "2023-12-03T08:03:07.678Z"
   },
   {
    "duration": 2,
    "start_time": "2023-12-03T08:03:33.892Z"
   },
   {
    "duration": 8428,
    "start_time": "2023-12-03T08:03:43.774Z"
   },
   {
    "duration": 3,
    "start_time": "2023-12-03T08:04:00.536Z"
   },
   {
    "duration": 555,
    "start_time": "2023-12-03T08:04:10.554Z"
   },
   {
    "duration": 9,
    "start_time": "2023-12-03T08:04:18.562Z"
   },
   {
    "duration": 1168,
    "start_time": "2023-12-03T08:04:30.522Z"
   },
   {
    "duration": 5,
    "start_time": "2023-12-03T08:05:09.429Z"
   },
   {
    "duration": 3,
    "start_time": "2023-12-03T08:05:25.917Z"
   },
   {
    "duration": 1006,
    "start_time": "2023-12-03T08:05:32.550Z"
   },
   {
    "duration": 3,
    "start_time": "2023-12-03T08:10:37.636Z"
   },
   {
    "duration": 106,
    "start_time": "2023-12-03T08:11:33.706Z"
   },
   {
    "duration": 174,
    "start_time": "2023-12-03T08:12:14.265Z"
   },
   {
    "duration": 18,
    "start_time": "2023-12-03T08:12:41.037Z"
   },
   {
    "duration": 24,
    "start_time": "2023-12-03T08:12:54.446Z"
   },
   {
    "duration": 1410,
    "start_time": "2023-12-03T08:14:09.220Z"
   },
   {
    "duration": 10,
    "start_time": "2023-12-03T08:26:01.545Z"
   },
   {
    "duration": 695,
    "start_time": "2023-12-03T08:27:14.670Z"
   },
   {
    "duration": 1485,
    "start_time": "2023-12-05T12:02:12.543Z"
   },
   {
    "duration": 3,
    "start_time": "2023-12-05T12:02:14.030Z"
   },
   {
    "duration": 33,
    "start_time": "2023-12-05T12:02:14.035Z"
   },
   {
    "duration": 9553,
    "start_time": "2023-12-05T12:02:14.070Z"
   },
   {
    "duration": 4,
    "start_time": "2023-12-05T12:02:23.625Z"
   },
   {
    "duration": 583,
    "start_time": "2023-12-05T12:02:23.630Z"
   },
   {
    "duration": 8,
    "start_time": "2023-12-05T12:02:24.214Z"
   },
   {
    "duration": 1176,
    "start_time": "2023-12-05T12:02:24.223Z"
   },
   {
    "duration": 3,
    "start_time": "2023-12-05T12:02:25.401Z"
   },
   {
    "duration": 186,
    "start_time": "2023-12-05T12:02:25.405Z"
   },
   {
    "duration": 11,
    "start_time": "2023-12-05T12:02:25.593Z"
   },
   {
    "duration": 620,
    "start_time": "2023-12-05T12:02:25.606Z"
   },
   {
    "duration": 1402,
    "start_time": "2023-12-11T06:32:03.387Z"
   },
   {
    "duration": 3,
    "start_time": "2023-12-11T06:32:04.790Z"
   },
   {
    "duration": 4,
    "start_time": "2023-12-11T06:32:04.794Z"
   },
   {
    "duration": 7917,
    "start_time": "2023-12-11T06:32:04.800Z"
   },
   {
    "duration": 3,
    "start_time": "2023-12-11T06:32:12.719Z"
   },
   {
    "duration": 600,
    "start_time": "2023-12-11T06:32:12.723Z"
   },
   {
    "duration": 7,
    "start_time": "2023-12-11T06:32:13.325Z"
   },
   {
    "duration": 1190,
    "start_time": "2023-12-11T06:32:13.333Z"
   },
   {
    "duration": 3,
    "start_time": "2023-12-11T06:32:14.524Z"
   },
   {
    "duration": 224,
    "start_time": "2023-12-11T06:32:14.529Z"
   },
   {
    "duration": 15,
    "start_time": "2023-12-11T06:32:14.754Z"
   },
   {
    "duration": 606,
    "start_time": "2023-12-11T06:32:14.771Z"
   },
   {
    "duration": 185,
    "start_time": "2023-12-11T06:36:39.633Z"
   },
   {
    "duration": 15,
    "start_time": "2023-12-11T06:36:49.516Z"
   },
   {
    "duration": 9,
    "start_time": "2023-12-11T06:37:17.388Z"
   },
   {
    "duration": 3,
    "start_time": "2023-12-11T06:37:55.060Z"
   },
   {
    "duration": 63,
    "start_time": "2023-12-11T06:38:18.064Z"
   },
   {
    "duration": 7,
    "start_time": "2023-12-11T06:38:22.901Z"
   },
   {
    "duration": 2,
    "start_time": "2023-12-11T06:40:47.348Z"
   },
   {
    "duration": 91,
    "start_time": "2023-12-11T06:41:33.500Z"
   },
   {
    "duration": 6,
    "start_time": "2023-12-11T06:41:41.147Z"
   },
   {
    "duration": 2,
    "start_time": "2023-12-11T06:42:30.148Z"
   },
   {
    "duration": 71,
    "start_time": "2023-12-11T06:42:54.807Z"
   },
   {
    "duration": 5,
    "start_time": "2023-12-11T06:42:59.392Z"
   },
   {
    "duration": 3,
    "start_time": "2023-12-11T06:46:58.852Z"
   },
   {
    "duration": 39,
    "start_time": "2023-12-11T06:47:31.263Z"
   },
   {
    "duration": 8,
    "start_time": "2023-12-11T06:47:40.331Z"
   },
   {
    "duration": 2,
    "start_time": "2023-12-11T06:48:57.800Z"
   },
   {
    "duration": 52,
    "start_time": "2023-12-11T06:49:44.401Z"
   },
   {
    "duration": 6,
    "start_time": "2023-12-11T06:49:49.112Z"
   },
   {
    "duration": 2,
    "start_time": "2023-12-11T06:51:09.720Z"
   },
   {
    "duration": 77,
    "start_time": "2023-12-11T06:51:35.079Z"
   },
   {
    "duration": 6,
    "start_time": "2023-12-11T06:51:40.248Z"
   },
   {
    "duration": 2,
    "start_time": "2023-12-11T06:52:53.784Z"
   },
   {
    "duration": 410,
    "start_time": "2023-12-11T06:53:21.559Z"
   },
   {
    "duration": 11,
    "start_time": "2023-12-11T06:53:25.291Z"
   },
   {
    "duration": 8,
    "start_time": "2023-12-11T06:53:32.384Z"
   },
   {
    "duration": 2,
    "start_time": "2023-12-11T06:54:10.272Z"
   },
   {
    "duration": 147,
    "start_time": "2023-12-11T06:55:09.861Z"
   },
   {
    "duration": 5,
    "start_time": "2023-12-11T06:55:11.632Z"
   },
   {
    "duration": 2,
    "start_time": "2023-12-11T06:56:10.273Z"
   },
   {
    "duration": 195,
    "start_time": "2023-12-11T06:56:31.951Z"
   },
   {
    "duration": 3,
    "start_time": "2023-12-11T06:56:35.260Z"
   },
   {
    "duration": 91,
    "start_time": "2023-12-11T06:56:36.300Z"
   },
   {
    "duration": 2,
    "start_time": "2023-12-11T06:57:06.003Z"
   },
   {
    "duration": 147,
    "start_time": "2023-12-11T06:57:06.411Z"
   },
   {
    "duration": 6,
    "start_time": "2023-12-11T06:57:07.395Z"
   },
   {
    "duration": 2,
    "start_time": "2023-12-11T06:57:09.411Z"
   },
   {
    "duration": 97,
    "start_time": "2023-12-11T06:57:10.072Z"
   },
   {
    "duration": 113,
    "start_time": "2023-12-11T07:00:12.050Z"
   },
   {
    "duration": 7,
    "start_time": "2023-12-11T07:00:26.895Z"
   },
   {
    "duration": 1279,
    "start_time": "2023-12-11T07:00:35.546Z"
   },
   {
    "duration": 2,
    "start_time": "2023-12-11T07:00:36.827Z"
   },
   {
    "duration": 10,
    "start_time": "2023-12-11T07:00:36.831Z"
   },
   {
    "duration": 8790,
    "start_time": "2023-12-11T07:00:36.843Z"
   },
   {
    "duration": 2,
    "start_time": "2023-12-11T07:00:45.635Z"
   },
   {
    "duration": 244,
    "start_time": "2023-12-11T07:00:45.638Z"
   },
   {
    "duration": 13,
    "start_time": "2023-12-11T07:00:45.884Z"
   },
   {
    "duration": 4,
    "start_time": "2023-12-11T07:00:45.898Z"
   },
   {
    "duration": 69,
    "start_time": "2023-12-11T07:00:45.904Z"
   },
   {
    "duration": 6,
    "start_time": "2023-12-11T07:00:45.976Z"
   },
   {
    "duration": 15,
    "start_time": "2023-12-11T07:00:45.983Z"
   },
   {
    "duration": 90,
    "start_time": "2023-12-11T07:00:45.999Z"
   },
   {
    "duration": 6,
    "start_time": "2023-12-11T07:00:46.091Z"
   },
   {
    "duration": 3,
    "start_time": "2023-12-11T07:00:46.099Z"
   },
   {
    "duration": 68,
    "start_time": "2023-12-11T07:00:46.103Z"
   },
   {
    "duration": 8,
    "start_time": "2023-12-11T07:00:46.173Z"
   },
   {
    "duration": 3,
    "start_time": "2023-12-11T07:00:46.183Z"
   },
   {
    "duration": 44,
    "start_time": "2023-12-11T07:00:46.187Z"
   },
   {
    "duration": 7,
    "start_time": "2023-12-11T07:00:46.232Z"
   },
   {
    "duration": 5,
    "start_time": "2023-12-11T07:00:46.241Z"
   },
   {
    "duration": 55,
    "start_time": "2023-12-11T07:00:46.247Z"
   },
   {
    "duration": 7,
    "start_time": "2023-12-11T07:00:46.303Z"
   },
   {
    "duration": 3,
    "start_time": "2023-12-11T07:00:46.312Z"
   },
   {
    "duration": 81,
    "start_time": "2023-12-11T07:00:46.317Z"
   },
   {
    "duration": 7,
    "start_time": "2023-12-11T07:00:46.400Z"
   },
   {
    "duration": 3,
    "start_time": "2023-12-11T07:00:46.408Z"
   },
   {
    "duration": 422,
    "start_time": "2023-12-11T07:00:46.413Z"
   },
   {
    "duration": 8,
    "start_time": "2023-12-11T07:00:46.839Z"
   },
   {
    "duration": 10,
    "start_time": "2023-12-11T07:00:46.848Z"
   },
   {
    "duration": 164,
    "start_time": "2023-12-11T07:00:46.864Z"
   },
   {
    "duration": 6,
    "start_time": "2023-12-11T07:00:47.030Z"
   },
   {
    "duration": 13,
    "start_time": "2023-12-11T07:00:47.038Z"
   },
   {
    "duration": 213,
    "start_time": "2023-12-11T07:00:47.052Z"
   },
   {
    "duration": 0,
    "start_time": "2023-12-11T07:00:47.267Z"
   },
   {
    "duration": 2,
    "start_time": "2023-12-11T07:02:24.114Z"
   },
   {
    "duration": 52,
    "start_time": "2023-12-11T07:02:27.709Z"
   },
   {
    "duration": 51,
    "start_time": "2023-12-11T07:02:34.838Z"
   },
   {
    "duration": 7,
    "start_time": "2023-12-11T07:02:35.699Z"
   },
   {
    "duration": 3,
    "start_time": "2023-12-11T07:03:21.004Z"
   },
   {
    "duration": 127,
    "start_time": "2023-12-11T07:05:00.446Z"
   },
   {
    "duration": 3,
    "start_time": "2023-12-11T07:05:10.439Z"
   },
   {
    "duration": 42,
    "start_time": "2023-12-11T07:05:11.149Z"
   },
   {
    "duration": 8,
    "start_time": "2023-12-11T07:05:15.931Z"
   },
   {
    "duration": 3,
    "start_time": "2023-12-11T07:06:30.771Z"
   },
   {
    "duration": 44,
    "start_time": "2023-12-11T07:06:59.219Z"
   },
   {
    "duration": 8,
    "start_time": "2023-12-11T07:07:07.303Z"
   },
   {
    "duration": 3,
    "start_time": "2023-12-11T07:07:48.819Z"
   },
   {
    "duration": 327,
    "start_time": "2023-12-11T07:08:09.831Z"
   },
   {
    "duration": 7,
    "start_time": "2023-12-11T07:08:15.891Z"
   },
   {
    "duration": 2,
    "start_time": "2023-12-11T07:09:55.831Z"
   },
   {
    "duration": 117,
    "start_time": "2023-12-11T07:10:28.091Z"
   },
   {
    "duration": 6,
    "start_time": "2023-12-11T07:10:31.451Z"
   },
   {
    "duration": 3,
    "start_time": "2023-12-11T07:11:16.687Z"
   },
   {
    "duration": 152,
    "start_time": "2023-12-11T07:11:55.178Z"
   },
   {
    "duration": 8,
    "start_time": "2023-12-11T07:11:58.327Z"
   },
   {
    "duration": 3,
    "start_time": "2023-12-11T07:12:37.888Z"
   },
   {
    "duration": 141,
    "start_time": "2023-12-11T07:13:13.660Z"
   },
   {
    "duration": 6,
    "start_time": "2023-12-11T07:13:17.038Z"
   },
   {
    "duration": 2,
    "start_time": "2023-12-11T07:14:09.099Z"
   },
   {
    "duration": 1170,
    "start_time": "2023-12-11T07:14:29.379Z"
   },
   {
    "duration": 11,
    "start_time": "2023-12-11T07:14:32.846Z"
   },
   {
    "duration": 2,
    "start_time": "2023-12-11T07:15:08.907Z"
   },
   {
    "duration": 56,
    "start_time": "2023-12-11T07:15:34.059Z"
   },
   {
    "duration": 5,
    "start_time": "2023-12-11T07:15:38.011Z"
   },
   {
    "duration": 3,
    "start_time": "2023-12-11T07:16:12.110Z"
   },
   {
    "duration": 189,
    "start_time": "2023-12-11T07:18:35.586Z"
   },
   {
    "duration": 6,
    "start_time": "2023-12-11T07:18:39.147Z"
   },
   {
    "duration": 2,
    "start_time": "2023-12-11T07:19:25.847Z"
   },
   {
    "duration": 136,
    "start_time": "2023-12-11T07:19:57.591Z"
   },
   {
    "duration": 7,
    "start_time": "2023-12-11T07:20:01.219Z"
   }
  ],
  "kernelspec": {
   "display_name": "Python 3 (ipykernel)",
   "language": "python",
   "name": "python3"
  },
  "language_info": {
   "codemirror_mode": {
    "name": "ipython",
    "version": 3
   },
   "file_extension": ".py",
   "mimetype": "text/x-python",
   "name": "python",
   "nbconvert_exporter": "python",
   "pygments_lexer": "ipython3",
   "version": "3.11.4"
  },
  "toc": {
   "base_numbering": 1,
   "nav_menu": {},
   "number_sections": true,
   "sideBar": true,
   "skip_h1_title": true,
   "title_cell": "Table of Contents",
   "title_sidebar": "Contents",
   "toc_cell": false,
   "toc_position": {},
   "toc_section_display": true,
   "toc_window_display": false
  }
 },
 "nbformat": 4,
 "nbformat_minor": 5
}
