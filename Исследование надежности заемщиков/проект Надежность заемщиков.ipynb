{
 "cells": [
  {
   "cell_type": "markdown",
   "id": "386f2ae7",
   "metadata": {
    "deletable": false,
    "editable": false,
    "id": "386f2ae7"
   },
   "source": [
    "# Исследование надежности заемщиков\n"
   ]
  },
  {
   "cell_type": "markdown",
   "id": "12de4917",
   "metadata": {},
   "source": [
    "***Описание проекта***\n",
    "\n",
    "В моем распоряжении имеются данные кредитного отдела банка. Задача: выяснить, влияет ли семейное положение и количество детей у заемщиков на погашение кредита в срок.\n",
    "\n",
    "***Описание данных***\n",
    "\n",
    "У меня есть датафрейм `data.csv` который содержит следующую информацию:\n",
    "- столбец `children` — количество детей в семье;\n",
    "- столбец `days_employed` — общий трудовой стаж в днях;\n",
    "- столбец `dob_years` — возраст клиента в годах;\n",
    "- столбец `education` — уровень образования клиента;\n",
    "- столбец `education_id` — идентификатор уровня образования;\n",
    "- столбец `family_status` — семейное положение;\n",
    "- столбец `family_status_id` — идентификатор семейного положения;\n",
    "- столбец `gender` — пол клиента;\n",
    "- столбец `income_type` — тип занятости;\n",
    "- столбец `debt` — имел ли задолженность по возврату кредитов;\n",
    "- столбец `total_income` — ежемесячный доход;\n",
    "- столбец `purpose` — цель получения кредита."
   ]
  },
  {
   "cell_type": "markdown",
   "id": "3c9f838e",
   "metadata": {
    "deletable": false,
    "editable": false,
    "id": "3c9f838e"
   },
   "source": [
    "**1. Импортирую библиотеку pandas. Считаю данные из csv-файла в датафрейм и сохраню в переменную `data`.**"
   ]
  },
  {
   "cell_type": "code",
   "execution_count": 1,
   "id": "77a68a90",
   "metadata": {
    "deletable": false,
    "id": "77a68a90"
   },
   "outputs": [],
   "source": [
    "import pandas as pd\n",
    "\n",
    "try:\n",
    "    data = pd.read_csv('/datasets/data.csv')\n",
    "except:\n",
    "    data = pd.read_csv('C:\\\\Users\\\\1\\\\Desktop\\\\учеба\\\\python\\\\предобработка данных\\\\data.csv')"
   ]
  },
  {
   "cell_type": "markdown",
   "id": "45365635",
   "metadata": {
    "deletable": false,
    "editable": false,
    "id": "45365635"
   },
   "source": [
    "**2. Выведу первые 20 строчек датафрейма `data` на экран.**"
   ]
  },
  {
   "cell_type": "code",
   "execution_count": 2,
   "id": "b0451a9a",
   "metadata": {
    "deletable": false,
    "id": "b0451a9a",
    "outputId": "1a8f3ef2-d323-4ec2-ddf7-89670b5944c4"
   },
   "outputs": [
    {
     "data": {
      "text/html": [
       "<div>\n",
       "<style scoped>\n",
       "    .dataframe tbody tr th:only-of-type {\n",
       "        vertical-align: middle;\n",
       "    }\n",
       "\n",
       "    .dataframe tbody tr th {\n",
       "        vertical-align: top;\n",
       "    }\n",
       "\n",
       "    .dataframe thead th {\n",
       "        text-align: right;\n",
       "    }\n",
       "</style>\n",
       "<table border=\"1\" class=\"dataframe\">\n",
       "  <thead>\n",
       "    <tr style=\"text-align: right;\">\n",
       "      <th></th>\n",
       "      <th>children</th>\n",
       "      <th>days_employed</th>\n",
       "      <th>dob_years</th>\n",
       "      <th>education</th>\n",
       "      <th>education_id</th>\n",
       "      <th>family_status</th>\n",
       "      <th>family_status_id</th>\n",
       "      <th>gender</th>\n",
       "      <th>income_type</th>\n",
       "      <th>debt</th>\n",
       "      <th>total_income</th>\n",
       "      <th>purpose</th>\n",
       "    </tr>\n",
       "  </thead>\n",
       "  <tbody>\n",
       "    <tr>\n",
       "      <th>0</th>\n",
       "      <td>1</td>\n",
       "      <td>-8437.673028</td>\n",
       "      <td>42</td>\n",
       "      <td>высшее</td>\n",
       "      <td>0</td>\n",
       "      <td>женат / замужем</td>\n",
       "      <td>0</td>\n",
       "      <td>F</td>\n",
       "      <td>сотрудник</td>\n",
       "      <td>0</td>\n",
       "      <td>253875.639453</td>\n",
       "      <td>покупка жилья</td>\n",
       "    </tr>\n",
       "    <tr>\n",
       "      <th>1</th>\n",
       "      <td>1</td>\n",
       "      <td>-4024.803754</td>\n",
       "      <td>36</td>\n",
       "      <td>среднее</td>\n",
       "      <td>1</td>\n",
       "      <td>женат / замужем</td>\n",
       "      <td>0</td>\n",
       "      <td>F</td>\n",
       "      <td>сотрудник</td>\n",
       "      <td>0</td>\n",
       "      <td>112080.014102</td>\n",
       "      <td>приобретение автомобиля</td>\n",
       "    </tr>\n",
       "    <tr>\n",
       "      <th>2</th>\n",
       "      <td>0</td>\n",
       "      <td>-5623.422610</td>\n",
       "      <td>33</td>\n",
       "      <td>Среднее</td>\n",
       "      <td>1</td>\n",
       "      <td>женат / замужем</td>\n",
       "      <td>0</td>\n",
       "      <td>M</td>\n",
       "      <td>сотрудник</td>\n",
       "      <td>0</td>\n",
       "      <td>145885.952297</td>\n",
       "      <td>покупка жилья</td>\n",
       "    </tr>\n",
       "    <tr>\n",
       "      <th>3</th>\n",
       "      <td>3</td>\n",
       "      <td>-4124.747207</td>\n",
       "      <td>32</td>\n",
       "      <td>среднее</td>\n",
       "      <td>1</td>\n",
       "      <td>женат / замужем</td>\n",
       "      <td>0</td>\n",
       "      <td>M</td>\n",
       "      <td>сотрудник</td>\n",
       "      <td>0</td>\n",
       "      <td>267628.550329</td>\n",
       "      <td>дополнительное образование</td>\n",
       "    </tr>\n",
       "    <tr>\n",
       "      <th>4</th>\n",
       "      <td>0</td>\n",
       "      <td>340266.072047</td>\n",
       "      <td>53</td>\n",
       "      <td>среднее</td>\n",
       "      <td>1</td>\n",
       "      <td>гражданский брак</td>\n",
       "      <td>1</td>\n",
       "      <td>F</td>\n",
       "      <td>пенсионер</td>\n",
       "      <td>0</td>\n",
       "      <td>158616.077870</td>\n",
       "      <td>сыграть свадьбу</td>\n",
       "    </tr>\n",
       "    <tr>\n",
       "      <th>5</th>\n",
       "      <td>0</td>\n",
       "      <td>-926.185831</td>\n",
       "      <td>27</td>\n",
       "      <td>высшее</td>\n",
       "      <td>0</td>\n",
       "      <td>гражданский брак</td>\n",
       "      <td>1</td>\n",
       "      <td>M</td>\n",
       "      <td>компаньон</td>\n",
       "      <td>0</td>\n",
       "      <td>255763.565419</td>\n",
       "      <td>покупка жилья</td>\n",
       "    </tr>\n",
       "    <tr>\n",
       "      <th>6</th>\n",
       "      <td>0</td>\n",
       "      <td>-2879.202052</td>\n",
       "      <td>43</td>\n",
       "      <td>высшее</td>\n",
       "      <td>0</td>\n",
       "      <td>женат / замужем</td>\n",
       "      <td>0</td>\n",
       "      <td>F</td>\n",
       "      <td>компаньон</td>\n",
       "      <td>0</td>\n",
       "      <td>240525.971920</td>\n",
       "      <td>операции с жильем</td>\n",
       "    </tr>\n",
       "    <tr>\n",
       "      <th>7</th>\n",
       "      <td>0</td>\n",
       "      <td>-152.779569</td>\n",
       "      <td>50</td>\n",
       "      <td>СРЕДНЕЕ</td>\n",
       "      <td>1</td>\n",
       "      <td>женат / замужем</td>\n",
       "      <td>0</td>\n",
       "      <td>M</td>\n",
       "      <td>сотрудник</td>\n",
       "      <td>0</td>\n",
       "      <td>135823.934197</td>\n",
       "      <td>образование</td>\n",
       "    </tr>\n",
       "    <tr>\n",
       "      <th>8</th>\n",
       "      <td>2</td>\n",
       "      <td>-6929.865299</td>\n",
       "      <td>35</td>\n",
       "      <td>ВЫСШЕЕ</td>\n",
       "      <td>0</td>\n",
       "      <td>гражданский брак</td>\n",
       "      <td>1</td>\n",
       "      <td>F</td>\n",
       "      <td>сотрудник</td>\n",
       "      <td>0</td>\n",
       "      <td>95856.832424</td>\n",
       "      <td>на проведение свадьбы</td>\n",
       "    </tr>\n",
       "    <tr>\n",
       "      <th>9</th>\n",
       "      <td>0</td>\n",
       "      <td>-2188.756445</td>\n",
       "      <td>41</td>\n",
       "      <td>среднее</td>\n",
       "      <td>1</td>\n",
       "      <td>женат / замужем</td>\n",
       "      <td>0</td>\n",
       "      <td>M</td>\n",
       "      <td>сотрудник</td>\n",
       "      <td>0</td>\n",
       "      <td>144425.938277</td>\n",
       "      <td>покупка жилья для семьи</td>\n",
       "    </tr>\n",
       "    <tr>\n",
       "      <th>10</th>\n",
       "      <td>2</td>\n",
       "      <td>-4171.483647</td>\n",
       "      <td>36</td>\n",
       "      <td>высшее</td>\n",
       "      <td>0</td>\n",
       "      <td>женат / замужем</td>\n",
       "      <td>0</td>\n",
       "      <td>M</td>\n",
       "      <td>компаньон</td>\n",
       "      <td>0</td>\n",
       "      <td>113943.491460</td>\n",
       "      <td>покупка недвижимости</td>\n",
       "    </tr>\n",
       "    <tr>\n",
       "      <th>11</th>\n",
       "      <td>0</td>\n",
       "      <td>-792.701887</td>\n",
       "      <td>40</td>\n",
       "      <td>среднее</td>\n",
       "      <td>1</td>\n",
       "      <td>женат / замужем</td>\n",
       "      <td>0</td>\n",
       "      <td>F</td>\n",
       "      <td>сотрудник</td>\n",
       "      <td>0</td>\n",
       "      <td>77069.234271</td>\n",
       "      <td>покупка коммерческой недвижимости</td>\n",
       "    </tr>\n",
       "    <tr>\n",
       "      <th>12</th>\n",
       "      <td>0</td>\n",
       "      <td>NaN</td>\n",
       "      <td>65</td>\n",
       "      <td>среднее</td>\n",
       "      <td>1</td>\n",
       "      <td>гражданский брак</td>\n",
       "      <td>1</td>\n",
       "      <td>M</td>\n",
       "      <td>пенсионер</td>\n",
       "      <td>0</td>\n",
       "      <td>NaN</td>\n",
       "      <td>сыграть свадьбу</td>\n",
       "    </tr>\n",
       "    <tr>\n",
       "      <th>13</th>\n",
       "      <td>0</td>\n",
       "      <td>-1846.641941</td>\n",
       "      <td>54</td>\n",
       "      <td>неоконченное высшее</td>\n",
       "      <td>2</td>\n",
       "      <td>женат / замужем</td>\n",
       "      <td>0</td>\n",
       "      <td>F</td>\n",
       "      <td>сотрудник</td>\n",
       "      <td>0</td>\n",
       "      <td>130458.228857</td>\n",
       "      <td>приобретение автомобиля</td>\n",
       "    </tr>\n",
       "    <tr>\n",
       "      <th>14</th>\n",
       "      <td>0</td>\n",
       "      <td>-1844.956182</td>\n",
       "      <td>56</td>\n",
       "      <td>высшее</td>\n",
       "      <td>0</td>\n",
       "      <td>гражданский брак</td>\n",
       "      <td>1</td>\n",
       "      <td>F</td>\n",
       "      <td>компаньон</td>\n",
       "      <td>1</td>\n",
       "      <td>165127.911772</td>\n",
       "      <td>покупка жилой недвижимости</td>\n",
       "    </tr>\n",
       "    <tr>\n",
       "      <th>15</th>\n",
       "      <td>1</td>\n",
       "      <td>-972.364419</td>\n",
       "      <td>26</td>\n",
       "      <td>среднее</td>\n",
       "      <td>1</td>\n",
       "      <td>женат / замужем</td>\n",
       "      <td>0</td>\n",
       "      <td>F</td>\n",
       "      <td>сотрудник</td>\n",
       "      <td>0</td>\n",
       "      <td>116820.904450</td>\n",
       "      <td>строительство собственной недвижимости</td>\n",
       "    </tr>\n",
       "    <tr>\n",
       "      <th>16</th>\n",
       "      <td>0</td>\n",
       "      <td>-1719.934226</td>\n",
       "      <td>35</td>\n",
       "      <td>среднее</td>\n",
       "      <td>1</td>\n",
       "      <td>женат / замужем</td>\n",
       "      <td>0</td>\n",
       "      <td>F</td>\n",
       "      <td>сотрудник</td>\n",
       "      <td>0</td>\n",
       "      <td>289202.704229</td>\n",
       "      <td>недвижимость</td>\n",
       "    </tr>\n",
       "    <tr>\n",
       "      <th>17</th>\n",
       "      <td>0</td>\n",
       "      <td>-2369.999720</td>\n",
       "      <td>33</td>\n",
       "      <td>высшее</td>\n",
       "      <td>0</td>\n",
       "      <td>гражданский брак</td>\n",
       "      <td>1</td>\n",
       "      <td>M</td>\n",
       "      <td>сотрудник</td>\n",
       "      <td>0</td>\n",
       "      <td>90410.586745</td>\n",
       "      <td>строительство недвижимости</td>\n",
       "    </tr>\n",
       "    <tr>\n",
       "      <th>18</th>\n",
       "      <td>0</td>\n",
       "      <td>400281.136913</td>\n",
       "      <td>53</td>\n",
       "      <td>среднее</td>\n",
       "      <td>1</td>\n",
       "      <td>вдовец / вдова</td>\n",
       "      <td>2</td>\n",
       "      <td>F</td>\n",
       "      <td>пенсионер</td>\n",
       "      <td>0</td>\n",
       "      <td>56823.777243</td>\n",
       "      <td>на покупку подержанного автомобиля</td>\n",
       "    </tr>\n",
       "    <tr>\n",
       "      <th>19</th>\n",
       "      <td>0</td>\n",
       "      <td>-10038.818549</td>\n",
       "      <td>48</td>\n",
       "      <td>СРЕДНЕЕ</td>\n",
       "      <td>1</td>\n",
       "      <td>в разводе</td>\n",
       "      <td>3</td>\n",
       "      <td>F</td>\n",
       "      <td>сотрудник</td>\n",
       "      <td>0</td>\n",
       "      <td>242831.107982</td>\n",
       "      <td>на покупку своего автомобиля</td>\n",
       "    </tr>\n",
       "  </tbody>\n",
       "</table>\n",
       "</div>"
      ],
      "text/plain": [
       "    children  days_employed  dob_years            education  education_id  \\\n",
       "0          1   -8437.673028         42               высшее             0   \n",
       "1          1   -4024.803754         36              среднее             1   \n",
       "2          0   -5623.422610         33              Среднее             1   \n",
       "3          3   -4124.747207         32              среднее             1   \n",
       "4          0  340266.072047         53              среднее             1   \n",
       "5          0    -926.185831         27               высшее             0   \n",
       "6          0   -2879.202052         43               высшее             0   \n",
       "7          0    -152.779569         50              СРЕДНЕЕ             1   \n",
       "8          2   -6929.865299         35               ВЫСШЕЕ             0   \n",
       "9          0   -2188.756445         41              среднее             1   \n",
       "10         2   -4171.483647         36               высшее             0   \n",
       "11         0    -792.701887         40              среднее             1   \n",
       "12         0            NaN         65              среднее             1   \n",
       "13         0   -1846.641941         54  неоконченное высшее             2   \n",
       "14         0   -1844.956182         56               высшее             0   \n",
       "15         1    -972.364419         26              среднее             1   \n",
       "16         0   -1719.934226         35              среднее             1   \n",
       "17         0   -2369.999720         33               высшее             0   \n",
       "18         0  400281.136913         53              среднее             1   \n",
       "19         0  -10038.818549         48              СРЕДНЕЕ             1   \n",
       "\n",
       "       family_status  family_status_id gender income_type  debt  \\\n",
       "0    женат / замужем                 0      F   сотрудник     0   \n",
       "1    женат / замужем                 0      F   сотрудник     0   \n",
       "2    женат / замужем                 0      M   сотрудник     0   \n",
       "3    женат / замужем                 0      M   сотрудник     0   \n",
       "4   гражданский брак                 1      F   пенсионер     0   \n",
       "5   гражданский брак                 1      M   компаньон     0   \n",
       "6    женат / замужем                 0      F   компаньон     0   \n",
       "7    женат / замужем                 0      M   сотрудник     0   \n",
       "8   гражданский брак                 1      F   сотрудник     0   \n",
       "9    женат / замужем                 0      M   сотрудник     0   \n",
       "10   женат / замужем                 0      M   компаньон     0   \n",
       "11   женат / замужем                 0      F   сотрудник     0   \n",
       "12  гражданский брак                 1      M   пенсионер     0   \n",
       "13   женат / замужем                 0      F   сотрудник     0   \n",
       "14  гражданский брак                 1      F   компаньон     1   \n",
       "15   женат / замужем                 0      F   сотрудник     0   \n",
       "16   женат / замужем                 0      F   сотрудник     0   \n",
       "17  гражданский брак                 1      M   сотрудник     0   \n",
       "18    вдовец / вдова                 2      F   пенсионер     0   \n",
       "19         в разводе                 3      F   сотрудник     0   \n",
       "\n",
       "     total_income                                 purpose  \n",
       "0   253875.639453                           покупка жилья  \n",
       "1   112080.014102                 приобретение автомобиля  \n",
       "2   145885.952297                           покупка жилья  \n",
       "3   267628.550329              дополнительное образование  \n",
       "4   158616.077870                         сыграть свадьбу  \n",
       "5   255763.565419                           покупка жилья  \n",
       "6   240525.971920                       операции с жильем  \n",
       "7   135823.934197                             образование  \n",
       "8    95856.832424                   на проведение свадьбы  \n",
       "9   144425.938277                 покупка жилья для семьи  \n",
       "10  113943.491460                    покупка недвижимости  \n",
       "11   77069.234271       покупка коммерческой недвижимости  \n",
       "12            NaN                         сыграть свадьбу  \n",
       "13  130458.228857                 приобретение автомобиля  \n",
       "14  165127.911772              покупка жилой недвижимости  \n",
       "15  116820.904450  строительство собственной недвижимости  \n",
       "16  289202.704229                            недвижимость  \n",
       "17   90410.586745              строительство недвижимости  \n",
       "18   56823.777243      на покупку подержанного автомобиля  \n",
       "19  242831.107982            на покупку своего автомобиля  "
      ]
     },
     "execution_count": 2,
     "metadata": {},
     "output_type": "execute_result"
    }
   ],
   "source": [
    "data.head(20)"
   ]
  },
  {
   "cell_type": "markdown",
   "id": "0ed8f27f",
   "metadata": {
    "deletable": false,
    "editable": false,
    "id": "0ed8f27f"
   },
   "source": [
    "**3. Выведу основную информацию о датафрейме с помощью метода `info()`.**"
   ]
  },
  {
   "cell_type": "code",
   "execution_count": 3,
   "id": "ab3f863b",
   "metadata": {
    "deletable": false,
    "id": "ab3f863b",
    "outputId": "15376089-8dad-46c9-b520-c05248d43158"
   },
   "outputs": [
    {
     "name": "stdout",
     "output_type": "stream",
     "text": [
      "<class 'pandas.core.frame.DataFrame'>\n",
      "RangeIndex: 21525 entries, 0 to 21524\n",
      "Data columns (total 12 columns):\n",
      " #   Column            Non-Null Count  Dtype  \n",
      "---  ------            --------------  -----  \n",
      " 0   children          21525 non-null  int64  \n",
      " 1   days_employed     19351 non-null  float64\n",
      " 2   dob_years         21525 non-null  int64  \n",
      " 3   education         21525 non-null  object \n",
      " 4   education_id      21525 non-null  int64  \n",
      " 5   family_status     21525 non-null  object \n",
      " 6   family_status_id  21525 non-null  int64  \n",
      " 7   gender            21525 non-null  object \n",
      " 8   income_type       21525 non-null  object \n",
      " 9   debt              21525 non-null  int64  \n",
      " 10  total_income      19351 non-null  float64\n",
      " 11  purpose           21525 non-null  object \n",
      "dtypes: float64(2), int64(5), object(5)\n",
      "memory usage: 2.0+ MB\n"
     ]
    }
   ],
   "source": [
    "data.info()"
   ]
  },
  {
   "cell_type": "markdown",
   "id": "60e3e22d",
   "metadata": {
    "deletable": false,
    "editable": false,
    "id": "60e3e22d"
   },
   "source": [
    "## Предобработка данных"
   ]
  },
  {
   "cell_type": "markdown",
   "id": "03dc170c",
   "metadata": {
    "deletable": false,
    "editable": false,
    "id": "03dc170c"
   },
   "source": [
    "### Удаление пропусков"
   ]
  },
  {
   "cell_type": "markdown",
   "id": "a4f54eef",
   "metadata": {
    "deletable": false,
    "editable": false,
    "id": "a4f54eef"
   },
   "source": [
    "**4. Выведу количество пропущенных значений для каждого столбца. Использую комбинацию методов isna() и sum().**"
   ]
  },
  {
   "cell_type": "code",
   "execution_count": 4,
   "id": "2dc372b2",
   "metadata": {
    "deletable": false,
    "id": "2dc372b2",
    "outputId": "81f4d817-781c-465c-ed15-91ce4446810d"
   },
   "outputs": [
    {
     "data": {
      "text/plain": [
       "children               0\n",
       "days_employed       2174\n",
       "dob_years              0\n",
       "education              0\n",
       "education_id           0\n",
       "family_status          0\n",
       "family_status_id       0\n",
       "gender                 0\n",
       "income_type            0\n",
       "debt                   0\n",
       "total_income        2174\n",
       "purpose                0\n",
       "dtype: int64"
      ]
     },
     "execution_count": 4,
     "metadata": {},
     "output_type": "execute_result"
    }
   ],
   "source": [
    "data.isna().sum()"
   ]
  },
  {
   "cell_type": "markdown",
   "id": "14f011b1",
   "metadata": {
    "deletable": false,
    "editable": false,
    "id": "14f011b1"
   },
   "source": [
    "**5. Заполню пропуске в столбце `total_income` по медианным значением по каждому типу из столбца `income_type`.**"
   ]
  },
  {
   "cell_type": "code",
   "execution_count": 5,
   "id": "bdabfb6e",
   "metadata": {
    "deletable": false,
    "id": "bdabfb6e"
   },
   "outputs": [],
   "source": [
    "for t in data['income_type'].unique():\n",
    "    data.loc[(data['income_type'] == t) & (data['total_income'].isna()), 'total_income'] = \\\n",
    "    data.loc[(data['income_type'] == t), 'total_income'].median()"
   ]
  },
  {
   "cell_type": "markdown",
   "id": "5be34059",
   "metadata": {
    "deletable": false,
    "editable": false,
    "id": "5be34059"
   },
   "source": [
    "### Обработка аномальных значений"
   ]
  },
  {
   "cell_type": "markdown",
   "id": "a87606cb",
   "metadata": {
    "deletable": false,
    "editable": false,
    "id": "a87606cb"
   },
   "source": [
    "**6. Обработаю все отрицательные значения в столбце `days_employed` и заменю их положительными с помощью метода `abs()`.**"
   ]
  },
  {
   "cell_type": "code",
   "execution_count": 6,
   "id": "020c46cc",
   "metadata": {
    "deletable": false,
    "id": "020c46cc"
   },
   "outputs": [],
   "source": [
    "data['days_employed'] = data['days_employed'].abs()"
   ]
  },
  {
   "cell_type": "markdown",
   "id": "45538a3a",
   "metadata": {
    "deletable": false,
    "editable": false,
    "id": "45538a3a"
   },
   "source": [
    "**7. Для каждого типа занятости выведу медианное значение трудового стажа `days_employed` в днях.**"
   ]
  },
  {
   "cell_type": "code",
   "execution_count": 7,
   "id": "cd3e6328",
   "metadata": {
    "deletable": false,
    "id": "cd3e6328",
    "outputId": "801ef80e-522b-4668-f34e-565af7432bcf"
   },
   "outputs": [
    {
     "data": {
      "text/plain": [
       "income_type\n",
       "безработный        366413.652744\n",
       "в декрете            3296.759962\n",
       "госслужащий          2689.368353\n",
       "компаньон            1547.382223\n",
       "пенсионер          365213.306266\n",
       "предприниматель       520.848083\n",
       "сотрудник            1574.202821\n",
       "студент               578.751554\n",
       "Name: days_employed, dtype: float64"
      ]
     },
     "execution_count": 7,
     "metadata": {},
     "output_type": "execute_result"
    }
   ],
   "source": [
    "data.groupby('income_type')['days_employed'].agg('median')"
   ]
  },
  {
   "cell_type": "markdown",
   "id": "90c5f058",
   "metadata": {
    "deletable": false,
    "editable": false,
    "id": "90c5f058"
   },
   "source": [
    "У двух типов (безработные и пенсионеры) получатся аномально большие значения. Исправить эти значения проблематично, поэтому оставлю их как есть."
   ]
  },
  {
   "cell_type": "markdown",
   "id": "9652e50d",
   "metadata": {
    "deletable": false,
    "editable": false,
    "id": "9652e50d"
   },
   "source": [
    "**8. Выведу перечень уникальных значений столбца `children`.**"
   ]
  },
  {
   "cell_type": "code",
   "execution_count": 8,
   "id": "dbb37b8e",
   "metadata": {
    "deletable": false,
    "id": "dbb37b8e",
    "outputId": "6975b15c-7f95-4697-d16d-a0c79b657b03"
   },
   "outputs": [
    {
     "data": {
      "text/plain": [
       "array([ 1,  0,  3,  2, -1,  4, 20,  5], dtype=int64)"
      ]
     },
     "execution_count": 8,
     "metadata": {},
     "output_type": "execute_result"
    }
   ],
   "source": [
    "data['children'].unique()"
   ]
  },
  {
   "cell_type": "markdown",
   "id": "2b8b0715",
   "metadata": {
    "deletable": false,
    "editable": false,
    "id": "2b8b0715"
   },
   "source": [
    "**9. В столбце `children` есть два аномальных значения. Удалю их.**"
   ]
  },
  {
   "cell_type": "code",
   "execution_count": 9,
   "id": "20009df8",
   "metadata": {
    "deletable": false,
    "id": "20009df8"
   },
   "outputs": [],
   "source": [
    "data = data[(data['children'] != -1) & (data['children'] != 20)]"
   ]
  },
  {
   "cell_type": "markdown",
   "id": "8c6ac9f1",
   "metadata": {
    "deletable": false,
    "editable": false,
    "id": "8c6ac9f1"
   },
   "source": [
    "**10. Проверю, удалились ли аномальные значения.**"
   ]
  },
  {
   "cell_type": "code",
   "execution_count": 10,
   "id": "07337b81",
   "metadata": {
    "deletable": false,
    "id": "07337b81",
    "outputId": "b2097101-d49d-44d9-901b-32a65c9463d1"
   },
   "outputs": [
    {
     "data": {
      "text/plain": [
       "array([1, 0, 3, 2, 4, 5], dtype=int64)"
      ]
     },
     "execution_count": 10,
     "metadata": {},
     "output_type": "execute_result"
    }
   ],
   "source": [
    "data['children'].unique()"
   ]
  },
  {
   "cell_type": "markdown",
   "id": "ee3f52d4",
   "metadata": {
    "deletable": false,
    "editable": false,
    "id": "ee3f52d4"
   },
   "source": [
    "### Удаление пропусков (продолжение)"
   ]
  },
  {
   "cell_type": "markdown",
   "id": "a700b0e4",
   "metadata": {
    "deletable": false,
    "editable": false,
    "id": "a700b0e4"
   },
   "source": [
    "**11. Заполню пропуски в столбце `days_employed` медианными значениями по каждому типу занятости `income_type`.**"
   ]
  },
  {
   "cell_type": "code",
   "execution_count": 11,
   "id": "61946b83",
   "metadata": {
    "deletable": false,
    "id": "61946b83"
   },
   "outputs": [],
   "source": [
    "for t in data['income_type'].unique():\n",
    "    data.loc[(data['income_type'] == t) & (data['days_employed'].isna()), 'days_employed'] = \\\n",
    "    data.loc[(data['income_type'] == t), 'days_employed'].median()"
   ]
  },
  {
   "cell_type": "markdown",
   "id": "550dcd9b",
   "metadata": {
    "deletable": false,
    "editable": false,
    "id": "550dcd9b"
   },
   "source": [
    "**12. Убедимся, что все пропуски заполнены.**"
   ]
  },
  {
   "cell_type": "code",
   "execution_count": 12,
   "id": "937c7014",
   "metadata": {
    "deletable": false,
    "id": "937c7014",
    "outputId": "8da1e4e1-358e-4e87-98c9-f261bce0a7b2"
   },
   "outputs": [
    {
     "data": {
      "text/plain": [
       "children            0\n",
       "days_employed       0\n",
       "dob_years           0\n",
       "education           0\n",
       "education_id        0\n",
       "family_status       0\n",
       "family_status_id    0\n",
       "gender              0\n",
       "income_type         0\n",
       "debt                0\n",
       "total_income        0\n",
       "purpose             0\n",
       "dtype: int64"
      ]
     },
     "execution_count": 12,
     "metadata": {},
     "output_type": "execute_result"
    }
   ],
   "source": [
    "data.isna().sum()"
   ]
  },
  {
   "cell_type": "markdown",
   "id": "d522e295",
   "metadata": {
    "deletable": false,
    "editable": false,
    "id": "d522e295"
   },
   "source": [
    "### Изменение типов данных"
   ]
  },
  {
   "cell_type": "markdown",
   "id": "c229c581",
   "metadata": {
    "deletable": false,
    "editable": false,
    "id": "c229c581"
   },
   "source": [
    "**13. Заменю вещественный тип данных в столбце `total_income` на целочисленный с помощью метода `astype()`.**"
   ]
  },
  {
   "cell_type": "code",
   "execution_count": 13,
   "id": "31036462",
   "metadata": {
    "deletable": false,
    "id": "31036462"
   },
   "outputs": [],
   "source": [
    "data['total_income'] = data['total_income'].astype(int)"
   ]
  },
  {
   "cell_type": "markdown",
   "id": "b8e3d1d9",
   "metadata": {
    "deletable": false,
    "editable": false,
    "id": "b8e3d1d9"
   },
   "source": [
    "### Обработка дубликатов"
   ]
  },
  {
   "cell_type": "markdown",
   "id": "9be53c49",
   "metadata": {
    "deletable": false,
    "editable": false,
    "id": "9be53c49"
   },
   "source": [
    "**14. Обработаю неявные дубликаты в столбце `education`. Приведу все значения в столбце к нижнему регистру.**"
   ]
  },
  {
   "cell_type": "code",
   "execution_count": 14,
   "id": "d89e73e1",
   "metadata": {
    "deletable": false,
    "id": "d89e73e1"
   },
   "outputs": [],
   "source": [
    "data['education'] = data['education'].str.lower()"
   ]
  },
  {
   "cell_type": "markdown",
   "id": "01d4500e",
   "metadata": {
    "deletable": false,
    "editable": false,
    "id": "01d4500e"
   },
   "source": [
    "**15. Выведу на экран количество строк-дубликатов в данных. Если такие строки присутствуют, удалю их.**"
   ]
  },
  {
   "cell_type": "code",
   "execution_count": 15,
   "id": "e10efb23",
   "metadata": {
    "deletable": false,
    "id": "e10efb23",
    "outputId": "9684deba-1934-42d1-99e1-cda61740f822"
   },
   "outputs": [
    {
     "data": {
      "text/plain": [
       "71"
      ]
     },
     "execution_count": 15,
     "metadata": {},
     "output_type": "execute_result"
    }
   ],
   "source": [
    "data.duplicated().sum()"
   ]
  },
  {
   "cell_type": "code",
   "execution_count": 16,
   "id": "df853f20",
   "metadata": {
    "deletable": false,
    "id": "df853f20"
   },
   "outputs": [],
   "source": [
    "data = data.drop_duplicates()"
   ]
  },
  {
   "cell_type": "markdown",
   "id": "627be38f",
   "metadata": {
    "deletable": false,
    "editable": false,
    "id": "627be38f"
   },
   "source": [
    "### Категоризация данных"
   ]
  },
  {
   "cell_type": "markdown",
   "id": "4684c3e0",
   "metadata": {
    "deletable": false,
    "editable": false,
    "id": "4684c3e0"
   },
   "source": [
    "**16. На основании диапазонов, указанных ниже, создам в датафрейме `data` столбец `total_income_category` с категориями:**\n",
    "\n",
    "- 0–30000 — `'E'`;\n",
    "- 30001–50000 — `'D'`;\n",
    "- 50001–200000 — `'C'`;\n",
    "- 200001–1000000 — `'B'`;\n",
    "- 1000001 и выше — `'A'`.\n",
    "\n",
    "**Для этого наишу собственную функцию categorize_income() которая будет распределять заемщиков по категорям в зависимости от дохода.**"
   ]
  },
  {
   "cell_type": "code",
   "execution_count": 17,
   "id": "78965238",
   "metadata": {
    "deletable": false,
    "id": "78965238"
   },
   "outputs": [],
   "source": [
    "def categorize_income(income):\n",
    "    try:\n",
    "        if 0 <= income <= 30000:\n",
    "            return 'E'\n",
    "        elif 30001 <= income <= 50000:\n",
    "            return 'D'\n",
    "        elif 50001 <= income <= 200000:\n",
    "            return 'C'\n",
    "        elif 200001 <= income <= 1000000:\n",
    "            return 'B'\n",
    "        elif income >= 1000001:\n",
    "            return 'A'\n",
    "    except:\n",
    "        pass"
   ]
  },
  {
   "cell_type": "markdown",
   "id": "7d70b923",
   "metadata": {},
   "source": [
    "**Применю функцию**"
   ]
  },
  {
   "cell_type": "code",
   "execution_count": 18,
   "id": "0980ada1",
   "metadata": {
    "deletable": false,
    "id": "0980ada1"
   },
   "outputs": [],
   "source": [
    "data['total_income_category'] = data['total_income'].apply(categorize_income)"
   ]
  },
  {
   "cell_type": "markdown",
   "id": "9917bba0",
   "metadata": {
    "deletable": false,
    "editable": false,
    "id": "9917bba0"
   },
   "source": [
    "**17. Выведу на экран перечень уникальных целей взятия кредита из столбца `purpose`.**"
   ]
  },
  {
   "cell_type": "code",
   "execution_count": 19,
   "id": "ee07b65e",
   "metadata": {
    "deletable": false,
    "id": "ee07b65e",
    "outputId": "673c12d9-7d7e-4ae0-9812-c622c89dd244"
   },
   "outputs": [
    {
     "data": {
      "text/plain": [
       "array(['покупка жилья', 'приобретение автомобиля',\n",
       "       'дополнительное образование', 'сыграть свадьбу',\n",
       "       'операции с жильем', 'образование', 'на проведение свадьбы',\n",
       "       'покупка жилья для семьи', 'покупка недвижимости',\n",
       "       'покупка коммерческой недвижимости', 'покупка жилой недвижимости',\n",
       "       'строительство собственной недвижимости', 'недвижимость',\n",
       "       'строительство недвижимости', 'на покупку подержанного автомобиля',\n",
       "       'на покупку своего автомобиля',\n",
       "       'операции с коммерческой недвижимостью',\n",
       "       'строительство жилой недвижимости', 'жилье',\n",
       "       'операции со своей недвижимостью', 'автомобили',\n",
       "       'заняться образованием', 'сделка с подержанным автомобилем',\n",
       "       'получение образования', 'автомобиль', 'свадьба',\n",
       "       'получение дополнительного образования', 'покупка своего жилья',\n",
       "       'операции с недвижимостью', 'получение высшего образования',\n",
       "       'свой автомобиль', 'сделка с автомобилем',\n",
       "       'профильное образование', 'высшее образование',\n",
       "       'покупка жилья для сдачи', 'на покупку автомобиля', 'ремонт жилью',\n",
       "       'заняться высшим образованием'], dtype=object)"
      ]
     },
     "execution_count": 19,
     "metadata": {},
     "output_type": "execute_result"
    }
   ],
   "source": [
    "data['purpose'].unique()"
   ]
  },
  {
   "cell_type": "markdown",
   "id": "52b79d56",
   "metadata": {
    "deletable": false,
    "editable": false,
    "id": "52b79d56"
   },
   "source": [
    "**18. Напишу функцию, которая на основании данных из столбца `purpose` сформирует новый столбец `purpose_category`, в который войдут следующие категории:**\n",
    "\n",
    "- `'операции с автомобилем'`,\n",
    "- `'операции с недвижимостью'`,\n",
    "- `'проведение свадьбы'`,\n",
    "- `'получение образования'`.\n",
    "\n",
    "\n",
    "**Используйте собственную функцию с именем `categorize_purpose()` и метод `apply()`.**"
   ]
  },
  {
   "cell_type": "code",
   "execution_count": 20,
   "id": "be41da5d",
   "metadata": {
    "deletable": false,
    "id": "be41da5d"
   },
   "outputs": [],
   "source": [
    "def categorize_purpose(row):\n",
    "    try:\n",
    "        if 'автом' in row:\n",
    "            return 'операции с автомобилем'\n",
    "        elif 'жил' in row or 'недвиж' in row:\n",
    "            return 'операции с недвижимостью'\n",
    "        elif 'свад' in row:\n",
    "            return 'проведение свадьбы'\n",
    "        elif 'образов' in row:\n",
    "            return 'получение образования'\n",
    "    except:\n",
    "        return 'нет категории'"
   ]
  },
  {
   "cell_type": "code",
   "execution_count": 21,
   "id": "94c4a19a",
   "metadata": {
    "deletable": false,
    "id": "94c4a19a"
   },
   "outputs": [],
   "source": [
    "data['purpose_category'] = data['purpose'].apply(categorize_purpose)"
   ]
  },
  {
   "cell_type": "markdown",
   "id": "3d596c34",
   "metadata": {
    "deletable": false,
    "editable": false,
    "id": "3d596c34"
   },
   "source": [
    "### Исследую данные "
   ]
  },
  {
   "cell_type": "code",
   "execution_count": 22,
   "id": "56105101",
   "metadata": {},
   "outputs": [
    {
     "data": {
      "text/plain": [
       "array([0, 1], dtype=int64)"
      ]
     },
     "execution_count": 22,
     "metadata": {},
     "output_type": "execute_result"
    }
   ],
   "source": [
    "data['debt'].unique() # узнаём все уникальные значения столбца 'dept'"
   ]
  },
  {
   "cell_type": "markdown",
   "id": "3a1f8be5",
   "metadata": {},
   "source": [
    "Мы выяснили уникальные значения столбца 'debt' и определили следующее:\n",
    "- значение \"0\" в строке означает, что заемщик не имел задолженностей по кредиту;\n",
    "- значение \"1\" в строке означает, что заемщик имел задолженность по кредиту.\n",
    "\n",
    "Исходя их этого мы можем сгруппировать данные по необходимому нам столбцу и подсчитать количество заемщиков с помощью метода 'count', сумму заемщиков имевших задолженность по кредиту с помощью метода 'sum' \n",
    "и долю должников с помощью метода 'mean'."
   ]
  },
  {
   "cell_type": "markdown",
   "id": "02ec9fba",
   "metadata": {},
   "source": [
    "    \n",
    "Напишем функцию для построения сводных таблиц по неоходимому нам столбцу в соответсвии с запросом.\n",
    "Зададим название функции `svod`, имя параметра функции `column`. Используя значения столбца `debt` создадим три столбца:\n",
    "- с помощью функции агрегации `count` столбец 'total_borrowers'(всего заемщиков)\n",
    "- с помощью функции агрегации `sum` столбец 'total_debtors'(всего должников)\n",
    "- с помощью функции агрегации `mean` столбец 'share_of_debtors'(доля должников)\n",
    "\n",
    "    В столбце 'share_of_debtors' данные укажем в процентах, для удобства чтения информации.\n",
    "\n",
    "    Отфильтруем значения в таблице и удалим из нее категории в которых значения в столбце 'total_borrowers' меньше 400, т.к. выборка слишком незначительна для формулировки корректных выводов.\n",
    "\n",
    "    Отсортируем данные в талице по убыванию в столбце 'share_of_debtors'."
   ]
  },
  {
   "cell_type": "code",
   "execution_count": 23,
   "id": "60c3bc8c",
   "metadata": {},
   "outputs": [],
   "source": [
    "# указываем название функции\n",
    "def svod(column):        \n",
    "    # создадим сводную таблицу \n",
    "    grouping_debt = data.pivot_table(index=column, values='debt', aggfunc=['count', 'sum', 'mean'])\n",
    "    # переименуем столбцы\n",
    "    grouping_debt.rename(columns = {'count': 'total_borrowers', 'sum': 'total_debtors', \n",
    "                                    'mean': 'share_of_debtors', 'debt':''}, inplace=True)\n",
    "    # отформатируем данные в толбце 'share_of_debtors'\n",
    "    grouping_debt['share_of_debtors'] = grouping_debt['share_of_debtors'].apply('{:.2%}'.format)\n",
    "    # отфильтруем и отсортируем данные в таблице\n",
    "    grouping_debt = grouping_debt.loc[grouping_debt['total_borrowers'] >= 400].sort_values(by='share_of_debtors', ascending=False).reset_index()\n",
    "    \n",
    "    return grouping_debt    "
   ]
  },
  {
   "cell_type": "markdown",
   "id": "648db036",
   "metadata": {
    "deletable": false,
    "editable": false,
    "id": "648db036"
   },
   "source": [
    "#### Есть ли зависимость между количеством детей и возвратом кредита в срок?"
   ]
  },
  {
   "cell_type": "markdown",
   "id": "107b6e08",
   "metadata": {},
   "source": [
    "\n",
    "\n",
    "**С помощью функциии `svod` создадим сводную таблицу сгрупированую по столбцу 'children'.**\n"
   ]
  },
  {
   "cell_type": "code",
   "execution_count": 24,
   "id": "7fcff25e",
   "metadata": {
    "deletable": false,
    "id": "7fcff25e"
   },
   "outputs": [
    {
     "data": {
      "text/html": [
       "<div>\n",
       "<style scoped>\n",
       "    .dataframe tbody tr th:only-of-type {\n",
       "        vertical-align: middle;\n",
       "    }\n",
       "\n",
       "    .dataframe tbody tr th {\n",
       "        vertical-align: top;\n",
       "    }\n",
       "\n",
       "    .dataframe thead tr th {\n",
       "        text-align: left;\n",
       "    }\n",
       "</style>\n",
       "<table border=\"1\" class=\"dataframe\">\n",
       "  <thead>\n",
       "    <tr>\n",
       "      <th></th>\n",
       "      <th>children</th>\n",
       "      <th>total_borrowers</th>\n",
       "      <th>total_debtors</th>\n",
       "      <th>share_of_debtors</th>\n",
       "    </tr>\n",
       "    <tr>\n",
       "      <th></th>\n",
       "      <th></th>\n",
       "      <th></th>\n",
       "      <th></th>\n",
       "      <th></th>\n",
       "    </tr>\n",
       "  </thead>\n",
       "  <tbody>\n",
       "    <tr>\n",
       "      <th>0</th>\n",
       "      <td>2</td>\n",
       "      <td>2052</td>\n",
       "      <td>194</td>\n",
       "      <td>9.45%</td>\n",
       "    </tr>\n",
       "    <tr>\n",
       "      <th>1</th>\n",
       "      <td>1</td>\n",
       "      <td>4808</td>\n",
       "      <td>444</td>\n",
       "      <td>9.23%</td>\n",
       "    </tr>\n",
       "    <tr>\n",
       "      <th>2</th>\n",
       "      <td>0</td>\n",
       "      <td>14091</td>\n",
       "      <td>1063</td>\n",
       "      <td>7.54%</td>\n",
       "    </tr>\n",
       "  </tbody>\n",
       "</table>\n",
       "</div>"
      ],
      "text/plain": [
       "  children total_borrowers total_debtors share_of_debtors\n",
       "                                                         \n",
       "0        2            2052           194            9.45%\n",
       "1        1            4808           444            9.23%\n",
       "2        0           14091          1063            7.54%"
      ]
     },
     "metadata": {},
     "output_type": "display_data"
    }
   ],
   "source": [
    "children_pivot = svod(data['children'])\n",
    "display(children_pivot)"
   ]
  },
  {
   "cell_type": "markdown",
   "id": "2eb9088e",
   "metadata": {
    "deletable": false,
    "id": "2eb9088e"
   },
   "source": [
    "<div style=\"border:solid orange 2px; padding: 20px\">\n",
    "    \n",
    "    Исходя из полученной таблицы мы видим, что заемщики с тремя и более детьми были удалены, т.к. данных по ним не          достаточно для формулировки корректных выводов.\n",
    "    Также мы видим, что среди заемщиков не имеющих детей самый маленький процент должников.\n",
    "    Среди заемщиков имеющих 2 детей процент должников выше, чем среди заемщиков имеющих 1 ребенка.   \n",
    "    \n",
    "           \n",
    "**Вывод:** Количество детей у заемщика влияет на возврат кредита в срок. С увеличением количества детей растет вероятность появления задолженности. \n",
    "\n"
   ]
  },
  {
   "cell_type": "markdown",
   "id": "74c9b3a7",
   "metadata": {
    "deletable": false,
    "editable": false,
    "id": "74c9b3a7"
   },
   "source": [
    "#### Есть ли зависимость между семейным положением и возвратом кредита в срок?"
   ]
  },
  {
   "cell_type": "markdown",
   "id": "15503418",
   "metadata": {},
   "source": [
    "\n",
    "\n",
    "С помощью функциии `svod` создадим сводную таблицу сгрупированую по столбцу 'family_status'.\n"
   ]
  },
  {
   "cell_type": "code",
   "execution_count": 25,
   "id": "8098ab3b",
   "metadata": {
    "deletable": false,
    "id": "8098ab3b"
   },
   "outputs": [
    {
     "data": {
      "text/html": [
       "<div>\n",
       "<style scoped>\n",
       "    .dataframe tbody tr th:only-of-type {\n",
       "        vertical-align: middle;\n",
       "    }\n",
       "\n",
       "    .dataframe tbody tr th {\n",
       "        vertical-align: top;\n",
       "    }\n",
       "\n",
       "    .dataframe thead tr th {\n",
       "        text-align: left;\n",
       "    }\n",
       "</style>\n",
       "<table border=\"1\" class=\"dataframe\">\n",
       "  <thead>\n",
       "    <tr>\n",
       "      <th></th>\n",
       "      <th>family_status</th>\n",
       "      <th>total_borrowers</th>\n",
       "      <th>total_debtors</th>\n",
       "      <th>share_of_debtors</th>\n",
       "    </tr>\n",
       "    <tr>\n",
       "      <th></th>\n",
       "      <th></th>\n",
       "      <th></th>\n",
       "      <th></th>\n",
       "      <th></th>\n",
       "    </tr>\n",
       "  </thead>\n",
       "  <tbody>\n",
       "    <tr>\n",
       "      <th>0</th>\n",
       "      <td>Не женат / не замужем</td>\n",
       "      <td>2796</td>\n",
       "      <td>273</td>\n",
       "      <td>9.76%</td>\n",
       "    </tr>\n",
       "    <tr>\n",
       "      <th>1</th>\n",
       "      <td>гражданский брак</td>\n",
       "      <td>4134</td>\n",
       "      <td>385</td>\n",
       "      <td>9.31%</td>\n",
       "    </tr>\n",
       "    <tr>\n",
       "      <th>2</th>\n",
       "      <td>женат / замужем</td>\n",
       "      <td>12261</td>\n",
       "      <td>927</td>\n",
       "      <td>7.56%</td>\n",
       "    </tr>\n",
       "    <tr>\n",
       "      <th>3</th>\n",
       "      <td>в разводе</td>\n",
       "      <td>1189</td>\n",
       "      <td>84</td>\n",
       "      <td>7.06%</td>\n",
       "    </tr>\n",
       "    <tr>\n",
       "      <th>4</th>\n",
       "      <td>вдовец / вдова</td>\n",
       "      <td>951</td>\n",
       "      <td>63</td>\n",
       "      <td>6.62%</td>\n",
       "    </tr>\n",
       "  </tbody>\n",
       "</table>\n",
       "</div>"
      ],
      "text/plain": [
       "           family_status total_borrowers total_debtors share_of_debtors\n",
       "                                                                       \n",
       "0  Не женат / не замужем            2796           273            9.76%\n",
       "1       гражданский брак            4134           385            9.31%\n",
       "2        женат / замужем           12261           927            7.56%\n",
       "3              в разводе            1189            84            7.06%\n",
       "4         вдовец / вдова             951            63            6.62%"
      ]
     },
     "metadata": {},
     "output_type": "display_data"
    }
   ],
   "source": [
    "family_pivot = svod(data['family_status'])\n",
    "display(family_pivot)"
   ]
  },
  {
   "cell_type": "markdown",
   "id": "c389ca63",
   "metadata": {
    "deletable": false,
    "id": "c389ca63"
   },
   "source": [
    "<div style=\"border:solid orange 2px; padding: 20px\">\n",
    "        \n",
    "    Исходя из полученных данных мы видим, что среди заемщиков не состоявших в отношениях или состоящих в гражданском           браке чаще встречаются недобросовестные плательщики. Остальные категории заемщиков реже допускают задолженности по возврату кредита. \n",
    "\n",
    "**Вывод:** Семейное положение влияет на возврат кредита в срок."
   ]
  },
  {
   "cell_type": "markdown",
   "id": "9529de68",
   "metadata": {
    "deletable": false,
    "editable": false,
    "id": "9529de68"
   },
   "source": [
    "#### Есть ли зависимость между уровнем дохода и возвратом кредита в срок?"
   ]
  },
  {
   "cell_type": "markdown",
   "id": "d65a05d2",
   "metadata": {},
   "source": [
    "\n",
    "С помощью функциии `svod` создадим сводную таблицу сгрупированую по столбцу 'total_income_category'.\n"
   ]
  },
  {
   "cell_type": "code",
   "execution_count": 26,
   "id": "8787f44a",
   "metadata": {
    "deletable": false,
    "id": "8787f44a"
   },
   "outputs": [
    {
     "data": {
      "text/html": [
       "<div>\n",
       "<style scoped>\n",
       "    .dataframe tbody tr th:only-of-type {\n",
       "        vertical-align: middle;\n",
       "    }\n",
       "\n",
       "    .dataframe tbody tr th {\n",
       "        vertical-align: top;\n",
       "    }\n",
       "\n",
       "    .dataframe thead tr th {\n",
       "        text-align: left;\n",
       "    }\n",
       "</style>\n",
       "<table border=\"1\" class=\"dataframe\">\n",
       "  <thead>\n",
       "    <tr>\n",
       "      <th></th>\n",
       "      <th>total_income_category</th>\n",
       "      <th>total_borrowers</th>\n",
       "      <th>total_debtors</th>\n",
       "      <th>share_of_debtors</th>\n",
       "    </tr>\n",
       "    <tr>\n",
       "      <th></th>\n",
       "      <th></th>\n",
       "      <th></th>\n",
       "      <th></th>\n",
       "      <th></th>\n",
       "    </tr>\n",
       "  </thead>\n",
       "  <tbody>\n",
       "    <tr>\n",
       "      <th>0</th>\n",
       "      <td>C</td>\n",
       "      <td>15921</td>\n",
       "      <td>1353</td>\n",
       "      <td>8.50%</td>\n",
       "    </tr>\n",
       "    <tr>\n",
       "      <th>1</th>\n",
       "      <td>B</td>\n",
       "      <td>5014</td>\n",
       "      <td>354</td>\n",
       "      <td>7.06%</td>\n",
       "    </tr>\n",
       "  </tbody>\n",
       "</table>\n",
       "</div>"
      ],
      "text/plain": [
       "  total_income_category total_borrowers total_debtors share_of_debtors\n",
       "                                                                      \n",
       "0                     C           15921          1353            8.50%\n",
       "1                     B            5014           354            7.06%"
      ]
     },
     "metadata": {},
     "output_type": "display_data"
    }
   ],
   "source": [
    "income_pivot = svod(data['total_income_category'])\n",
    "display(income_pivot)"
   ]
  },
  {
   "cell_type": "markdown",
   "id": "6dd14b57",
   "metadata": {
    "deletable": false,
    "id": "6dd14b57"
   },
   "source": [
    "<div style=\"border:solid orange 2px; padding: 20px\">\n",
    "\n",
    "    Исходя из полученной таблицы мы видим, что категории дохода A, D, E были удалены, т.к. по ним не достаточно данных для формулировки корректных выводов.\n",
    "    При сравнении оставшихся категорий мы видим, что заемщики с доходом выше среднего (категория B) имеют меньший          процент должников.   \n",
    "**Вывод:** Уровень дохода  влияет на возврат кредита в срок. Чем выше доход, тем меньше вероятность появления задолженности."
   ]
  },
  {
   "cell_type": "markdown",
   "id": "1dcc9b12",
   "metadata": {
    "deletable": false,
    "editable": false,
    "id": "1dcc9b12"
   },
   "source": [
    "#### 3.4 Как разные цели кредита влияют на его возврат в срок?"
   ]
  },
  {
   "cell_type": "markdown",
   "id": "37ef3c83",
   "metadata": {},
   "source": [
    "\n",
    "Для того, чтобы определить как разные цели кредита влияют на возврат кредита в срок воспользуемся функциии `svod` создадим сводную таблицу, сгруппрованную по столбцу 'purpose_category' в котором мы ранее категоризировали цели на которые заемщики брали кредиты.\n"
   ]
  },
  {
   "cell_type": "code",
   "execution_count": 27,
   "id": "c602bc8b",
   "metadata": {
    "deletable": false,
    "id": "c602bc8b"
   },
   "outputs": [
    {
     "data": {
      "text/html": [
       "<div>\n",
       "<style scoped>\n",
       "    .dataframe tbody tr th:only-of-type {\n",
       "        vertical-align: middle;\n",
       "    }\n",
       "\n",
       "    .dataframe tbody tr th {\n",
       "        vertical-align: top;\n",
       "    }\n",
       "\n",
       "    .dataframe thead tr th {\n",
       "        text-align: left;\n",
       "    }\n",
       "</style>\n",
       "<table border=\"1\" class=\"dataframe\">\n",
       "  <thead>\n",
       "    <tr>\n",
       "      <th></th>\n",
       "      <th>purpose_category</th>\n",
       "      <th>total_borrowers</th>\n",
       "      <th>total_debtors</th>\n",
       "      <th>share_of_debtors</th>\n",
       "    </tr>\n",
       "    <tr>\n",
       "      <th></th>\n",
       "      <th></th>\n",
       "      <th></th>\n",
       "      <th></th>\n",
       "      <th></th>\n",
       "    </tr>\n",
       "  </thead>\n",
       "  <tbody>\n",
       "    <tr>\n",
       "      <th>0</th>\n",
       "      <td>операции с автомобилем</td>\n",
       "      <td>4279</td>\n",
       "      <td>400</td>\n",
       "      <td>9.35%</td>\n",
       "    </tr>\n",
       "    <tr>\n",
       "      <th>1</th>\n",
       "      <td>получение образования</td>\n",
       "      <td>3988</td>\n",
       "      <td>369</td>\n",
       "      <td>9.25%</td>\n",
       "    </tr>\n",
       "    <tr>\n",
       "      <th>2</th>\n",
       "      <td>проведение свадьбы</td>\n",
       "      <td>2313</td>\n",
       "      <td>183</td>\n",
       "      <td>7.91%</td>\n",
       "    </tr>\n",
       "    <tr>\n",
       "      <th>3</th>\n",
       "      <td>операции с недвижимостью</td>\n",
       "      <td>10751</td>\n",
       "      <td>780</td>\n",
       "      <td>7.26%</td>\n",
       "    </tr>\n",
       "  </tbody>\n",
       "</table>\n",
       "</div>"
      ],
      "text/plain": [
       "           purpose_category total_borrowers total_debtors share_of_debtors\n",
       "                                                                          \n",
       "0    операции с автомобилем            4279           400            9.35%\n",
       "1     получение образования            3988           369            9.25%\n",
       "2        проведение свадьбы            2313           183            7.91%\n",
       "3  операции с недвижимостью           10751           780            7.26%"
      ]
     },
     "metadata": {},
     "output_type": "display_data"
    }
   ],
   "source": [
    "purpose_pivot = svod(data['purpose_category'])\n",
    "display(purpose_pivot)"
   ]
  },
  {
   "cell_type": "markdown",
   "id": "cf05ed63",
   "metadata": {
    "deletable": false,
    "id": "cf05ed63"
   },
   "source": [
    "<div style=\"border:solid orange 2px; padding: 20px\">\n",
    "    \n",
    "**Вывод:**     Исходя из полученных данных мы видим, что заемщики получающие кредит на операции с недвижимостью,  на проведение свадьбы реже других допускают задолженность по кредиту. Чаще всего допускают задолженность заемщики получившие кредит на операции с автомобилем и на получение образования. \n",
    "\n"
   ]
  },
  {
   "cell_type": "markdown",
   "id": "46c1f10b",
   "metadata": {
    "deletable": false,
    "editable": false,
    "id": "46c1f10b"
   },
   "source": [
    "3.5 Приведу возможные причины появления пропусков в исходных данных."
   ]
  },
  {
   "cell_type": "markdown",
   "id": "3697d2a9",
   "metadata": {
    "deletable": false,
    "id": "3697d2a9"
   },
   "source": [
    " Пропуски в данных могут появляться по следующим причинам:\n",
    "- ошибки при обрабоке информации в системе (сбой в системе обработки и хранения данных)\n",
    "- намеренное сокрытие данных (например когда пользователь специально не указывает при регистрации те или иные данные)\n",
    "- некорректный ввод данных ( например когда пользователь должен ввести email в котором должен содержаться символ '@', но в вводимых данных отсутсует символ '@')\n"
   ]
  },
  {
   "cell_type": "markdown",
   "id": "3137d257",
   "metadata": {
    "deletable": false,
    "editable": false,
    "id": "3137d257"
   },
   "source": [
    "#### 3.6 Объясню, почему заполнить пропуски медианным значением — лучшее решение для количественных переменных."
   ]
  },
  {
   "cell_type": "markdown",
   "id": "cf40012a",
   "metadata": {
    "deletable": false,
    "id": "cf40012a"
   },
   "source": [
    "В случае, если в данных имеются значения сильно отличающиеся от большей части значений, то корректней будет находить медианное значение и заполнять им пропуски, т.к. оно находит среднее значение в данных и заполняет им пропуски. Если мы попытаемся найти среднее арифметическое значение, то для такого набора данных оно будет не корректно отображать среднее число (если есть значения намного превышающие большую часть значений, то среднее арифметическое выдаст результат превышающий большую часть значений, а следовательно данный результат будет не корректным для заполнения пропущенных значений)."
   ]
  },
  {
   "cell_type": "markdown",
   "id": "57bc304e",
   "metadata": {
    "deletable": false,
    "editable": false,
    "id": "57bc304e"
   },
   "source": [
    "### Общий вывод."
   ]
  },
  {
   "cell_type": "markdown",
   "id": "1ab75d1c",
   "metadata": {
    "deletable": false,
    "id": "1ab75d1c"
   },
   "source": [
    "<div style=\"border:solid orange 2px; padding: 30px\">\n",
    "\n",
    "**Общий вывод:**\n",
    "    В ходе работы над гипотезой о влиянии семейного положения и количества детей клиента на факт погашения кредита в срок мы определили следующие закономерности:\n",
    "- **количество  детей влияет на возврат кредита в срок.** С увеличением количества детей растет вероятность появления задолженности.\n",
    "- **семейное положение влияет на возврат кредита в срок.** Среди заемщиков не состоявших в отношениях или состоящих в гражданском    браке чаще встречаются недобросовестные плательщики.\n",
    "    \n",
    "    Также мы выдвинули гипотезы о влиянии уровня дохода и цели займа на возврат кредита в срок и определили следующие закономерности:\n",
    "- уровень дохода влияет на возврат кредита в срок. Чем ниже доход, тем больше вероятность появления задолженности;\n",
    "- заемщики получающие кредит на операции с недвижимостью, на проведение свадьбы реже допускают задолженность по кредиту, чем заемщики получившие кредит на операции с автомобилем и на получение образования.\n",
    "    \n",
    "**В ходе выполнения данного проекта мы провели следующую работу:**\n",
    "- определили в каких столбцах имеются пропущенные данные и посчитати количество пропусков;\n",
    "- заполнили пропуски в столбцах 'total_income' и 'days_employed' медианными значениями по каждому типу занятости;\n",
    "- проработали аномальные значения в столбцах 'days_employed' и 'children';\n",
    "- изменили тип данных в столбце 'total_income';\n",
    "- провели работу по удалению неявных дубликатов в столбце 'education';\n",
    "- ввели 2 дополнительных столбца в таблицу в которых категоризировали данные по уровню дохода и цели кредита;\n",
    "- написали функцию для построения сводных таблиц с группировкой данных по необходимому нам для проверки гипотезы столбцу\n",
    "- воспользовавшись введенной нами функцией построили сводные таблицы с неоходимыми нам данными для формирования выводов.\n",
    "    \n",
    "\n",
    "    \n",
    "**Рекомендации банку-заказчику:**\n",
    "\n",
    "1. Есть вероятность что возраст, образование и пол заемщика также могут влиять на возврат кредита в срок, для корректного построении модели кредитного скоринга рекомендуем провести анализ с учетом вышеперечисленных данных.\n",
    "2. При проверке гипотез часть категорий была удалена из выборки в всязи с недостаточностью данных для построения корректных выводов, на основании этого рекомендуем по возможности расширить выборку.  "
   ]
  }
 ],
 "metadata": {
  "ExecuteTimeLog": [
   {
    "duration": 570,
    "start_time": "2023-09-08T08:18:36.827Z"
   },
   {
    "duration": 30,
    "start_time": "2023-09-08T08:18:39.921Z"
   },
   {
    "duration": 23,
    "start_time": "2023-09-08T08:19:52.533Z"
   },
   {
    "duration": 12,
    "start_time": "2023-09-08T08:20:13.344Z"
   },
   {
    "duration": 63,
    "start_time": "2023-09-08T08:20:25.079Z"
   },
   {
    "duration": 4,
    "start_time": "2023-09-08T08:24:01.363Z"
   },
   {
    "duration": 8,
    "start_time": "2023-09-08T08:24:02.842Z"
   },
   {
    "duration": 5,
    "start_time": "2023-09-08T08:24:07.843Z"
   },
   {
    "duration": 31,
    "start_time": "2023-09-08T08:24:09.193Z"
   },
   {
    "duration": 9,
    "start_time": "2023-09-08T08:24:24.620Z"
   },
   {
    "duration": 51,
    "start_time": "2023-09-08T08:24:26.584Z"
   },
   {
    "duration": 11,
    "start_time": "2023-09-08T08:24:31.073Z"
   },
   {
    "duration": 4,
    "start_time": "2023-09-08T08:24:33.562Z"
   },
   {
    "duration": 14,
    "start_time": "2023-09-08T08:24:55.252Z"
   },
   {
    "duration": 21,
    "start_time": "2023-09-08T08:24:56.650Z"
   },
   {
    "duration": 34,
    "start_time": "2023-09-08T08:24:57.386Z"
   },
   {
    "duration": 10,
    "start_time": "2023-09-08T08:25:12.321Z"
   },
   {
    "duration": 14,
    "start_time": "2023-09-08T08:25:39.835Z"
   },
   {
    "duration": 6,
    "start_time": "2023-09-08T08:25:41.281Z"
   },
   {
    "duration": 17,
    "start_time": "2023-09-08T08:25:45.403Z"
   },
   {
    "duration": 8,
    "start_time": "2023-09-08T08:25:59.370Z"
   },
   {
    "duration": 521,
    "start_time": "2023-09-08T12:38:08.098Z"
   },
   {
    "duration": 22,
    "start_time": "2023-09-08T12:38:08.621Z"
   },
   {
    "duration": 47,
    "start_time": "2023-09-08T12:38:08.650Z"
   },
   {
    "duration": 11,
    "start_time": "2023-09-08T12:38:08.699Z"
   },
   {
    "duration": 49,
    "start_time": "2023-09-08T12:38:08.712Z"
   },
   {
    "duration": 3,
    "start_time": "2023-09-08T12:38:08.762Z"
   },
   {
    "duration": 23,
    "start_time": "2023-09-08T12:38:08.767Z"
   },
   {
    "duration": 18,
    "start_time": "2023-09-08T12:38:08.791Z"
   },
   {
    "duration": 13,
    "start_time": "2023-09-08T12:38:08.811Z"
   },
   {
    "duration": 12,
    "start_time": "2023-09-08T12:38:08.826Z"
   },
   {
    "duration": 49,
    "start_time": "2023-09-08T12:38:08.839Z"
   },
   {
    "duration": 10,
    "start_time": "2023-09-08T12:38:08.890Z"
   },
   {
    "duration": 20,
    "start_time": "2023-09-08T12:38:08.901Z"
   },
   {
    "duration": 30,
    "start_time": "2023-09-08T12:38:08.923Z"
   },
   {
    "duration": 54,
    "start_time": "2023-09-08T12:38:08.955Z"
   },
   {
    "duration": 17,
    "start_time": "2023-09-08T12:38:09.011Z"
   },
   {
    "duration": 8,
    "start_time": "2023-09-08T12:38:09.030Z"
   },
   {
    "duration": 17,
    "start_time": "2023-09-08T12:38:09.042Z"
   },
   {
    "duration": 19,
    "start_time": "2023-09-08T12:38:09.060Z"
   },
   {
    "duration": 6,
    "start_time": "2023-09-08T12:38:09.081Z"
   },
   {
    "duration": 22,
    "start_time": "2023-09-08T12:38:09.088Z"
   },
   {
    "duration": 8,
    "start_time": "2023-09-08T12:38:09.112Z"
   },
   {
    "duration": 9,
    "start_time": "2023-09-08T12:38:09.121Z"
   },
   {
    "duration": 24,
    "start_time": "2023-09-08T12:38:09.131Z"
   },
   {
    "duration": 10,
    "start_time": "2023-09-08T12:38:09.157Z"
   },
   {
    "duration": 47,
    "start_time": "2023-09-09T10:02:46.328Z"
   },
   {
    "duration": 693,
    "start_time": "2023-09-09T10:04:17.965Z"
   },
   {
    "duration": 20,
    "start_time": "2023-09-09T10:04:18.659Z"
   },
   {
    "duration": 40,
    "start_time": "2023-09-09T10:04:18.681Z"
   },
   {
    "duration": 27,
    "start_time": "2023-09-09T10:04:18.723Z"
   },
   {
    "duration": 58,
    "start_time": "2023-09-09T10:04:18.751Z"
   },
   {
    "duration": 3,
    "start_time": "2023-09-09T10:04:18.811Z"
   },
   {
    "duration": 44,
    "start_time": "2023-09-09T10:04:18.815Z"
   },
   {
    "duration": 35,
    "start_time": "2023-09-09T10:04:18.861Z"
   },
   {
    "duration": 44,
    "start_time": "2023-09-09T10:04:18.898Z"
   },
   {
    "duration": 34,
    "start_time": "2023-09-09T10:04:18.946Z"
   },
   {
    "duration": 69,
    "start_time": "2023-09-09T10:04:18.982Z"
   },
   {
    "duration": 29,
    "start_time": "2023-09-09T10:04:19.052Z"
   },
   {
    "duration": 23,
    "start_time": "2023-09-09T10:04:19.083Z"
   },
   {
    "duration": 23,
    "start_time": "2023-09-09T10:04:19.108Z"
   },
   {
    "duration": 44,
    "start_time": "2023-09-09T10:04:19.132Z"
   },
   {
    "duration": 27,
    "start_time": "2023-09-09T10:04:19.178Z"
   },
   {
    "duration": 4,
    "start_time": "2023-09-09T10:04:19.206Z"
   },
   {
    "duration": 23,
    "start_time": "2023-09-09T10:04:19.212Z"
   },
   {
    "duration": 9,
    "start_time": "2023-09-09T10:04:19.236Z"
   },
   {
    "duration": 6,
    "start_time": "2023-09-09T10:04:19.246Z"
   },
   {
    "duration": 17,
    "start_time": "2023-09-09T10:04:19.254Z"
   },
   {
    "duration": 80,
    "start_time": "2023-09-09T10:04:19.272Z"
   },
   {
    "duration": 0,
    "start_time": "2023-09-09T10:04:19.353Z"
   },
   {
    "duration": 0,
    "start_time": "2023-09-09T10:04:19.354Z"
   },
   {
    "duration": 0,
    "start_time": "2023-09-09T10:04:19.355Z"
   },
   {
    "duration": 4,
    "start_time": "2023-09-09T10:04:52.895Z"
   },
   {
    "duration": 8,
    "start_time": "2023-09-09T10:05:14.808Z"
   },
   {
    "duration": 6,
    "start_time": "2023-09-09T10:05:24.878Z"
   },
   {
    "duration": 6,
    "start_time": "2023-09-09T10:17:49.097Z"
   },
   {
    "duration": 1677,
    "start_time": "2023-09-09T10:21:21.276Z"
   },
   {
    "duration": 9,
    "start_time": "2023-09-09T10:22:01.506Z"
   },
   {
    "duration": 8,
    "start_time": "2023-09-09T10:22:25.256Z"
   },
   {
    "duration": 1514,
    "start_time": "2023-09-09T10:22:48.679Z"
   },
   {
    "duration": 1812,
    "start_time": "2023-09-09T10:24:11.256Z"
   },
   {
    "duration": 2297,
    "start_time": "2023-09-09T10:24:24.432Z"
   },
   {
    "duration": 10,
    "start_time": "2023-09-09T10:24:53.516Z"
   },
   {
    "duration": 12,
    "start_time": "2023-09-09T10:25:03.461Z"
   },
   {
    "duration": 7,
    "start_time": "2023-09-09T10:25:12.066Z"
   },
   {
    "duration": 4,
    "start_time": "2023-09-09T10:25:38.360Z"
   },
   {
    "duration": 7,
    "start_time": "2023-09-09T10:25:45.898Z"
   },
   {
    "duration": 4,
    "start_time": "2023-09-09T10:25:50.311Z"
   },
   {
    "duration": 6,
    "start_time": "2023-09-09T10:43:51.398Z"
   },
   {
    "duration": 4,
    "start_time": "2023-09-09T10:44:20.059Z"
   },
   {
    "duration": 14,
    "start_time": "2023-09-09T10:46:43.874Z"
   },
   {
    "duration": 7,
    "start_time": "2023-09-09T10:59:45.453Z"
   },
   {
    "duration": 5,
    "start_time": "2023-09-09T10:59:57.650Z"
   },
   {
    "duration": 7,
    "start_time": "2023-09-09T11:00:44.371Z"
   },
   {
    "duration": 7,
    "start_time": "2023-09-09T11:01:23.341Z"
   },
   {
    "duration": 7,
    "start_time": "2023-09-09T11:02:13.679Z"
   },
   {
    "duration": 6,
    "start_time": "2023-09-09T11:11:42.570Z"
   },
   {
    "duration": 7,
    "start_time": "2023-09-09T11:11:56.401Z"
   },
   {
    "duration": 7,
    "start_time": "2023-09-09T11:12:47.093Z"
   },
   {
    "duration": 4,
    "start_time": "2023-09-09T11:12:50.635Z"
   },
   {
    "duration": 4,
    "start_time": "2023-09-09T11:14:02.758Z"
   },
   {
    "duration": 7,
    "start_time": "2023-09-09T11:16:20.345Z"
   },
   {
    "duration": 8,
    "start_time": "2023-09-09T11:16:23.788Z"
   },
   {
    "duration": 6,
    "start_time": "2023-09-09T11:17:01.406Z"
   },
   {
    "duration": 4,
    "start_time": "2023-09-09T11:17:02.772Z"
   },
   {
    "duration": 6,
    "start_time": "2023-09-09T11:24:05.995Z"
   },
   {
    "duration": 4,
    "start_time": "2023-09-09T11:24:28.915Z"
   },
   {
    "duration": 9,
    "start_time": "2023-09-09T11:24:39.806Z"
   },
   {
    "duration": 7,
    "start_time": "2023-09-09T11:25:48.608Z"
   },
   {
    "duration": 7,
    "start_time": "2023-09-09T11:26:16.345Z"
   },
   {
    "duration": 10,
    "start_time": "2023-09-09T11:39:38.558Z"
   },
   {
    "duration": 9,
    "start_time": "2023-09-09T11:39:50.825Z"
   },
   {
    "duration": 441,
    "start_time": "2023-09-09T11:41:11.979Z"
   },
   {
    "duration": 21,
    "start_time": "2023-09-09T11:41:12.421Z"
   },
   {
    "duration": 14,
    "start_time": "2023-09-09T11:41:12.444Z"
   },
   {
    "duration": 22,
    "start_time": "2023-09-09T11:41:12.460Z"
   },
   {
    "duration": 49,
    "start_time": "2023-09-09T11:41:12.484Z"
   },
   {
    "duration": 4,
    "start_time": "2023-09-09T11:41:12.535Z"
   },
   {
    "duration": 19,
    "start_time": "2023-09-09T11:41:12.540Z"
   },
   {
    "duration": 14,
    "start_time": "2023-09-09T11:41:12.560Z"
   },
   {
    "duration": 20,
    "start_time": "2023-09-09T11:41:12.575Z"
   },
   {
    "duration": 21,
    "start_time": "2023-09-09T11:41:12.597Z"
   },
   {
    "duration": 49,
    "start_time": "2023-09-09T11:41:12.620Z"
   },
   {
    "duration": 10,
    "start_time": "2023-09-09T11:41:12.670Z"
   },
   {
    "duration": 6,
    "start_time": "2023-09-09T11:41:12.682Z"
   },
   {
    "duration": 16,
    "start_time": "2023-09-09T11:41:12.689Z"
   },
   {
    "duration": 26,
    "start_time": "2023-09-09T11:41:12.706Z"
   },
   {
    "duration": 23,
    "start_time": "2023-09-09T11:41:12.734Z"
   },
   {
    "duration": 22,
    "start_time": "2023-09-09T11:41:12.758Z"
   },
   {
    "duration": 24,
    "start_time": "2023-09-09T11:41:12.782Z"
   },
   {
    "duration": 31,
    "start_time": "2023-09-09T11:41:12.808Z"
   },
   {
    "duration": 15,
    "start_time": "2023-09-09T11:41:12.841Z"
   },
   {
    "duration": 45,
    "start_time": "2023-09-09T11:41:12.858Z"
   },
   {
    "duration": 22,
    "start_time": "2023-09-09T11:41:12.905Z"
   },
   {
    "duration": 14,
    "start_time": "2023-09-09T11:41:12.929Z"
   },
   {
    "duration": 10,
    "start_time": "2023-09-09T11:41:12.945Z"
   },
   {
    "duration": 11,
    "start_time": "2023-09-09T11:41:12.956Z"
   },
   {
    "duration": 31,
    "start_time": "2023-09-09T11:41:12.968Z"
   },
   {
    "duration": 4,
    "start_time": "2023-09-09T11:41:13.000Z"
   },
   {
    "duration": 12,
    "start_time": "2023-09-09T11:41:13.007Z"
   },
   {
    "duration": 4,
    "start_time": "2023-09-09T11:47:25.476Z"
   },
   {
    "duration": 60,
    "start_time": "2023-09-09T12:03:38.012Z"
   },
   {
    "duration": 8,
    "start_time": "2023-09-09T12:03:45.900Z"
   },
   {
    "duration": 5,
    "start_time": "2023-09-09T12:04:15.216Z"
   },
   {
    "duration": 5,
    "start_time": "2023-09-09T12:04:30.388Z"
   },
   {
    "duration": 12,
    "start_time": "2023-09-09T12:04:39.887Z"
   },
   {
    "duration": 78,
    "start_time": "2023-09-09T12:04:53.237Z"
   },
   {
    "duration": 7,
    "start_time": "2023-09-09T12:04:58.524Z"
   },
   {
    "duration": 5,
    "start_time": "2023-09-09T12:05:07.571Z"
   },
   {
    "duration": 16,
    "start_time": "2023-09-09T12:06:28.724Z"
   },
   {
    "duration": 6,
    "start_time": "2023-09-09T12:08:26.324Z"
   },
   {
    "duration": 8,
    "start_time": "2023-09-09T12:35:33.436Z"
   },
   {
    "duration": 8,
    "start_time": "2023-09-09T12:37:12.706Z"
   },
   {
    "duration": 4,
    "start_time": "2023-09-09T12:38:04.232Z"
   },
   {
    "duration": 79,
    "start_time": "2023-09-09T18:07:22.522Z"
   },
   {
    "duration": 1204,
    "start_time": "2023-09-09T18:07:33.563Z"
   },
   {
    "duration": 36,
    "start_time": "2023-09-09T18:07:34.770Z"
   },
   {
    "duration": 24,
    "start_time": "2023-09-09T18:07:34.808Z"
   },
   {
    "duration": 17,
    "start_time": "2023-09-09T18:07:34.843Z"
   },
   {
    "duration": 56,
    "start_time": "2023-09-09T18:07:34.862Z"
   },
   {
    "duration": 4,
    "start_time": "2023-09-09T18:07:34.945Z"
   },
   {
    "duration": 13,
    "start_time": "2023-09-09T18:07:34.952Z"
   },
   {
    "duration": 5,
    "start_time": "2023-09-09T18:07:34.968Z"
   },
   {
    "duration": 22,
    "start_time": "2023-09-09T18:07:34.975Z"
   },
   {
    "duration": 7,
    "start_time": "2023-09-09T18:07:35.002Z"
   },
   {
    "duration": 53,
    "start_time": "2023-09-09T18:07:35.043Z"
   },
   {
    "duration": 15,
    "start_time": "2023-09-09T18:07:35.098Z"
   },
   {
    "duration": 30,
    "start_time": "2023-09-09T18:07:35.115Z"
   },
   {
    "duration": 21,
    "start_time": "2023-09-09T18:07:35.147Z"
   },
   {
    "duration": 29,
    "start_time": "2023-09-09T18:07:35.170Z"
   },
   {
    "duration": 49,
    "start_time": "2023-09-09T18:07:35.201Z"
   },
   {
    "duration": 4,
    "start_time": "2023-09-09T18:07:35.252Z"
   },
   {
    "duration": 37,
    "start_time": "2023-09-09T18:07:35.258Z"
   },
   {
    "duration": 9,
    "start_time": "2023-09-09T18:07:35.299Z"
   },
   {
    "duration": 7,
    "start_time": "2023-09-09T18:07:35.310Z"
   },
   {
    "duration": 15,
    "start_time": "2023-09-09T18:07:35.319Z"
   },
   {
    "duration": 10,
    "start_time": "2023-09-09T18:07:35.350Z"
   },
   {
    "duration": 9,
    "start_time": "2023-09-09T18:07:35.363Z"
   },
   {
    "duration": 7,
    "start_time": "2023-09-09T18:07:35.373Z"
   },
   {
    "duration": 9,
    "start_time": "2023-09-09T18:07:35.382Z"
   },
   {
    "duration": 103,
    "start_time": "2023-09-09T18:07:35.392Z"
   },
   {
    "duration": 0,
    "start_time": "2023-09-09T18:07:35.497Z"
   },
   {
    "duration": 1,
    "start_time": "2023-09-09T18:07:35.498Z"
   },
   {
    "duration": 0,
    "start_time": "2023-09-09T18:07:35.500Z"
   },
   {
    "duration": 0,
    "start_time": "2023-09-09T18:07:35.500Z"
   },
   {
    "duration": 79,
    "start_time": "2023-09-09T18:27:56.679Z"
   },
   {
    "duration": 3,
    "start_time": "2023-09-09T18:28:01.487Z"
   },
   {
    "duration": 4,
    "start_time": "2023-09-09T18:30:08.351Z"
   },
   {
    "duration": 14,
    "start_time": "2023-09-09T18:30:57.064Z"
   },
   {
    "duration": 1620,
    "start_time": "2023-09-09T18:31:10.398Z"
   },
   {
    "duration": 4,
    "start_time": "2023-09-09T18:36:02.229Z"
   },
   {
    "duration": 3,
    "start_time": "2023-09-09T18:36:25.265Z"
   },
   {
    "duration": 2,
    "start_time": "2023-09-09T18:36:30.512Z"
   },
   {
    "duration": 8,
    "start_time": "2023-09-09T18:37:29.774Z"
   },
   {
    "duration": 9,
    "start_time": "2023-09-09T18:38:24.165Z"
   },
   {
    "duration": 10,
    "start_time": "2023-09-09T18:39:09.911Z"
   },
   {
    "duration": 3,
    "start_time": "2023-09-09T18:44:10.432Z"
   },
   {
    "duration": 9,
    "start_time": "2023-09-09T18:44:11.556Z"
   },
   {
    "duration": 5,
    "start_time": "2023-09-09T18:46:46.654Z"
   },
   {
    "duration": 6,
    "start_time": "2023-09-09T18:47:00.578Z"
   },
   {
    "duration": 6,
    "start_time": "2023-09-09T18:47:17.308Z"
   },
   {
    "duration": 91,
    "start_time": "2023-09-09T18:48:53.936Z"
   },
   {
    "duration": 77,
    "start_time": "2023-09-09T18:49:06.495Z"
   },
   {
    "duration": 11,
    "start_time": "2023-09-09T19:10:07.323Z"
   },
   {
    "duration": 12,
    "start_time": "2023-09-09T19:10:14.378Z"
   },
   {
    "duration": 10,
    "start_time": "2023-09-09T19:10:41.326Z"
   },
   {
    "duration": 101,
    "start_time": "2023-09-09T19:14:18.570Z"
   },
   {
    "duration": 12,
    "start_time": "2023-09-09T19:14:28.401Z"
   },
   {
    "duration": 23,
    "start_time": "2023-09-09T19:14:37.839Z"
   },
   {
    "duration": 5,
    "start_time": "2023-09-09T19:14:55.405Z"
   },
   {
    "duration": 20,
    "start_time": "2023-09-09T19:15:18.143Z"
   },
   {
    "duration": 11,
    "start_time": "2023-09-09T19:15:23.070Z"
   },
   {
    "duration": 9,
    "start_time": "2023-09-09T19:15:37.074Z"
   },
   {
    "duration": 9,
    "start_time": "2023-09-09T19:15:43.474Z"
   },
   {
    "duration": 7,
    "start_time": "2023-09-09T19:15:52.673Z"
   },
   {
    "duration": 14,
    "start_time": "2023-09-09T19:18:12.906Z"
   },
   {
    "duration": 77,
    "start_time": "2023-09-09T19:19:18.584Z"
   },
   {
    "duration": 91,
    "start_time": "2023-09-09T19:19:23.635Z"
   },
   {
    "duration": 99,
    "start_time": "2023-09-09T19:19:44.907Z"
   },
   {
    "duration": 4,
    "start_time": "2023-09-09T19:20:21.958Z"
   },
   {
    "duration": 6,
    "start_time": "2023-09-09T19:20:25.941Z"
   },
   {
    "duration": 6,
    "start_time": "2023-09-09T19:20:48.636Z"
   },
   {
    "duration": 5,
    "start_time": "2023-09-09T19:21:02.232Z"
   },
   {
    "duration": 16,
    "start_time": "2023-09-09T19:21:19.845Z"
   },
   {
    "duration": 5,
    "start_time": "2023-09-09T19:21:31.060Z"
   },
   {
    "duration": 6,
    "start_time": "2023-09-09T19:21:50.164Z"
   },
   {
    "duration": 6,
    "start_time": "2023-09-09T19:21:56.216Z"
   },
   {
    "duration": 5,
    "start_time": "2023-09-09T19:22:05.693Z"
   },
   {
    "duration": 10,
    "start_time": "2023-09-09T19:22:51.797Z"
   },
   {
    "duration": 6,
    "start_time": "2023-09-09T19:23:02.914Z"
   },
   {
    "duration": 5,
    "start_time": "2023-09-09T19:23:15.014Z"
   },
   {
    "duration": 5,
    "start_time": "2023-09-09T19:23:17.127Z"
   },
   {
    "duration": 5,
    "start_time": "2023-09-09T19:23:24.152Z"
   },
   {
    "duration": 5,
    "start_time": "2023-09-09T19:23:51.465Z"
   },
   {
    "duration": 9,
    "start_time": "2023-09-09T19:24:13.102Z"
   },
   {
    "duration": 75,
    "start_time": "2023-09-09T19:24:37.302Z"
   },
   {
    "duration": 75,
    "start_time": "2023-09-09T19:24:41.925Z"
   },
   {
    "duration": 5,
    "start_time": "2023-09-09T19:24:50.156Z"
   },
   {
    "duration": 493,
    "start_time": "2023-09-09T19:24:59.436Z"
   },
   {
    "duration": 23,
    "start_time": "2023-09-09T19:24:59.931Z"
   },
   {
    "duration": 15,
    "start_time": "2023-09-09T19:24:59.956Z"
   },
   {
    "duration": 22,
    "start_time": "2023-09-09T19:24:59.973Z"
   },
   {
    "duration": 111,
    "start_time": "2023-09-09T19:24:59.996Z"
   },
   {
    "duration": 49,
    "start_time": "2023-09-09T19:25:00.109Z"
   },
   {
    "duration": 55,
    "start_time": "2023-09-09T19:25:00.160Z"
   },
   {
    "duration": 38,
    "start_time": "2023-09-09T19:25:00.217Z"
   },
   {
    "duration": 49,
    "start_time": "2023-09-09T19:25:00.257Z"
   },
   {
    "duration": 66,
    "start_time": "2023-09-09T19:25:00.310Z"
   },
   {
    "duration": 57,
    "start_time": "2023-09-09T19:25:00.378Z"
   },
   {
    "duration": 49,
    "start_time": "2023-09-09T19:25:00.437Z"
   },
   {
    "duration": 43,
    "start_time": "2023-09-09T19:25:00.487Z"
   },
   {
    "duration": 48,
    "start_time": "2023-09-09T19:25:00.532Z"
   },
   {
    "duration": 45,
    "start_time": "2023-09-09T19:25:00.582Z"
   },
   {
    "duration": 30,
    "start_time": "2023-09-09T19:25:00.629Z"
   },
   {
    "duration": 12,
    "start_time": "2023-09-09T19:25:00.660Z"
   },
   {
    "duration": 50,
    "start_time": "2023-09-09T19:25:00.674Z"
   },
   {
    "duration": 31,
    "start_time": "2023-09-09T19:25:00.726Z"
   },
   {
    "duration": 22,
    "start_time": "2023-09-09T19:25:00.759Z"
   },
   {
    "duration": 43,
    "start_time": "2023-09-09T19:25:00.783Z"
   },
   {
    "duration": 30,
    "start_time": "2023-09-09T19:25:00.828Z"
   },
   {
    "duration": 31,
    "start_time": "2023-09-09T19:25:00.860Z"
   },
   {
    "duration": 22,
    "start_time": "2023-09-09T19:25:00.893Z"
   },
   {
    "duration": 41,
    "start_time": "2023-09-09T19:25:00.917Z"
   },
   {
    "duration": 92,
    "start_time": "2023-09-09T19:25:00.959Z"
   },
   {
    "duration": 0,
    "start_time": "2023-09-09T19:25:01.053Z"
   },
   {
    "duration": 0,
    "start_time": "2023-09-09T19:25:01.055Z"
   },
   {
    "duration": 0,
    "start_time": "2023-09-09T19:25:01.057Z"
   },
   {
    "duration": 0,
    "start_time": "2023-09-09T19:25:01.058Z"
   },
   {
    "duration": 0,
    "start_time": "2023-09-09T19:25:01.060Z"
   },
   {
    "duration": 0,
    "start_time": "2023-09-09T19:25:01.061Z"
   },
   {
    "duration": 0,
    "start_time": "2023-09-09T19:25:01.062Z"
   },
   {
    "duration": 9,
    "start_time": "2023-09-09T19:25:15.478Z"
   },
   {
    "duration": 5,
    "start_time": "2023-09-09T19:25:22.137Z"
   },
   {
    "duration": 94,
    "start_time": "2023-09-09T19:26:02.831Z"
   },
   {
    "duration": 10,
    "start_time": "2023-09-09T19:26:12.726Z"
   },
   {
    "duration": 7,
    "start_time": "2023-09-09T19:26:20.565Z"
   },
   {
    "duration": 10,
    "start_time": "2023-09-09T19:26:53.591Z"
   },
   {
    "duration": 6,
    "start_time": "2023-09-09T19:27:00.461Z"
   },
   {
    "duration": 453,
    "start_time": "2023-09-09T19:28:21.170Z"
   },
   {
    "duration": 22,
    "start_time": "2023-09-09T19:28:21.624Z"
   },
   {
    "duration": 20,
    "start_time": "2023-09-09T19:28:21.648Z"
   },
   {
    "duration": 16,
    "start_time": "2023-09-09T19:28:21.670Z"
   },
   {
    "duration": 71,
    "start_time": "2023-09-09T19:28:21.687Z"
   },
   {
    "duration": 4,
    "start_time": "2023-09-09T19:28:21.760Z"
   },
   {
    "duration": 41,
    "start_time": "2023-09-09T19:28:21.766Z"
   },
   {
    "duration": 26,
    "start_time": "2023-09-09T19:28:21.809Z"
   },
   {
    "duration": 34,
    "start_time": "2023-09-09T19:28:21.837Z"
   },
   {
    "duration": 4,
    "start_time": "2023-09-09T19:28:21.876Z"
   },
   {
    "duration": 40,
    "start_time": "2023-09-09T19:28:21.881Z"
   },
   {
    "duration": 10,
    "start_time": "2023-09-09T19:28:21.923Z"
   },
   {
    "duration": 13,
    "start_time": "2023-09-09T19:28:21.935Z"
   },
   {
    "duration": 14,
    "start_time": "2023-09-09T19:28:21.949Z"
   },
   {
    "duration": 25,
    "start_time": "2023-09-09T19:28:21.965Z"
   },
   {
    "duration": 17,
    "start_time": "2023-09-09T19:28:21.992Z"
   },
   {
    "duration": 3,
    "start_time": "2023-09-09T19:28:22.011Z"
   },
   {
    "duration": 11,
    "start_time": "2023-09-09T19:28:22.016Z"
   },
   {
    "duration": 5,
    "start_time": "2023-09-09T19:28:22.044Z"
   },
   {
    "duration": 8,
    "start_time": "2023-09-09T19:28:22.050Z"
   },
   {
    "duration": 15,
    "start_time": "2023-09-09T19:28:22.060Z"
   },
   {
    "duration": 13,
    "start_time": "2023-09-09T19:28:22.076Z"
   },
   {
    "duration": 19,
    "start_time": "2023-09-09T19:28:22.091Z"
   },
   {
    "duration": 12,
    "start_time": "2023-09-09T19:28:22.112Z"
   },
   {
    "duration": 34,
    "start_time": "2023-09-09T19:28:22.126Z"
   },
   {
    "duration": 104,
    "start_time": "2023-09-09T19:28:22.162Z"
   },
   {
    "duration": 0,
    "start_time": "2023-09-09T19:28:22.267Z"
   },
   {
    "duration": 0,
    "start_time": "2023-09-09T19:28:22.269Z"
   },
   {
    "duration": 0,
    "start_time": "2023-09-09T19:28:22.270Z"
   },
   {
    "duration": 0,
    "start_time": "2023-09-09T19:28:22.271Z"
   },
   {
    "duration": 0,
    "start_time": "2023-09-09T19:28:22.272Z"
   },
   {
    "duration": 0,
    "start_time": "2023-09-09T19:28:22.273Z"
   },
   {
    "duration": 0,
    "start_time": "2023-09-09T19:28:22.274Z"
   },
   {
    "duration": 6,
    "start_time": "2023-09-09T19:28:35.954Z"
   },
   {
    "duration": 10,
    "start_time": "2023-09-09T19:29:39.500Z"
   },
   {
    "duration": 5,
    "start_time": "2023-09-09T19:29:49.632Z"
   },
   {
    "duration": 5,
    "start_time": "2023-09-09T19:29:56.282Z"
   },
   {
    "duration": 11,
    "start_time": "2023-09-09T19:30:43.159Z"
   },
   {
    "duration": 7,
    "start_time": "2023-09-09T19:30:51.208Z"
   },
   {
    "duration": 470,
    "start_time": "2023-09-09T19:33:37.658Z"
   },
   {
    "duration": 21,
    "start_time": "2023-09-09T19:33:38.130Z"
   },
   {
    "duration": 16,
    "start_time": "2023-09-09T19:33:38.152Z"
   },
   {
    "duration": 10,
    "start_time": "2023-09-09T19:33:38.170Z"
   },
   {
    "duration": 63,
    "start_time": "2023-09-09T19:33:38.181Z"
   },
   {
    "duration": 3,
    "start_time": "2023-09-09T19:33:38.246Z"
   },
   {
    "duration": 18,
    "start_time": "2023-09-09T19:33:38.251Z"
   },
   {
    "duration": 7,
    "start_time": "2023-09-09T19:33:38.270Z"
   },
   {
    "duration": 11,
    "start_time": "2023-09-09T19:33:38.279Z"
   },
   {
    "duration": 4,
    "start_time": "2023-09-09T19:33:38.292Z"
   },
   {
    "duration": 55,
    "start_time": "2023-09-09T19:33:38.297Z"
   },
   {
    "duration": 10,
    "start_time": "2023-09-09T19:33:38.354Z"
   },
   {
    "duration": 14,
    "start_time": "2023-09-09T19:33:38.365Z"
   },
   {
    "duration": 28,
    "start_time": "2023-09-09T19:33:38.381Z"
   },
   {
    "duration": 28,
    "start_time": "2023-09-09T19:33:38.411Z"
   },
   {
    "duration": 17,
    "start_time": "2023-09-09T19:33:38.441Z"
   },
   {
    "duration": 6,
    "start_time": "2023-09-09T19:33:38.459Z"
   },
   {
    "duration": 16,
    "start_time": "2023-09-09T19:33:38.466Z"
   },
   {
    "duration": 28,
    "start_time": "2023-09-09T19:33:38.483Z"
   },
   {
    "duration": 16,
    "start_time": "2023-09-09T19:33:38.513Z"
   },
   {
    "duration": 22,
    "start_time": "2023-09-09T19:33:38.530Z"
   },
   {
    "duration": 4,
    "start_time": "2023-09-09T19:33:38.554Z"
   },
   {
    "duration": 16,
    "start_time": "2023-09-09T19:33:38.559Z"
   },
   {
    "duration": 8,
    "start_time": "2023-09-09T19:33:38.576Z"
   },
   {
    "duration": 13,
    "start_time": "2023-09-09T19:33:38.585Z"
   },
   {
    "duration": 7,
    "start_time": "2023-09-09T19:33:38.600Z"
   },
   {
    "duration": 87,
    "start_time": "2023-09-09T19:33:38.608Z"
   },
   {
    "duration": 0,
    "start_time": "2023-09-09T19:33:38.698Z"
   },
   {
    "duration": 0,
    "start_time": "2023-09-09T19:33:38.699Z"
   },
   {
    "duration": 0,
    "start_time": "2023-09-09T19:33:38.700Z"
   },
   {
    "duration": 0,
    "start_time": "2023-09-09T19:33:38.701Z"
   },
   {
    "duration": 763,
    "start_time": "2023-09-10T08:32:58.063Z"
   },
   {
    "duration": 23,
    "start_time": "2023-09-10T08:32:58.828Z"
   },
   {
    "duration": 27,
    "start_time": "2023-09-10T08:32:58.856Z"
   },
   {
    "duration": 11,
    "start_time": "2023-09-10T08:32:58.885Z"
   },
   {
    "duration": 60,
    "start_time": "2023-09-10T08:32:58.898Z"
   },
   {
    "duration": 5,
    "start_time": "2023-09-10T08:32:58.963Z"
   },
   {
    "duration": 25,
    "start_time": "2023-09-10T08:32:58.970Z"
   },
   {
    "duration": 24,
    "start_time": "2023-09-10T08:32:58.997Z"
   },
   {
    "duration": 17,
    "start_time": "2023-09-10T08:32:59.022Z"
   },
   {
    "duration": 25,
    "start_time": "2023-09-10T08:32:59.043Z"
   },
   {
    "duration": 62,
    "start_time": "2023-09-10T08:32:59.074Z"
   },
   {
    "duration": 20,
    "start_time": "2023-09-10T08:32:59.138Z"
   },
   {
    "duration": 11,
    "start_time": "2023-09-10T08:32:59.161Z"
   },
   {
    "duration": 37,
    "start_time": "2023-09-10T08:32:59.174Z"
   },
   {
    "duration": 25,
    "start_time": "2023-09-10T08:32:59.214Z"
   },
   {
    "duration": 26,
    "start_time": "2023-09-10T08:32:59.240Z"
   },
   {
    "duration": 9,
    "start_time": "2023-09-10T08:32:59.271Z"
   },
   {
    "duration": 16,
    "start_time": "2023-09-10T08:32:59.282Z"
   },
   {
    "duration": 16,
    "start_time": "2023-09-10T08:32:59.300Z"
   },
   {
    "duration": 8,
    "start_time": "2023-09-10T08:32:59.318Z"
   },
   {
    "duration": 32,
    "start_time": "2023-09-10T08:32:59.329Z"
   },
   {
    "duration": 7,
    "start_time": "2023-09-10T08:32:59.363Z"
   },
   {
    "duration": 29,
    "start_time": "2023-09-10T08:32:59.371Z"
   },
   {
    "duration": 8,
    "start_time": "2023-09-10T08:32:59.402Z"
   },
   {
    "duration": 17,
    "start_time": "2023-09-10T08:32:59.412Z"
   },
   {
    "duration": 27,
    "start_time": "2023-09-10T08:32:59.431Z"
   },
   {
    "duration": 104,
    "start_time": "2023-09-10T08:32:59.461Z"
   },
   {
    "duration": 0,
    "start_time": "2023-09-10T08:32:59.571Z"
   },
   {
    "duration": 0,
    "start_time": "2023-09-10T08:32:59.575Z"
   },
   {
    "duration": 0,
    "start_time": "2023-09-10T08:32:59.579Z"
   },
   {
    "duration": 0,
    "start_time": "2023-09-10T08:32:59.580Z"
   },
   {
    "duration": 6,
    "start_time": "2023-09-10T08:38:17.626Z"
   },
   {
    "duration": 10,
    "start_time": "2023-09-10T08:42:01.286Z"
   },
   {
    "duration": 8,
    "start_time": "2023-09-10T08:43:43.599Z"
   },
   {
    "duration": 7,
    "start_time": "2023-09-10T08:43:58.969Z"
   },
   {
    "duration": 6,
    "start_time": "2023-09-10T08:47:17.517Z"
   },
   {
    "duration": 12,
    "start_time": "2023-09-10T08:51:15.100Z"
   },
   {
    "duration": 15,
    "start_time": "2023-09-10T08:51:53.703Z"
   },
   {
    "duration": 12,
    "start_time": "2023-09-10T08:52:01.648Z"
   },
   {
    "duration": 8,
    "start_time": "2023-09-10T08:57:33.946Z"
   },
   {
    "duration": 6,
    "start_time": "2023-09-10T08:57:47.390Z"
   },
   {
    "duration": 6,
    "start_time": "2023-09-10T08:58:51.453Z"
   },
   {
    "duration": 10,
    "start_time": "2023-09-10T09:02:35.224Z"
   },
   {
    "duration": 15,
    "start_time": "2023-09-10T09:04:44.932Z"
   },
   {
    "duration": 8,
    "start_time": "2023-09-10T09:05:29.308Z"
   },
   {
    "duration": 10,
    "start_time": "2023-09-10T10:08:10.475Z"
   },
   {
    "duration": 474,
    "start_time": "2023-09-10T11:26:14.143Z"
   },
   {
    "duration": 20,
    "start_time": "2023-09-10T11:26:14.619Z"
   },
   {
    "duration": 17,
    "start_time": "2023-09-10T11:26:14.640Z"
   },
   {
    "duration": 9,
    "start_time": "2023-09-10T11:26:14.659Z"
   },
   {
    "duration": 43,
    "start_time": "2023-09-10T11:26:14.669Z"
   },
   {
    "duration": 3,
    "start_time": "2023-09-10T11:26:14.713Z"
   },
   {
    "duration": 10,
    "start_time": "2023-09-10T11:26:14.718Z"
   },
   {
    "duration": 8,
    "start_time": "2023-09-10T11:26:14.729Z"
   },
   {
    "duration": 11,
    "start_time": "2023-09-10T11:26:14.739Z"
   },
   {
    "duration": 4,
    "start_time": "2023-09-10T11:26:14.752Z"
   },
   {
    "duration": 43,
    "start_time": "2023-09-10T11:26:14.757Z"
   },
   {
    "duration": 8,
    "start_time": "2023-09-10T11:26:14.802Z"
   },
   {
    "duration": 6,
    "start_time": "2023-09-10T11:26:14.812Z"
   },
   {
    "duration": 15,
    "start_time": "2023-09-10T11:26:14.819Z"
   },
   {
    "duration": 29,
    "start_time": "2023-09-10T11:26:14.835Z"
   },
   {
    "duration": 15,
    "start_time": "2023-09-10T11:26:14.865Z"
   },
   {
    "duration": 3,
    "start_time": "2023-09-10T11:26:14.882Z"
   },
   {
    "duration": 11,
    "start_time": "2023-09-10T11:26:14.886Z"
   },
   {
    "duration": 5,
    "start_time": "2023-09-10T11:26:14.899Z"
   },
   {
    "duration": 9,
    "start_time": "2023-09-10T11:26:14.905Z"
   },
   {
    "duration": 16,
    "start_time": "2023-09-10T11:26:14.915Z"
   },
   {
    "duration": 18,
    "start_time": "2023-09-10T11:26:14.932Z"
   },
   {
    "duration": 7,
    "start_time": "2023-09-10T11:26:14.952Z"
   },
   {
    "duration": 6,
    "start_time": "2023-09-10T11:26:14.961Z"
   },
   {
    "duration": 11,
    "start_time": "2023-09-10T11:26:14.968Z"
   },
   {
    "duration": 6,
    "start_time": "2023-09-10T11:26:14.980Z"
   },
   {
    "duration": 10,
    "start_time": "2023-09-10T11:26:14.988Z"
   },
   {
    "duration": 40,
    "start_time": "2023-09-10T11:26:15.000Z"
   },
   {
    "duration": 25,
    "start_time": "2023-09-10T11:26:15.041Z"
   },
   {
    "duration": 13,
    "start_time": "2023-09-10T11:26:15.068Z"
   },
   {
    "duration": 110,
    "start_time": "2023-09-10T11:35:00.321Z"
   },
   {
    "duration": 75,
    "start_time": "2023-09-10T11:35:11.733Z"
   },
   {
    "duration": 122,
    "start_time": "2023-09-10T11:36:06.235Z"
   },
   {
    "duration": 59,
    "start_time": "2023-09-10T11:36:27.055Z"
   },
   {
    "duration": 6,
    "start_time": "2023-09-10T11:36:46.405Z"
   },
   {
    "duration": 6,
    "start_time": "2023-09-10T11:38:22.189Z"
   },
   {
    "duration": 4,
    "start_time": "2023-09-10T11:39:12.477Z"
   },
   {
    "duration": 6,
    "start_time": "2023-09-10T11:39:20.698Z"
   },
   {
    "duration": 3,
    "start_time": "2023-09-10T11:39:22.631Z"
   },
   {
    "duration": 5,
    "start_time": "2023-09-10T11:40:46.041Z"
   },
   {
    "duration": 84,
    "start_time": "2023-09-10T11:42:59.929Z"
   },
   {
    "duration": 3,
    "start_time": "2023-09-10T11:43:20.558Z"
   },
   {
    "duration": 3,
    "start_time": "2023-09-10T11:46:37.214Z"
   },
   {
    "duration": 8,
    "start_time": "2023-09-10T11:46:38.082Z"
   },
   {
    "duration": 122,
    "start_time": "2023-09-10T11:51:30.082Z"
   },
   {
    "duration": 76,
    "start_time": "2023-09-10T11:51:47.577Z"
   },
   {
    "duration": 73,
    "start_time": "2023-09-10T11:51:57.811Z"
   },
   {
    "duration": 79,
    "start_time": "2023-09-10T11:52:07.272Z"
   },
   {
    "duration": 6,
    "start_time": "2023-09-10T11:52:22.372Z"
   },
   {
    "duration": 93,
    "start_time": "2023-09-10T11:52:39.040Z"
   },
   {
    "duration": 79,
    "start_time": "2023-09-10T11:52:44.252Z"
   },
   {
    "duration": 7,
    "start_time": "2023-09-10T11:53:08.674Z"
   },
   {
    "duration": 447,
    "start_time": "2023-09-10T11:53:32.972Z"
   },
   {
    "duration": 20,
    "start_time": "2023-09-10T11:53:33.421Z"
   },
   {
    "duration": 14,
    "start_time": "2023-09-10T11:53:33.445Z"
   },
   {
    "duration": 10,
    "start_time": "2023-09-10T11:53:33.460Z"
   },
   {
    "duration": 32,
    "start_time": "2023-09-10T11:53:33.471Z"
   },
   {
    "duration": 3,
    "start_time": "2023-09-10T11:53:33.504Z"
   },
   {
    "duration": 12,
    "start_time": "2023-09-10T11:53:33.508Z"
   },
   {
    "duration": 8,
    "start_time": "2023-09-10T11:53:33.521Z"
   },
   {
    "duration": 6,
    "start_time": "2023-09-10T11:53:33.549Z"
   },
   {
    "duration": 7,
    "start_time": "2023-09-10T11:53:33.556Z"
   },
   {
    "duration": 37,
    "start_time": "2023-09-10T11:53:33.565Z"
   },
   {
    "duration": 9,
    "start_time": "2023-09-10T11:53:33.603Z"
   },
   {
    "duration": 6,
    "start_time": "2023-09-10T11:53:33.614Z"
   },
   {
    "duration": 11,
    "start_time": "2023-09-10T11:53:33.621Z"
   },
   {
    "duration": 37,
    "start_time": "2023-09-10T11:53:33.634Z"
   },
   {
    "duration": 14,
    "start_time": "2023-09-10T11:53:33.672Z"
   },
   {
    "duration": 3,
    "start_time": "2023-09-10T11:53:33.688Z"
   },
   {
    "duration": 11,
    "start_time": "2023-09-10T11:53:33.692Z"
   },
   {
    "duration": 12,
    "start_time": "2023-09-10T11:53:33.704Z"
   },
   {
    "duration": 15,
    "start_time": "2023-09-10T11:53:33.717Z"
   },
   {
    "duration": 28,
    "start_time": "2023-09-10T11:53:33.734Z"
   },
   {
    "duration": 15,
    "start_time": "2023-09-10T11:53:33.764Z"
   },
   {
    "duration": 17,
    "start_time": "2023-09-10T11:53:33.781Z"
   },
   {
    "duration": 5,
    "start_time": "2023-09-10T11:53:33.799Z"
   },
   {
    "duration": 8,
    "start_time": "2023-09-10T11:53:33.806Z"
   },
   {
    "duration": 12,
    "start_time": "2023-09-10T11:53:33.815Z"
   },
   {
    "duration": 16,
    "start_time": "2023-09-10T11:53:33.829Z"
   },
   {
    "duration": 14,
    "start_time": "2023-09-10T11:53:33.846Z"
   },
   {
    "duration": 13,
    "start_time": "2023-09-10T11:53:33.861Z"
   },
   {
    "duration": 9,
    "start_time": "2023-09-10T11:53:33.875Z"
   },
   {
    "duration": 970,
    "start_time": "2023-09-10T14:01:40.391Z"
   },
   {
    "duration": 24,
    "start_time": "2023-09-10T14:01:41.363Z"
   },
   {
    "duration": 17,
    "start_time": "2023-09-10T14:01:41.388Z"
   },
   {
    "duration": 11,
    "start_time": "2023-09-10T14:01:41.407Z"
   },
   {
    "duration": 41,
    "start_time": "2023-09-10T14:01:41.420Z"
   },
   {
    "duration": 3,
    "start_time": "2023-09-10T14:01:41.463Z"
   },
   {
    "duration": 15,
    "start_time": "2023-09-10T14:01:41.468Z"
   },
   {
    "duration": 5,
    "start_time": "2023-09-10T14:01:41.484Z"
   },
   {
    "duration": 7,
    "start_time": "2023-09-10T14:01:41.511Z"
   },
   {
    "duration": 11,
    "start_time": "2023-09-10T14:01:41.522Z"
   },
   {
    "duration": 39,
    "start_time": "2023-09-10T14:01:41.535Z"
   },
   {
    "duration": 12,
    "start_time": "2023-09-10T14:01:41.576Z"
   },
   {
    "duration": 22,
    "start_time": "2023-09-10T14:01:41.590Z"
   },
   {
    "duration": 15,
    "start_time": "2023-09-10T14:01:41.614Z"
   },
   {
    "duration": 21,
    "start_time": "2023-09-10T14:01:41.631Z"
   },
   {
    "duration": 19,
    "start_time": "2023-09-10T14:01:41.653Z"
   },
   {
    "duration": 4,
    "start_time": "2023-09-10T14:01:41.673Z"
   },
   {
    "duration": 12,
    "start_time": "2023-09-10T14:01:41.710Z"
   },
   {
    "duration": 8,
    "start_time": "2023-09-10T14:01:41.724Z"
   },
   {
    "duration": 5,
    "start_time": "2023-09-10T14:01:41.734Z"
   },
   {
    "duration": 27,
    "start_time": "2023-09-10T14:01:41.741Z"
   },
   {
    "duration": 4,
    "start_time": "2023-09-10T14:01:41.771Z"
   },
   {
    "duration": 33,
    "start_time": "2023-09-10T14:01:41.777Z"
   },
   {
    "duration": 7,
    "start_time": "2023-09-10T14:01:41.812Z"
   },
   {
    "duration": 12,
    "start_time": "2023-09-10T14:01:41.821Z"
   },
   {
    "duration": 6,
    "start_time": "2023-09-10T14:01:41.835Z"
   },
   {
    "duration": 10,
    "start_time": "2023-09-10T14:01:41.843Z"
   },
   {
    "duration": 6,
    "start_time": "2023-09-10T14:01:41.856Z"
   },
   {
    "duration": 51,
    "start_time": "2023-09-10T14:01:41.864Z"
   },
   {
    "duration": 7,
    "start_time": "2023-09-10T14:01:41.917Z"
   },
   {
    "duration": 727,
    "start_time": "2023-09-11T06:42:22.668Z"
   },
   {
    "duration": 24,
    "start_time": "2023-09-11T06:42:23.398Z"
   },
   {
    "duration": 24,
    "start_time": "2023-09-11T06:42:23.424Z"
   },
   {
    "duration": 31,
    "start_time": "2023-09-11T06:42:23.450Z"
   },
   {
    "duration": 89,
    "start_time": "2023-09-11T06:42:23.483Z"
   },
   {
    "duration": 24,
    "start_time": "2023-09-11T06:42:23.573Z"
   },
   {
    "duration": 38,
    "start_time": "2023-09-11T06:42:23.599Z"
   },
   {
    "duration": 15,
    "start_time": "2023-09-11T06:42:23.639Z"
   },
   {
    "duration": 21,
    "start_time": "2023-09-11T06:42:23.656Z"
   },
   {
    "duration": 21,
    "start_time": "2023-09-11T06:42:23.678Z"
   },
   {
    "duration": 46,
    "start_time": "2023-09-11T06:42:23.701Z"
   },
   {
    "duration": 11,
    "start_time": "2023-09-11T06:42:23.749Z"
   },
   {
    "duration": 20,
    "start_time": "2023-09-11T06:42:23.762Z"
   },
   {
    "duration": 55,
    "start_time": "2023-09-11T06:42:23.785Z"
   },
   {
    "duration": 46,
    "start_time": "2023-09-11T06:42:23.843Z"
   },
   {
    "duration": 32,
    "start_time": "2023-09-11T06:42:23.891Z"
   },
   {
    "duration": 19,
    "start_time": "2023-09-11T06:42:23.925Z"
   },
   {
    "duration": 49,
    "start_time": "2023-09-11T06:42:23.945Z"
   },
   {
    "duration": 7,
    "start_time": "2023-09-11T06:42:23.996Z"
   },
   {
    "duration": 233,
    "start_time": "2023-09-11T06:42:24.005Z"
   },
   {
    "duration": 212,
    "start_time": "2023-09-11T06:42:24.240Z"
   },
   {
    "duration": 35,
    "start_time": "2023-09-11T06:42:24.454Z"
   },
   {
    "duration": 40,
    "start_time": "2023-09-11T06:42:24.491Z"
   },
   {
    "duration": 39,
    "start_time": "2023-09-11T06:42:24.532Z"
   },
   {
    "duration": 60,
    "start_time": "2023-09-11T06:42:24.573Z"
   },
   {
    "duration": 23,
    "start_time": "2023-09-11T06:42:24.635Z"
   },
   {
    "duration": 76,
    "start_time": "2023-09-11T06:42:24.660Z"
   },
   {
    "duration": 14,
    "start_time": "2023-09-11T06:42:24.738Z"
   },
   {
    "duration": 39,
    "start_time": "2023-09-11T06:42:24.755Z"
   },
   {
    "duration": 14,
    "start_time": "2023-09-11T06:42:24.796Z"
   },
   {
    "duration": 525,
    "start_time": "2023-09-11T06:44:49.779Z"
   },
   {
    "duration": 22,
    "start_time": "2023-09-11T06:44:50.306Z"
   },
   {
    "duration": 15,
    "start_time": "2023-09-11T06:44:50.330Z"
   },
   {
    "duration": 19,
    "start_time": "2023-09-11T06:44:50.347Z"
   },
   {
    "duration": 57,
    "start_time": "2023-09-11T06:44:50.368Z"
   },
   {
    "duration": 4,
    "start_time": "2023-09-11T06:44:50.427Z"
   },
   {
    "duration": 12,
    "start_time": "2023-09-11T06:44:50.432Z"
   },
   {
    "duration": 14,
    "start_time": "2023-09-11T06:44:50.445Z"
   },
   {
    "duration": 18,
    "start_time": "2023-09-11T06:44:50.461Z"
   },
   {
    "duration": 21,
    "start_time": "2023-09-11T06:44:50.481Z"
   },
   {
    "duration": 52,
    "start_time": "2023-09-11T06:44:50.504Z"
   },
   {
    "duration": 11,
    "start_time": "2023-09-11T06:44:50.558Z"
   },
   {
    "duration": 17,
    "start_time": "2023-09-11T06:44:50.571Z"
   },
   {
    "duration": 36,
    "start_time": "2023-09-11T06:44:50.590Z"
   },
   {
    "duration": 23,
    "start_time": "2023-09-11T06:44:50.627Z"
   },
   {
    "duration": 20,
    "start_time": "2023-09-11T06:44:50.652Z"
   },
   {
    "duration": 31,
    "start_time": "2023-09-11T06:44:50.673Z"
   },
   {
    "duration": 23,
    "start_time": "2023-09-11T06:44:50.705Z"
   },
   {
    "duration": 33,
    "start_time": "2023-09-11T06:44:50.730Z"
   },
   {
    "duration": 12,
    "start_time": "2023-09-11T06:44:50.765Z"
   },
   {
    "duration": 24,
    "start_time": "2023-09-11T06:44:50.779Z"
   },
   {
    "duration": 34,
    "start_time": "2023-09-11T06:44:50.805Z"
   },
   {
    "duration": 52,
    "start_time": "2023-09-11T06:44:50.841Z"
   },
   {
    "duration": 19,
    "start_time": "2023-09-11T06:44:50.895Z"
   },
   {
    "duration": 88,
    "start_time": "2023-09-11T06:44:50.916Z"
   },
   {
    "duration": 152,
    "start_time": "2023-09-11T06:44:51.006Z"
   },
   {
    "duration": 39,
    "start_time": "2023-09-11T06:44:51.160Z"
   },
   {
    "duration": 17,
    "start_time": "2023-09-11T06:44:51.201Z"
   },
   {
    "duration": 18,
    "start_time": "2023-09-11T06:44:51.220Z"
   },
   {
    "duration": 6,
    "start_time": "2023-09-11T06:44:51.241Z"
   },
   {
    "duration": 13,
    "start_time": "2023-09-11T07:02:52.398Z"
   },
   {
    "duration": 10,
    "start_time": "2023-09-11T07:03:21.012Z"
   },
   {
    "duration": 71,
    "start_time": "2023-09-11T08:11:17.401Z"
   },
   {
    "duration": 1852,
    "start_time": "2023-09-11T08:11:45.226Z"
   },
   {
    "duration": 18,
    "start_time": "2023-09-11T08:12:31.495Z"
   },
   {
    "duration": 15,
    "start_time": "2023-09-11T08:13:28.857Z"
   },
   {
    "duration": 16,
    "start_time": "2023-09-11T08:14:47.574Z"
   },
   {
    "duration": 14,
    "start_time": "2023-09-11T08:14:55.333Z"
   },
   {
    "duration": 90,
    "start_time": "2023-09-11T08:23:54.817Z"
   },
   {
    "duration": 17,
    "start_time": "2023-09-11T08:24:13.993Z"
   },
   {
    "duration": 18,
    "start_time": "2023-09-11T08:24:49.602Z"
   },
   {
    "duration": 77,
    "start_time": "2023-09-11T08:27:26.653Z"
   },
   {
    "duration": 113,
    "start_time": "2023-09-11T08:27:35.934Z"
   },
   {
    "duration": 105,
    "start_time": "2023-09-11T08:27:46.925Z"
   },
   {
    "duration": 101,
    "start_time": "2023-09-11T08:27:54.941Z"
   },
   {
    "duration": 149,
    "start_time": "2023-09-11T08:31:30.234Z"
   },
   {
    "duration": 143,
    "start_time": "2023-09-11T08:32:01.178Z"
   },
   {
    "duration": 14,
    "start_time": "2023-09-11T08:32:06.954Z"
   },
   {
    "duration": 26,
    "start_time": "2023-09-11T08:32:22.794Z"
   },
   {
    "duration": 16,
    "start_time": "2023-09-11T08:32:47.924Z"
   },
   {
    "duration": 123,
    "start_time": "2023-09-11T08:34:10.689Z"
   },
   {
    "duration": 119,
    "start_time": "2023-09-11T08:34:17.115Z"
   },
   {
    "duration": 16,
    "start_time": "2023-09-11T08:35:07.061Z"
   },
   {
    "duration": 22,
    "start_time": "2023-09-11T08:35:26.893Z"
   },
   {
    "duration": 22,
    "start_time": "2023-09-11T08:35:33.694Z"
   },
   {
    "duration": 22,
    "start_time": "2023-09-11T08:41:30.163Z"
   },
   {
    "duration": 117,
    "start_time": "2023-09-11T08:41:41.545Z"
   },
   {
    "duration": 21,
    "start_time": "2023-09-11T08:41:46.786Z"
   },
   {
    "duration": 21,
    "start_time": "2023-09-11T08:41:53.901Z"
   },
   {
    "duration": 25,
    "start_time": "2023-09-11T08:42:02.753Z"
   },
   {
    "duration": 27,
    "start_time": "2023-09-11T08:42:26.933Z"
   },
   {
    "duration": 16,
    "start_time": "2023-09-11T08:42:37.006Z"
   },
   {
    "duration": 16,
    "start_time": "2023-09-11T08:44:13.777Z"
   },
   {
    "duration": 288,
    "start_time": "2023-09-11T08:44:28.005Z"
   },
   {
    "duration": 15,
    "start_time": "2023-09-11T08:44:39.630Z"
   },
   {
    "duration": 199,
    "start_time": "2023-09-11T08:46:07.636Z"
   },
   {
    "duration": 16,
    "start_time": "2023-09-11T08:46:17.870Z"
   },
   {
    "duration": 23,
    "start_time": "2023-09-11T08:46:59.055Z"
   },
   {
    "duration": 18,
    "start_time": "2023-09-11T08:47:19.334Z"
   },
   {
    "duration": 22,
    "start_time": "2023-09-11T08:47:22.976Z"
   },
   {
    "duration": 16,
    "start_time": "2023-09-11T08:49:06.643Z"
   },
   {
    "duration": 17,
    "start_time": "2023-09-11T08:49:39.334Z"
   },
   {
    "duration": 23,
    "start_time": "2023-09-11T08:49:55.706Z"
   },
   {
    "duration": 21,
    "start_time": "2023-09-11T08:52:19.730Z"
   },
   {
    "duration": 24,
    "start_time": "2023-09-11T08:52:34.255Z"
   },
   {
    "duration": 17,
    "start_time": "2023-09-11T09:16:46.437Z"
   },
   {
    "duration": 14,
    "start_time": "2023-09-11T09:20:47.107Z"
   },
   {
    "duration": 11,
    "start_time": "2023-09-11T09:21:15.006Z"
   },
   {
    "duration": 22,
    "start_time": "2023-09-11T09:21:30.031Z"
   },
   {
    "duration": 16,
    "start_time": "2023-09-11T09:21:54.479Z"
   },
   {
    "duration": 16,
    "start_time": "2023-09-11T09:23:49.616Z"
   },
   {
    "duration": 15,
    "start_time": "2023-09-11T09:31:36.472Z"
   },
   {
    "duration": 16,
    "start_time": "2023-09-11T09:31:52.232Z"
   },
   {
    "duration": 15,
    "start_time": "2023-09-11T09:31:56.192Z"
   },
   {
    "duration": 17,
    "start_time": "2023-09-11T09:32:01.576Z"
   },
   {
    "duration": 516,
    "start_time": "2023-09-11T09:32:11.336Z"
   },
   {
    "duration": 34,
    "start_time": "2023-09-11T09:32:11.854Z"
   },
   {
    "duration": 28,
    "start_time": "2023-09-11T09:32:11.889Z"
   },
   {
    "duration": 12,
    "start_time": "2023-09-11T09:32:11.918Z"
   },
   {
    "duration": 44,
    "start_time": "2023-09-11T09:32:11.932Z"
   },
   {
    "duration": 5,
    "start_time": "2023-09-11T09:32:12.003Z"
   },
   {
    "duration": 34,
    "start_time": "2023-09-11T09:32:12.010Z"
   },
   {
    "duration": 15,
    "start_time": "2023-09-11T09:32:12.046Z"
   },
   {
    "duration": 47,
    "start_time": "2023-09-11T09:32:12.063Z"
   },
   {
    "duration": 20,
    "start_time": "2023-09-11T09:32:12.111Z"
   },
   {
    "duration": 76,
    "start_time": "2023-09-11T09:32:12.132Z"
   },
   {
    "duration": 11,
    "start_time": "2023-09-11T09:32:12.210Z"
   },
   {
    "duration": 74,
    "start_time": "2023-09-11T09:32:12.223Z"
   },
   {
    "duration": 206,
    "start_time": "2023-09-11T09:32:12.299Z"
   },
   {
    "duration": 55,
    "start_time": "2023-09-11T09:32:12.506Z"
   },
   {
    "duration": 22,
    "start_time": "2023-09-11T09:32:12.563Z"
   },
   {
    "duration": 14,
    "start_time": "2023-09-11T09:32:12.587Z"
   },
   {
    "duration": 126,
    "start_time": "2023-09-11T09:32:12.603Z"
   },
   {
    "duration": 18,
    "start_time": "2023-09-11T09:32:12.731Z"
   },
   {
    "duration": 17,
    "start_time": "2023-09-11T09:32:12.751Z"
   },
   {
    "duration": 22,
    "start_time": "2023-09-11T09:32:12.770Z"
   },
   {
    "duration": 27,
    "start_time": "2023-09-11T09:32:12.794Z"
   },
   {
    "duration": 44,
    "start_time": "2023-09-11T09:32:12.824Z"
   },
   {
    "duration": 24,
    "start_time": "2023-09-11T09:32:12.870Z"
   },
   {
    "duration": 173,
    "start_time": "2023-09-11T09:32:12.896Z"
   },
   {
    "duration": 0,
    "start_time": "2023-09-11T09:32:13.071Z"
   },
   {
    "duration": 0,
    "start_time": "2023-09-11T09:32:13.073Z"
   },
   {
    "duration": 0,
    "start_time": "2023-09-11T09:32:13.074Z"
   },
   {
    "duration": 0,
    "start_time": "2023-09-11T09:32:13.076Z"
   },
   {
    "duration": 0,
    "start_time": "2023-09-11T09:32:13.077Z"
   },
   {
    "duration": 0,
    "start_time": "2023-09-11T09:32:13.078Z"
   },
   {
    "duration": 0,
    "start_time": "2023-09-11T09:32:13.079Z"
   },
   {
    "duration": 20,
    "start_time": "2023-09-11T09:33:09.189Z"
   },
   {
    "duration": 19,
    "start_time": "2023-09-11T09:33:24.916Z"
   },
   {
    "duration": 22,
    "start_time": "2023-09-11T09:33:34.409Z"
   },
   {
    "duration": 21,
    "start_time": "2023-09-11T09:34:02.693Z"
   },
   {
    "duration": 23,
    "start_time": "2023-09-11T09:34:06.349Z"
   },
   {
    "duration": 124,
    "start_time": "2023-09-11T09:54:52.615Z"
   },
   {
    "duration": 135,
    "start_time": "2023-09-11T09:55:41.350Z"
   },
   {
    "duration": 4,
    "start_time": "2023-09-11T09:55:47.758Z"
   },
   {
    "duration": 89,
    "start_time": "2023-09-11T10:02:25.354Z"
   },
   {
    "duration": 6,
    "start_time": "2023-09-11T10:02:30.099Z"
   },
   {
    "duration": 134,
    "start_time": "2023-09-11T12:34:18.407Z"
   },
   {
    "duration": 4,
    "start_time": "2023-09-11T12:34:23.979Z"
   },
   {
    "duration": 35,
    "start_time": "2023-09-11T12:39:45.206Z"
   },
   {
    "duration": 23,
    "start_time": "2023-09-11T12:39:59.931Z"
   },
   {
    "duration": 5,
    "start_time": "2023-09-11T12:41:01.311Z"
   },
   {
    "duration": 193,
    "start_time": "2023-09-11T12:41:01.318Z"
   },
   {
    "duration": 4,
    "start_time": "2023-09-11T12:41:25.081Z"
   },
   {
    "duration": 27,
    "start_time": "2023-09-11T12:41:26.352Z"
   },
   {
    "duration": 4,
    "start_time": "2023-09-11T12:41:54.967Z"
   },
   {
    "duration": 25,
    "start_time": "2023-09-11T12:41:55.886Z"
   },
   {
    "duration": 3,
    "start_time": "2023-09-11T12:42:21.376Z"
   },
   {
    "duration": 118,
    "start_time": "2023-09-11T12:42:21.381Z"
   },
   {
    "duration": 4,
    "start_time": "2023-09-11T12:45:13.603Z"
   },
   {
    "duration": 27,
    "start_time": "2023-09-11T12:45:14.587Z"
   },
   {
    "duration": 5,
    "start_time": "2023-09-11T12:45:20.755Z"
   },
   {
    "duration": 26,
    "start_time": "2023-09-11T12:45:21.382Z"
   },
   {
    "duration": 3,
    "start_time": "2023-09-11T12:46:39.758Z"
   },
   {
    "duration": 31,
    "start_time": "2023-09-11T12:46:40.527Z"
   },
   {
    "duration": 3,
    "start_time": "2023-09-11T12:47:04.229Z"
   },
   {
    "duration": 33,
    "start_time": "2023-09-11T12:47:04.702Z"
   },
   {
    "duration": 4,
    "start_time": "2023-09-11T12:47:12.546Z"
   },
   {
    "duration": 24,
    "start_time": "2023-09-11T12:47:13.169Z"
   },
   {
    "duration": 82,
    "start_time": "2023-09-11T12:47:35.001Z"
   },
   {
    "duration": 3,
    "start_time": "2023-09-11T12:47:47.053Z"
   },
   {
    "duration": 24,
    "start_time": "2023-09-11T12:47:47.953Z"
   },
   {
    "duration": 5,
    "start_time": "2023-09-11T12:49:15.747Z"
   },
   {
    "duration": 55,
    "start_time": "2023-09-11T12:49:15.764Z"
   },
   {
    "duration": 4,
    "start_time": "2023-09-11T12:49:22.596Z"
   },
   {
    "duration": 27,
    "start_time": "2023-09-11T12:49:23.087Z"
   },
   {
    "duration": 4,
    "start_time": "2023-09-11T12:49:39.411Z"
   },
   {
    "duration": 28,
    "start_time": "2023-09-11T12:49:39.820Z"
   },
   {
    "duration": 4,
    "start_time": "2023-09-11T12:49:44.939Z"
   },
   {
    "duration": 24,
    "start_time": "2023-09-11T12:49:45.324Z"
   },
   {
    "duration": 27,
    "start_time": "2023-09-11T12:49:56.452Z"
   },
   {
    "duration": 3,
    "start_time": "2023-09-11T12:52:33.199Z"
   },
   {
    "duration": 169,
    "start_time": "2023-09-11T12:52:33.204Z"
   },
   {
    "duration": 4,
    "start_time": "2023-09-11T12:53:43.485Z"
   },
   {
    "duration": 30,
    "start_time": "2023-09-11T12:53:44.028Z"
   },
   {
    "duration": 5,
    "start_time": "2023-09-11T12:54:11.005Z"
   },
   {
    "duration": 33,
    "start_time": "2023-09-11T12:54:11.548Z"
   },
   {
    "duration": 4,
    "start_time": "2023-09-11T12:56:42.471Z"
   },
   {
    "duration": 36,
    "start_time": "2023-09-11T12:56:43.020Z"
   },
   {
    "duration": 4,
    "start_time": "2023-09-11T12:56:52.310Z"
   },
   {
    "duration": 37,
    "start_time": "2023-09-11T12:56:52.686Z"
   },
   {
    "duration": 525,
    "start_time": "2023-09-11T12:56:59.907Z"
   },
   {
    "duration": 27,
    "start_time": "2023-09-11T12:57:00.435Z"
   },
   {
    "duration": 162,
    "start_time": "2023-09-11T12:57:00.464Z"
   },
   {
    "duration": 97,
    "start_time": "2023-09-11T12:57:00.630Z"
   },
   {
    "duration": 107,
    "start_time": "2023-09-11T12:57:00.729Z"
   },
   {
    "duration": 13,
    "start_time": "2023-09-11T12:57:00.838Z"
   },
   {
    "duration": 155,
    "start_time": "2023-09-11T12:57:00.853Z"
   },
   {
    "duration": 84,
    "start_time": "2023-09-11T12:57:01.010Z"
   },
   {
    "duration": 85,
    "start_time": "2023-09-11T12:57:01.096Z"
   },
   {
    "duration": 57,
    "start_time": "2023-09-11T12:57:01.185Z"
   },
   {
    "duration": 217,
    "start_time": "2023-09-11T12:57:01.244Z"
   },
   {
    "duration": 307,
    "start_time": "2023-09-11T12:57:01.463Z"
   },
   {
    "duration": 615,
    "start_time": "2023-09-11T12:57:01.772Z"
   },
   {
    "duration": 164,
    "start_time": "2023-09-11T12:57:02.389Z"
   },
   {
    "duration": 48,
    "start_time": "2023-09-11T12:57:02.555Z"
   },
   {
    "duration": 26,
    "start_time": "2023-09-11T12:57:02.605Z"
   },
   {
    "duration": 75,
    "start_time": "2023-09-11T12:57:02.632Z"
   },
   {
    "duration": 231,
    "start_time": "2023-09-11T12:57:02.708Z"
   },
   {
    "duration": 398,
    "start_time": "2023-09-11T12:57:02.941Z"
   },
   {
    "duration": 37,
    "start_time": "2023-09-11T12:57:03.341Z"
   },
   {
    "duration": 48,
    "start_time": "2023-09-11T12:57:03.379Z"
   },
   {
    "duration": 272,
    "start_time": "2023-09-11T12:57:03.429Z"
   },
   {
    "duration": 89,
    "start_time": "2023-09-11T12:57:03.703Z"
   },
   {
    "duration": 101,
    "start_time": "2023-09-11T12:57:03.794Z"
   },
   {
    "duration": 155,
    "start_time": "2023-09-11T12:57:03.897Z"
   },
   {
    "duration": 160,
    "start_time": "2023-09-11T12:57:04.054Z"
   },
   {
    "duration": 0,
    "start_time": "2023-09-11T12:57:04.216Z"
   },
   {
    "duration": 0,
    "start_time": "2023-09-11T12:57:04.217Z"
   },
   {
    "duration": 0,
    "start_time": "2023-09-11T12:57:04.219Z"
   },
   {
    "duration": 0,
    "start_time": "2023-09-11T12:57:04.221Z"
   },
   {
    "duration": 0,
    "start_time": "2023-09-11T12:57:04.223Z"
   },
   {
    "duration": 1,
    "start_time": "2023-09-11T12:57:04.224Z"
   },
   {
    "duration": 0,
    "start_time": "2023-09-11T12:57:04.226Z"
   },
   {
    "duration": 4,
    "start_time": "2023-09-11T12:58:43.885Z"
   },
   {
    "duration": 35,
    "start_time": "2023-09-11T12:58:44.442Z"
   },
   {
    "duration": 6,
    "start_time": "2023-09-11T13:00:04.855Z"
   },
   {
    "duration": 36,
    "start_time": "2023-09-11T13:00:05.410Z"
   },
   {
    "duration": 4,
    "start_time": "2023-09-11T13:00:25.178Z"
   },
   {
    "duration": 34,
    "start_time": "2023-09-11T13:00:25.654Z"
   },
   {
    "duration": 4,
    "start_time": "2023-09-11T13:01:27.255Z"
   },
   {
    "duration": 38,
    "start_time": "2023-09-11T13:01:27.736Z"
   },
   {
    "duration": 4,
    "start_time": "2023-09-11T13:02:33.515Z"
   },
   {
    "duration": 31,
    "start_time": "2023-09-11T13:02:34.079Z"
   },
   {
    "duration": 5,
    "start_time": "2023-09-11T13:03:20.220Z"
   },
   {
    "duration": 33,
    "start_time": "2023-09-11T13:03:20.627Z"
   },
   {
    "duration": 6,
    "start_time": "2023-09-11T13:03:36.337Z"
   },
   {
    "duration": 33,
    "start_time": "2023-09-11T13:03:36.717Z"
   },
   {
    "duration": 5,
    "start_time": "2023-09-11T13:05:03.167Z"
   },
   {
    "duration": 31,
    "start_time": "2023-09-11T13:05:03.744Z"
   },
   {
    "duration": 5,
    "start_time": "2023-09-11T13:05:11.518Z"
   },
   {
    "duration": 34,
    "start_time": "2023-09-11T13:05:11.777Z"
   },
   {
    "duration": 4,
    "start_time": "2023-09-11T13:05:24.373Z"
   },
   {
    "duration": 154,
    "start_time": "2023-09-11T13:09:41.622Z"
   },
   {
    "duration": 33,
    "start_time": "2023-09-11T13:09:42.035Z"
   },
   {
    "duration": 544,
    "start_time": "2023-09-11T13:09:54.690Z"
   },
   {
    "duration": 25,
    "start_time": "2023-09-11T13:09:55.236Z"
   },
   {
    "duration": 37,
    "start_time": "2023-09-11T13:09:55.264Z"
   },
   {
    "duration": 12,
    "start_time": "2023-09-11T13:09:55.303Z"
   },
   {
    "duration": 86,
    "start_time": "2023-09-11T13:09:55.317Z"
   },
   {
    "duration": 5,
    "start_time": "2023-09-11T13:09:55.404Z"
   },
   {
    "duration": 66,
    "start_time": "2023-09-11T13:09:55.410Z"
   },
   {
    "duration": 202,
    "start_time": "2023-09-11T13:09:55.478Z"
   },
   {
    "duration": 122,
    "start_time": "2023-09-11T13:09:55.684Z"
   },
   {
    "duration": 57,
    "start_time": "2023-09-11T13:09:55.808Z"
   },
   {
    "duration": 76,
    "start_time": "2023-09-11T13:09:55.868Z"
   },
   {
    "duration": 28,
    "start_time": "2023-09-11T13:09:55.946Z"
   },
   {
    "duration": 20,
    "start_time": "2023-09-11T13:09:55.976Z"
   },
   {
    "duration": 327,
    "start_time": "2023-09-11T13:09:55.998Z"
   },
   {
    "duration": 48,
    "start_time": "2023-09-11T13:09:56.326Z"
   },
   {
    "duration": 18,
    "start_time": "2023-09-11T13:09:56.376Z"
   },
   {
    "duration": 5,
    "start_time": "2023-09-11T13:09:56.396Z"
   },
   {
    "duration": 42,
    "start_time": "2023-09-11T13:09:56.403Z"
   },
   {
    "duration": 17,
    "start_time": "2023-09-11T13:09:56.447Z"
   },
   {
    "duration": 19,
    "start_time": "2023-09-11T13:09:56.467Z"
   },
   {
    "duration": 29,
    "start_time": "2023-09-11T13:09:56.488Z"
   },
   {
    "duration": 20,
    "start_time": "2023-09-11T13:09:56.519Z"
   },
   {
    "duration": 56,
    "start_time": "2023-09-11T13:09:56.541Z"
   },
   {
    "duration": 42,
    "start_time": "2023-09-11T13:09:56.599Z"
   },
   {
    "duration": 98,
    "start_time": "2023-09-11T13:09:56.644Z"
   },
   {
    "duration": 0,
    "start_time": "2023-09-11T13:09:56.744Z"
   },
   {
    "duration": 0,
    "start_time": "2023-09-11T13:09:56.746Z"
   },
   {
    "duration": 0,
    "start_time": "2023-09-11T13:09:56.748Z"
   },
   {
    "duration": 0,
    "start_time": "2023-09-11T13:09:56.750Z"
   },
   {
    "duration": 0,
    "start_time": "2023-09-11T13:09:56.751Z"
   },
   {
    "duration": 0,
    "start_time": "2023-09-11T13:09:56.753Z"
   },
   {
    "duration": 0,
    "start_time": "2023-09-11T13:09:56.754Z"
   },
   {
    "duration": 0,
    "start_time": "2023-09-11T13:09:56.756Z"
   },
   {
    "duration": 96,
    "start_time": "2023-09-11T13:10:18.265Z"
   },
   {
    "duration": 84,
    "start_time": "2023-09-11T13:10:18.504Z"
   },
   {
    "duration": 4,
    "start_time": "2023-09-11T13:10:38.207Z"
   },
   {
    "duration": 51,
    "start_time": "2023-09-11T13:10:38.431Z"
   },
   {
    "duration": 6,
    "start_time": "2023-09-11T13:10:53.563Z"
   },
   {
    "duration": 29,
    "start_time": "2023-09-11T13:10:55.503Z"
   },
   {
    "duration": 5,
    "start_time": "2023-09-11T13:20:25.735Z"
   },
   {
    "duration": 30,
    "start_time": "2023-09-11T13:20:26.486Z"
   },
   {
    "duration": 4,
    "start_time": "2023-09-11T13:20:46.824Z"
   },
   {
    "duration": 29,
    "start_time": "2023-09-11T13:20:47.264Z"
   },
   {
    "duration": 5,
    "start_time": "2023-09-11T13:22:50.456Z"
   },
   {
    "duration": 31,
    "start_time": "2023-09-11T13:22:50.834Z"
   },
   {
    "duration": 4,
    "start_time": "2023-09-11T13:24:09.145Z"
   },
   {
    "duration": 27,
    "start_time": "2023-09-11T13:24:09.801Z"
   },
   {
    "duration": 4,
    "start_time": "2023-09-11T13:24:37.851Z"
   },
   {
    "duration": 38,
    "start_time": "2023-09-11T13:24:38.060Z"
   },
   {
    "duration": 4,
    "start_time": "2023-09-11T13:25:55.085Z"
   },
   {
    "duration": 32,
    "start_time": "2023-09-11T13:25:55.709Z"
   },
   {
    "duration": 4,
    "start_time": "2023-09-11T13:26:37.990Z"
   },
   {
    "duration": 34,
    "start_time": "2023-09-11T13:26:38.356Z"
   },
   {
    "duration": 536,
    "start_time": "2023-09-11T13:26:45.686Z"
   },
   {
    "duration": 28,
    "start_time": "2023-09-11T13:26:46.225Z"
   },
   {
    "duration": 144,
    "start_time": "2023-09-11T13:26:46.254Z"
   },
   {
    "duration": 28,
    "start_time": "2023-09-11T13:26:46.400Z"
   },
   {
    "duration": 58,
    "start_time": "2023-09-11T13:26:46.431Z"
   },
   {
    "duration": 4,
    "start_time": "2023-09-11T13:26:46.491Z"
   },
   {
    "duration": 30,
    "start_time": "2023-09-11T13:26:46.497Z"
   },
   {
    "duration": 17,
    "start_time": "2023-09-11T13:26:46.528Z"
   },
   {
    "duration": 20,
    "start_time": "2023-09-11T13:26:46.547Z"
   },
   {
    "duration": 24,
    "start_time": "2023-09-11T13:26:46.569Z"
   },
   {
    "duration": 48,
    "start_time": "2023-09-11T13:26:46.594Z"
   },
   {
    "duration": 12,
    "start_time": "2023-09-11T13:26:46.644Z"
   },
   {
    "duration": 14,
    "start_time": "2023-09-11T13:26:46.657Z"
   },
   {
    "duration": 22,
    "start_time": "2023-09-11T13:26:46.674Z"
   },
   {
    "duration": 43,
    "start_time": "2023-09-11T13:26:46.700Z"
   },
   {
    "duration": 21,
    "start_time": "2023-09-11T13:26:46.745Z"
   },
   {
    "duration": 4,
    "start_time": "2023-09-11T13:26:46.767Z"
   },
   {
    "duration": 41,
    "start_time": "2023-09-11T13:26:46.773Z"
   },
   {
    "duration": 34,
    "start_time": "2023-09-11T13:26:46.816Z"
   },
   {
    "duration": 21,
    "start_time": "2023-09-11T13:26:46.852Z"
   },
   {
    "duration": 22,
    "start_time": "2023-09-11T13:26:46.874Z"
   },
   {
    "duration": 14,
    "start_time": "2023-09-11T13:26:46.898Z"
   },
   {
    "duration": 20,
    "start_time": "2023-09-11T13:26:46.914Z"
   },
   {
    "duration": 34,
    "start_time": "2023-09-11T13:26:46.936Z"
   },
   {
    "duration": 4,
    "start_time": "2023-09-11T13:26:46.972Z"
   },
   {
    "duration": 124,
    "start_time": "2023-09-11T13:26:46.978Z"
   },
   {
    "duration": 0,
    "start_time": "2023-09-11T13:26:47.104Z"
   },
   {
    "duration": 0,
    "start_time": "2023-09-11T13:26:47.105Z"
   },
   {
    "duration": 0,
    "start_time": "2023-09-11T13:26:47.107Z"
   },
   {
    "duration": 0,
    "start_time": "2023-09-11T13:26:47.108Z"
   },
   {
    "duration": 0,
    "start_time": "2023-09-11T13:26:47.109Z"
   },
   {
    "duration": 0,
    "start_time": "2023-09-11T13:26:47.110Z"
   },
   {
    "duration": 0,
    "start_time": "2023-09-11T13:26:47.111Z"
   },
   {
    "duration": 4,
    "start_time": "2023-09-11T13:34:45.664Z"
   },
   {
    "duration": 29,
    "start_time": "2023-09-11T13:34:46.453Z"
   },
   {
    "duration": 4,
    "start_time": "2023-09-11T13:35:12.612Z"
   },
   {
    "duration": 29,
    "start_time": "2023-09-11T13:35:13.018Z"
   },
   {
    "duration": 4,
    "start_time": "2023-09-11T13:35:20.862Z"
   },
   {
    "duration": 33,
    "start_time": "2023-09-11T13:35:22.100Z"
   },
   {
    "duration": 3,
    "start_time": "2023-09-11T13:36:48.111Z"
   },
   {
    "duration": 28,
    "start_time": "2023-09-11T13:36:48.424Z"
   },
   {
    "duration": 5,
    "start_time": "2023-09-11T13:37:13.167Z"
   },
   {
    "duration": 37,
    "start_time": "2023-09-11T13:37:13.331Z"
   },
   {
    "duration": 4,
    "start_time": "2023-09-11T13:41:53.234Z"
   },
   {
    "duration": 34,
    "start_time": "2023-09-11T13:41:53.607Z"
   },
   {
    "duration": 4,
    "start_time": "2023-09-11T13:46:33.136Z"
   },
   {
    "duration": 33,
    "start_time": "2023-09-11T13:46:33.380Z"
   },
   {
    "duration": 525,
    "start_time": "2023-09-11T13:47:47.929Z"
   },
   {
    "duration": 24,
    "start_time": "2023-09-11T13:47:48.457Z"
   },
   {
    "duration": 56,
    "start_time": "2023-09-11T13:47:48.482Z"
   },
   {
    "duration": 32,
    "start_time": "2023-09-11T13:47:48.539Z"
   },
   {
    "duration": 51,
    "start_time": "2023-09-11T13:47:48.574Z"
   },
   {
    "duration": 5,
    "start_time": "2023-09-11T13:47:48.627Z"
   },
   {
    "duration": 25,
    "start_time": "2023-09-11T13:47:48.634Z"
   },
   {
    "duration": 21,
    "start_time": "2023-09-11T13:47:48.661Z"
   },
   {
    "duration": 11,
    "start_time": "2023-09-11T13:47:48.683Z"
   },
   {
    "duration": 19,
    "start_time": "2023-09-11T13:47:48.696Z"
   },
   {
    "duration": 57,
    "start_time": "2023-09-11T13:47:48.717Z"
   },
   {
    "duration": 25,
    "start_time": "2023-09-11T13:47:48.776Z"
   },
   {
    "duration": 13,
    "start_time": "2023-09-11T13:47:48.803Z"
   },
   {
    "duration": 16,
    "start_time": "2023-09-11T13:47:48.821Z"
   },
   {
    "duration": 35,
    "start_time": "2023-09-11T13:47:48.839Z"
   },
   {
    "duration": 27,
    "start_time": "2023-09-11T13:47:48.875Z"
   },
   {
    "duration": 6,
    "start_time": "2023-09-11T13:47:48.904Z"
   },
   {
    "duration": 18,
    "start_time": "2023-09-11T13:47:48.912Z"
   },
   {
    "duration": 30,
    "start_time": "2023-09-11T13:47:48.931Z"
   },
   {
    "duration": 19,
    "start_time": "2023-09-11T13:47:48.963Z"
   },
   {
    "duration": 19,
    "start_time": "2023-09-11T13:47:48.983Z"
   },
   {
    "duration": 30,
    "start_time": "2023-09-11T13:47:49.004Z"
   },
   {
    "duration": 14,
    "start_time": "2023-09-11T13:47:49.036Z"
   },
   {
    "duration": 18,
    "start_time": "2023-09-11T13:47:49.052Z"
   },
   {
    "duration": 10,
    "start_time": "2023-09-11T13:47:49.072Z"
   },
   {
    "duration": 127,
    "start_time": "2023-09-11T13:47:49.084Z"
   },
   {
    "duration": 0,
    "start_time": "2023-09-11T13:47:49.213Z"
   },
   {
    "duration": 0,
    "start_time": "2023-09-11T13:47:49.215Z"
   },
   {
    "duration": 0,
    "start_time": "2023-09-11T13:47:49.216Z"
   },
   {
    "duration": 0,
    "start_time": "2023-09-11T13:47:49.218Z"
   },
   {
    "duration": 0,
    "start_time": "2023-09-11T13:47:49.219Z"
   },
   {
    "duration": 0,
    "start_time": "2023-09-11T13:47:49.220Z"
   },
   {
    "duration": 0,
    "start_time": "2023-09-11T13:47:49.222Z"
   },
   {
    "duration": 4,
    "start_time": "2023-09-11T13:49:00.950Z"
   },
   {
    "duration": 33,
    "start_time": "2023-09-11T13:49:01.269Z"
   },
   {
    "duration": 4,
    "start_time": "2023-09-11T13:51:55.788Z"
   },
   {
    "duration": 32,
    "start_time": "2023-09-11T13:51:57.500Z"
   },
   {
    "duration": 4,
    "start_time": "2023-09-11T13:52:22.809Z"
   },
   {
    "duration": 38,
    "start_time": "2023-09-11T13:52:23.010Z"
   },
   {
    "duration": 4,
    "start_time": "2023-09-11T13:52:39.562Z"
   },
   {
    "duration": 54,
    "start_time": "2023-09-11T13:52:39.912Z"
   },
   {
    "duration": 4,
    "start_time": "2023-09-11T13:53:17.181Z"
   },
   {
    "duration": 38,
    "start_time": "2023-09-11T13:53:17.543Z"
   },
   {
    "duration": 4,
    "start_time": "2023-09-11T13:53:58.760Z"
   },
   {
    "duration": 31,
    "start_time": "2023-09-11T13:53:59.196Z"
   },
   {
    "duration": 34,
    "start_time": "2023-09-11T13:54:36.828Z"
   },
   {
    "duration": 30,
    "start_time": "2023-09-11T13:54:49.536Z"
   },
   {
    "duration": 3,
    "start_time": "2023-09-11T13:55:36.908Z"
   },
   {
    "duration": 32,
    "start_time": "2023-09-11T13:55:37.703Z"
   },
   {
    "duration": 4,
    "start_time": "2023-09-11T13:55:49.391Z"
   },
   {
    "duration": 57,
    "start_time": "2023-09-11T13:55:50.177Z"
   },
   {
    "duration": 4,
    "start_time": "2023-09-11T13:57:33.023Z"
   },
   {
    "duration": 116,
    "start_time": "2023-09-11T13:57:33.282Z"
   },
   {
    "duration": 34,
    "start_time": "2023-09-11T13:59:51.811Z"
   },
   {
    "duration": 4,
    "start_time": "2023-09-11T14:02:45.291Z"
   },
   {
    "duration": 34,
    "start_time": "2023-09-11T14:02:45.482Z"
   },
   {
    "duration": 5,
    "start_time": "2023-09-11T14:04:26.545Z"
   },
   {
    "duration": 35,
    "start_time": "2023-09-11T14:04:26.926Z"
   },
   {
    "duration": 4,
    "start_time": "2023-09-11T14:05:02.475Z"
   },
   {
    "duration": 36,
    "start_time": "2023-09-11T14:05:02.806Z"
   },
   {
    "duration": 482,
    "start_time": "2023-09-11T14:05:29.458Z"
   },
   {
    "duration": 27,
    "start_time": "2023-09-11T14:05:29.942Z"
   },
   {
    "duration": 41,
    "start_time": "2023-09-11T14:05:29.971Z"
   },
   {
    "duration": 14,
    "start_time": "2023-09-11T14:05:30.015Z"
   },
   {
    "duration": 115,
    "start_time": "2023-09-11T14:05:30.032Z"
   },
   {
    "duration": 29,
    "start_time": "2023-09-11T14:05:30.149Z"
   },
   {
    "duration": 84,
    "start_time": "2023-09-11T14:05:30.180Z"
   },
   {
    "duration": 65,
    "start_time": "2023-09-11T14:05:30.266Z"
   },
   {
    "duration": 63,
    "start_time": "2023-09-11T14:05:30.333Z"
   },
   {
    "duration": 114,
    "start_time": "2023-09-11T14:05:30.398Z"
   },
   {
    "duration": 108,
    "start_time": "2023-09-11T14:05:30.514Z"
   },
   {
    "duration": 46,
    "start_time": "2023-09-11T14:05:30.624Z"
   },
   {
    "duration": 78,
    "start_time": "2023-09-11T14:05:30.672Z"
   },
   {
    "duration": 57,
    "start_time": "2023-09-11T14:05:30.755Z"
   },
   {
    "duration": 66,
    "start_time": "2023-09-11T14:05:30.814Z"
   },
   {
    "duration": 43,
    "start_time": "2023-09-11T14:05:30.882Z"
   },
   {
    "duration": 23,
    "start_time": "2023-09-11T14:05:30.927Z"
   },
   {
    "duration": 130,
    "start_time": "2023-09-11T14:05:30.952Z"
   },
   {
    "duration": 114,
    "start_time": "2023-09-11T14:05:31.084Z"
   },
   {
    "duration": 78,
    "start_time": "2023-09-11T14:05:31.200Z"
   },
   {
    "duration": 96,
    "start_time": "2023-09-11T14:05:31.280Z"
   },
   {
    "duration": 51,
    "start_time": "2023-09-11T14:05:31.378Z"
   },
   {
    "duration": 84,
    "start_time": "2023-09-11T14:05:31.431Z"
   },
   {
    "duration": 91,
    "start_time": "2023-09-11T14:05:31.517Z"
   },
   {
    "duration": 45,
    "start_time": "2023-09-11T14:05:31.611Z"
   },
   {
    "duration": 170,
    "start_time": "2023-09-11T14:05:31.657Z"
   },
   {
    "duration": 0,
    "start_time": "2023-09-11T14:05:31.829Z"
   },
   {
    "duration": 0,
    "start_time": "2023-09-11T14:05:31.830Z"
   },
   {
    "duration": 0,
    "start_time": "2023-09-11T14:05:31.831Z"
   },
   {
    "duration": 0,
    "start_time": "2023-09-11T14:05:31.832Z"
   },
   {
    "duration": 0,
    "start_time": "2023-09-11T14:05:31.834Z"
   },
   {
    "duration": 0,
    "start_time": "2023-09-11T14:05:31.835Z"
   },
   {
    "duration": 0,
    "start_time": "2023-09-11T14:05:31.836Z"
   },
   {
    "duration": 4,
    "start_time": "2023-09-11T14:11:23.974Z"
   },
   {
    "duration": 77,
    "start_time": "2023-09-11T14:12:00.173Z"
   },
   {
    "duration": 34,
    "start_time": "2023-09-11T14:12:01.027Z"
   },
   {
    "duration": 3,
    "start_time": "2023-09-11T14:12:21.467Z"
   },
   {
    "duration": 31,
    "start_time": "2023-09-11T14:12:21.834Z"
   },
   {
    "duration": 4,
    "start_time": "2023-09-11T14:12:41.674Z"
   },
   {
    "duration": 46,
    "start_time": "2023-09-11T14:12:41.985Z"
   },
   {
    "duration": 0,
    "start_time": "2023-09-11T14:24:33.661Z"
   },
   {
    "duration": 0,
    "start_time": "2023-09-11T14:24:33.662Z"
   },
   {
    "duration": 0,
    "start_time": "2023-09-11T14:24:33.663Z"
   },
   {
    "duration": 0,
    "start_time": "2023-09-11T14:24:33.665Z"
   },
   {
    "duration": 0,
    "start_time": "2023-09-11T14:24:33.666Z"
   },
   {
    "duration": 0,
    "start_time": "2023-09-11T14:24:33.666Z"
   },
   {
    "duration": 0,
    "start_time": "2023-09-11T14:24:33.667Z"
   },
   {
    "duration": 0,
    "start_time": "2023-09-11T14:24:33.669Z"
   },
   {
    "duration": 0,
    "start_time": "2023-09-11T14:24:33.702Z"
   },
   {
    "duration": 0,
    "start_time": "2023-09-11T14:24:33.703Z"
   },
   {
    "duration": 0,
    "start_time": "2023-09-11T14:24:33.704Z"
   },
   {
    "duration": 0,
    "start_time": "2023-09-11T14:24:33.705Z"
   },
   {
    "duration": 0,
    "start_time": "2023-09-11T14:24:33.706Z"
   },
   {
    "duration": 0,
    "start_time": "2023-09-11T14:24:33.707Z"
   },
   {
    "duration": 0,
    "start_time": "2023-09-11T14:24:33.708Z"
   },
   {
    "duration": 0,
    "start_time": "2023-09-11T14:24:33.710Z"
   },
   {
    "duration": 0,
    "start_time": "2023-09-11T14:24:33.711Z"
   },
   {
    "duration": 0,
    "start_time": "2023-09-11T14:24:33.712Z"
   },
   {
    "duration": 0,
    "start_time": "2023-09-11T14:24:33.713Z"
   },
   {
    "duration": 0,
    "start_time": "2023-09-11T14:24:33.714Z"
   },
   {
    "duration": 0,
    "start_time": "2023-09-11T14:24:33.715Z"
   },
   {
    "duration": 0,
    "start_time": "2023-09-11T14:24:33.716Z"
   },
   {
    "duration": 0,
    "start_time": "2023-09-11T14:24:33.717Z"
   },
   {
    "duration": 0,
    "start_time": "2023-09-11T14:24:33.718Z"
   },
   {
    "duration": 0,
    "start_time": "2023-09-11T14:24:33.719Z"
   },
   {
    "duration": 0,
    "start_time": "2023-09-11T14:24:33.720Z"
   },
   {
    "duration": 0,
    "start_time": "2023-09-11T14:24:33.722Z"
   },
   {
    "duration": 0,
    "start_time": "2023-09-11T14:24:33.723Z"
   },
   {
    "duration": 0,
    "start_time": "2023-09-11T14:24:33.724Z"
   },
   {
    "duration": 0,
    "start_time": "2023-09-11T14:24:33.725Z"
   },
   {
    "duration": 0,
    "start_time": "2023-09-11T14:24:33.726Z"
   },
   {
    "duration": 0,
    "start_time": "2023-09-11T14:24:33.727Z"
   },
   {
    "duration": 0,
    "start_time": "2023-09-11T14:24:33.729Z"
   },
   {
    "duration": 538,
    "start_time": "2023-09-11T14:24:54.233Z"
   },
   {
    "duration": 29,
    "start_time": "2023-09-11T14:24:54.773Z"
   },
   {
    "duration": 41,
    "start_time": "2023-09-11T14:24:54.804Z"
   },
   {
    "duration": 29,
    "start_time": "2023-09-11T14:24:54.848Z"
   },
   {
    "duration": 53,
    "start_time": "2023-09-11T14:24:54.880Z"
   },
   {
    "duration": 4,
    "start_time": "2023-09-11T14:24:54.935Z"
   },
   {
    "duration": 24,
    "start_time": "2023-09-11T14:24:54.940Z"
   },
   {
    "duration": 16,
    "start_time": "2023-09-11T14:24:54.966Z"
   },
   {
    "duration": 26,
    "start_time": "2023-09-11T14:24:54.984Z"
   },
   {
    "duration": 17,
    "start_time": "2023-09-11T14:24:55.012Z"
   },
   {
    "duration": 60,
    "start_time": "2023-09-11T14:24:55.031Z"
   },
   {
    "duration": 10,
    "start_time": "2023-09-11T14:24:55.093Z"
   },
   {
    "duration": 33,
    "start_time": "2023-09-11T14:24:55.105Z"
   },
   {
    "duration": 30,
    "start_time": "2023-09-11T14:24:55.141Z"
   },
   {
    "duration": 47,
    "start_time": "2023-09-11T14:24:55.172Z"
   },
   {
    "duration": 24,
    "start_time": "2023-09-11T14:24:55.221Z"
   },
   {
    "duration": 33,
    "start_time": "2023-09-11T14:24:55.246Z"
   },
   {
    "duration": 53,
    "start_time": "2023-09-11T14:24:55.281Z"
   },
   {
    "duration": 48,
    "start_time": "2023-09-11T14:24:55.335Z"
   },
   {
    "duration": 37,
    "start_time": "2023-09-11T14:24:55.385Z"
   },
   {
    "duration": 31,
    "start_time": "2023-09-11T14:24:55.423Z"
   },
   {
    "duration": 29,
    "start_time": "2023-09-11T14:24:55.456Z"
   },
   {
    "duration": 33,
    "start_time": "2023-09-11T14:24:55.486Z"
   },
   {
    "duration": 60,
    "start_time": "2023-09-11T14:24:55.521Z"
   },
   {
    "duration": 28,
    "start_time": "2023-09-11T14:24:55.582Z"
   },
   {
    "duration": 153,
    "start_time": "2023-09-11T14:24:55.612Z"
   },
   {
    "duration": 0,
    "start_time": "2023-09-11T14:24:55.766Z"
   },
   {
    "duration": 0,
    "start_time": "2023-09-11T14:24:55.768Z"
   },
   {
    "duration": 0,
    "start_time": "2023-09-11T14:24:55.769Z"
   },
   {
    "duration": 0,
    "start_time": "2023-09-11T14:24:55.770Z"
   },
   {
    "duration": 0,
    "start_time": "2023-09-11T14:24:55.772Z"
   },
   {
    "duration": 0,
    "start_time": "2023-09-11T14:24:55.773Z"
   },
   {
    "duration": 0,
    "start_time": "2023-09-11T14:24:55.774Z"
   },
   {
    "duration": 5,
    "start_time": "2023-09-11T14:26:11.078Z"
   },
   {
    "duration": 36,
    "start_time": "2023-09-11T14:26:11.963Z"
   },
   {
    "duration": 4,
    "start_time": "2023-09-11T14:26:34.485Z"
   },
   {
    "duration": 25,
    "start_time": "2023-09-11T14:26:34.821Z"
   },
   {
    "duration": 38,
    "start_time": "2023-09-11T14:26:51.679Z"
   },
   {
    "duration": 5,
    "start_time": "2023-09-11T14:27:42.349Z"
   },
   {
    "duration": 2147,
    "start_time": "2023-09-11T14:27:42.807Z"
   },
   {
    "duration": 127,
    "start_time": "2023-09-11T14:28:07.890Z"
   },
   {
    "duration": 1563,
    "start_time": "2023-09-11T14:28:17.721Z"
   },
   {
    "duration": 4,
    "start_time": "2023-09-11T14:28:33.250Z"
   },
   {
    "duration": 2221,
    "start_time": "2023-09-11T14:28:40.862Z"
   },
   {
    "duration": 4,
    "start_time": "2023-09-11T14:28:54.655Z"
   },
   {
    "duration": 62,
    "start_time": "2023-09-11T14:28:54.662Z"
   },
   {
    "duration": 43,
    "start_time": "2023-09-11T14:29:36.362Z"
   },
   {
    "duration": 4,
    "start_time": "2023-09-11T14:29:47.266Z"
   },
   {
    "duration": 62,
    "start_time": "2023-09-11T14:29:47.272Z"
   },
   {
    "duration": 4,
    "start_time": "2023-09-11T14:30:11.921Z"
   },
   {
    "duration": 43,
    "start_time": "2023-09-11T14:30:12.404Z"
   },
   {
    "duration": 4,
    "start_time": "2023-09-11T14:33:14.170Z"
   },
   {
    "duration": 47,
    "start_time": "2023-09-11T14:33:14.482Z"
   },
   {
    "duration": 4,
    "start_time": "2023-09-11T14:33:27.884Z"
   },
   {
    "duration": 41,
    "start_time": "2023-09-11T14:33:28.435Z"
   },
   {
    "duration": 36,
    "start_time": "2023-09-11T14:35:30.467Z"
   },
   {
    "duration": 4,
    "start_time": "2023-09-11T14:37:20.499Z"
   },
   {
    "duration": 37,
    "start_time": "2023-09-11T14:37:21.059Z"
   },
   {
    "duration": 5,
    "start_time": "2023-09-11T14:37:38.568Z"
   },
   {
    "duration": 34,
    "start_time": "2023-09-11T14:37:39.150Z"
   },
   {
    "duration": 4,
    "start_time": "2023-09-11T14:37:55.103Z"
   },
   {
    "duration": 35,
    "start_time": "2023-09-11T14:37:55.778Z"
   },
   {
    "duration": 4,
    "start_time": "2023-09-11T14:38:12.475Z"
   },
   {
    "duration": 39,
    "start_time": "2023-09-11T14:38:13.158Z"
   },
   {
    "duration": 4,
    "start_time": "2023-09-11T14:54:51.085Z"
   },
   {
    "duration": 32,
    "start_time": "2023-09-11T14:55:08.341Z"
   },
   {
    "duration": 4,
    "start_time": "2023-09-11T14:55:18.126Z"
   },
   {
    "duration": 31,
    "start_time": "2023-09-11T14:55:20.759Z"
   },
   {
    "duration": 10,
    "start_time": "2023-09-11T14:56:00.834Z"
   },
   {
    "duration": 7,
    "start_time": "2023-09-11T14:56:01.030Z"
   },
   {
    "duration": 777,
    "start_time": "2023-09-11T16:41:14.673Z"
   },
   {
    "duration": 31,
    "start_time": "2023-09-11T16:41:15.453Z"
   },
   {
    "duration": 17,
    "start_time": "2023-09-11T16:41:15.486Z"
   },
   {
    "duration": 13,
    "start_time": "2023-09-11T16:41:15.505Z"
   },
   {
    "duration": 42,
    "start_time": "2023-09-11T16:41:15.520Z"
   },
   {
    "duration": 4,
    "start_time": "2023-09-11T16:41:15.564Z"
   },
   {
    "duration": 25,
    "start_time": "2023-09-11T16:41:15.569Z"
   },
   {
    "duration": 21,
    "start_time": "2023-09-11T16:41:15.596Z"
   },
   {
    "duration": 16,
    "start_time": "2023-09-11T16:41:15.618Z"
   },
   {
    "duration": 18,
    "start_time": "2023-09-11T16:41:15.636Z"
   },
   {
    "duration": 43,
    "start_time": "2023-09-11T16:41:15.656Z"
   },
   {
    "duration": 18,
    "start_time": "2023-09-11T16:41:15.700Z"
   },
   {
    "duration": 3,
    "start_time": "2023-09-11T16:41:15.720Z"
   },
   {
    "duration": 23,
    "start_time": "2023-09-11T16:41:15.726Z"
   },
   {
    "duration": 51,
    "start_time": "2023-09-11T16:41:15.751Z"
   },
   {
    "duration": 18,
    "start_time": "2023-09-11T16:41:15.803Z"
   },
   {
    "duration": 3,
    "start_time": "2023-09-11T16:41:15.823Z"
   },
   {
    "duration": 13,
    "start_time": "2023-09-11T16:41:15.828Z"
   },
   {
    "duration": 7,
    "start_time": "2023-09-11T16:41:15.843Z"
   },
   {
    "duration": 13,
    "start_time": "2023-09-11T16:41:15.853Z"
   },
   {
    "duration": 15,
    "start_time": "2023-09-11T16:41:15.868Z"
   },
   {
    "duration": 28,
    "start_time": "2023-09-11T16:41:15.885Z"
   },
   {
    "duration": 4,
    "start_time": "2023-09-11T16:41:15.915Z"
   },
   {
    "duration": 13,
    "start_time": "2023-09-11T16:41:15.921Z"
   },
   {
    "duration": 37,
    "start_time": "2023-09-11T16:41:15.936Z"
   },
   {
    "duration": 41,
    "start_time": "2023-09-11T16:41:15.975Z"
   },
   {
    "duration": 15,
    "start_time": "2023-09-11T16:41:16.017Z"
   },
   {
    "duration": 7,
    "start_time": "2023-09-11T16:41:16.034Z"
   },
   {
    "duration": 19,
    "start_time": "2023-09-11T16:41:16.042Z"
   },
   {
    "duration": 6,
    "start_time": "2023-09-11T16:41:16.062Z"
   },
   {
    "duration": 49,
    "start_time": "2023-09-11T16:41:16.070Z"
   },
   {
    "duration": 7,
    "start_time": "2023-09-11T16:41:16.120Z"
   },
   {
    "duration": 4,
    "start_time": "2023-09-11T17:23:36.402Z"
   },
   {
    "duration": 114,
    "start_time": "2023-09-11T17:25:15.468Z"
   },
   {
    "duration": 5,
    "start_time": "2023-09-11T17:26:20.510Z"
   },
   {
    "duration": 36,
    "start_time": "2023-09-11T17:26:25.449Z"
   },
   {
    "duration": 4,
    "start_time": "2023-09-11T17:37:57.597Z"
   },
   {
    "duration": 38,
    "start_time": "2023-09-11T17:38:01.817Z"
   },
   {
    "duration": 4,
    "start_time": "2023-09-11T17:39:46.335Z"
   },
   {
    "duration": 45,
    "start_time": "2023-09-11T17:39:48.285Z"
   },
   {
    "duration": 5,
    "start_time": "2023-09-11T17:39:58.096Z"
   },
   {
    "duration": 36,
    "start_time": "2023-09-11T17:40:01.335Z"
   },
   {
    "duration": 5,
    "start_time": "2023-09-11T17:40:09.102Z"
   },
   {
    "duration": 50,
    "start_time": "2023-09-11T17:40:12.122Z"
   },
   {
    "duration": 4,
    "start_time": "2023-09-11T17:40:30.352Z"
   },
   {
    "duration": 44,
    "start_time": "2023-09-11T17:40:32.405Z"
   },
   {
    "duration": 5,
    "start_time": "2023-09-11T17:42:08.241Z"
   },
   {
    "duration": 38,
    "start_time": "2023-09-11T17:42:10.929Z"
   },
   {
    "duration": 35,
    "start_time": "2023-09-11T17:42:39.441Z"
   },
   {
    "duration": 35,
    "start_time": "2023-09-11T17:47:53.458Z"
   },
   {
    "duration": 43,
    "start_time": "2023-09-11T18:01:09.735Z"
   },
   {
    "duration": 40,
    "start_time": "2023-09-11T18:02:29.224Z"
   },
   {
    "duration": 42,
    "start_time": "2023-09-11T18:06:21.306Z"
   },
   {
    "duration": 50,
    "start_time": "2023-09-11T18:06:35.068Z"
   },
   {
    "duration": 109,
    "start_time": "2023-09-11T18:17:17.621Z"
   },
   {
    "duration": 44,
    "start_time": "2023-09-11T18:17:27.223Z"
   },
   {
    "duration": 547,
    "start_time": "2023-09-11T18:18:29.075Z"
   },
   {
    "duration": 25,
    "start_time": "2023-09-11T18:18:29.625Z"
   },
   {
    "duration": 62,
    "start_time": "2023-09-11T18:18:29.652Z"
   },
   {
    "duration": 20,
    "start_time": "2023-09-11T18:18:29.717Z"
   },
   {
    "duration": 94,
    "start_time": "2023-09-11T18:18:29.741Z"
   },
   {
    "duration": 5,
    "start_time": "2023-09-11T18:18:29.838Z"
   },
   {
    "duration": 17,
    "start_time": "2023-09-11T18:18:29.844Z"
   },
   {
    "duration": 14,
    "start_time": "2023-09-11T18:18:29.863Z"
   },
   {
    "duration": 44,
    "start_time": "2023-09-11T18:18:29.879Z"
   },
   {
    "duration": 16,
    "start_time": "2023-09-11T18:18:29.925Z"
   },
   {
    "duration": 93,
    "start_time": "2023-09-11T18:18:29.944Z"
   },
   {
    "duration": 13,
    "start_time": "2023-09-11T18:18:30.040Z"
   },
   {
    "duration": 44,
    "start_time": "2023-09-11T18:18:30.055Z"
   },
   {
    "duration": 50,
    "start_time": "2023-09-11T18:18:30.102Z"
   },
   {
    "duration": 55,
    "start_time": "2023-09-11T18:18:30.154Z"
   },
   {
    "duration": 67,
    "start_time": "2023-09-11T18:18:30.211Z"
   },
   {
    "duration": 5,
    "start_time": "2023-09-11T18:18:30.280Z"
   },
   {
    "duration": 41,
    "start_time": "2023-09-11T18:18:30.287Z"
   },
   {
    "duration": 33,
    "start_time": "2023-09-11T18:18:30.331Z"
   },
   {
    "duration": 27,
    "start_time": "2023-09-11T18:18:30.367Z"
   },
   {
    "duration": 40,
    "start_time": "2023-09-11T18:18:30.398Z"
   },
   {
    "duration": 26,
    "start_time": "2023-09-11T18:18:30.442Z"
   },
   {
    "duration": 41,
    "start_time": "2023-09-11T18:18:30.470Z"
   },
   {
    "duration": 129,
    "start_time": "2023-09-11T18:18:30.513Z"
   },
   {
    "duration": 76,
    "start_time": "2023-09-11T18:18:30.644Z"
   },
   {
    "duration": 66,
    "start_time": "2023-09-11T18:18:30.722Z"
   },
   {
    "duration": 64,
    "start_time": "2023-09-11T18:18:30.809Z"
   },
   {
    "duration": 510,
    "start_time": "2023-09-11T19:32:39.323Z"
   },
   {
    "duration": 25,
    "start_time": "2023-09-11T19:32:39.835Z"
   },
   {
    "duration": 18,
    "start_time": "2023-09-11T19:32:39.861Z"
   },
   {
    "duration": 36,
    "start_time": "2023-09-11T19:32:39.881Z"
   },
   {
    "duration": 41,
    "start_time": "2023-09-11T19:32:39.919Z"
   },
   {
    "duration": 4,
    "start_time": "2023-09-11T19:32:39.962Z"
   },
   {
    "duration": 43,
    "start_time": "2023-09-11T19:32:39.968Z"
   },
   {
    "duration": 5,
    "start_time": "2023-09-11T19:32:40.013Z"
   },
   {
    "duration": 11,
    "start_time": "2023-09-11T19:32:40.020Z"
   },
   {
    "duration": 7,
    "start_time": "2023-09-11T19:32:40.034Z"
   },
   {
    "duration": 97,
    "start_time": "2023-09-11T19:32:40.043Z"
   },
   {
    "duration": 11,
    "start_time": "2023-09-11T19:32:40.142Z"
   },
   {
    "duration": 7,
    "start_time": "2023-09-11T19:32:40.155Z"
   },
   {
    "duration": 47,
    "start_time": "2023-09-11T19:32:40.164Z"
   },
   {
    "duration": 22,
    "start_time": "2023-09-11T19:32:40.213Z"
   },
   {
    "duration": 59,
    "start_time": "2023-09-11T19:32:40.236Z"
   },
   {
    "duration": 3,
    "start_time": "2023-09-11T19:32:40.297Z"
   },
   {
    "duration": 12,
    "start_time": "2023-09-11T19:32:40.309Z"
   },
   {
    "duration": 6,
    "start_time": "2023-09-11T19:32:40.323Z"
   },
   {
    "duration": 4,
    "start_time": "2023-09-11T19:32:40.331Z"
   },
   {
    "duration": 78,
    "start_time": "2023-09-11T19:32:40.337Z"
   },
   {
    "duration": 65,
    "start_time": "2023-09-11T19:32:40.417Z"
   },
   {
    "duration": 4,
    "start_time": "2023-09-11T19:32:40.484Z"
   },
   {
    "duration": 62,
    "start_time": "2023-09-11T19:32:40.490Z"
   },
   {
    "duration": 46,
    "start_time": "2023-09-11T19:32:40.553Z"
   },
   {
    "duration": 84,
    "start_time": "2023-09-11T19:32:40.602Z"
   },
   {
    "duration": 47,
    "start_time": "2023-09-11T19:32:40.688Z"
   },
   {
    "duration": 422,
    "start_time": "2023-09-11T22:10:19.494Z"
   },
   {
    "duration": 20,
    "start_time": "2023-09-11T22:10:19.918Z"
   },
   {
    "duration": 14,
    "start_time": "2023-09-11T22:10:19.939Z"
   },
   {
    "duration": 13,
    "start_time": "2023-09-11T22:10:19.954Z"
   },
   {
    "duration": 31,
    "start_time": "2023-09-11T22:10:19.969Z"
   },
   {
    "duration": 3,
    "start_time": "2023-09-11T22:10:20.002Z"
   },
   {
    "duration": 9,
    "start_time": "2023-09-11T22:10:20.006Z"
   },
   {
    "duration": 14,
    "start_time": "2023-09-11T22:10:20.016Z"
   },
   {
    "duration": 9,
    "start_time": "2023-09-11T22:10:20.031Z"
   },
   {
    "duration": 9,
    "start_time": "2023-09-11T22:10:20.041Z"
   },
   {
    "duration": 49,
    "start_time": "2023-09-11T22:10:20.051Z"
   },
   {
    "duration": 9,
    "start_time": "2023-09-11T22:10:20.101Z"
   },
   {
    "duration": 10,
    "start_time": "2023-09-11T22:10:20.112Z"
   },
   {
    "duration": 11,
    "start_time": "2023-09-11T22:10:20.124Z"
   },
   {
    "duration": 21,
    "start_time": "2023-09-11T22:10:20.136Z"
   },
   {
    "duration": 15,
    "start_time": "2023-09-11T22:10:20.158Z"
   },
   {
    "duration": 5,
    "start_time": "2023-09-11T22:10:20.175Z"
   },
   {
    "duration": 22,
    "start_time": "2023-09-11T22:10:20.181Z"
   },
   {
    "duration": 14,
    "start_time": "2023-09-11T22:10:20.205Z"
   },
   {
    "duration": 7,
    "start_time": "2023-09-11T22:10:20.220Z"
   },
   {
    "duration": 17,
    "start_time": "2023-09-11T22:10:20.228Z"
   },
   {
    "duration": 9,
    "start_time": "2023-09-11T22:10:20.246Z"
   },
   {
    "duration": 21,
    "start_time": "2023-09-11T22:10:20.257Z"
   },
   {
    "duration": 48,
    "start_time": "2023-09-11T22:10:20.279Z"
   },
   {
    "duration": 32,
    "start_time": "2023-09-11T22:10:20.328Z"
   },
   {
    "duration": 30,
    "start_time": "2023-09-11T22:10:20.361Z"
   },
   {
    "duration": 32,
    "start_time": "2023-09-11T22:10:20.392Z"
   }
  ],
  "colab": {
   "provenance": []
  },
  "kernelspec": {
   "display_name": "Python 3 (ipykernel)",
   "language": "python",
   "name": "python3"
  },
  "language_info": {
   "codemirror_mode": {
    "name": "ipython",
    "version": 3
   },
   "file_extension": ".py",
   "mimetype": "text/x-python",
   "name": "python",
   "nbconvert_exporter": "python",
   "pygments_lexer": "ipython3",
   "version": "3.11.4"
  },
  "toc": {
   "base_numbering": 1,
   "nav_menu": {},
   "number_sections": true,
   "sideBar": true,
   "skip_h1_title": true,
   "title_cell": "Table of Contents",
   "title_sidebar": "Contents",
   "toc_cell": false,
   "toc_position": {},
   "toc_section_display": true,
   "toc_window_display": false
  }
 },
 "nbformat": 4,
 "nbformat_minor": 5
}
